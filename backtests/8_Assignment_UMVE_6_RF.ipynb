{
 "cells": [
  {
   "cell_type": "code",
   "execution_count": 1,
   "id": "47ae993bb1d90d3f",
   "metadata": {
    "ExecuteTime": {
     "end_time": "2025-08-08T00:45:04.094965Z",
     "start_time": "2025-08-08T00:45:04.079606Z"
    }
   },
   "outputs": [],
   "source": [
    "from __future__ import annotations\n",
    "\n",
    "%load_ext autoreload\n",
    "%autoreload 2"
   ]
  },
  {
   "cell_type": "code",
   "execution_count": 2,
   "id": "initial_id",
   "metadata": {
    "ExecuteTime": {
     "end_time": "2025-08-08T00:45:04.269960Z",
     "start_time": "2025-08-08T00:45:04.101614Z"
    },
    "collapsed": true
   },
   "outputs": [],
   "source": [
    "from pathlib import Path\n",
    "\n",
    "import pandas as pd\n",
    "\n",
    "from wufam.data.prepare_data import read_kf_data\n",
    "from wufam.config.trading_config import TradingConfig\n",
    "from wufam.dataset import Dataset\n",
    "from wufam.strategies.base_strategy import BaseStrategy\n",
    "from wufam.backtest.rolling_features_backtest import run_rolling_features_backtest\n",
    "from wufam.metrics.metrics import calc_sharpe\n",
    "\n",
    "PATH = Path(\"../data/kf_data\")\n",
    "START = \"1970-01-01\"\n",
    "END = \"2024-12-31\"\n",
    "DATASET = Dataset.BM_6_M\n",
    "FACTORS_DATASET = Dataset.FACTORS_M\n",
    "WEIGHTING = \"value_weighted\"\n",
    "FACTOR_ANNUALIZE = 252"
   ]
  },
  {
   "cell_type": "markdown",
   "id": "1ac5790467715af0",
   "metadata": {},
   "source": "## 1.8"
  },
  {
   "cell_type": "code",
   "execution_count": 3,
   "id": "3f9a1f117d93ad79",
   "metadata": {
    "ExecuteTime": {
     "end_time": "2025-08-08T00:45:04.324559Z",
     "start_time": "2025-08-08T00:45:04.302606Z"
    }
   },
   "outputs": [],
   "source": [
    "portfolios_total_r_m, portfolios_xs_r_m, factors_df, rf = read_kf_data(\n",
    "    portfolios_filename=PATH / DATASET,\n",
    "    factors_filename=PATH / FACTORS_DATASET,\n",
    "    start_date=START,\n",
    "    end_date=END,\n",
    "    weighting=WEIGHTING,\n",
    ")"
   ]
  },
  {
   "cell_type": "code",
   "execution_count": 4,
   "id": "5f96001686f357d3",
   "metadata": {
    "ExecuteTime": {
     "end_time": "2025-08-08T00:45:04.509624Z",
     "start_time": "2025-08-08T00:45:04.328110Z"
    }
   },
   "outputs": [],
   "source": [
    "portfolios_total_r, portfolios_xs_r, factors_df, rf = read_kf_data(\n",
    "    portfolios_filename=PATH / Dataset.BM_6_D,\n",
    "    factors_filename=PATH / Dataset.FACTORS_D,\n",
    "    start_date=START,\n",
    "    end_date=END,\n",
    "    weighting=WEIGHTING,\n",
    ")"
   ]
  },
  {
   "cell_type": "code",
   "execution_count": 5,
   "id": "e1493496e5034b",
   "metadata": {
    "ExecuteTime": {
     "end_time": "2025-08-08T00:45:04.519260Z",
     "start_time": "2025-08-08T00:45:04.513560Z"
    }
   },
   "outputs": [],
   "source": [
    "assert (\n",
    "    portfolios_total_r.shape[0]\n",
    "    == portfolios_xs_r.shape[0]\n",
    "    == factors_df.shape[0]\n",
    "    == rf.shape[0]\n",
    ")"
   ]
  },
  {
   "cell_type": "code",
   "execution_count": 6,
   "id": "45dbf6d380ebbf4a",
   "metadata": {
    "ExecuteTime": {
     "end_time": "2025-08-08T00:45:04.539838Z",
     "start_time": "2025-08-08T00:45:04.523670Z"
    }
   },
   "outputs": [
    {
     "data": {
      "text/plain": [
       "(660, 6)"
      ]
     },
     "execution_count": 6,
     "metadata": {},
     "output_type": "execute_result"
    }
   ],
   "source": [
    "mkt_caps = pd.read_csv(\n",
    "    PATH / DATASET,\n",
    "    skiprows=3_795,\n",
    "    skipfooter=8881 - 4_984,\n",
    "    index_col=0,\n",
    "    engine=\"python\",\n",
    ")\n",
    "mkt_caps.index = pd.to_datetime(mkt_caps.index, format=\"%Y%m\")\n",
    "mkt_caps = mkt_caps.loc[START:END]\n",
    "mkt_caps.shape"
   ]
  },
  {
   "cell_type": "code",
   "execution_count": 7,
   "id": "5eb6d267dc91d9c0",
   "metadata": {
    "ExecuteTime": {
     "end_time": "2025-08-08T00:45:04.564326Z",
     "start_time": "2025-08-08T00:45:04.548504Z"
    }
   },
   "outputs": [
    {
     "data": {
      "text/plain": [
       "(660, 6)"
      ]
     },
     "execution_count": 7,
     "metadata": {},
     "output_type": "execute_result"
    }
   ],
   "source": [
    "bms = pd.read_csv(\n",
    "    PATH / DATASET,\n",
    "    skiprows=4_991,\n",
    "    skipfooter=8881 - 6_181,\n",
    "    index_col=0,\n",
    "    engine=\"python\",\n",
    ")\n",
    "bms.index = pd.to_datetime(bms.index, format=\"%Y%m\")\n",
    "bms = bms.loc[START:END]\n",
    "bms.shape"
   ]
  },
  {
   "cell_type": "code",
   "execution_count": 8,
   "id": "f2b3cccfb51007be",
   "metadata": {
    "ExecuteTime": {
     "end_time": "2025-08-08T00:45:04.584188Z",
     "start_time": "2025-08-08T00:45:04.569374Z"
    }
   },
   "outputs": [
    {
     "data": {
      "text/plain": [
       "(660, 6)"
      ]
     },
     "execution_count": 8,
     "metadata": {},
     "output_type": "execute_result"
    }
   ],
   "source": [
    "ops = pd.read_csv(\n",
    "    PATH / DATASET,\n",
    "    skiprows=7_382,\n",
    "    skipfooter=8881 - 8_128,\n",
    "    index_col=0,\n",
    "    engine=\"python\",\n",
    ")\n",
    "ops.index = pd.to_datetime(ops.index, format=\"%Y%m\")\n",
    "ops = ops.loc[START:END]\n",
    "ops.shape"
   ]
  },
  {
   "cell_type": "code",
   "execution_count": 9,
   "id": "7ab0463db2ec8f29",
   "metadata": {
    "ExecuteTime": {
     "end_time": "2025-08-08T00:45:04.603686Z",
     "start_time": "2025-08-08T00:45:04.589241Z"
    }
   },
   "outputs": [
    {
     "data": {
      "text/plain": [
       "(660, 6)"
      ]
     },
     "execution_count": 9,
     "metadata": {},
     "output_type": "execute_result"
    }
   ],
   "source": [
    "invs = pd.read_csv(\n",
    "    PATH / DATASET,\n",
    "    skiprows=8_133,\n",
    "    skipfooter=8881 - 8_878,\n",
    "    index_col=0,\n",
    "    engine=\"python\",\n",
    ")\n",
    "invs.index = pd.to_datetime(invs.index, format=\"%Y%m\")\n",
    "invs = invs.loc[START:END]\n",
    "invs.shape"
   ]
  },
  {
   "cell_type": "code",
   "execution_count": 10,
   "id": "3153538f20ccffd2",
   "metadata": {
    "ExecuteTime": {
     "end_time": "2025-08-08T00:45:04.614443Z",
     "start_time": "2025-08-08T00:45:04.607739Z"
    }
   },
   "outputs": [
    {
     "data": {
      "text/plain": [
       "(660, 6)"
      ]
     },
     "execution_count": 10,
     "metadata": {},
     "output_type": "execute_result"
    }
   ],
   "source": [
    "lagged_ret = portfolios_xs_r_m.shift(1).fillna(0)\n",
    "lagged_ret.shape"
   ]
  },
  {
   "cell_type": "code",
   "execution_count": 11,
   "id": "b0dc327169aa8587",
   "metadata": {
    "ExecuteTime": {
     "end_time": "2025-08-08T00:45:04.625772Z",
     "start_time": "2025-08-08T00:45:04.618766Z"
    }
   },
   "outputs": [
    {
     "data": {
      "text/plain": [
       "(660, 6)"
      ]
     },
     "execution_count": 11,
     "metadata": {},
     "output_type": "execute_result"
    }
   ],
   "source": [
    "stds = portfolios_xs_r_m.rolling(window=21, min_periods=1).std().fillna(0)\n",
    "stds.shape"
   ]
  },
  {
   "cell_type": "code",
   "execution_count": 12,
   "id": "88251448af5a14b7",
   "metadata": {
    "ExecuteTime": {
     "end_time": "2025-08-08T00:45:04.636730Z",
     "start_time": "2025-08-08T00:45:04.629907Z"
    }
   },
   "outputs": [
    {
     "data": {
      "text/plain": [
       "(660, 6)"
      ]
     },
     "execution_count": 12,
     "metadata": {},
     "output_type": "execute_result"
    }
   ],
   "source": [
    "skews = portfolios_xs_r_m.rolling(window=21, min_periods=1).skew().fillna(0)\n",
    "skews.shape"
   ]
  },
  {
   "cell_type": "code",
   "execution_count": 13,
   "id": "b2dbe3871686847c",
   "metadata": {
    "ExecuteTime": {
     "end_time": "2025-08-08T00:45:04.670663Z",
     "start_time": "2025-08-08T00:45:04.643861Z"
    }
   },
   "outputs": [
    {
     "data": {
      "text/plain": [
       "(3948, 8)"
      ]
     },
     "execution_count": 13,
     "metadata": {},
     "output_type": "execute_result"
    }
   ],
   "source": [
    "dfs_dict = {\n",
    "    \"Market_Caps\": mkt_caps.resample(\"ME\").last(),\n",
    "    \"Book_to_Market\": bms.resample(\"ME\").last(),\n",
    "    \"Operating_Profitability\": ops.resample(\"ME\").last(),\n",
    "    \"Investment\": invs.resample(\"ME\").last(),\n",
    "    \"Volatility\": stds.resample(\"ME\").last(),\n",
    "    \"Skewness\": skews.resample(\"ME\").last(),\n",
    "    \"Momentum\": lagged_ret.resample(\"ME\").last(),\n",
    "    \"ret\": portfolios_xs_r_m.resample(\"ME\").last().shift(-1).fillna(0),\n",
    "}\n",
    "\n",
    "# Stack each DataFrame to convert columns to index level, then concatenate\n",
    "stacked_dfs = []\n",
    "for name, df in dfs_dict.items():\n",
    "    stacked = df.iloc[2:].stack()\n",
    "    stacked.name = name\n",
    "    stacked_dfs.append(stacked)\n",
    "\n",
    "# Concatenate all stacked series along axis=1 (columns)\n",
    "multi_df = pd.concat(stacked_dfs, axis=1)\n",
    "\n",
    "# Set proper index names\n",
    "multi_df.index.names = [\"date\", \"portfolio\"]\n",
    "multi_df.shape"
   ]
  },
  {
   "cell_type": "code",
   "execution_count": 14,
   "id": "bb7e97914987c07d",
   "metadata": {
    "ExecuteTime": {
     "end_time": "2025-08-08T00:45:04.683844Z",
     "start_time": "2025-08-08T00:45:04.674411Z"
    }
   },
   "outputs": [],
   "source": [
    "rank = (\n",
    "    multi_df[multi_df.columns.difference([\"ret\"])]\n",
    "    .groupby(level=\"date\")\n",
    "    .rank(ascending=False, method=\"max\")\n",
    ") + 1\n",
    "rank = rank.div(rank.groupby(level=\"date\").count()) - 0.5\n",
    "rank = rank.fillna(0)"
   ]
  },
  {
   "cell_type": "code",
   "execution_count": 15,
   "id": "5ff089f71f80ac39",
   "metadata": {
    "ExecuteTime": {
     "end_time": "2025-08-08T00:45:04.693499Z",
     "start_time": "2025-08-08T00:45:04.688172Z"
    }
   },
   "outputs": [],
   "source": [
    "tgt = multi_df[\"ret\"]"
   ]
  },
  {
   "cell_type": "code",
   "execution_count": 16,
   "id": "25d41539b250dbe5",
   "metadata": {
    "ExecuteTime": {
     "end_time": "2025-08-08T00:45:05.230352Z",
     "start_time": "2025-08-08T00:45:04.696848Z"
    }
   },
   "outputs": [],
   "source": [
    "from wufam.strategies.optimized.unconditional_mean_var import UnconditionalMeanVariance\n",
    "from wufam.estimation.covariance.shrinkage.lw_cv_cov_estimator import (\n",
    "    LedoitWolfCVCovEstimator,\n",
    ")\n",
    "from sklearn.ensemble import RandomForestRegressor\n",
    "\n",
    "umve = UnconditionalMeanVariance(\n",
    "    cov_estimator=LedoitWolfCVCovEstimator(),\n",
    "    trading_config=TradingConfig(total_exposure=1),\n",
    "    model=RandomForestRegressor(n_estimators=100, max_depth=3, random_state=12),\n",
    ")"
   ]
  },
  {
   "cell_type": "code",
   "execution_count": 17,
   "id": "cf5783145a8f494e",
   "metadata": {
    "ExecuteTime": {
     "end_time": "2025-08-08T00:45:05.245112Z",
     "start_time": "2025-08-08T00:45:05.234522Z"
    }
   },
   "outputs": [],
   "source": [
    "def evaluate_strategy(\n",
    "    strategy: BaseStrategy, return_weights: bool = False\n",
    ") -> tuple[float, float] | tuple[float, float, pd.DataFrame]:\n",
    "    bt_results = run_rolling_features_backtest(\n",
    "        strategy=strategy,\n",
    "        excess_returns=portfolios_xs_r,\n",
    "        factors=factors_df,\n",
    "        cross_sectional_features=rank,\n",
    "        targets=tgt,\n",
    "        rf=rf,\n",
    "        freq=\"M\",\n",
    "        trading_lag=1,\n",
    "        return_weights=return_weights,\n",
    "    )\n",
    "\n",
    "    if return_weights:\n",
    "        total_r, turnover, me_weights = bt_results\n",
    "    else:\n",
    "        total_r, turnover = bt_results\n",
    "\n",
    "    sr = calc_sharpe(\n",
    "        strategy_total_r=total_r,\n",
    "        rf_rate=rf,\n",
    "        factor_annualize=FACTOR_ANNUALIZE,\n",
    "    )\n",
    "\n",
    "    avg_turnover = turnover.iloc[1:].mean()\n",
    "\n",
    "    if return_weights:\n",
    "        return sr, avg_turnover, me_weights\n",
    "\n",
    "    return sr, avg_turnover"
   ]
  },
  {
   "cell_type": "code",
   "execution_count": 18,
   "id": "186888a4d3696589",
   "metadata": {
    "ExecuteTime": {
     "end_time": "2025-08-08T00:45:48.719892Z",
     "start_time": "2025-08-08T00:45:05.250179Z"
    }
   },
   "outputs": [
    {
     "name": "stderr",
     "output_type": "stream",
     "text": [
      "Optimizing Strategy: 100%|██████████| 655/655 [00:42<00:00, 15.25it/s]\n"
     ]
    },
    {
     "data": {
      "text/plain": [
       "(0.014648271199419818, np.float64(24.462954412853264))"
      ]
     },
     "execution_count": 18,
     "metadata": {},
     "output_type": "execute_result"
    }
   ],
   "source": [
    "evaluate_strategy(umve)"
   ]
  },
  {
   "cell_type": "code",
   "execution_count": null,
   "id": "6e66b404170101b",
   "metadata": {
    "ExecuteTime": {
     "end_time": "2025-08-08T00:45:48.761318Z",
     "start_time": "2025-08-08T00:45:48.759976Z"
    }
   },
   "outputs": [],
   "source": []
  }
 ],
 "metadata": {
  "kernelspec": {
   "display_name": "Python 3",
   "language": "python",
   "name": "python3"
  },
  "language_info": {
   "codemirror_mode": {
    "name": "ipython",
    "version": 2
   },
   "file_extension": ".py",
   "mimetype": "text/x-python",
   "name": "python",
   "nbconvert_exporter": "python",
   "pygments_lexer": "ipython2",
   "version": "2.7.6"
  }
 },
 "nbformat": 4,
 "nbformat_minor": 5
}
