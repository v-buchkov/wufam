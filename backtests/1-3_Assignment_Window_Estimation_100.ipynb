{
 "cells": [
  {
   "cell_type": "code",
   "id": "47ae993bb1d90d3f",
   "metadata": {
    "ExecuteTime": {
     "end_time": "2025-08-07T20:52:21.425040Z",
     "start_time": "2025-08-07T20:52:21.409702Z"
    }
   },
   "source": [
    "from __future__ import annotations\n",
    "\n",
    "%load_ext autoreload\n",
    "%autoreload 2"
   ],
   "outputs": [],
   "execution_count": 1
  },
  {
   "cell_type": "code",
   "id": "initial_id",
   "metadata": {
    "collapsed": true,
    "ExecuteTime": {
     "end_time": "2025-08-07T20:52:21.608981Z",
     "start_time": "2025-08-07T20:52:21.427534Z"
    }
   },
   "source": [
    "from pathlib import Path\n",
    "\n",
    "import numpy as np\n",
    "\n",
    "from wufam.data.prepare_data import read_kf_data\n",
    "from wufam.config.trading_config import TradingConfig\n",
    "from wufam.dataset import Dataset\n",
    "from wufam.strategies.base_strategy import BaseStrategy\n",
    "from wufam.backtest.rolling_backtest import run_rolling_backtest\n",
    "from wufam.metrics.metrics import calc_sharpe\n",
    "\n",
    "PATH = Path(\"../data/kf_data\")\n",
    "START = \"1970-01-01\"\n",
    "END = \"2024-12-31\"\n",
    "DATASET = Dataset.BM_100_D\n",
    "FACTORS_DATASET = Dataset.FACTORS_D\n",
    "WEIGHTING = \"value_weighted\"\n",
    "FACTOR_ANNUALIZE = 252"
   ],
   "outputs": [],
   "execution_count": 2
  },
  {
   "cell_type": "markdown",
   "id": "1ac5790467715af0",
   "metadata": {},
   "source": "## 1.1"
  },
  {
   "cell_type": "code",
   "id": "5f96001686f357d3",
   "metadata": {
    "ExecuteTime": {
     "end_time": "2025-08-07T20:52:23.119517Z",
     "start_time": "2025-08-07T20:52:21.614572Z"
    }
   },
   "source": [
    "portfolios_total_r, portfolios_xs_r, factors_df, rf = read_kf_data(\n",
    "    portfolios_filename=PATH / DATASET,\n",
    "    factors_filename=PATH / FACTORS_DATASET,\n",
    "    start_date=START,\n",
    "    end_date=END,\n",
    "    weighting=WEIGHTING,\n",
    ")"
   ],
   "outputs": [],
   "execution_count": 3
  },
  {
   "cell_type": "code",
   "id": "e1493496e5034b",
   "metadata": {
    "ExecuteTime": {
     "end_time": "2025-08-07T20:52:23.194374Z",
     "start_time": "2025-08-07T20:52:23.146705Z"
    }
   },
   "source": [
    "assert (\n",
    "    portfolios_total_r.shape[0]\n",
    "    == portfolios_xs_r.shape[0]\n",
    "    == factors_df.shape[0]\n",
    "    == rf.shape[0]\n",
    ")"
   ],
   "outputs": [],
   "execution_count": 4
  },
  {
   "cell_type": "markdown",
   "id": "c9ade91a822acaba",
   "metadata": {},
   "source": "## 1.2"
  },
  {
   "cell_type": "code",
   "id": "8ae5c25a3602d864",
   "metadata": {
    "ExecuteTime": {
     "end_time": "2025-08-07T20:52:23.327777Z",
     "start_time": "2025-08-07T20:52:23.196936Z"
    }
   },
   "source": [
    "from wufam.strategies.heuristics.equally_weighted import EWStrategy\n",
    "from wufam.strategies.optimized.mean_var import MeanVariance\n",
    "from wufam.strategies.optimized.min_var import MinVariance\n",
    "\n",
    "trading_config = TradingConfig(total_exposure=1)\n",
    "\n",
    "ew_strategy = EWStrategy()"
   ],
   "outputs": [],
   "execution_count": 5
  },
  {
   "cell_type": "code",
   "id": "c7b79c00b835ef0",
   "metadata": {
    "ExecuteTime": {
     "end_time": "2025-08-07T20:52:23.338246Z",
     "start_time": "2025-08-07T20:52:23.330465Z"
    }
   },
   "source": [
    "from wufam.estimation.mean.sample_mu_estimator import SampleMuEstimator\n",
    "from wufam.estimation.covariance.sample_cov_estimator import SampleCovEstimator\n",
    "\n",
    "mv_strategy = MeanVariance(\n",
    "    mu_estimator=SampleMuEstimator(),\n",
    "    cov_estimator=SampleCovEstimator(),\n",
    "    trading_config=trading_config,\n",
    "    window_size=365,\n",
    ")"
   ],
   "outputs": [],
   "execution_count": 6
  },
  {
   "cell_type": "code",
   "id": "63f83ff0b38e671c",
   "metadata": {
    "ExecuteTime": {
     "end_time": "2025-08-07T20:52:23.346452Z",
     "start_time": "2025-08-07T20:52:23.340542Z"
    }
   },
   "source": [
    "min_var_strategy = MinVariance(\n",
    "    cov_estimator=SampleCovEstimator(),\n",
    "    trading_config=trading_config,\n",
    "    window_size=365,\n",
    ")"
   ],
   "outputs": [],
   "execution_count": 7
  },
  {
   "cell_type": "code",
   "id": "f513a5493463e8fa",
   "metadata": {
    "ExecuteTime": {
     "end_time": "2025-08-07T20:52:23.354300Z",
     "start_time": "2025-08-07T20:52:23.348639Z"
    }
   },
   "source": [
    "trading_config_min_var = TradingConfig(total_exposure=1, min_exposure=0.0)\n",
    "\n",
    "min_var_c_strategy = MinVariance(\n",
    "    cov_estimator=SampleCovEstimator(),\n",
    "    trading_config=trading_config_min_var,\n",
    "    window_size=365,\n",
    ")"
   ],
   "outputs": [],
   "execution_count": 8
  },
  {
   "cell_type": "code",
   "id": "507aeb0c4823af65",
   "metadata": {
    "ExecuteTime": {
     "end_time": "2025-08-07T20:52:23.779330Z",
     "start_time": "2025-08-07T20:52:23.356833Z"
    }
   },
   "source": [
    "from wufam.estimation.covariance.shrinkage.lw_cv_cov_estimator import (\n",
    "    LedoitWolfCVCovEstimator,\n",
    ")\n",
    "\n",
    "min_var_lw_strategy = MinVariance(\n",
    "    cov_estimator=LedoitWolfCVCovEstimator(),\n",
    "    trading_config=trading_config,\n",
    "    window_size=365,\n",
    ")"
   ],
   "outputs": [],
   "execution_count": 9
  },
  {
   "cell_type": "code",
   "id": "c90826e2e94a89b2",
   "metadata": {
    "ExecuteTime": {
     "end_time": "2025-08-07T20:52:23.790641Z",
     "start_time": "2025-08-07T20:52:23.782101Z"
    }
   },
   "source": [
    "from wufam.estimation.covariance.shrinkage.qis import QISCovEstimator\n",
    "\n",
    "min_var_qis_strategy = MinVariance(\n",
    "    cov_estimator=QISCovEstimator(),\n",
    "    trading_config=trading_config,\n",
    "    window_size=365,\n",
    ")"
   ],
   "outputs": [],
   "execution_count": 10
  },
  {
   "cell_type": "code",
   "id": "83ae013ea4935877",
   "metadata": {
    "ExecuteTime": {
     "end_time": "2025-08-07T20:56:23.771831Z",
     "start_time": "2025-08-07T20:56:23.762057Z"
    }
   },
   "source": [
    "min_var_lw_cv_strategy = MinVariance(\n",
    "    cov_estimator=LedoitWolfCVCovEstimator(alphas=np.linspace(0.1, 1.0, 100)),\n",
    "    trading_config=trading_config,\n",
    "    window_size=365,\n",
    ")"
   ],
   "outputs": [],
   "execution_count": 24
  },
  {
   "cell_type": "code",
   "id": "a0b150573fae1ff2",
   "metadata": {
    "ExecuteTime": {
     "end_time": "2025-08-07T20:52:24.020993Z",
     "start_time": "2025-08-07T20:52:23.803052Z"
    }
   },
   "source": [
    "from wufam.estimation.covariance.factor.factor_cov_estimator import FactorCovEstimator\n",
    "from wufam.estimation.covariance.shrinkage.pca_cov_estimator import PCACovEstimator\n",
    "\n",
    "factor_cov_estimator = FactorCovEstimator(\n",
    "    factor_cov_estimator=SampleCovEstimator(),\n",
    "    residual_cov_estimator=PCACovEstimator(),\n",
    "    factors_selection=[\"Mkt-RF\"],\n",
    ")\n",
    "\n",
    "min_var_factor_strategy = MinVariance(\n",
    "    cov_estimator=factor_cov_estimator,\n",
    "    trading_config=trading_config,\n",
    "    window_size=365,\n",
    ")"
   ],
   "outputs": [],
   "execution_count": 12
  },
  {
   "cell_type": "code",
   "id": "27ac8c1f9a76cf06",
   "metadata": {
    "ExecuteTime": {
     "end_time": "2025-08-07T20:52:24.033588Z",
     "start_time": "2025-08-07T20:52:24.023543Z"
    }
   },
   "source": [
    "from wufam.strategies.timed.vol_managed_strategy import VolManagedStrategy\n",
    "\n",
    "vol_managed_trading_config = TradingConfig(min_exposure=0.0, max_exposure=2.0)\n",
    "\n",
    "vol_managed_strategy = VolManagedStrategy(\n",
    "    trading_config=vol_managed_trading_config,\n",
    "    vol_window=21,\n",
    ")"
   ],
   "outputs": [],
   "execution_count": 13
  },
  {
   "cell_type": "code",
   "id": "cf5783145a8f494e",
   "metadata": {
    "ExecuteTime": {
     "end_time": "2025-08-07T20:52:24.045278Z",
     "start_time": "2025-08-07T20:52:24.036126Z"
    }
   },
   "source": [
    "def evaluate_strategy(\n",
    "    strategy: BaseStrategy, return_weights: bool = False\n",
    ") -> tuple[float, float]:\n",
    "    total_r, turnover = run_rolling_backtest(\n",
    "        strategy=strategy,\n",
    "        excess_returns=portfolios_xs_r,\n",
    "        factors=factors_df,\n",
    "        rf=rf,\n",
    "        freq=\"M\",\n",
    "        trading_lag=1,\n",
    "    )\n",
    "\n",
    "    sr = calc_sharpe(\n",
    "        strategy_total_r=total_r,\n",
    "        rf_rate=rf,\n",
    "        factor_annualize=FACTOR_ANNUALIZE,\n",
    "    )\n",
    "\n",
    "    avg_turnover = turnover.iloc[1:].mean()\n",
    "\n",
    "    return sr, avg_turnover"
   ],
   "outputs": [],
   "execution_count": 14
  },
  {
   "cell_type": "code",
   "id": "79445cd9cd044573",
   "metadata": {
    "ExecuteTime": {
     "end_time": "2025-08-07T20:52:25.723391Z",
     "start_time": "2025-08-07T20:52:24.048033Z"
    }
   },
   "source": [
    "evaluate_strategy(ew_strategy)"
   ],
   "outputs": [
    {
     "name": "stderr",
     "output_type": "stream",
     "text": [
      "Optimizing Strategy: 100%|██████████| 659/659 [00:01<00:00, 645.56it/s] \n"
     ]
    },
    {
     "data": {
      "text/plain": [
       "(0.2534679603178763, np.float64(0.026217033513481553))"
      ]
     },
     "execution_count": 15,
     "metadata": {},
     "output_type": "execute_result"
    }
   ],
   "execution_count": 15
  },
  {
   "cell_type": "code",
   "id": "3c7373fbef767c8d",
   "metadata": {
    "ExecuteTime": {
     "end_time": "2025-08-07T20:52:28.678376Z",
     "start_time": "2025-08-07T20:52:25.734648Z"
    }
   },
   "source": [
    "evaluate_strategy(mv_strategy)"
   ],
   "outputs": [
    {
     "name": "stderr",
     "output_type": "stream",
     "text": [
      "Optimizing Strategy: 100%|██████████| 659/659 [00:02<00:00, 288.71it/s]\n"
     ]
    },
    {
     "data": {
      "text/plain": [
       "(-0.004062775442095718, np.float64(2176.3372855544294))"
      ]
     },
     "execution_count": 16,
     "metadata": {},
     "output_type": "execute_result"
    }
   ],
   "execution_count": 16
  },
  {
   "cell_type": "code",
   "id": "c6253f43407b25c",
   "metadata": {
    "ExecuteTime": {
     "end_time": "2025-08-07T20:52:31.570681Z",
     "start_time": "2025-08-07T20:52:28.689156Z"
    }
   },
   "source": [
    "evaluate_strategy(min_var_strategy)"
   ],
   "outputs": [
    {
     "name": "stderr",
     "output_type": "stream",
     "text": [
      "Optimizing Strategy: 100%|██████████| 659/659 [00:02<00:00, 296.76it/s]\n"
     ]
    },
    {
     "data": {
      "text/plain": [
       "(-0.3551878146374005, np.float64(8.836033860932426))"
      ]
     },
     "execution_count": 17,
     "metadata": {},
     "output_type": "execute_result"
    }
   ],
   "execution_count": 17
  },
  {
   "cell_type": "code",
   "id": "b40307b9d30ff1e5",
   "metadata": {
    "ExecuteTime": {
     "end_time": "2025-08-07T20:52:50.844150Z",
     "start_time": "2025-08-07T20:52:31.583211Z"
    }
   },
   "source": [
    "evaluate_strategy(min_var_c_strategy)"
   ],
   "outputs": [
    {
     "name": "stderr",
     "output_type": "stream",
     "text": [
      "Optimizing Strategy: 100%|██████████| 659/659 [00:18<00:00, 35.42it/s]\n"
     ]
    },
    {
     "data": {
      "text/plain": [
       "(-1.2542370295855363, np.float64(0.37810901359124416))"
      ]
     },
     "execution_count": 18,
     "metadata": {},
     "output_type": "execute_result"
    }
   ],
   "execution_count": 18
  },
  {
   "cell_type": "code",
   "id": "a6569653d35553d9",
   "metadata": {
    "ExecuteTime": {
     "end_time": "2025-08-07T20:52:53.985657Z",
     "start_time": "2025-08-07T20:52:50.854593Z"
    }
   },
   "source": [
    "evaluate_strategy(min_var_lw_strategy)"
   ],
   "outputs": [
    {
     "name": "stderr",
     "output_type": "stream",
     "text": [
      "Optimizing Strategy: 100%|██████████| 659/659 [00:02<00:00, 269.60it/s]\n"
     ]
    },
    {
     "data": {
      "text/plain": [
       "(-0.8574300468823196, np.float64(2.168480541197104))"
      ]
     },
     "execution_count": 19,
     "metadata": {},
     "output_type": "execute_result"
    }
   ],
   "execution_count": 19
  },
  {
   "cell_type": "code",
   "id": "7d9f9d5563b0443d",
   "metadata": {
    "ExecuteTime": {
     "end_time": "2025-08-07T20:54:05.991170Z",
     "start_time": "2025-08-07T20:52:53.995766Z"
    }
   },
   "source": [
    "evaluate_strategy(min_var_factor_strategy)"
   ],
   "outputs": [
    {
     "name": "stderr",
     "output_type": "stream",
     "text": [
      "Optimizing Strategy: 100%|██████████| 659/659 [01:11<00:00,  9.24it/s]\n"
     ]
    },
    {
     "data": {
      "text/plain": [
       "(nan, np.float64(1.6034487194905696))"
      ]
     },
     "execution_count": 20,
     "metadata": {},
     "output_type": "execute_result"
    }
   ],
   "execution_count": 20
  },
  {
   "cell_type": "code",
   "id": "2ab8c47daab66825",
   "metadata": {
    "ExecuteTime": {
     "end_time": "2025-08-07T20:54:12.582673Z",
     "start_time": "2025-08-07T20:54:06.011029Z"
    }
   },
   "source": [
    "evaluate_strategy(min_var_qis_strategy)"
   ],
   "outputs": [
    {
     "name": "stderr",
     "output_type": "stream",
     "text": [
      "Optimizing Strategy: 100%|██████████| 659/659 [00:05<00:00, 111.85it/s]\n"
     ]
    },
    {
     "data": {
      "text/plain": [
       "(0.029891863986325116, np.float64(3.26281558812772))"
      ]
     },
     "execution_count": 21,
     "metadata": {},
     "output_type": "execute_result"
    }
   ],
   "execution_count": 21
  },
  {
   "cell_type": "code",
   "id": "b0bf640c60c62",
   "metadata": {
    "ExecuteTime": {
     "end_time": "2025-08-07T20:54:15.581069Z",
     "start_time": "2025-08-07T20:54:12.627927Z"
    }
   },
   "source": [
    "evaluate_strategy(vol_managed_strategy)"
   ],
   "outputs": [
    {
     "name": "stderr",
     "output_type": "stream",
     "text": [
      "Optimizing Strategy: 100%|██████████| 659/659 [00:02<00:00, 290.95it/s]\n"
     ]
    },
    {
     "data": {
      "text/plain": [
       "(0.1534420475163977, np.float64(0.4475163911025507))"
      ]
     },
     "execution_count": 22,
     "metadata": {},
     "output_type": "execute_result"
    }
   ],
   "execution_count": 22
  },
  {
   "cell_type": "code",
   "id": "b7487ffa08de9eca",
   "metadata": {
    "ExecuteTime": {
     "end_time": "2025-08-07T21:05:44.235811Z",
     "start_time": "2025-08-07T20:56:26.942328Z"
    }
   },
   "source": [
    "evaluate_strategy(min_var_lw_cv_strategy)"
   ],
   "outputs": [
    {
     "name": "stderr",
     "output_type": "stream",
     "text": [
      "Optimizing Strategy: 100%|██████████| 659/659 [09:16<00:00,  1.18it/s]\n"
     ]
    },
    {
     "data": {
      "text/plain": [
       "(-0.46578368046887164, np.float64(1.0750595300240133))"
      ]
     },
     "execution_count": 25,
     "metadata": {},
     "output_type": "execute_result"
    }
   ],
   "execution_count": 25
  },
  {
   "cell_type": "code",
   "id": "388b0e2965e37355",
   "metadata": {
    "ExecuteTime": {
     "end_time": "2025-08-07T21:05:44.253315Z",
     "start_time": "2025-08-07T21:05:44.243388Z"
    }
   },
   "source": [
    "min_var_lw_cv_strategy.cov_estimator.best_alpha"
   ],
   "outputs": [
    {
     "data": {
      "text/plain": [
       "np.float64(0.2)"
      ]
     },
     "execution_count": 26,
     "metadata": {},
     "output_type": "execute_result"
    }
   ],
   "execution_count": 26
  },
  {
   "metadata": {
    "ExecuteTime": {
     "end_time": "2025-08-07T21:17:11.102344Z",
     "start_time": "2025-08-07T21:17:11.093252Z"
    }
   },
   "cell_type": "code",
   "source": [
    "trading_config_naive_min_var = TradingConfig(total_exposure=1, min_exposure=0.5 / 100)\n",
    "\n",
    "min_var_naive_c_strategy = MinVariance(\n",
    "    cov_estimator=SampleCovEstimator(),\n",
    "    trading_config=trading_config_naive_min_var,\n",
    "    window_size=None,\n",
    ")"
   ],
   "id": "4ccbc024099e4145",
   "outputs": [],
   "execution_count": 29
  },
  {
   "metadata": {
    "ExecuteTime": {
     "end_time": "2025-08-07T21:17:28.730227Z",
     "start_time": "2025-08-07T21:17:11.739549Z"
    }
   },
   "cell_type": "code",
   "source": "evaluate_strategy(min_var_naive_c_strategy)",
   "id": "5fc9eeff8ccac0b9",
   "outputs": [
    {
     "name": "stderr",
     "output_type": "stream",
     "text": [
      "Optimizing Strategy: 100%|██████████| 659/659 [00:16<00:00, 40.57it/s]\n"
     ]
    },
    {
     "data": {
      "text/plain": [
       "(0.49681635308676625, np.float64(0.03676495628435918))"
      ]
     },
     "execution_count": 30,
     "metadata": {},
     "output_type": "execute_result"
    }
   ],
   "execution_count": 30
  },
  {
   "metadata": {
    "ExecuteTime": {
     "end_time": "2025-08-07T21:21:36.170439Z",
     "start_time": "2025-08-07T21:21:36.156079Z"
    }
   },
   "cell_type": "code",
   "source": "portfolios_xs_r.index.min(), portfolios_xs_r.index.max()",
   "id": "6e204b99f07a44c8",
   "outputs": [
    {
     "data": {
      "text/plain": [
       "(Timestamp('1970-01-02 00:00:00'), Timestamp('2024-12-31 00:00:00'))"
      ]
     },
     "execution_count": 31,
     "metadata": {},
     "output_type": "execute_result"
    }
   ],
   "execution_count": 31
  },
  {
   "metadata": {},
   "cell_type": "code",
   "outputs": [],
   "execution_count": null,
   "source": "",
   "id": "7646f0013d07548d"
  }
 ],
 "metadata": {
  "kernelspec": {
   "display_name": "Python 3",
   "language": "python",
   "name": "python3"
  },
  "language_info": {
   "codemirror_mode": {
    "name": "ipython",
    "version": 2
   },
   "file_extension": ".py",
   "mimetype": "text/x-python",
   "name": "python",
   "nbconvert_exporter": "python",
   "pygments_lexer": "ipython2",
   "version": "2.7.6"
  }
 },
 "nbformat": 4,
 "nbformat_minor": 5
}
