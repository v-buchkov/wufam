{
 "cells": [
  {
   "metadata": {
    "ExecuteTime": {
     "end_time": "2025-08-06T21:00:40.649996Z",
     "start_time": "2025-08-06T21:00:40.635068Z"
    }
   },
   "cell_type": "code",
   "source": [
    "from __future__ import annotations\n",
    "\n",
    "%load_ext autoreload\n",
    "%autoreload 2"
   ],
   "id": "13d4133e631b5b3e",
   "outputs": [],
   "execution_count": 1
  },
  {
   "metadata": {
    "ExecuteTime": {
     "end_time": "2025-08-06T21:00:40.818785Z",
     "start_time": "2025-08-06T21:00:40.652587Z"
    }
   },
   "cell_type": "code",
   "source": [
    "from pathlib import Path\n",
    "\n",
    "import numpy as np\n",
    "\n",
    "from wufam.data.prepare_data import read_kf_data\n",
    "from wufam.config.trading_config import TradingConfig\n",
    "from wufam.dataset import Dataset\n",
    "from wufam.strategies.optimization_data import TrainingData, PredictionData\n",
    "from wufam.metrics.metrics import calc_sharpe_from_weights\n",
    "\n",
    "PATH = Path(\"../data/kf_data\")\n",
    "START = \"1970-01-01\"\n",
    "END = \"2024-12-31\"\n",
    "DATASET = Dataset.BM_6_M\n",
    "FACTORS_DATASET = Dataset.FACTORS_M\n",
    "WEIGHTING = \"value_weighted\"\n",
    "FACTOR_ANNUALIZE = 12"
   ],
   "id": "dc5272a6f0a51c7a",
   "outputs": [],
   "execution_count": 2
  },
  {
   "metadata": {},
   "cell_type": "markdown",
   "source": "## 1.1",
   "id": "1e4a616e30d8a3e5"
  },
  {
   "metadata": {
    "ExecuteTime": {
     "end_time": "2025-08-06T21:00:40.843191Z",
     "start_time": "2025-08-06T21:00:40.821477Z"
    }
   },
   "cell_type": "code",
   "source": [
    "portfolios_total_r, portfolios_xs_r, factors_df, rf = read_kf_data(\n",
    "    portfolios_filename=PATH / DATASET,\n",
    "    factors_filename=PATH / FACTORS_DATASET,\n",
    "    start_date=START,\n",
    "    end_date=END,\n",
    "    weighting=WEIGHTING,\n",
    ")"
   ],
   "id": "1b3bca5a6833a9ac",
   "outputs": [],
   "execution_count": 3
  },
  {
   "metadata": {
    "ExecuteTime": {
     "end_time": "2025-08-06T21:00:40.852672Z",
     "start_time": "2025-08-06T21:00:40.846959Z"
    }
   },
   "cell_type": "code",
   "source": [
    "assert (\n",
    "    portfolios_total_r.shape[0]\n",
    "    == portfolios_xs_r.shape[0]\n",
    "    == factors_df.shape[0]\n",
    "    == rf.shape[0]\n",
    ")"
   ],
   "id": "94d19558a9963ac7",
   "outputs": [],
   "execution_count": 4
  },
  {
   "metadata": {},
   "cell_type": "markdown",
   "source": "## 1.2",
   "id": "9c89085150619b6c"
  },
  {
   "metadata": {
    "ExecuteTime": {
     "end_time": "2025-08-06T21:00:40.972283Z",
     "start_time": "2025-08-06T21:00:40.855020Z"
    }
   },
   "cell_type": "code",
   "source": [
    "from wufam.strategies.heuristics.equally_weighted import EWStrategy\n",
    "from wufam.strategies.optimized.mean_var import MeanVariance\n",
    "from wufam.strategies.optimized.min_var import MinVariance\n",
    "\n",
    "trading_config = TradingConfig(total_exposure=1)\n",
    "\n",
    "ew_strategy = EWStrategy()"
   ],
   "id": "2d86586c48fd92e4",
   "outputs": [],
   "execution_count": 5
  },
  {
   "metadata": {
    "ExecuteTime": {
     "end_time": "2025-08-06T21:00:40.982197Z",
     "start_time": "2025-08-06T21:00:40.974896Z"
    }
   },
   "cell_type": "code",
   "source": [
    "from wufam.estimation.mean.sample_mu_estimator import SampleMuEstimator\n",
    "from wufam.estimation.covariance.sample_cov_estimator import SampleCovEstimator\n",
    "\n",
    "mv_strategy = MeanVariance(\n",
    "    mu_estimator=SampleMuEstimator(),\n",
    "    cov_estimator=SampleCovEstimator(),\n",
    "    trading_config=trading_config,\n",
    "    window_size=None,\n",
    ")"
   ],
   "id": "7462d23f55ce2f27",
   "outputs": [],
   "execution_count": 6
  },
  {
   "metadata": {
    "ExecuteTime": {
     "end_time": "2025-08-06T21:00:41.397522Z",
     "start_time": "2025-08-06T21:00:40.984405Z"
    }
   },
   "cell_type": "code",
   "source": [
    "from wufam.estimation.covariance.shrinkage.lw_cv_cov_estimator import (\n",
    "    LedoitWolfCVCovEstimator,\n",
    ")\n",
    "\n",
    "# trading_config_min_var = TradingConfig(total_exposure=1, min_exposure=0.0)\n",
    "\n",
    "min_var_strategy = MinVariance(\n",
    "    cov_estimator=LedoitWolfCVCovEstimator(alphas=np.linspace(0.0, 1.0, 100)),\n",
    "    # cov_estimator=LedoitWolfCVCovEstimator(),\n",
    "    # trading_config=trading_config_min_var,\n",
    "    trading_config=trading_config,\n",
    "    window_size=None,\n",
    ")"
   ],
   "id": "7bafce60829faa94",
   "outputs": [],
   "execution_count": 7
  },
  {
   "metadata": {
    "ExecuteTime": {
     "end_time": "2025-08-06T21:00:41.679992Z",
     "start_time": "2025-08-06T21:00:41.402251Z"
    }
   },
   "cell_type": "code",
   "source": [
    "training_data = TrainingData(\n",
    "    simple_excess_returns=portfolios_xs_r,\n",
    ")\n",
    "\n",
    "ew_strategy.fit(training_data)\n",
    "mv_strategy.fit(training_data)\n",
    "min_var_strategy.fit(training_data)"
   ],
   "id": "296fdf5d6b504ffa",
   "outputs": [],
   "execution_count": 8
  },
  {
   "metadata": {
    "ExecuteTime": {
     "end_time": "2025-08-06T21:00:41.693116Z",
     "start_time": "2025-08-06T21:00:41.682593Z"
    }
   },
   "cell_type": "code",
   "source": [
    "prediction_data = PredictionData()\n",
    "\n",
    "ew_weights = ew_strategy(prediction_data)\n",
    "mv_weights = mv_strategy(prediction_data)\n",
    "min_var_weights = min_var_strategy(prediction_data)"
   ],
   "id": "adf410a0e201311d",
   "outputs": [],
   "execution_count": 9
  },
  {
   "metadata": {
    "ExecuteTime": {
     "end_time": "2025-08-06T21:00:41.726975Z",
     "start_time": "2025-08-06T21:00:41.714406Z"
    }
   },
   "cell_type": "code",
   "source": "ew_weights.head()",
   "id": "a89bd084b74985cb",
   "outputs": [
    {
     "data": {
      "text/plain": [
       "   SMALL LoBM   ME1 BM2  SMALL HiBM  BIG LoBM   ME2 BM2  BIG HiBM\n",
       "0    0.166667  0.166667    0.166667  0.166667  0.166667  0.166667"
      ],
      "text/html": [
       "<div>\n",
       "<style scoped>\n",
       "    .dataframe tbody tr th:only-of-type {\n",
       "        vertical-align: middle;\n",
       "    }\n",
       "\n",
       "    .dataframe tbody tr th {\n",
       "        vertical-align: top;\n",
       "    }\n",
       "\n",
       "    .dataframe thead th {\n",
       "        text-align: right;\n",
       "    }\n",
       "</style>\n",
       "<table border=\"1\" class=\"dataframe\">\n",
       "  <thead>\n",
       "    <tr style=\"text-align: right;\">\n",
       "      <th></th>\n",
       "      <th>SMALL LoBM</th>\n",
       "      <th>ME1 BM2</th>\n",
       "      <th>SMALL HiBM</th>\n",
       "      <th>BIG LoBM</th>\n",
       "      <th>ME2 BM2</th>\n",
       "      <th>BIG HiBM</th>\n",
       "    </tr>\n",
       "  </thead>\n",
       "  <tbody>\n",
       "    <tr>\n",
       "      <th>0</th>\n",
       "      <td>0.166667</td>\n",
       "      <td>0.166667</td>\n",
       "      <td>0.166667</td>\n",
       "      <td>0.166667</td>\n",
       "      <td>0.166667</td>\n",
       "      <td>0.166667</td>\n",
       "    </tr>\n",
       "  </tbody>\n",
       "</table>\n",
       "</div>"
      ]
     },
     "execution_count": 10,
     "metadata": {},
     "output_type": "execute_result"
    }
   ],
   "execution_count": 10
  },
  {
   "metadata": {
    "ExecuteTime": {
     "end_time": "2025-08-06T21:00:41.760708Z",
     "start_time": "2025-08-06T21:00:41.749931Z"
    }
   },
   "cell_type": "code",
   "source": "mv_weights.head()",
   "id": "115e04850226e36e",
   "outputs": [
    {
     "data": {
      "text/plain": [
       "   SMALL LoBM   ME1 BM2  SMALL HiBM  BIG LoBM   ME2 BM2  BIG HiBM\n",
       "0   -2.367576  2.543004    0.618445  1.585893 -1.099746  -0.28002"
      ],
      "text/html": [
       "<div>\n",
       "<style scoped>\n",
       "    .dataframe tbody tr th:only-of-type {\n",
       "        vertical-align: middle;\n",
       "    }\n",
       "\n",
       "    .dataframe tbody tr th {\n",
       "        vertical-align: top;\n",
       "    }\n",
       "\n",
       "    .dataframe thead th {\n",
       "        text-align: right;\n",
       "    }\n",
       "</style>\n",
       "<table border=\"1\" class=\"dataframe\">\n",
       "  <thead>\n",
       "    <tr style=\"text-align: right;\">\n",
       "      <th></th>\n",
       "      <th>SMALL LoBM</th>\n",
       "      <th>ME1 BM2</th>\n",
       "      <th>SMALL HiBM</th>\n",
       "      <th>BIG LoBM</th>\n",
       "      <th>ME2 BM2</th>\n",
       "      <th>BIG HiBM</th>\n",
       "    </tr>\n",
       "  </thead>\n",
       "  <tbody>\n",
       "    <tr>\n",
       "      <th>0</th>\n",
       "      <td>-2.367576</td>\n",
       "      <td>2.543004</td>\n",
       "      <td>0.618445</td>\n",
       "      <td>1.585893</td>\n",
       "      <td>-1.099746</td>\n",
       "      <td>-0.28002</td>\n",
       "    </tr>\n",
       "  </tbody>\n",
       "</table>\n",
       "</div>"
      ]
     },
     "execution_count": 11,
     "metadata": {},
     "output_type": "execute_result"
    }
   ],
   "execution_count": 11
  },
  {
   "metadata": {
    "ExecuteTime": {
     "end_time": "2025-08-06T21:00:41.833854Z",
     "start_time": "2025-08-06T21:00:41.823292Z"
    }
   },
   "cell_type": "code",
   "source": "min_var_weights.head()",
   "id": "860632caf6f5efc5",
   "outputs": [
    {
     "data": {
      "text/plain": [
       "   SMALL LoBM   ME1 BM2  SMALL HiBM  BIG LoBM   ME2 BM2  BIG HiBM\n",
       "0    -0.67868  0.673626   -0.004209  0.657938  0.526838 -0.175513"
      ],
      "text/html": [
       "<div>\n",
       "<style scoped>\n",
       "    .dataframe tbody tr th:only-of-type {\n",
       "        vertical-align: middle;\n",
       "    }\n",
       "\n",
       "    .dataframe tbody tr th {\n",
       "        vertical-align: top;\n",
       "    }\n",
       "\n",
       "    .dataframe thead th {\n",
       "        text-align: right;\n",
       "    }\n",
       "</style>\n",
       "<table border=\"1\" class=\"dataframe\">\n",
       "  <thead>\n",
       "    <tr style=\"text-align: right;\">\n",
       "      <th></th>\n",
       "      <th>SMALL LoBM</th>\n",
       "      <th>ME1 BM2</th>\n",
       "      <th>SMALL HiBM</th>\n",
       "      <th>BIG LoBM</th>\n",
       "      <th>ME2 BM2</th>\n",
       "      <th>BIG HiBM</th>\n",
       "    </tr>\n",
       "  </thead>\n",
       "  <tbody>\n",
       "    <tr>\n",
       "      <th>0</th>\n",
       "      <td>-0.67868</td>\n",
       "      <td>0.673626</td>\n",
       "      <td>-0.004209</td>\n",
       "      <td>0.657938</td>\n",
       "      <td>0.526838</td>\n",
       "      <td>-0.175513</td>\n",
       "    </tr>\n",
       "  </tbody>\n",
       "</table>\n",
       "</div>"
      ]
     },
     "execution_count": 12,
     "metadata": {},
     "output_type": "execute_result"
    }
   ],
   "execution_count": 12
  },
  {
   "metadata": {
    "ExecuteTime": {
     "end_time": "2025-08-06T21:00:41.863748Z",
     "start_time": "2025-08-06T21:00:41.854349Z"
    }
   },
   "cell_type": "code",
   "source": "min_var_strategy.cov_estimator.best_alpha",
   "id": "26c99bd132d21d8",
   "outputs": [
    {
     "data": {
      "text/plain": [
       "np.float64(0.010101010101010102)"
      ]
     },
     "execution_count": 13,
     "metadata": {},
     "output_type": "execute_result"
    }
   ],
   "execution_count": 13
  },
  {
   "metadata": {
    "ExecuteTime": {
     "end_time": "2025-08-06T21:00:42.239461Z",
     "start_time": "2025-08-06T21:00:41.885894Z"
    }
   },
   "cell_type": "code",
   "source": "portfolios_xs_r.add(1).cumprod().plot(logy=True);",
   "id": "582ffdcf0e340af9",
   "outputs": [
    {
     "data": {
      "text/plain": [
       "<Figure size 640x480 with 1 Axes>"
      ],
      "image/png": "[encoded data removed]"
     },
     "metadata": {},
     "output_type": "display_data"
    }
   ],
   "execution_count": 14
  },
  {
   "metadata": {
    "ExecuteTime": {
     "end_time": "2025-08-06T21:00:42.254255Z",
     "start_time": "2025-08-06T21:00:42.242992Z"
    }
   },
   "cell_type": "code",
   "source": [
    "calc_sharpe_from_weights(\n",
    "    weights=ew_weights,\n",
    "    excess_ret=portfolios_xs_r,\n",
    "    rf_rate=rf,\n",
    "    factor_annualize=FACTOR_ANNUALIZE,\n",
    ")"
   ],
   "id": "9d96be533cbe90fb",
   "outputs": [
    {
     "data": {
      "text/plain": [
       "0.45848777672322566"
      ]
     },
     "execution_count": 15,
     "metadata": {},
     "output_type": "execute_result"
    }
   ],
   "execution_count": 15
  },
  {
   "metadata": {
    "ExecuteTime": {
     "end_time": "2025-08-06T21:00:42.272219Z",
     "start_time": "2025-08-06T21:00:42.261447Z"
    }
   },
   "cell_type": "code",
   "source": [
    "calc_sharpe_from_weights(\n",
    "    weights=mv_weights,\n",
    "    excess_ret=portfolios_xs_r,\n",
    "    rf_rate=rf,\n",
    "    factor_annualize=FACTOR_ANNUALIZE,\n",
    ")"
   ],
   "id": "6843adc4aeeefb1",
   "outputs": [
    {
     "data": {
      "text/plain": [
       "0.579174415473971"
      ]
     },
     "execution_count": 16,
     "metadata": {},
     "output_type": "execute_result"
    }
   ],
   "execution_count": 16
  },
  {
   "metadata": {
    "ExecuteTime": {
     "end_time": "2025-08-06T21:00:42.292296Z",
     "start_time": "2025-08-06T21:00:42.280337Z"
    }
   },
   "cell_type": "code",
   "source": [
    "calc_sharpe_from_weights(\n",
    "    weights=min_var_weights,\n",
    "    excess_ret=portfolios_xs_r,\n",
    "    rf_rate=rf,\n",
    "    factor_annualize=FACTOR_ANNUALIZE,\n",
    ")"
   ],
   "id": "2c688fd47dbfe892",
   "outputs": [
    {
     "data": {
      "text/plain": [
       "0.5970620987892907"
      ]
     },
     "execution_count": 17,
     "metadata": {},
     "output_type": "execute_result"
    }
   ],
   "execution_count": 17
  },
  {
   "metadata": {},
   "cell_type": "markdown",
   "source": "## 1.3.",
   "id": "b563735969f329c2"
  },
  {
   "metadata": {
    "ExecuteTime": {
     "end_time": "2025-08-06T21:00:42.563442Z",
     "start_time": "2025-08-06T21:00:42.295405Z"
    }
   },
   "cell_type": "code",
   "source": [
    "split_date = portfolios_xs_r.index[len(portfolios_xs_r) // 2]\n",
    "\n",
    "training_data = TrainingData(\n",
    "    simple_excess_returns=portfolios_xs_r.loc[:split_date],\n",
    ")\n",
    "\n",
    "ew_strategy.fit(training_data)\n",
    "mv_strategy.fit(training_data)\n",
    "min_var_strategy.fit(training_data)\n",
    "\n",
    "ew_weights = ew_strategy(prediction_data)\n",
    "mv_weights = mv_strategy(prediction_data)\n",
    "min_var_weights = min_var_strategy(prediction_data)"
   ],
   "id": "f21e22283ade2b3",
   "outputs": [],
   "execution_count": 18
  },
  {
   "metadata": {
    "ExecuteTime": {
     "end_time": "2025-08-06T21:00:42.578573Z",
     "start_time": "2025-08-06T21:00:42.567980Z"
    }
   },
   "cell_type": "code",
   "source": "min_var_strategy.cov_estimator.best_alpha",
   "id": "5d886678187a1da9",
   "outputs": [
    {
     "data": {
      "text/plain": [
       "np.float64(0.07070707070707072)"
      ]
     },
     "execution_count": 19,
     "metadata": {},
     "output_type": "execute_result"
    }
   ],
   "execution_count": 19
  },
  {
   "metadata": {},
   "cell_type": "markdown",
   "source": "In-sample.",
   "id": "60c68b81f0c5a218"
  },
  {
   "metadata": {
    "ExecuteTime": {
     "end_time": "2025-08-06T21:00:42.594358Z",
     "start_time": "2025-08-06T21:00:42.583208Z"
    }
   },
   "cell_type": "code",
   "source": [
    "calc_sharpe_from_weights(\n",
    "    weights=ew_weights,\n",
    "    excess_ret=portfolios_xs_r.loc[:split_date],\n",
    "    rf_rate=rf,\n",
    "    factor_annualize=FACTOR_ANNUALIZE,\n",
    ")"
   ],
   "id": "2cdd5c7040b5750e",
   "outputs": [
    {
     "data": {
      "text/plain": [
       "0.36428230781888277"
      ]
     },
     "execution_count": 20,
     "metadata": {},
     "output_type": "execute_result"
    }
   ],
   "execution_count": 20
  },
  {
   "metadata": {
    "ExecuteTime": {
     "end_time": "2025-08-06T21:00:42.611476Z",
     "start_time": "2025-08-06T21:00:42.600401Z"
    }
   },
   "cell_type": "code",
   "source": [
    "calc_sharpe_from_weights(\n",
    "    weights=mv_weights,\n",
    "    excess_ret=portfolios_xs_r.loc[:split_date],\n",
    "    rf_rate=rf,\n",
    "    factor_annualize=FACTOR_ANNUALIZE,\n",
    ")"
   ],
   "id": "df1a39ba81b9301a",
   "outputs": [
    {
     "data": {
      "text/plain": [
       "0.6677153781492747"
      ]
     },
     "execution_count": 21,
     "metadata": {},
     "output_type": "execute_result"
    }
   ],
   "execution_count": 21
  },
  {
   "metadata": {
    "ExecuteTime": {
     "end_time": "2025-08-06T21:00:42.625167Z",
     "start_time": "2025-08-06T21:00:42.614567Z"
    }
   },
   "cell_type": "code",
   "source": [
    "calc_sharpe_from_weights(\n",
    "    weights=min_var_weights,\n",
    "    excess_ret=portfolios_xs_r.loc[:split_date],\n",
    "    rf_rate=rf,\n",
    "    factor_annualize=FACTOR_ANNUALIZE,\n",
    ")"
   ],
   "id": "c137562adc39c430",
   "outputs": [
    {
     "data": {
      "text/plain": [
       "0.5557148617374265"
      ]
     },
     "execution_count": 22,
     "metadata": {},
     "output_type": "execute_result"
    }
   ],
   "execution_count": 22
  },
  {
   "metadata": {},
   "cell_type": "markdown",
   "source": "Out-of-sample.",
   "id": "9474c3894cd5134"
  },
  {
   "metadata": {
    "ExecuteTime": {
     "end_time": "2025-08-06T21:00:42.640216Z",
     "start_time": "2025-08-06T21:00:42.629768Z"
    }
   },
   "cell_type": "code",
   "source": [
    "calc_sharpe_from_weights(\n",
    "    weights=ew_weights,\n",
    "    excess_ret=portfolios_xs_r.loc[split_date:],\n",
    "    rf_rate=rf,\n",
    "    factor_annualize=FACTOR_ANNUALIZE,\n",
    ")"
   ],
   "id": "63dd4f57950555",
   "outputs": [
    {
     "data": {
      "text/plain": [
       "0.05179634255272154"
      ]
     },
     "execution_count": 23,
     "metadata": {},
     "output_type": "execute_result"
    }
   ],
   "execution_count": 23
  },
  {
   "metadata": {
    "ExecuteTime": {
     "end_time": "2025-08-06T21:00:42.655937Z",
     "start_time": "2025-08-06T21:00:42.645852Z"
    }
   },
   "cell_type": "code",
   "source": [
    "calc_sharpe_from_weights(\n",
    "    weights=mv_weights,\n",
    "    excess_ret=portfolios_xs_r.loc[split_date:],\n",
    "    rf_rate=rf,\n",
    "    factor_annualize=FACTOR_ANNUALIZE,\n",
    ")"
   ],
   "id": "1eae6e1df550ffca",
   "outputs": [
    {
     "data": {
      "text/plain": [
       "0.21203001767891663"
      ]
     },
     "execution_count": 24,
     "metadata": {},
     "output_type": "execute_result"
    }
   ],
   "execution_count": 24
  },
  {
   "metadata": {
    "ExecuteTime": {
     "end_time": "2025-08-06T21:00:42.671365Z",
     "start_time": "2025-08-06T21:00:42.660781Z"
    }
   },
   "cell_type": "code",
   "source": [
    "calc_sharpe_from_weights(\n",
    "    weights=min_var_weights,\n",
    "    excess_ret=portfolios_xs_r.loc[split_date:],\n",
    "    rf_rate=rf,\n",
    "    factor_annualize=FACTOR_ANNUALIZE,\n",
    ")"
   ],
   "id": "d02f6fe27fd1206c",
   "outputs": [
    {
     "data": {
      "text/plain": [
       "0.11527221945753846"
      ]
     },
     "execution_count": 25,
     "metadata": {},
     "output_type": "execute_result"
    }
   ],
   "execution_count": 25
  },
  {
   "metadata": {},
   "cell_type": "markdown",
   "source": "Factor => Doesn't improve, as should've shorted",
   "id": "3acbc67844006a1d"
  },
  {
   "metadata": {
    "ExecuteTime": {
     "end_time": "2025-08-06T21:00:42.684437Z",
     "start_time": "2025-08-06T21:00:42.674415Z"
    }
   },
   "cell_type": "code",
   "source": [
    "long_columns = [col for col in portfolios_xs_r.columns if \"HiBM\" in col]\n",
    "short_columns = [col for col in portfolios_xs_r.columns if \"LoBM\" in col]\n",
    "\n",
    "repl = portfolios_total_r[long_columns].mean(axis=1) - portfolios_total_r[\n",
    "    short_columns\n",
    "].mean(axis=1)"
   ],
   "id": "a7820336e5fad4cb",
   "outputs": [],
   "execution_count": 26
  },
  {
   "metadata": {
    "ExecuteTime": {
     "end_time": "2025-08-06T21:00:42.697483Z",
     "start_time": "2025-08-06T21:00:42.688022Z"
    }
   },
   "cell_type": "code",
   "source": "np.abs(factors_df[\"HML\"].to_numpy() - repl.round(4).to_numpy()).mean()",
   "id": "28578f6a6833b940",
   "outputs": [
    {
     "data": {
      "text/plain": [
       "np.float64(4.5454545454650823e-07)"
      ]
     },
     "execution_count": 27,
     "metadata": {},
     "output_type": "execute_result"
    }
   ],
   "execution_count": 27
  },
  {
   "metadata": {
    "ExecuteTime": {
     "end_time": "2025-08-06T21:00:42.743599Z",
     "start_time": "2025-08-06T21:00:42.702158Z"
    }
   },
   "cell_type": "code",
   "source": [
    "import matplotlib.pyplot as plt\n",
    "\n",
    "plt.scatter(factors_df[\"HML\"].to_numpy(), repl.round(4).to_numpy());"
   ],
   "id": "ec6e383c6662f5cb",
   "outputs": [
    {
     "data": {
      "text/plain": [
       "<Figure size 640x480 with 1 Axes>"
      ],
      "image/png": "[encoded data removed]"
     },
     "metadata": {},
     "output_type": "display_data"
    }
   ],
   "execution_count": 28
  },
  {
   "metadata": {
    "ExecuteTime": {
     "end_time": "2025-08-06T21:00:42.759635Z",
     "start_time": "2025-08-06T21:00:42.749150Z"
    }
   },
   "cell_type": "code",
   "source": "np.corrcoef(factors_df[\"HML\"].to_numpy(), repl.round(4).to_numpy())",
   "id": "2de5acb74db29799",
   "outputs": [
    {
     "data": {
      "text/plain": [
       "array([[1.        , 0.99999998],\n",
       "       [0.99999998, 1.        ]])"
      ]
     },
     "execution_count": 29,
     "metadata": {},
     "output_type": "execute_result"
    }
   ],
   "execution_count": 29
  },
  {
   "metadata": {
    "ExecuteTime": {
     "end_time": "2025-08-06T21:00:42.861582Z",
     "start_time": "2025-08-06T21:00:42.814158Z"
    }
   },
   "cell_type": "code",
   "source": [
    "plt.plot(factors_df[\"HML\"].add(1).cumprod(), label=\"Factor\")\n",
    "plt.plot(repl.round(4).add(1).cumprod(), label=\"Replication\")\n",
    "plt.legend()\n",
    "plt.show()"
   ],
   "id": "786f8f8b3814d57f",
   "outputs": [
    {
     "data": {
      "text/plain": [
       "<Figure size 640x480 with 1 Axes>"
      ],
      "image/png": "[encoded data removed]"
     },
     "metadata": {},
     "output_type": "display_data"
    }
   ],
   "execution_count": 30
  },
  {
   "metadata": {
    "ExecuteTime": {
     "end_time": "2025-08-06T21:00:42.886734Z",
     "start_time": "2025-08-06T21:00:42.885461Z"
    }
   },
   "cell_type": "code",
   "source": "",
   "id": "1c56a36d4e49a1dc",
   "outputs": [],
   "execution_count": null
  }
 ],
 "metadata": {
  "kernelspec": {
   "display_name": "Python 3",
   "language": "python",
   "name": "python3"
  },
  "language_info": {
   "codemirror_mode": {
    "name": "ipython",
    "version": 2
   },
   "file_extension": ".py",
   "mimetype": "text/x-python",
   "name": "python",
   "nbconvert_exporter": "python",
   "pygments_lexer": "ipython2",
   "version": "2.7.6"
  }
 },
 "nbformat": 4,
 "nbformat_minor": 5
}
