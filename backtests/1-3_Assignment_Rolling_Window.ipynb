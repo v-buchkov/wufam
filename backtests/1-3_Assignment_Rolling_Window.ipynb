{
 "cells": [
  {
   "cell_type": "code",
   "id": "47ae993bb1d90d3f",
   "metadata": {
    "ExecuteTime": {
     "end_time": "2025-08-06T18:50:31.067810Z",
     "start_time": "2025-08-06T18:50:31.054471Z"
    }
   },
   "source": [
    "from __future__ import annotations\n",
    "\n",
    "%load_ext autoreload\n",
    "%autoreload 2"
   ],
   "outputs": [],
   "execution_count": 1
  },
  {
   "cell_type": "code",
   "id": "initial_id",
   "metadata": {
    "collapsed": true,
    "ExecuteTime": {
     "end_time": "2025-08-06T18:50:31.229509Z",
     "start_time": "2025-08-06T18:50:31.070342Z"
    }
   },
   "source": [
    "from pathlib import Path\n",
    "\n",
    "import numpy as np\n",
    "\n",
    "from wufam.data.prepare_data import read_kf_data\n",
    "from wufam.config.trading_config import TradingConfig\n",
    "from wufam.dataset import Dataset\n",
    "from wufam.strategies.base_strategy import BaseStrategy\n",
    "from wufam.backtest.rolling_backtest import run_rolling_backtest\n",
    "from wufam.metrics.metrics import calc_sharpe\n",
    "\n",
    "PATH = Path(\"../data/kf_data\")\n",
    "START = \"1970-01-01\"\n",
    "END = \"2024-12-31\"\n",
    "DATASET = Dataset.BM_25_D\n",
    "FACTORS_DATASET = Dataset.FACTORS_D\n",
    "WEIGHTING = \"value_weighted\"\n",
    "FACTOR_ANNUALIZE = 252"
   ],
   "outputs": [],
   "execution_count": 2
  },
  {
   "cell_type": "markdown",
   "id": "1ac5790467715af0",
   "metadata": {},
   "source": "## 1.1"
  },
  {
   "cell_type": "code",
   "id": "5f96001686f357d3",
   "metadata": {
    "ExecuteTime": {
     "end_time": "2025-08-06T18:50:31.628808Z",
     "start_time": "2025-08-06T18:50:31.232131Z"
    }
   },
   "source": [
    "portfolios_total_r, portfolios_xs_r, factors_df, rf = read_kf_data(\n",
    "    portfolios_filename=PATH / DATASET,\n",
    "    factors_filename=PATH / FACTORS_DATASET,\n",
    "    start_date=START,\n",
    "    end_date=END,\n",
    "    weighting=WEIGHTING,\n",
    ")"
   ],
   "outputs": [],
   "execution_count": 3
  },
  {
   "cell_type": "code",
   "id": "e1493496e5034b",
   "metadata": {
    "ExecuteTime": {
     "end_time": "2025-08-06T18:50:31.636909Z",
     "start_time": "2025-08-06T18:50:31.631539Z"
    }
   },
   "source": [
    "assert (\n",
    "    portfolios_total_r.shape[0]\n",
    "    == portfolios_xs_r.shape[0]\n",
    "    == factors_df.shape[0]\n",
    "    == rf.shape[0]\n",
    ")"
   ],
   "outputs": [],
   "execution_count": 4
  },
  {
   "cell_type": "markdown",
   "id": "c9ade91a822acaba",
   "metadata": {},
   "source": "## 1.2"
  },
  {
   "cell_type": "code",
   "id": "8ae5c25a3602d864",
   "metadata": {
    "ExecuteTime": {
     "end_time": "2025-08-06T18:50:31.753058Z",
     "start_time": "2025-08-06T18:50:31.640210Z"
    }
   },
   "source": [
    "from wufam.strategies.heuristics.equally_weighted import EWStrategy\n",
    "from wufam.strategies.optimized.mean_var import MeanVariance\n",
    "from wufam.strategies.optimized.min_var import MinVariance\n",
    "\n",
    "trading_config = TradingConfig(total_exposure=1)\n",
    "\n",
    "ew_strategy = EWStrategy()"
   ],
   "outputs": [],
   "execution_count": 5
  },
  {
   "cell_type": "code",
   "id": "c7b79c00b835ef0",
   "metadata": {
    "ExecuteTime": {
     "end_time": "2025-08-06T18:50:31.762293Z",
     "start_time": "2025-08-06T18:50:31.755544Z"
    }
   },
   "source": [
    "from wufam.estimation.mean.sample_mu_estimator import SampleMuEstimator\n",
    "from wufam.estimation.covariance.sample_cov_estimator import SampleCovEstimator\n",
    "\n",
    "mv_strategy = MeanVariance(\n",
    "    mu_estimator=SampleMuEstimator(),\n",
    "    cov_estimator=SampleCovEstimator(),\n",
    "    trading_config=trading_config,\n",
    "    window_size=None,\n",
    ")"
   ],
   "outputs": [],
   "execution_count": 6
  },
  {
   "metadata": {
    "ExecuteTime": {
     "end_time": "2025-08-06T18:50:31.769389Z",
     "start_time": "2025-08-06T18:50:31.764509Z"
    }
   },
   "cell_type": "code",
   "source": [
    "min_var_strategy = MinVariance(\n",
    "    cov_estimator=SampleCovEstimator(),\n",
    "    trading_config=trading_config,\n",
    "    window_size=None,\n",
    ")"
   ],
   "id": "63f83ff0b38e671c",
   "outputs": [],
   "execution_count": 7
  },
  {
   "metadata": {
    "ExecuteTime": {
     "end_time": "2025-08-06T18:50:31.776161Z",
     "start_time": "2025-08-06T18:50:31.771438Z"
    }
   },
   "cell_type": "code",
   "source": [
    "trading_config_min_var = TradingConfig(total_exposure=1, min_exposure=0.0)\n",
    "\n",
    "min_var_c_strategy = MinVariance(\n",
    "    cov_estimator=SampleCovEstimator(),\n",
    "    trading_config=trading_config_min_var,\n",
    "    window_size=None,\n",
    ")"
   ],
   "id": "f513a5493463e8fa",
   "outputs": [],
   "execution_count": 8
  },
  {
   "cell_type": "code",
   "id": "507aeb0c4823af65",
   "metadata": {
    "ExecuteTime": {
     "end_time": "2025-08-06T18:50:32.153686Z",
     "start_time": "2025-08-06T18:50:31.777759Z"
    }
   },
   "source": [
    "from wufam.estimation.covariance.shrinkage.lw_cv_cov_estimator import (\n",
    "    LedoitWolfCVCovEstimator,\n",
    ")\n",
    "\n",
    "min_var_lw_strategy = MinVariance(\n",
    "    cov_estimator=LedoitWolfCVCovEstimator(),\n",
    "    trading_config=trading_config,\n",
    "    window_size=None,\n",
    ")"
   ],
   "outputs": [],
   "execution_count": 9
  },
  {
   "metadata": {
    "ExecuteTime": {
     "end_time": "2025-08-06T18:50:32.165616Z",
     "start_time": "2025-08-06T18:50:32.157572Z"
    }
   },
   "cell_type": "code",
   "source": [
    "min_var_lw_cv_strategy = MinVariance(\n",
    "    cov_estimator=LedoitWolfCVCovEstimator(alphas=np.linspace(0.0, 1.0, 100)),\n",
    "    trading_config=trading_config,\n",
    "    window_size=None,\n",
    ")"
   ],
   "id": "83ae013ea4935877",
   "outputs": [],
   "execution_count": 10
  },
  {
   "metadata": {
    "ExecuteTime": {
     "end_time": "2025-08-06T18:50:32.175876Z",
     "start_time": "2025-08-06T18:50:32.167811Z"
    }
   },
   "cell_type": "code",
   "source": [
    "def evaluate_strategy(strategy: BaseStrategy) -> tuple[float, float]:\n",
    "    total_r, turnover = run_rolling_backtest(\n",
    "        strategy=strategy,\n",
    "        excess_returns=portfolios_xs_r,\n",
    "        rf=rf,\n",
    "        freq=\"M\",\n",
    "        trading_lag=1,\n",
    "    )\n",
    "\n",
    "    sr = calc_sharpe(\n",
    "        strategy_total_r=total_r,\n",
    "        rf_rate=rf,\n",
    "        factor_annualize=FACTOR_ANNUALIZE,\n",
    "    )\n",
    "\n",
    "    return sr, turnover.mean()"
   ],
   "id": "cf5783145a8f494e",
   "outputs": [],
   "execution_count": 11
  },
  {
   "metadata": {
    "ExecuteTime": {
     "end_time": "2025-08-06T18:50:33.098534Z",
     "start_time": "2025-08-06T18:50:32.178852Z"
    }
   },
   "cell_type": "code",
   "source": "evaluate_strategy(ew_strategy)",
   "id": "79445cd9cd044573",
   "outputs": [
    {
     "name": "stderr",
     "output_type": "stream",
     "text": [
      "Optimizing Strategy: 100%|██████████| 659/659 [00:00<00:00, 1554.91it/s]\n"
     ]
    },
    {
     "data": {
      "text/plain": [
       "(0.44198649620311253, np.float64(0.01734240132583332))"
      ]
     },
     "execution_count": 12,
     "metadata": {},
     "output_type": "execute_result"
    }
   ],
   "execution_count": 12
  },
  {
   "metadata": {
    "ExecuteTime": {
     "end_time": "2025-08-06T18:50:34.985300Z",
     "start_time": "2025-08-06T18:50:33.127134Z"
    }
   },
   "cell_type": "code",
   "source": "evaluate_strategy(mv_strategy)",
   "id": "3c7373fbef767c8d",
   "outputs": [
    {
     "name": "stderr",
     "output_type": "stream",
     "text": [
      "Optimizing Strategy: 100%|██████████| 659/659 [00:01<00:00, 506.54it/s]\n"
     ]
    },
    {
     "data": {
      "text/plain": [
       "(0.9630608182655949, np.float64(2.3513316852546295))"
      ]
     },
     "execution_count": 13,
     "metadata": {},
     "output_type": "execute_result"
    }
   ],
   "execution_count": 13
  },
  {
   "metadata": {
    "ExecuteTime": {
     "end_time": "2025-08-06T18:50:36.673879Z",
     "start_time": "2025-08-06T18:50:35.005352Z"
    }
   },
   "cell_type": "code",
   "source": "evaluate_strategy(min_var_strategy)",
   "id": "c6253f43407b25c",
   "outputs": [
    {
     "name": "stderr",
     "output_type": "stream",
     "text": [
      "Optimizing Strategy: 100%|██████████| 659/659 [00:01<00:00, 559.22it/s]\n"
     ]
    },
    {
     "data": {
      "text/plain": [
       "(0.9572849692685711, np.float64(0.3782886777951082))"
      ]
     },
     "execution_count": 14,
     "metadata": {},
     "output_type": "execute_result"
    }
   ],
   "execution_count": 14
  },
  {
   "metadata": {
    "ExecuteTime": {
     "end_time": "2025-08-06T18:50:42.860077Z",
     "start_time": "2025-08-06T18:50:36.691584Z"
    }
   },
   "cell_type": "code",
   "source": "evaluate_strategy(min_var_c_strategy)",
   "id": "b40307b9d30ff1e5",
   "outputs": [
    {
     "name": "stderr",
     "output_type": "stream",
     "text": [
      "Optimizing Strategy: 100%|██████████| 659/659 [00:05<00:00, 115.99it/s]\n"
     ]
    },
    {
     "data": {
      "text/plain": [
       "(0.6358202198196222, np.float64(0.03522181628663887))"
      ]
     },
     "execution_count": 15,
     "metadata": {},
     "output_type": "execute_result"
    }
   ],
   "execution_count": 15
  },
  {
   "metadata": {
    "ExecuteTime": {
     "end_time": "2025-08-06T18:50:45.038283Z",
     "start_time": "2025-08-06T18:50:42.876889Z"
    }
   },
   "cell_type": "code",
   "source": "evaluate_strategy(min_var_lw_strategy)",
   "id": "a6569653d35553d9",
   "outputs": [
    {
     "name": "stderr",
     "output_type": "stream",
     "text": [
      "Optimizing Strategy: 100%|██████████| 659/659 [00:01<00:00, 393.43it/s]\n"
     ]
    },
    {
     "data": {
      "text/plain": [
       "(1.0967408057190522, np.float64(0.18765173766302326))"
      ]
     },
     "execution_count": 16,
     "metadata": {},
     "output_type": "execute_result"
    }
   ],
   "execution_count": 16
  },
  {
   "metadata": {
    "ExecuteTime": {
     "end_time": "2025-08-06T18:55:37.000869Z",
     "start_time": "2025-08-06T18:50:45.055929Z"
    }
   },
   "cell_type": "code",
   "source": "evaluate_strategy(min_var_lw_cv_strategy)",
   "id": "b7487ffa08de9eca",
   "outputs": [
    {
     "name": "stderr",
     "output_type": "stream",
     "text": [
      "Optimizing Strategy: 100%|██████████| 659/659 [04:51<00:00,  2.26it/s]\n"
     ]
    },
    {
     "data": {
      "text/plain": [
       "(1.0885113036853014, np.float64(0.19043299837650438))"
      ]
     },
     "execution_count": 17,
     "metadata": {},
     "output_type": "execute_result"
    }
   ],
   "execution_count": 17
  },
  {
   "metadata": {
    "ExecuteTime": {
     "end_time": "2025-08-06T18:55:37.124767Z",
     "start_time": "2025-08-06T18:55:37.123546Z"
    }
   },
   "cell_type": "code",
   "source": "",
   "id": "388b0e2965e37355",
   "outputs": [],
   "execution_count": null
  }
 ],
 "metadata": {
  "kernelspec": {
   "display_name": "Python 3",
   "language": "python",
   "name": "python3"
  },
  "language_info": {
   "codemirror_mode": {
    "name": "ipython",
    "version": 2
   },
   "file_extension": ".py",
   "mimetype": "text/x-python",
   "name": "python",
   "nbconvert_exporter": "python",
   "pygments_lexer": "ipython2",
   "version": "2.7.6"
  }
 },
 "nbformat": 4,
 "nbformat_minor": 5
}
