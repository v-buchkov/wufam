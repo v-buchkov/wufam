{
 "cells": [
  {
   "cell_type": "code",
   "execution_count": 1,
   "id": "47ae993bb1d90d3f",
   "metadata": {
    "ExecuteTime": {
     "end_time": "2025-08-07T20:51:03.369427Z",
     "start_time": "2025-08-07T20:51:03.353020Z"
    }
   },
   "outputs": [],
   "source": [
    "from __future__ import annotations\n",
    "\n",
    "%load_ext autoreload\n",
    "%autoreload 2"
   ]
  },
  {
   "cell_type": "code",
   "execution_count": 2,
   "id": "initial_id",
   "metadata": {
    "ExecuteTime": {
     "end_time": "2025-08-07T20:51:03.535020Z",
     "start_time": "2025-08-07T20:51:03.372786Z"
    },
    "collapsed": true
   },
   "outputs": [],
   "source": [
    "from pathlib import Path\n",
    "\n",
    "import numpy as np\n",
    "import pandas as pd\n",
    "\n",
    "from wufam.data.prepare_data import read_kf_data\n",
    "from wufam.config.trading_config import TradingConfig\n",
    "from wufam.dataset import Dataset\n",
    "from wufam.strategies.base_strategy import BaseStrategy\n",
    "from wufam.backtest.rolling_backtest import run_rolling_backtest\n",
    "from wufam.metrics.metrics import calc_sharpe\n",
    "\n",
    "PATH = Path(\"../data/kf_data\")\n",
    "START = \"1970-01-01\"\n",
    "END = \"2024-12-31\"\n",
    "DATASET = Dataset.BM_6_D\n",
    "FACTORS_DATASET = Dataset.FACTORS_D\n",
    "WEIGHTING = \"value_weighted\"\n",
    "FACTOR_ANNUALIZE = 252"
   ]
  },
  {
   "cell_type": "markdown",
   "id": "1ac5790467715af0",
   "metadata": {},
   "source": "## 1.1"
  },
  {
   "cell_type": "code",
   "execution_count": 3,
   "id": "5f96001686f357d3",
   "metadata": {
    "ExecuteTime": {
     "end_time": "2025-08-07T20:51:03.713466Z",
     "start_time": "2025-08-07T20:51:03.537491Z"
    }
   },
   "outputs": [],
   "source": [
    "portfolios_total_r, portfolios_xs_r, factors_df, rf = read_kf_data(\n",
    "    portfolios_filename=PATH / DATASET,\n",
    "    factors_filename=PATH / FACTORS_DATASET,\n",
    "    start_date=START,\n",
    "    end_date=END,\n",
    "    weighting=WEIGHTING,\n",
    ")"
   ]
  },
  {
   "cell_type": "code",
   "execution_count": 4,
   "id": "e1493496e5034b",
   "metadata": {
    "ExecuteTime": {
     "end_time": "2025-08-07T20:51:03.721391Z",
     "start_time": "2025-08-07T20:51:03.716056Z"
    }
   },
   "outputs": [],
   "source": [
    "assert (\n",
    "    portfolios_total_r.shape[0]\n",
    "    == portfolios_xs_r.shape[0]\n",
    "    == factors_df.shape[0]\n",
    "    == rf.shape[0]\n",
    ")"
   ]
  },
  {
   "cell_type": "markdown",
   "id": "c9ade91a822acaba",
   "metadata": {},
   "source": "## 1.2"
  },
  {
   "cell_type": "code",
   "execution_count": 5,
   "id": "8ae5c25a3602d864",
   "metadata": {
    "ExecuteTime": {
     "end_time": "2025-08-07T20:51:03.847610Z",
     "start_time": "2025-08-07T20:51:03.723605Z"
    }
   },
   "outputs": [],
   "source": [
    "from wufam.strategies.heuristics.equally_weighted import EWStrategy\n",
    "from wufam.strategies.optimized.mean_var import MeanVariance\n",
    "from wufam.strategies.optimized.min_var import MinVariance\n",
    "\n",
    "trading_config = TradingConfig(total_exposure=1)\n",
    "\n",
    "ew_strategy = EWStrategy()"
   ]
  },
  {
   "cell_type": "code",
   "execution_count": 6,
   "id": "c7b79c00b835ef0",
   "metadata": {
    "ExecuteTime": {
     "end_time": "2025-08-07T20:51:03.857207Z",
     "start_time": "2025-08-07T20:51:03.850243Z"
    }
   },
   "outputs": [],
   "source": [
    "from wufam.estimation.mean.sample_mu_estimator import SampleMuEstimator\n",
    "from wufam.estimation.covariance.sample_cov_estimator import SampleCovEstimator\n",
    "\n",
    "mv_strategy = MeanVariance(\n",
    "    mu_estimator=SampleMuEstimator(),\n",
    "    cov_estimator=SampleCovEstimator(),\n",
    "    trading_config=trading_config,\n",
    "    window_size=365,\n",
    ")"
   ]
  },
  {
   "cell_type": "code",
   "execution_count": 7,
   "id": "63f83ff0b38e671c",
   "metadata": {
    "ExecuteTime": {
     "end_time": "2025-08-07T20:51:03.864097Z",
     "start_time": "2025-08-07T20:51:03.858983Z"
    }
   },
   "outputs": [],
   "source": [
    "min_var_strategy = MinVariance(\n",
    "    cov_estimator=SampleCovEstimator(),\n",
    "    trading_config=trading_config,\n",
    "    window_size=365,\n",
    ")"
   ]
  },
  {
   "cell_type": "code",
   "execution_count": 8,
   "id": "f513a5493463e8fa",
   "metadata": {
    "ExecuteTime": {
     "end_time": "2025-08-07T20:51:03.871178Z",
     "start_time": "2025-08-07T20:51:03.866084Z"
    }
   },
   "outputs": [],
   "source": [
    "trading_config_min_var = TradingConfig(total_exposure=1, min_exposure=0.0)\n",
    "\n",
    "min_var_c_strategy = MinVariance(\n",
    "    cov_estimator=SampleCovEstimator(),\n",
    "    trading_config=trading_config_min_var,\n",
    "    window_size=365,\n",
    ")"
   ]
  },
  {
   "cell_type": "code",
   "execution_count": 9,
   "id": "507aeb0c4823af65",
   "metadata": {
    "ExecuteTime": {
     "end_time": "2025-08-07T20:51:04.254435Z",
     "start_time": "2025-08-07T20:51:03.873403Z"
    }
   },
   "outputs": [],
   "source": [
    "from wufam.estimation.covariance.shrinkage.lw_cv_cov_estimator import (\n",
    "    LedoitWolfCVCovEstimator,\n",
    ")\n",
    "\n",
    "min_var_lw_strategy = MinVariance(\n",
    "    cov_estimator=LedoitWolfCVCovEstimator(),\n",
    "    trading_config=trading_config,\n",
    "    window_size=365,\n",
    ")"
   ]
  },
  {
   "cell_type": "code",
   "execution_count": 10,
   "id": "c90826e2e94a89b2",
   "metadata": {
    "ExecuteTime": {
     "end_time": "2025-08-07T20:51:04.266005Z",
     "start_time": "2025-08-07T20:51:04.257127Z"
    }
   },
   "outputs": [],
   "source": [
    "from wufam.estimation.covariance.shrinkage.qis import QISCovEstimator\n",
    "\n",
    "min_var_qis_strategy = MinVariance(\n",
    "    cov_estimator=QISCovEstimator(),\n",
    "    trading_config=trading_config,\n",
    "    window_size=365,\n",
    ")"
   ]
  },
  {
   "cell_type": "code",
   "execution_count": 11,
   "id": "83ae013ea4935877",
   "metadata": {
    "ExecuteTime": {
     "end_time": "2025-08-07T20:51:04.275989Z",
     "start_time": "2025-08-07T20:51:04.268543Z"
    }
   },
   "outputs": [],
   "source": [
    "min_var_lw_cv_strategy = MinVariance(\n",
    "    cov_estimator=LedoitWolfCVCovEstimator(alphas=np.linspace(0.0, 1.0, 100)),\n",
    "    trading_config=trading_config,\n",
    "    window_size=365,\n",
    ")"
   ]
  },
  {
   "cell_type": "code",
   "execution_count": 12,
   "id": "a0b150573fae1ff2",
   "metadata": {
    "ExecuteTime": {
     "end_time": "2025-08-07T20:51:04.460614Z",
     "start_time": "2025-08-07T20:51:04.278132Z"
    }
   },
   "outputs": [],
   "source": [
    "from wufam.estimation.covariance.factor.factor_cov_estimator import FactorCovEstimator\n",
    "from wufam.estimation.covariance.shrinkage.pca_cov_estimator import PCACovEstimator\n",
    "\n",
    "factor_cov_estimator = FactorCovEstimator(\n",
    "    factor_cov_estimator=SampleCovEstimator(),\n",
    "    residual_cov_estimator=PCACovEstimator(),\n",
    "    factors_selection=[\"Mkt-RF\"],\n",
    ")\n",
    "\n",
    "min_var_factor_strategy = MinVariance(\n",
    "    cov_estimator=factor_cov_estimator,\n",
    "    trading_config=trading_config,\n",
    "    window_size=365,\n",
    ")"
   ]
  },
  {
   "cell_type": "code",
   "execution_count": 13,
   "id": "27ac8c1f9a76cf06",
   "metadata": {
    "ExecuteTime": {
     "end_time": "2025-08-07T20:51:04.472482Z",
     "start_time": "2025-08-07T20:51:04.463236Z"
    }
   },
   "outputs": [],
   "source": [
    "from wufam.strategies.timed.vol_managed_strategy import VolManagedStrategy\n",
    "\n",
    "vol_managed_trading_config = TradingConfig(min_exposure=0.0, max_exposure=2.0)\n",
    "\n",
    "vol_managed_strategy = VolManagedStrategy(\n",
    "    trading_config=vol_managed_trading_config,\n",
    "    vol_window=21,\n",
    ")"
   ]
  },
  {
   "cell_type": "code",
   "execution_count": 27,
   "id": "cf5783145a8f494e",
   "metadata": {
    "ExecuteTime": {
     "end_time": "2025-08-07T20:57:55.330070Z",
     "start_time": "2025-08-07T20:57:55.319538Z"
    }
   },
   "outputs": [],
   "source": [
    "def evaluate_strategy(\n",
    "    strategy: BaseStrategy, return_weights: bool = False\n",
    ") -> tuple[float, float] | tuple[float, float, pd.DataFrame]:\n",
    "    bt_res = run_rolling_backtest(\n",
    "        strategy=strategy,\n",
    "        excess_returns=portfolios_xs_r,\n",
    "        factors=factors_df,\n",
    "        rf=rf,\n",
    "        freq=\"M\",\n",
    "        trading_lag=1,\n",
    "        return_weights=return_weights,\n",
    "    )\n",
    "\n",
    "    if return_weights:\n",
    "        total_r, turnover, me_weights = bt_res\n",
    "    else:\n",
    "        total_r, turnover = bt_res\n",
    "\n",
    "    sr = calc_sharpe(\n",
    "        strategy_total_r=total_r,\n",
    "        rf_rate=rf,\n",
    "        factor_annualize=FACTOR_ANNUALIZE,\n",
    "    )\n",
    "\n",
    "    if return_weights:\n",
    "        return sr, turnover.mean(), me_weights\n",
    "    return sr, turnover.mean()"
   ]
  },
  {
   "cell_type": "code",
   "execution_count": 15,
   "id": "79445cd9cd044573",
   "metadata": {
    "ExecuteTime": {
     "end_time": "2025-08-07T20:51:05.324228Z",
     "start_time": "2025-08-07T20:51:04.485372Z"
    }
   },
   "outputs": [
    {
     "name": "stderr",
     "output_type": "stream",
     "text": [
      "Optimizing Strategy: 100%|██████████| 659/659 [00:00<00:00, 1972.69it/s]\n"
     ]
    },
    {
     "data": {
      "text/plain": [
       "(0.4402388970354759, np.float64(0.015229700593042371))"
      ]
     },
     "execution_count": 15,
     "metadata": {},
     "output_type": "execute_result"
    }
   ],
   "source": [
    "evaluate_strategy(ew_strategy)"
   ]
  },
  {
   "cell_type": "code",
   "execution_count": 29,
   "id": "3c7373fbef767c8d",
   "metadata": {
    "ExecuteTime": {
     "end_time": "2025-08-07T20:58:27.460792Z",
     "start_time": "2025-08-07T20:58:25.969525Z"
    }
   },
   "outputs": [
    {
     "name": "stderr",
     "output_type": "stream",
     "text": [
      "Optimizing Strategy: 100%|██████████| 659/659 [00:00<00:00, 702.11it/s]\n"
     ]
    },
    {
     "data": {
      "text/plain": [
       "(nan, np.float64(67.45486112038247))"
      ]
     },
     "execution_count": 29,
     "metadata": {},
     "output_type": "execute_result"
    }
   ],
   "source": [
    "sr, turnover, w = evaluate_strategy(mv_strategy, return_weights=True)\n",
    "sr, turnover"
   ]
  },
  {
   "cell_type": "code",
   "execution_count": 30,
   "id": "abe2d5ef15e193fe",
   "metadata": {
    "ExecuteTime": {
     "end_time": "2025-08-07T20:58:35.716843Z",
     "start_time": "2025-08-07T20:58:35.704848Z"
    }
   },
   "outputs": [
    {
     "data": {
      "text/plain": [
       "np.False_"
      ]
     },
     "execution_count": 30,
     "metadata": {},
     "output_type": "execute_result"
    }
   ],
   "source": [
    "w.isna().any().any()"
   ]
  },
  {
   "cell_type": "code",
   "execution_count": 31,
   "id": "34f90cd8ee4aa4d7",
   "metadata": {
    "ExecuteTime": {
     "end_time": "2025-08-07T20:58:43.597226Z",
     "start_time": "2025-08-07T20:58:43.583247Z"
    }
   },
   "outputs": [
    {
     "data": {
      "text/plain": [
       "SMALL LoBM    33395.285223\n",
       "ME1 BM2       49685.128306\n",
       "SMALL HiBM    13233.415134\n",
       "BIG LoBM      10825.078693\n",
       "ME2 BM2       18102.148982\n",
       "BIG HiBM      62568.928105\n",
       "dtype: object"
      ]
     },
     "execution_count": 31,
     "metadata": {},
     "output_type": "execute_result"
    }
   ],
   "source": [
    "w.abs().max()"
   ]
  },
  {
   "cell_type": "code",
   "execution_count": 17,
   "id": "c6253f43407b25c",
   "metadata": {
    "ExecuteTime": {
     "end_time": "2025-08-07T20:51:07.947349Z",
     "start_time": "2025-08-07T20:51:06.747951Z"
    }
   },
   "outputs": [
    {
     "name": "stderr",
     "output_type": "stream",
     "text": [
      "Optimizing Strategy: 100%|██████████| 659/659 [00:00<00:00, 931.05it/s]\n"
     ]
    },
    {
     "data": {
      "text/plain": [
       "(1.0333752498077793, np.float64(0.5021140026630577))"
      ]
     },
     "execution_count": 17,
     "metadata": {},
     "output_type": "execute_result"
    }
   ],
   "source": [
    "evaluate_strategy(min_var_strategy)"
   ]
  },
  {
   "cell_type": "code",
   "execution_count": 18,
   "id": "b40307b9d30ff1e5",
   "metadata": {
    "ExecuteTime": {
     "end_time": "2025-08-07T20:51:13.039154Z",
     "start_time": "2025-08-07T20:51:07.958256Z"
    }
   },
   "outputs": [
    {
     "name": "stderr",
     "output_type": "stream",
     "text": [
      "Optimizing Strategy: 100%|██████████| 659/659 [00:04<00:00, 144.02it/s]\n"
     ]
    },
    {
     "data": {
      "text/plain": [
       "(0.6504575380198405, np.float64(0.11393304146659755))"
      ]
     },
     "execution_count": 18,
     "metadata": {},
     "output_type": "execute_result"
    }
   ],
   "source": [
    "evaluate_strategy(min_var_c_strategy)"
   ]
  },
  {
   "cell_type": "code",
   "execution_count": 19,
   "id": "a6569653d35553d9",
   "metadata": {
    "ExecuteTime": {
     "end_time": "2025-08-07T20:51:16.325657Z",
     "start_time": "2025-08-07T20:51:14.914656Z"
    }
   },
   "outputs": [
    {
     "name": "stderr",
     "output_type": "stream",
     "text": [
      "Optimizing Strategy: 100%|██████████| 659/659 [00:00<00:00, 713.69it/s]\n"
     ]
    },
    {
     "data": {
      "text/plain": [
       "(0.9573740069231945, np.float64(0.32174626994432326))"
      ]
     },
     "execution_count": 19,
     "metadata": {},
     "output_type": "execute_result"
    }
   ],
   "source": [
    "evaluate_strategy(min_var_lw_strategy)"
   ]
  },
  {
   "cell_type": "code",
   "execution_count": 20,
   "id": "7d9f9d5563b0443d",
   "metadata": {
    "ExecuteTime": {
     "end_time": "2025-08-07T20:51:21.514875Z",
     "start_time": "2025-08-07T20:51:16.334388Z"
    }
   },
   "outputs": [
    {
     "name": "stderr",
     "output_type": "stream",
     "text": [
      "Optimizing Strategy: 100%|██████████| 659/659 [00:04<00:00, 141.26it/s]\n"
     ]
    },
    {
     "data": {
      "text/plain": [
       "(1.067201667960036, np.float64(0.6201519831392531))"
      ]
     },
     "execution_count": 20,
     "metadata": {},
     "output_type": "execute_result"
    }
   ],
   "source": [
    "evaluate_strategy(min_var_factor_strategy)"
   ]
  },
  {
   "cell_type": "code",
   "execution_count": 21,
   "id": "2ab8c47daab66825",
   "metadata": {
    "ExecuteTime": {
     "end_time": "2025-08-07T20:51:23.580297Z",
     "start_time": "2025-08-07T20:51:21.522918Z"
    }
   },
   "outputs": [
    {
     "name": "stderr",
     "output_type": "stream",
     "text": [
      "Optimizing Strategy: 100%|██████████| 659/659 [00:01<00:00, 425.65it/s]\n"
     ]
    },
    {
     "data": {
      "text/plain": [
       "(0.9973516764669229, np.float64(0.619142265968935))"
      ]
     },
     "execution_count": 21,
     "metadata": {},
     "output_type": "execute_result"
    }
   ],
   "source": [
    "evaluate_strategy(min_var_qis_strategy)"
   ]
  },
  {
   "cell_type": "code",
   "execution_count": 22,
   "id": "b0bf640c60c62",
   "metadata": {
    "ExecuteTime": {
     "end_time": "2025-08-07T20:51:24.820180Z",
     "start_time": "2025-08-07T20:51:23.582998Z"
    }
   },
   "outputs": [
    {
     "name": "stderr",
     "output_type": "stream",
     "text": [
      "Optimizing Strategy: 100%|██████████| 659/659 [00:00<00:00, 904.97it/s] \n"
     ]
    },
    {
     "data": {
      "text/plain": [
       "(0.5662518243684176, np.float64(0.4349921576764195))"
      ]
     },
     "execution_count": 22,
     "metadata": {},
     "output_type": "execute_result"
    }
   ],
   "source": [
    "evaluate_strategy(vol_managed_strategy)"
   ]
  },
  {
   "cell_type": "code",
   "execution_count": 23,
   "id": "b7487ffa08de9eca",
   "metadata": {
    "ExecuteTime": {
     "end_time": "2025-08-07T20:54:20.603799Z",
     "start_time": "2025-08-07T20:51:25.871475Z"
    }
   },
   "outputs": [
    {
     "name": "stderr",
     "output_type": "stream",
     "text": [
      "Optimizing Strategy: 100%|██████████| 659/659 [02:54<00:00,  3.78it/s]\n"
     ]
    },
    {
     "data": {
      "text/plain": [
       "(0.9831891235641731, np.float64(0.6440725344688129))"
      ]
     },
     "execution_count": 23,
     "metadata": {},
     "output_type": "execute_result"
    }
   ],
   "source": [
    "evaluate_strategy(min_var_lw_cv_strategy)"
   ]
  },
  {
   "cell_type": "code",
   "execution_count": 24,
   "id": "388b0e2965e37355",
   "metadata": {
    "ExecuteTime": {
     "end_time": "2025-08-07T20:54:20.632275Z",
     "start_time": "2025-08-07T20:54:20.621711Z"
    }
   },
   "outputs": [
    {
     "data": {
      "text/plain": [
       "np.float64(0.010101010101010102)"
      ]
     },
     "execution_count": 24,
     "metadata": {},
     "output_type": "execute_result"
    }
   ],
   "source": [
    "min_var_lw_cv_strategy.cov_estimator.best_alpha"
   ]
  },
  {
   "cell_type": "code",
   "execution_count": 25,
   "id": "4ccbc024099e4145",
   "metadata": {
    "ExecuteTime": {
     "end_time": "2025-08-07T20:54:20.645643Z",
     "start_time": "2025-08-07T20:54:20.635622Z"
    }
   },
   "outputs": [],
   "source": [
    "trading_config_naive_min_var = TradingConfig(total_exposure=1, min_exposure=0.5 / 25)\n",
    "\n",
    "min_var_naive_c_strategy = MinVariance(\n",
    "    cov_estimator=SampleCovEstimator(),\n",
    "    trading_config=trading_config_naive_min_var,\n",
    "    window_size=None,\n",
    ")"
   ]
  },
  {
   "cell_type": "code",
   "execution_count": 26,
   "id": "5fc9eeff8ccac0b9",
   "metadata": {
    "ExecuteTime": {
     "end_time": "2025-08-07T20:54:26.719866Z",
     "start_time": "2025-08-07T20:54:20.651290Z"
    }
   },
   "outputs": [
    {
     "name": "stderr",
     "output_type": "stream",
     "text": [
      "Optimizing Strategy: 100%|██████████| 659/659 [00:05<00:00, 119.74it/s]\n"
     ]
    },
    {
     "data": {
      "text/plain": [
       "(0.5226548451417654, np.float64(0.024205558918543195))"
      ]
     },
     "execution_count": 26,
     "metadata": {},
     "output_type": "execute_result"
    }
   ],
   "source": [
    "evaluate_strategy(min_var_naive_c_strategy)"
   ]
  }
 ],
 "metadata": {
  "kernelspec": {
   "display_name": "Python 3",
   "language": "python",
   "name": "python3"
  },
  "language_info": {
   "codemirror_mode": {
    "name": "ipython",
    "version": 2
   },
   "file_extension": ".py",
   "mimetype": "text/x-python",
   "name": "python",
   "nbconvert_exporter": "python",
   "pygments_lexer": "ipython2",
   "version": "2.7.6"
  }
 },
 "nbformat": 4,
 "nbformat_minor": 5
}
