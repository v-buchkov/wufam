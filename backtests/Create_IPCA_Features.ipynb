{
 "cells": [
  {
   "cell_type": "code",
   "id": "47ae993bb1d90d3f",
   "metadata": {
    "ExecuteTime": {
     "end_time": "2025-08-07T18:23:25.985089Z",
     "start_time": "2025-08-07T18:23:25.973360Z"
    }
   },
   "source": [
    "from __future__ import annotations\n",
    "\n",
    "%load_ext autoreload\n",
    "%autoreload 2"
   ],
   "outputs": [
    {
     "name": "stdout",
     "output_type": "stream",
     "text": [
      "The autoreload extension is already loaded. To reload it, use:\n",
      "  %reload_ext autoreload\n"
     ]
    }
   ],
   "execution_count": 29
  },
  {
   "cell_type": "code",
   "id": "initial_id",
   "metadata": {
    "collapsed": true,
    "ExecuteTime": {
     "end_time": "2025-08-07T18:23:25.996841Z",
     "start_time": "2025-08-07T18:23:25.987942Z"
    }
   },
   "source": [
    "from pathlib import Path\n",
    "\n",
    "\n",
    "from wufam.data.prepare_data import read_kf_data\n",
    "from wufam.dataset import Dataset\n",
    "\n",
    "PATH = Path(\"../data/kf_data\")\n",
    "START = \"1970-01-01\"\n",
    "END = \"2024-12-31\"\n",
    "DATASET = Dataset.BM_25_M\n",
    "FACTORS_DATASET = Dataset.FACTORS_M\n",
    "WEIGHTING = \"value_weighted\"\n",
    "FACTOR_ANNUALIZE = 12"
   ],
   "outputs": [],
   "execution_count": 30
  },
  {
   "cell_type": "code",
   "id": "5f96001686f357d3",
   "metadata": {
    "ExecuteTime": {
     "end_time": "2025-08-07T18:23:26.041492Z",
     "start_time": "2025-08-07T18:23:26.000156Z"
    }
   },
   "source": [
    "portfolios_total_r, portfolios_xs_r, factors_df, rf = read_kf_data(\n",
    "    portfolios_filename=PATH / DATASET,\n",
    "    factors_filename=PATH / FACTORS_DATASET,\n",
    "    start_date=START,\n",
    "    end_date=END,\n",
    "    weighting=WEIGHTING,\n",
    ")"
   ],
   "outputs": [],
   "execution_count": 31
  },
  {
   "cell_type": "code",
   "id": "e1493496e5034b",
   "metadata": {
    "ExecuteTime": {
     "end_time": "2025-08-07T18:23:26.052549Z",
     "start_time": "2025-08-07T18:23:26.044543Z"
    }
   },
   "source": [
    "assert (\n",
    "    portfolios_total_r.shape[0]\n",
    "    == portfolios_xs_r.shape[0]\n",
    "    == factors_df.shape[0]\n",
    "    == rf.shape[0]\n",
    ")"
   ],
   "outputs": [],
   "execution_count": 32
  },
  {
   "cell_type": "code",
   "id": "22a34da41c16c87e",
   "metadata": {
    "ExecuteTime": {
     "end_time": "2025-08-07T18:23:26.088596Z",
     "start_time": "2025-08-07T18:23:26.055765Z"
    }
   },
   "source": [
    "import pandas as pd\n",
    "\n",
    "mkt_caps = pd.read_csv(\n",
    "    PATH / DATASET,\n",
    "    skiprows=3_795,\n",
    "    skipfooter=8881 - 4_984,\n",
    "    index_col=0,\n",
    "    engine=\"python\",\n",
    ")\n",
    "mkt_caps.index = pd.to_datetime(mkt_caps.index, format=\"%Y%m\")\n",
    "mkt_caps = mkt_caps.loc[START:END]\n",
    "mkt_caps.shape"
   ],
   "outputs": [
    {
     "data": {
      "text/plain": [
       "(660, 25)"
      ]
     },
     "execution_count": 33,
     "metadata": {},
     "output_type": "execute_result"
    }
   ],
   "execution_count": 33
  },
  {
   "cell_type": "code",
   "id": "8880e58dd59e379a",
   "metadata": {
    "ExecuteTime": {
     "end_time": "2025-08-07T18:23:26.125067Z",
     "start_time": "2025-08-07T18:23:26.092302Z"
    }
   },
   "source": [
    "bms = pd.read_csv(\n",
    "    PATH / DATASET,\n",
    "    skiprows=4_991,\n",
    "    skipfooter=8881 - 6_181,\n",
    "    index_col=0,\n",
    "    engine=\"python\",\n",
    ")\n",
    "bms.index = pd.to_datetime(bms.index, format=\"%Y%m\")\n",
    "bms = bms.loc[START:END]\n",
    "bms.shape"
   ],
   "outputs": [
    {
     "data": {
      "text/plain": [
       "(660, 25)"
      ]
     },
     "execution_count": 34,
     "metadata": {},
     "output_type": "execute_result"
    }
   ],
   "execution_count": 34
  },
  {
   "cell_type": "code",
   "id": "212ab51a20fe7fb0",
   "metadata": {
    "ExecuteTime": {
     "end_time": "2025-08-07T18:23:26.160376Z",
     "start_time": "2025-08-07T18:23:26.129005Z"
    }
   },
   "source": [
    "ops = pd.read_csv(\n",
    "    PATH / DATASET,\n",
    "    skiprows=7_382,\n",
    "    skipfooter=8881 - 8_128,\n",
    "    index_col=0,\n",
    "    engine=\"python\",\n",
    ")\n",
    "ops.index = pd.to_datetime(ops.index, format=\"%Y%m\")\n",
    "ops = ops.loc[START:END]\n",
    "ops.shape"
   ],
   "outputs": [
    {
     "data": {
      "text/plain": [
       "(660, 25)"
      ]
     },
     "execution_count": 35,
     "metadata": {},
     "output_type": "execute_result"
    }
   ],
   "execution_count": 35
  },
  {
   "cell_type": "code",
   "id": "379943eaf3e7c181",
   "metadata": {
    "ExecuteTime": {
     "end_time": "2025-08-07T18:23:26.196563Z",
     "start_time": "2025-08-07T18:23:26.164259Z"
    }
   },
   "source": [
    "invs = pd.read_csv(\n",
    "    PATH / DATASET,\n",
    "    skiprows=8_133,\n",
    "    skipfooter=8881 - 8_878,\n",
    "    index_col=0,\n",
    "    engine=\"python\",\n",
    ")\n",
    "invs.index = pd.to_datetime(invs.index, format=\"%Y%m\")\n",
    "invs = invs.loc[START:END]\n",
    "invs.shape"
   ],
   "outputs": [
    {
     "data": {
      "text/plain": [
       "(660, 25)"
      ]
     },
     "execution_count": 36,
     "metadata": {},
     "output_type": "execute_result"
    }
   ],
   "execution_count": 36
  },
  {
   "metadata": {
    "ExecuteTime": {
     "end_time": "2025-08-07T18:23:26.215499Z",
     "start_time": "2025-08-07T18:23:26.206069Z"
    }
   },
   "cell_type": "code",
   "source": [
    "lagged_ret = portfolios_xs_r.shift(1).fillna(0)\n",
    "lagged_ret.shape"
   ],
   "id": "b6ecfa2e9240b36",
   "outputs": [
    {
     "data": {
      "text/plain": [
       "(660, 25)"
      ]
     },
     "execution_count": 37,
     "metadata": {},
     "output_type": "execute_result"
    }
   ],
   "execution_count": 37
  },
  {
   "cell_type": "code",
   "id": "14f7536d87e890bc",
   "metadata": {
    "ExecuteTime": {
     "end_time": "2025-08-07T18:23:26.234177Z",
     "start_time": "2025-08-07T18:23:26.223696Z"
    }
   },
   "source": [
    "stds = portfolios_xs_r.rolling(window=21, min_periods=1).std().fillna(0)\n",
    "stds.shape"
   ],
   "outputs": [
    {
     "data": {
      "text/plain": [
       "(660, 25)"
      ]
     },
     "execution_count": 38,
     "metadata": {},
     "output_type": "execute_result"
    }
   ],
   "execution_count": 38
  },
  {
   "cell_type": "code",
   "id": "4c0e9126430665b5",
   "metadata": {
    "ExecuteTime": {
     "end_time": "2025-08-07T18:23:26.252849Z",
     "start_time": "2025-08-07T18:23:26.243059Z"
    }
   },
   "source": [
    "skews = portfolios_xs_r.rolling(window=21, min_periods=1).skew().fillna(0)\n",
    "skews.shape"
   ],
   "outputs": [
    {
     "data": {
      "text/plain": [
       "(660, 25)"
      ]
     },
     "execution_count": 39,
     "metadata": {},
     "output_type": "execute_result"
    }
   ],
   "execution_count": 39
  },
  {
   "cell_type": "code",
   "id": "be93bb534d86040e",
   "metadata": {
    "ExecuteTime": {
     "end_time": "2025-08-07T18:23:26.278389Z",
     "start_time": "2025-08-07T18:23:26.261568Z"
    }
   },
   "source": [
    "dfs_dict = {\n",
    "    \"Market_Caps\": mkt_caps,\n",
    "    \"Book_to_Market\": bms,\n",
    "    \"Operating_Profitability\": ops,\n",
    "    \"Investment\": invs,\n",
    "    \"Volatility\": stds,\n",
    "    \"Skewness\": skews,\n",
    "    \"ret\": portfolios_xs_r,\n",
    "}\n",
    "\n",
    "# Stack each DataFrame to convert columns to index level, then concatenate\n",
    "stacked_dfs = []\n",
    "for name, df in dfs_dict.items():\n",
    "    stacked = df.iloc[2:].stack()\n",
    "    stacked.name = name\n",
    "    stacked_dfs.append(stacked)\n",
    "\n",
    "# Concatenate all stacked series along axis=1 (columns)\n",
    "multi_df = pd.concat(stacked_dfs, axis=1)\n",
    "\n",
    "# Set proper index names\n",
    "multi_df.index.names = [\"date\", \"portfolio\"]\n",
    "multi_df.shape"
   ],
   "outputs": [
    {
     "data": {
      "text/plain": [
       "(16450, 7)"
      ]
     },
     "execution_count": 40,
     "metadata": {},
     "output_type": "execute_result"
    }
   ],
   "execution_count": 40
  },
  {
   "cell_type": "code",
   "id": "c992595b2330e9d8",
   "metadata": {
    "ExecuteTime": {
     "end_time": "2025-08-07T18:23:26.298451Z",
     "start_time": "2025-08-07T18:23:26.286912Z"
    }
   },
   "source": [
    "multi_df"
   ],
   "outputs": [
    {
     "data": {
      "text/plain": [
       "                       Market_Caps  Book_to_Market  Operating_Profitability  \\\n",
       "date       portfolio                                                          \n",
       "1970-03-01 SMALL LoBM        22.04          0.1663                   0.3579   \n",
       "           ME1 BM2           20.44          0.3484                   0.2411   \n",
       "           ME1 BM3           20.13          0.4780                   0.2466   \n",
       "           ME1 BM4           21.12          0.6326                   0.2082   \n",
       "           SMALL HiBM        21.55          1.0348                   0.1390   \n",
       "...                            ...             ...                      ...   \n",
       "2024-12-01 BIG LoBM      214780.60          0.0819                   1.0612   \n",
       "           ME5 BM2       101259.92          0.2535                   0.2909   \n",
       "           ME5 BM3        71025.51          0.4756                   0.2402   \n",
       "           ME5 BM4       107488.01          0.6716                   0.2309   \n",
       "           BIG HiBM       95223.67          1.0671                   0.2118   \n",
       "\n",
       "                       Investment  Volatility  Skewness       ret  \n",
       "date       portfolio                                               \n",
       "1970-03-01 SMALL LoBM      0.3172    0.044992  1.432121 -0.069971  \n",
       "           ME1 BM2         0.2095    0.045281  1.535252 -0.054491  \n",
       "           ME1 BM3         0.1410    0.045593  1.635091 -0.036625  \n",
       "           ME1 BM4         0.1251    0.028915 -0.573111  0.002985  \n",
       "           SMALL HiBM      0.0839    0.028915  1.304995 -0.018686  \n",
       "...                           ...         ...       ...       ...  \n",
       "2024-12-01 BIG LoBM        0.0731    0.038783 -0.131955 -0.000434  \n",
       "           ME5 BM2         0.0721    0.037065 -0.438801 -0.051943  \n",
       "           ME5 BM3         0.0578    0.043960 -0.510547 -0.093240  \n",
       "           ME5 BM4         0.0637    0.048796 -0.354187 -0.071656  \n",
       "           BIG HiBM        0.0369    0.062471  0.322870 -0.061114  \n",
       "\n",
       "[16450 rows x 7 columns]"
      ],
      "text/html": [
       "<div>\n",
       "<style scoped>\n",
       "    .dataframe tbody tr th:only-of-type {\n",
       "        vertical-align: middle;\n",
       "    }\n",
       "\n",
       "    .dataframe tbody tr th {\n",
       "        vertical-align: top;\n",
       "    }\n",
       "\n",
       "    .dataframe thead th {\n",
       "        text-align: right;\n",
       "    }\n",
       "</style>\n",
       "<table border=\"1\" class=\"dataframe\">\n",
       "  <thead>\n",
       "    <tr style=\"text-align: right;\">\n",
       "      <th></th>\n",
       "      <th></th>\n",
       "      <th>Market_Caps</th>\n",
       "      <th>Book_to_Market</th>\n",
       "      <th>Operating_Profitability</th>\n",
       "      <th>Investment</th>\n",
       "      <th>Volatility</th>\n",
       "      <th>Skewness</th>\n",
       "      <th>ret</th>\n",
       "    </tr>\n",
       "    <tr>\n",
       "      <th>date</th>\n",
       "      <th>portfolio</th>\n",
       "      <th></th>\n",
       "      <th></th>\n",
       "      <th></th>\n",
       "      <th></th>\n",
       "      <th></th>\n",
       "      <th></th>\n",
       "      <th></th>\n",
       "    </tr>\n",
       "  </thead>\n",
       "  <tbody>\n",
       "    <tr>\n",
       "      <th rowspan=\"5\" valign=\"top\">1970-03-01</th>\n",
       "      <th>SMALL LoBM</th>\n",
       "      <td>22.04</td>\n",
       "      <td>0.1663</td>\n",
       "      <td>0.3579</td>\n",
       "      <td>0.3172</td>\n",
       "      <td>0.044992</td>\n",
       "      <td>1.432121</td>\n",
       "      <td>-0.069971</td>\n",
       "    </tr>\n",
       "    <tr>\n",
       "      <th>ME1 BM2</th>\n",
       "      <td>20.44</td>\n",
       "      <td>0.3484</td>\n",
       "      <td>0.2411</td>\n",
       "      <td>0.2095</td>\n",
       "      <td>0.045281</td>\n",
       "      <td>1.535252</td>\n",
       "      <td>-0.054491</td>\n",
       "    </tr>\n",
       "    <tr>\n",
       "      <th>ME1 BM3</th>\n",
       "      <td>20.13</td>\n",
       "      <td>0.4780</td>\n",
       "      <td>0.2466</td>\n",
       "      <td>0.1410</td>\n",
       "      <td>0.045593</td>\n",
       "      <td>1.635091</td>\n",
       "      <td>-0.036625</td>\n",
       "    </tr>\n",
       "    <tr>\n",
       "      <th>ME1 BM4</th>\n",
       "      <td>21.12</td>\n",
       "      <td>0.6326</td>\n",
       "      <td>0.2082</td>\n",
       "      <td>0.1251</td>\n",
       "      <td>0.028915</td>\n",
       "      <td>-0.573111</td>\n",
       "      <td>0.002985</td>\n",
       "    </tr>\n",
       "    <tr>\n",
       "      <th>SMALL HiBM</th>\n",
       "      <td>21.55</td>\n",
       "      <td>1.0348</td>\n",
       "      <td>0.1390</td>\n",
       "      <td>0.0839</td>\n",
       "      <td>0.028915</td>\n",
       "      <td>1.304995</td>\n",
       "      <td>-0.018686</td>\n",
       "    </tr>\n",
       "    <tr>\n",
       "      <th>...</th>\n",
       "      <th>...</th>\n",
       "      <td>...</td>\n",
       "      <td>...</td>\n",
       "      <td>...</td>\n",
       "      <td>...</td>\n",
       "      <td>...</td>\n",
       "      <td>...</td>\n",
       "      <td>...</td>\n",
       "    </tr>\n",
       "    <tr>\n",
       "      <th rowspan=\"5\" valign=\"top\">2024-12-01</th>\n",
       "      <th>BIG LoBM</th>\n",
       "      <td>214780.60</td>\n",
       "      <td>0.0819</td>\n",
       "      <td>1.0612</td>\n",
       "      <td>0.0731</td>\n",
       "      <td>0.038783</td>\n",
       "      <td>-0.131955</td>\n",
       "      <td>-0.000434</td>\n",
       "    </tr>\n",
       "    <tr>\n",
       "      <th>ME5 BM2</th>\n",
       "      <td>101259.92</td>\n",
       "      <td>0.2535</td>\n",
       "      <td>0.2909</td>\n",
       "      <td>0.0721</td>\n",
       "      <td>0.037065</td>\n",
       "      <td>-0.438801</td>\n",
       "      <td>-0.051943</td>\n",
       "    </tr>\n",
       "    <tr>\n",
       "      <th>ME5 BM3</th>\n",
       "      <td>71025.51</td>\n",
       "      <td>0.4756</td>\n",
       "      <td>0.2402</td>\n",
       "      <td>0.0578</td>\n",
       "      <td>0.043960</td>\n",
       "      <td>-0.510547</td>\n",
       "      <td>-0.093240</td>\n",
       "    </tr>\n",
       "    <tr>\n",
       "      <th>ME5 BM4</th>\n",
       "      <td>107488.01</td>\n",
       "      <td>0.6716</td>\n",
       "      <td>0.2309</td>\n",
       "      <td>0.0637</td>\n",
       "      <td>0.048796</td>\n",
       "      <td>-0.354187</td>\n",
       "      <td>-0.071656</td>\n",
       "    </tr>\n",
       "    <tr>\n",
       "      <th>BIG HiBM</th>\n",
       "      <td>95223.67</td>\n",
       "      <td>1.0671</td>\n",
       "      <td>0.2118</td>\n",
       "      <td>0.0369</td>\n",
       "      <td>0.062471</td>\n",
       "      <td>0.322870</td>\n",
       "      <td>-0.061114</td>\n",
       "    </tr>\n",
       "  </tbody>\n",
       "</table>\n",
       "<p>16450 rows × 7 columns</p>\n",
       "</div>"
      ]
     },
     "execution_count": 41,
     "metadata": {},
     "output_type": "execute_result"
    }
   ],
   "execution_count": 41
  },
  {
   "cell_type": "code",
   "id": "b31d9b825714225",
   "metadata": {
    "ExecuteTime": {
     "end_time": "2025-08-07T18:23:26.329445Z",
     "start_time": "2025-08-07T18:23:26.319295Z"
    }
   },
   "source": [
    "multi_df[\"ret\"]"
   ],
   "outputs": [
    {
     "data": {
      "text/plain": [
       "date        portfolio \n",
       "1970-03-01  SMALL LoBM   -0.069971\n",
       "            ME1 BM2      -0.054491\n",
       "            ME1 BM3      -0.036625\n",
       "            ME1 BM4       0.002985\n",
       "            SMALL HiBM   -0.018686\n",
       "                            ...   \n",
       "2024-12-01  BIG LoBM     -0.000434\n",
       "            ME5 BM2      -0.051943\n",
       "            ME5 BM3      -0.093240\n",
       "            ME5 BM4      -0.071656\n",
       "            BIG HiBM     -0.061114\n",
       "Name: ret, Length: 16450, dtype: float64"
      ]
     },
     "execution_count": 42,
     "metadata": {},
     "output_type": "execute_result"
    }
   ],
   "execution_count": 42
  },
  {
   "cell_type": "code",
   "id": "c551e151713f032b",
   "metadata": {
    "ExecuteTime": {
     "end_time": "2025-08-07T18:23:26.415064Z",
     "start_time": "2025-08-07T18:23:26.393938Z"
    }
   },
   "source": [
    "rank = (\n",
    "    multi_df[multi_df.columns.difference([\"ret\"])]\n",
    "    .groupby(level=\"date\")\n",
    "    .rank(ascending=False, method=\"max\")\n",
    ")\n",
    "rank = rank.div(rank.groupby(level=\"date\").count()) - 0.5\n",
    "rank = rank.fillna(0)"
   ],
   "outputs": [],
   "execution_count": 43
  },
  {
   "cell_type": "code",
   "id": "eec5c0df101598d9",
   "metadata": {
    "ExecuteTime": {
     "end_time": "2025-08-07T18:23:26.512788Z",
     "start_time": "2025-08-07T18:23:26.422817Z"
    }
   },
   "source": [
    "from ipca import InstrumentedPCA\n",
    "\n",
    "regr = InstrumentedPCA(n_factors=4, intercept=True, max_iter=100)\n",
    "regr = regr.fit(X=rank, y=multi_df[\"ret\"])\n",
    "Gamma, Factors = regr.get_factors(label_ind=True)"
   ],
   "outputs": [
    {
     "name": "stderr",
     "output_type": "stream",
     "text": [
      "[========================================================================] 100%\r"
     ]
    },
    {
     "name": "stdout",
     "output_type": "stream",
     "text": [
      "The panel dimensions are:\n",
      "n_samples: 658 , L: 6 , T: 25\n",
      "Step 1 - Aggregate Update: 1.2847604010423386\n",
      "Step 2 - Aggregate Update: 1.36514200118227\n",
      "Step 3 - Aggregate Update: 0.21907709322944346\n",
      "Step 4 - Aggregate Update: 1.366458824226379\n",
      "Step 5 - Aggregate Update: 0.09880291092363291\n",
      "Step 6 - Aggregate Update: 0.07511242001883511\n",
      "Step 7 - Aggregate Update: 0.07118658992799765\n",
      "Step 8 - Aggregate Update: 0.057724841047955666\n",
      "Step 9 - Aggregate Update: 0.03534980091807044\n",
      "Step 10 - Aggregate Update: 0.026754696817294185\n",
      "Step 11 - Aggregate Update: 0.02461605594176744\n",
      "Step 12 - Aggregate Update: 0.022463640286327927\n",
      "Step 13 - Aggregate Update: 1.7404326972868307\n",
      "Step 14 - Aggregate Update: 0.018858982162414772\n",
      "Step 15 - Aggregate Update: 0.01747994266951533\n",
      "Step 16 - Aggregate Update: 0.01635784671516466\n",
      "Step 17 - Aggregate Update: 0.015458241497643604\n",
      "Step 18 - Aggregate Update: 0.014746706882474259\n",
      "Step 19 - Aggregate Update: 0.014192070731775391\n",
      "Step 20 - Aggregate Update: 0.01376712708548461\n",
      "Step 21 - Aggregate Update: 1.6634135710294\n",
      "Step 22 - Aggregate Update: 0.013214682222278895\n",
      "Step 23 - Aggregate Update: 0.01304750987123221\n",
      "Step 24 - Aggregate Update: 0.012928984846506397\n",
      "Step 25 - Aggregate Update: 0.012841765094200486\n",
      "Step 26 - Aggregate Update: 0.012768439686181576\n",
      "Step 27 - Aggregate Update: 0.012691296971967803\n",
      "Step 28 - Aggregate Update: 0.012592413829819793\n",
      "Step 29 - Aggregate Update: 0.012454119959289356\n",
      "Step 30 - Aggregate Update: 0.012259856063742303\n",
      "Step 31 - Aggregate Update: 0.01199537640016185\n",
      "Step 32 - Aggregate Update: 0.011650149243097596\n",
      "Step 33 - Aggregate Update: 0.011218706831976288\n",
      "Step 34 - Aggregate Update: 0.01070163078715286\n",
      "Step 35 - Aggregate Update: 0.010105874867758047\n",
      "Step 36 - Aggregate Update: 0.009565495909977795\n",
      "Step 37 - Aggregate Update: 1.3008440351484865\n",
      "Step 38 - Aggregate Update: 0.009149040660953345\n",
      "Step 39 - Aggregate Update: 0.00879286912629107\n",
      "Step 40 - Aggregate Update: 0.008355913501555734\n",
      "Step 41 - Aggregate Update: 0.007855650449420826\n",
      "Step 42 - Aggregate Update: 0.007310863887592167\n",
      "Step 43 - Aggregate Update: 0.006740100268330496\n",
      "Step 44 - Aggregate Update: 0.006160425124869473\n",
      "Step 45 - Aggregate Update: 0.005586572769814779\n",
      "Step 46 - Aggregate Update: 0.005030495598572493\n",
      "Step 47 - Aggregate Update: 0.004501258150353182\n",
      "Step 48 - Aggregate Update: 0.004005189267668241\n",
      "Step 49 - Aggregate Update: 0.0035461994165141286\n",
      "Step 50 - Aggregate Update: 0.003126181018537122\n",
      "Step 51 - Aggregate Update: 0.002745428701413366\n",
      "Step 52 - Aggregate Update: 0.002403036938533387\n",
      "Step 53 - Aggregate Update: 0.002097250589356059\n",
      "Step 54 - Aggregate Update: 0.0018257576530571473\n",
      "Step 55 - Aggregate Update: 0.0015859229593755408\n",
      "Step 56 - Aggregate Update: 0.0013749671891961635\n",
      "Step 57 - Aggregate Update: 0.0011900984831821892\n",
      "Step 58 - Aggregate Update: 0.0010286048572250017\n",
      "Step 59 - Aggregate Update: 0.0008879154443328652\n",
      "Step 60 - Aggregate Update: 0.000765637755566484\n",
      "Step 61 - Aggregate Update: 0.0006595770669020062\n",
      "Step 62 - Aggregate Update: 0.0005677429089291364\n",
      "Step 63 - Aggregate Update: 0.0004883465875713533\n",
      "Step 64 - Aggregate Update: 0.00041979275429060436\n",
      "Step 65 - Aggregate Update: 0.0003606672853639914\n",
      "Step 66 - Aggregate Update: 0.0003097231240022369\n",
      "Step 67 - Aggregate Update: 0.00026586526062311044\n",
      "Step 68 - Aggregate Update: 0.00022813566413959485\n",
      "Step 69 - Aggregate Update: 0.0001956987027129653\n",
      "Step 70 - Aggregate Update: 0.00016782739136667058\n",
      "Step 71 - Aggregate Update: 0.0001438906589751321\n",
      "Step 72 - Aggregate Update: 0.00012334172431816004\n",
      "Step 73 - Aggregate Update: 0.00010570760081018982\n",
      "Step 74 - Aggregate Update: 9.057970298465001e-05\n",
      "Step 75 - Aggregate Update: 7.76054976027174e-05\n",
      "Step 76 - Aggregate Update: 6.648112639529025e-05\n",
      "Step 77 - Aggregate Update: 5.694491763030829e-05\n",
      "Step 78 - Aggregate Update: 4.877170210504378e-05\n",
      "Step 79 - Aggregate Update: 4.1767850300522547e-05\n",
      "Step 80 - Aggregate Update: 3.5766950954641e-05\n",
      "Step 81 - Aggregate Update: 3.062605706805055e-05\n",
      "Step 82 - Aggregate Update: 2.6222431399602897e-05\n",
      "Step 83 - Aggregate Update: 2.2450729712186757e-05\n",
      "Step 84 - Aggregate Update: 1.9220566351285662e-05\n",
      "Step 85 - Aggregate Update: 1.6454413052979788e-05\n",
      "Step 86 - Aggregate Update: 1.4085787102602332e-05\n",
      "Step 87 - Aggregate Update: 1.2057690704336821e-05\n",
      "Step 88 - Aggregate Update: 1.0321267524759925e-05\n",
      "Step 89 - Aggregate Update: 8.834647212352387e-06\n",
      "-- Convergence Reached --\n"
     ]
    },
    {
     "name": "stderr",
     "output_type": "stream",
     "text": [
      "\n"
     ]
    }
   ],
   "execution_count": 44
  },
  {
   "cell_type": "code",
   "id": "a1c173b91d9e796f",
   "metadata": {
    "ExecuteTime": {
     "end_time": "2025-08-07T18:23:26.526552Z",
     "start_time": "2025-08-07T18:23:26.517066Z"
    }
   },
   "source": [
    "Gamma.shape, Factors.shape"
   ],
   "outputs": [
    {
     "data": {
      "text/plain": [
       "((6, 5), (5, 25))"
      ]
     },
     "execution_count": 45,
     "metadata": {},
     "output_type": "execute_result"
    }
   ],
   "execution_count": 45
  },
  {
   "cell_type": "code",
   "id": "93c2502a5f40619b",
   "metadata": {
    "ExecuteTime": {
     "end_time": "2025-08-07T18:23:26.542545Z",
     "start_time": "2025-08-07T18:23:26.533064Z"
    }
   },
   "source": [
    "rank.shape"
   ],
   "outputs": [
    {
     "data": {
      "text/plain": [
       "(16450, 6)"
      ]
     },
     "execution_count": 46,
     "metadata": {},
     "output_type": "execute_result"
    }
   ],
   "execution_count": 46
  },
  {
   "cell_type": "code",
   "id": "a6b75d8d7e87073b",
   "metadata": {
    "ExecuteTime": {
     "end_time": "2025-08-07T18:23:26.584203Z",
     "start_time": "2025-08-07T18:23:26.546943Z"
    }
   },
   "source": [
    "pred = regr.predict(rank)\n",
    "pred = pd.DataFrame(pred, index=rank.index, columns=[\"pred\"])\n",
    "pred"
   ],
   "outputs": [
    {
     "data": {
      "text/plain": [
       "                           pred\n",
       "date       portfolio           \n",
       "1970-03-01 SMALL LoBM  0.017597\n",
       "           ME1 BM2     0.017338\n",
       "           ME1 BM3     0.007017\n",
       "           ME1 BM4     0.006025\n",
       "           SMALL HiBM  0.010611\n",
       "...                         ...\n",
       "2024-12-01 BIG LoBM    0.006237\n",
       "           ME5 BM2     0.001373\n",
       "           ME5 BM3     0.009452\n",
       "           ME5 BM4     0.006301\n",
       "           BIG HiBM    0.010141\n",
       "\n",
       "[16450 rows x 1 columns]"
      ],
      "text/html": [
       "<div>\n",
       "<style scoped>\n",
       "    .dataframe tbody tr th:only-of-type {\n",
       "        vertical-align: middle;\n",
       "    }\n",
       "\n",
       "    .dataframe tbody tr th {\n",
       "        vertical-align: top;\n",
       "    }\n",
       "\n",
       "    .dataframe thead th {\n",
       "        text-align: right;\n",
       "    }\n",
       "</style>\n",
       "<table border=\"1\" class=\"dataframe\">\n",
       "  <thead>\n",
       "    <tr style=\"text-align: right;\">\n",
       "      <th></th>\n",
       "      <th></th>\n",
       "      <th>pred</th>\n",
       "    </tr>\n",
       "    <tr>\n",
       "      <th>date</th>\n",
       "      <th>portfolio</th>\n",
       "      <th></th>\n",
       "    </tr>\n",
       "  </thead>\n",
       "  <tbody>\n",
       "    <tr>\n",
       "      <th rowspan=\"5\" valign=\"top\">1970-03-01</th>\n",
       "      <th>SMALL LoBM</th>\n",
       "      <td>0.017597</td>\n",
       "    </tr>\n",
       "    <tr>\n",
       "      <th>ME1 BM2</th>\n",
       "      <td>0.017338</td>\n",
       "    </tr>\n",
       "    <tr>\n",
       "      <th>ME1 BM3</th>\n",
       "      <td>0.007017</td>\n",
       "    </tr>\n",
       "    <tr>\n",
       "      <th>ME1 BM4</th>\n",
       "      <td>0.006025</td>\n",
       "    </tr>\n",
       "    <tr>\n",
       "      <th>SMALL HiBM</th>\n",
       "      <td>0.010611</td>\n",
       "    </tr>\n",
       "    <tr>\n",
       "      <th>...</th>\n",
       "      <th>...</th>\n",
       "      <td>...</td>\n",
       "    </tr>\n",
       "    <tr>\n",
       "      <th rowspan=\"5\" valign=\"top\">2024-12-01</th>\n",
       "      <th>BIG LoBM</th>\n",
       "      <td>0.006237</td>\n",
       "    </tr>\n",
       "    <tr>\n",
       "      <th>ME5 BM2</th>\n",
       "      <td>0.001373</td>\n",
       "    </tr>\n",
       "    <tr>\n",
       "      <th>ME5 BM3</th>\n",
       "      <td>0.009452</td>\n",
       "    </tr>\n",
       "    <tr>\n",
       "      <th>ME5 BM4</th>\n",
       "      <td>0.006301</td>\n",
       "    </tr>\n",
       "    <tr>\n",
       "      <th>BIG HiBM</th>\n",
       "      <td>0.010141</td>\n",
       "    </tr>\n",
       "  </tbody>\n",
       "</table>\n",
       "<p>16450 rows × 1 columns</p>\n",
       "</div>"
      ]
     },
     "execution_count": 47,
     "metadata": {},
     "output_type": "execute_result"
    }
   ],
   "execution_count": 47
  },
  {
   "cell_type": "code",
   "id": "76dfb5c022e75114",
   "metadata": {
    "ExecuteTime": {
     "end_time": "2025-08-07T18:23:26.625861Z",
     "start_time": "2025-08-07T18:23:26.608899Z"
    }
   },
   "source": [
    "pred = pd.pivot_table(pred, index=\"date\", columns=\"portfolio\", values=\"pred\")\n",
    "pred"
   ],
   "outputs": [
    {
     "data": {
      "text/plain": [
       "portfolio   BIG HiBM  BIG LoBM   ME1 BM2   ME1 BM3   ME1 BM4   ME2 BM1  \\\n",
       "date                                                                     \n",
       "1970-03-01  0.001139  0.003304  0.017338  0.007017  0.006025  0.011901   \n",
       "1970-04-01 -0.003516  0.002359  0.010839  0.004047  0.003416  0.001290   \n",
       "1970-05-01 -0.004920  0.001223  0.010891  0.003185  0.004534 -0.008150   \n",
       "1970-06-01 -0.003377  0.001223  0.010942  0.003854  0.004454 -0.008093   \n",
       "1970-07-01  0.004401  0.005657  0.014571  0.002312  0.006990 -0.005806   \n",
       "...              ...       ...       ...       ...       ...       ...   \n",
       "2024-08-01  0.008833  0.005710  0.007915  0.013542  0.007772  0.009526   \n",
       "2024-09-01  0.008951  0.006542  0.007528  0.011483  0.007762  0.008469   \n",
       "2024-10-01  0.010076  0.006542  0.007585  0.012143  0.008452  0.009469   \n",
       "2024-11-01  0.010181  0.007679  0.008899  0.008909  0.008452  0.008469   \n",
       "2024-12-01  0.010141  0.006237  0.009674  0.013640  0.010524  0.008939   \n",
       "\n",
       "portfolio    ME2 BM2   ME2 BM3   ME2 BM4   ME2 BM5  ...   ME4 BM1   ME4 BM2  \\\n",
       "date                                                ...                       \n",
       "1970-03-01  0.014590  0.003290  0.007369  0.012767  ...  0.011473 -0.000271   \n",
       "1970-04-01 -0.000239 -0.002348  0.008487  0.010416  ...  0.010999  0.000577   \n",
       "1970-05-01  0.004613 -0.002282  0.006545  0.010743  ...  0.011173 -0.000201   \n",
       "1970-06-01  0.009958 -0.002184  0.005782  0.011170  ...  0.008031 -0.000774   \n",
       "1970-07-01  0.012074  0.007986  0.007156  0.014621  ...  0.005445  0.007443   \n",
       "...              ...       ...       ...       ...  ...       ...       ...   \n",
       "2024-08-01  0.004371  0.011477  0.006299  0.005745  ...  0.009581 -0.001848   \n",
       "2024-09-01  0.008913  0.016179  0.008856  0.006202  ...  0.009293 -0.001916   \n",
       "2024-10-01  0.010989  0.012997  0.007855  0.004625  ...  0.011249 -0.001479   \n",
       "2024-11-01  0.007629  0.013911  0.006834  0.006180  ...  0.009039 -0.001411   \n",
       "2024-12-01  0.007629  0.011308  0.005411  0.006562  ...  0.008610  0.001282   \n",
       "\n",
       "portfolio    ME4 BM3   ME4 BM4   ME4 BM5   ME5 BM2   ME5 BM3   ME5 BM4  \\\n",
       "date                                                                     \n",
       "1970-03-01  0.004492  0.006707  0.004661  0.006349  0.000913  0.002176   \n",
       "1970-04-01  0.006965  0.006465  0.007466  0.007481  0.001394  0.003945   \n",
       "1970-05-01  0.008089  0.006208  0.006839  0.007340  0.001368  0.003724   \n",
       "1970-06-01  0.008979  0.005698  0.007415  0.007204  0.001813  0.003837   \n",
       "1970-07-01  0.010020  0.011081  0.009073  0.008210  0.000234  0.006491   \n",
       "...              ...       ...       ...       ...       ...       ...   \n",
       "2024-08-01  0.009332  0.001543  0.003978  0.003655  0.009802  0.005208   \n",
       "2024-09-01  0.009390  0.000508  0.002950  0.002091  0.009159  0.004643   \n",
       "2024-10-01  0.008644  0.000548  0.003992  0.001591  0.009366  0.005048   \n",
       "2024-11-01  0.007655  0.000548  0.003297  0.001627  0.009366  0.005453   \n",
       "2024-12-01  0.005438 -0.000043  0.004744  0.001373  0.009452  0.006301   \n",
       "\n",
       "portfolio   SMALL HiBM  SMALL LoBM  \n",
       "date                                \n",
       "1970-03-01    0.010611    0.017597  \n",
       "1970-04-01    0.004657    0.000949  \n",
       "1970-05-01    0.006283   -0.003324  \n",
       "1970-06-01    0.006160   -0.003324  \n",
       "1970-07-01    0.000289   -0.007881  \n",
       "...                ...         ...  \n",
       "2024-08-01    0.014567    0.021664  \n",
       "2024-09-01    0.014195    0.016201  \n",
       "2024-10-01    0.014924    0.018524  \n",
       "2024-11-01    0.015289    0.018524  \n",
       "2024-12-01    0.016383    0.020166  \n",
       "\n",
       "[658 rows x 25 columns]"
      ],
      "text/html": [
       "<div>\n",
       "<style scoped>\n",
       "    .dataframe tbody tr th:only-of-type {\n",
       "        vertical-align: middle;\n",
       "    }\n",
       "\n",
       "    .dataframe tbody tr th {\n",
       "        vertical-align: top;\n",
       "    }\n",
       "\n",
       "    .dataframe thead th {\n",
       "        text-align: right;\n",
       "    }\n",
       "</style>\n",
       "<table border=\"1\" class=\"dataframe\">\n",
       "  <thead>\n",
       "    <tr style=\"text-align: right;\">\n",
       "      <th>portfolio</th>\n",
       "      <th>BIG HiBM</th>\n",
       "      <th>BIG LoBM</th>\n",
       "      <th>ME1 BM2</th>\n",
       "      <th>ME1 BM3</th>\n",
       "      <th>ME1 BM4</th>\n",
       "      <th>ME2 BM1</th>\n",
       "      <th>ME2 BM2</th>\n",
       "      <th>ME2 BM3</th>\n",
       "      <th>ME2 BM4</th>\n",
       "      <th>ME2 BM5</th>\n",
       "      <th>...</th>\n",
       "      <th>ME4 BM1</th>\n",
       "      <th>ME4 BM2</th>\n",
       "      <th>ME4 BM3</th>\n",
       "      <th>ME4 BM4</th>\n",
       "      <th>ME4 BM5</th>\n",
       "      <th>ME5 BM2</th>\n",
       "      <th>ME5 BM3</th>\n",
       "      <th>ME5 BM4</th>\n",
       "      <th>SMALL HiBM</th>\n",
       "      <th>SMALL LoBM</th>\n",
       "    </tr>\n",
       "    <tr>\n",
       "      <th>date</th>\n",
       "      <th></th>\n",
       "      <th></th>\n",
       "      <th></th>\n",
       "      <th></th>\n",
       "      <th></th>\n",
       "      <th></th>\n",
       "      <th></th>\n",
       "      <th></th>\n",
       "      <th></th>\n",
       "      <th></th>\n",
       "      <th></th>\n",
       "      <th></th>\n",
       "      <th></th>\n",
       "      <th></th>\n",
       "      <th></th>\n",
       "      <th></th>\n",
       "      <th></th>\n",
       "      <th></th>\n",
       "      <th></th>\n",
       "      <th></th>\n",
       "      <th></th>\n",
       "    </tr>\n",
       "  </thead>\n",
       "  <tbody>\n",
       "    <tr>\n",
       "      <th>1970-03-01</th>\n",
       "      <td>0.001139</td>\n",
       "      <td>0.003304</td>\n",
       "      <td>0.017338</td>\n",
       "      <td>0.007017</td>\n",
       "      <td>0.006025</td>\n",
       "      <td>0.011901</td>\n",
       "      <td>0.014590</td>\n",
       "      <td>0.003290</td>\n",
       "      <td>0.007369</td>\n",
       "      <td>0.012767</td>\n",
       "      <td>...</td>\n",
       "      <td>0.011473</td>\n",
       "      <td>-0.000271</td>\n",
       "      <td>0.004492</td>\n",
       "      <td>0.006707</td>\n",
       "      <td>0.004661</td>\n",
       "      <td>0.006349</td>\n",
       "      <td>0.000913</td>\n",
       "      <td>0.002176</td>\n",
       "      <td>0.010611</td>\n",
       "      <td>0.017597</td>\n",
       "    </tr>\n",
       "    <tr>\n",
       "      <th>1970-04-01</th>\n",
       "      <td>-0.003516</td>\n",
       "      <td>0.002359</td>\n",
       "      <td>0.010839</td>\n",
       "      <td>0.004047</td>\n",
       "      <td>0.003416</td>\n",
       "      <td>0.001290</td>\n",
       "      <td>-0.000239</td>\n",
       "      <td>-0.002348</td>\n",
       "      <td>0.008487</td>\n",
       "      <td>0.010416</td>\n",
       "      <td>...</td>\n",
       "      <td>0.010999</td>\n",
       "      <td>0.000577</td>\n",
       "      <td>0.006965</td>\n",
       "      <td>0.006465</td>\n",
       "      <td>0.007466</td>\n",
       "      <td>0.007481</td>\n",
       "      <td>0.001394</td>\n",
       "      <td>0.003945</td>\n",
       "      <td>0.004657</td>\n",
       "      <td>0.000949</td>\n",
       "    </tr>\n",
       "    <tr>\n",
       "      <th>1970-05-01</th>\n",
       "      <td>-0.004920</td>\n",
       "      <td>0.001223</td>\n",
       "      <td>0.010891</td>\n",
       "      <td>0.003185</td>\n",
       "      <td>0.004534</td>\n",
       "      <td>-0.008150</td>\n",
       "      <td>0.004613</td>\n",
       "      <td>-0.002282</td>\n",
       "      <td>0.006545</td>\n",
       "      <td>0.010743</td>\n",
       "      <td>...</td>\n",
       "      <td>0.011173</td>\n",
       "      <td>-0.000201</td>\n",
       "      <td>0.008089</td>\n",
       "      <td>0.006208</td>\n",
       "      <td>0.006839</td>\n",
       "      <td>0.007340</td>\n",
       "      <td>0.001368</td>\n",
       "      <td>0.003724</td>\n",
       "      <td>0.006283</td>\n",
       "      <td>-0.003324</td>\n",
       "    </tr>\n",
       "    <tr>\n",
       "      <th>1970-06-01</th>\n",
       "      <td>-0.003377</td>\n",
       "      <td>0.001223</td>\n",
       "      <td>0.010942</td>\n",
       "      <td>0.003854</td>\n",
       "      <td>0.004454</td>\n",
       "      <td>-0.008093</td>\n",
       "      <td>0.009958</td>\n",
       "      <td>-0.002184</td>\n",
       "      <td>0.005782</td>\n",
       "      <td>0.011170</td>\n",
       "      <td>...</td>\n",
       "      <td>0.008031</td>\n",
       "      <td>-0.000774</td>\n",
       "      <td>0.008979</td>\n",
       "      <td>0.005698</td>\n",
       "      <td>0.007415</td>\n",
       "      <td>0.007204</td>\n",
       "      <td>0.001813</td>\n",
       "      <td>0.003837</td>\n",
       "      <td>0.006160</td>\n",
       "      <td>-0.003324</td>\n",
       "    </tr>\n",
       "    <tr>\n",
       "      <th>1970-07-01</th>\n",
       "      <td>0.004401</td>\n",
       "      <td>0.005657</td>\n",
       "      <td>0.014571</td>\n",
       "      <td>0.002312</td>\n",
       "      <td>0.006990</td>\n",
       "      <td>-0.005806</td>\n",
       "      <td>0.012074</td>\n",
       "      <td>0.007986</td>\n",
       "      <td>0.007156</td>\n",
       "      <td>0.014621</td>\n",
       "      <td>...</td>\n",
       "      <td>0.005445</td>\n",
       "      <td>0.007443</td>\n",
       "      <td>0.010020</td>\n",
       "      <td>0.011081</td>\n",
       "      <td>0.009073</td>\n",
       "      <td>0.008210</td>\n",
       "      <td>0.000234</td>\n",
       "      <td>0.006491</td>\n",
       "      <td>0.000289</td>\n",
       "      <td>-0.007881</td>\n",
       "    </tr>\n",
       "    <tr>\n",
       "      <th>...</th>\n",
       "      <td>...</td>\n",
       "      <td>...</td>\n",
       "      <td>...</td>\n",
       "      <td>...</td>\n",
       "      <td>...</td>\n",
       "      <td>...</td>\n",
       "      <td>...</td>\n",
       "      <td>...</td>\n",
       "      <td>...</td>\n",
       "      <td>...</td>\n",
       "      <td>...</td>\n",
       "      <td>...</td>\n",
       "      <td>...</td>\n",
       "      <td>...</td>\n",
       "      <td>...</td>\n",
       "      <td>...</td>\n",
       "      <td>...</td>\n",
       "      <td>...</td>\n",
       "      <td>...</td>\n",
       "      <td>...</td>\n",
       "      <td>...</td>\n",
       "    </tr>\n",
       "    <tr>\n",
       "      <th>2024-08-01</th>\n",
       "      <td>0.008833</td>\n",
       "      <td>0.005710</td>\n",
       "      <td>0.007915</td>\n",
       "      <td>0.013542</td>\n",
       "      <td>0.007772</td>\n",
       "      <td>0.009526</td>\n",
       "      <td>0.004371</td>\n",
       "      <td>0.011477</td>\n",
       "      <td>0.006299</td>\n",
       "      <td>0.005745</td>\n",
       "      <td>...</td>\n",
       "      <td>0.009581</td>\n",
       "      <td>-0.001848</td>\n",
       "      <td>0.009332</td>\n",
       "      <td>0.001543</td>\n",
       "      <td>0.003978</td>\n",
       "      <td>0.003655</td>\n",
       "      <td>0.009802</td>\n",
       "      <td>0.005208</td>\n",
       "      <td>0.014567</td>\n",
       "      <td>0.021664</td>\n",
       "    </tr>\n",
       "    <tr>\n",
       "      <th>2024-09-01</th>\n",
       "      <td>0.008951</td>\n",
       "      <td>0.006542</td>\n",
       "      <td>0.007528</td>\n",
       "      <td>0.011483</td>\n",
       "      <td>0.007762</td>\n",
       "      <td>0.008469</td>\n",
       "      <td>0.008913</td>\n",
       "      <td>0.016179</td>\n",
       "      <td>0.008856</td>\n",
       "      <td>0.006202</td>\n",
       "      <td>...</td>\n",
       "      <td>0.009293</td>\n",
       "      <td>-0.001916</td>\n",
       "      <td>0.009390</td>\n",
       "      <td>0.000508</td>\n",
       "      <td>0.002950</td>\n",
       "      <td>0.002091</td>\n",
       "      <td>0.009159</td>\n",
       "      <td>0.004643</td>\n",
       "      <td>0.014195</td>\n",
       "      <td>0.016201</td>\n",
       "    </tr>\n",
       "    <tr>\n",
       "      <th>2024-10-01</th>\n",
       "      <td>0.010076</td>\n",
       "      <td>0.006542</td>\n",
       "      <td>0.007585</td>\n",
       "      <td>0.012143</td>\n",
       "      <td>0.008452</td>\n",
       "      <td>0.009469</td>\n",
       "      <td>0.010989</td>\n",
       "      <td>0.012997</td>\n",
       "      <td>0.007855</td>\n",
       "      <td>0.004625</td>\n",
       "      <td>...</td>\n",
       "      <td>0.011249</td>\n",
       "      <td>-0.001479</td>\n",
       "      <td>0.008644</td>\n",
       "      <td>0.000548</td>\n",
       "      <td>0.003992</td>\n",
       "      <td>0.001591</td>\n",
       "      <td>0.009366</td>\n",
       "      <td>0.005048</td>\n",
       "      <td>0.014924</td>\n",
       "      <td>0.018524</td>\n",
       "    </tr>\n",
       "    <tr>\n",
       "      <th>2024-11-01</th>\n",
       "      <td>0.010181</td>\n",
       "      <td>0.007679</td>\n",
       "      <td>0.008899</td>\n",
       "      <td>0.008909</td>\n",
       "      <td>0.008452</td>\n",
       "      <td>0.008469</td>\n",
       "      <td>0.007629</td>\n",
       "      <td>0.013911</td>\n",
       "      <td>0.006834</td>\n",
       "      <td>0.006180</td>\n",
       "      <td>...</td>\n",
       "      <td>0.009039</td>\n",
       "      <td>-0.001411</td>\n",
       "      <td>0.007655</td>\n",
       "      <td>0.000548</td>\n",
       "      <td>0.003297</td>\n",
       "      <td>0.001627</td>\n",
       "      <td>0.009366</td>\n",
       "      <td>0.005453</td>\n",
       "      <td>0.015289</td>\n",
       "      <td>0.018524</td>\n",
       "    </tr>\n",
       "    <tr>\n",
       "      <th>2024-12-01</th>\n",
       "      <td>0.010141</td>\n",
       "      <td>0.006237</td>\n",
       "      <td>0.009674</td>\n",
       "      <td>0.013640</td>\n",
       "      <td>0.010524</td>\n",
       "      <td>0.008939</td>\n",
       "      <td>0.007629</td>\n",
       "      <td>0.011308</td>\n",
       "      <td>0.005411</td>\n",
       "      <td>0.006562</td>\n",
       "      <td>...</td>\n",
       "      <td>0.008610</td>\n",
       "      <td>0.001282</td>\n",
       "      <td>0.005438</td>\n",
       "      <td>-0.000043</td>\n",
       "      <td>0.004744</td>\n",
       "      <td>0.001373</td>\n",
       "      <td>0.009452</td>\n",
       "      <td>0.006301</td>\n",
       "      <td>0.016383</td>\n",
       "      <td>0.020166</td>\n",
       "    </tr>\n",
       "  </tbody>\n",
       "</table>\n",
       "<p>658 rows × 25 columns</p>\n",
       "</div>"
      ]
     },
     "execution_count": 48,
     "metadata": {},
     "output_type": "execute_result"
    }
   ],
   "execution_count": 48
  },
  {
   "cell_type": "code",
   "id": "c7e36ecfa2fe9453",
   "metadata": {
    "ExecuteTime": {
     "end_time": "2025-08-07T18:23:26.807156Z",
     "start_time": "2025-08-07T18:23:26.691802Z"
    }
   },
   "source": [
    "from wufam.ap.ipca_factor_model import IPCAFactorModel\n",
    "\n",
    "ipca = IPCAFactorModel(n_factors=4, fit_alpha=True)\n",
    "ipca.fit(test_assets_xs_r=multi_df[\"ret\"], ranks=rank)\n",
    "ipca.predict(rank)"
   ],
   "outputs": [
    {
     "name": "stderr",
     "output_type": "stream",
     "text": [
      "[========================================================================] 100%\r"
     ]
    },
    {
     "name": "stdout",
     "output_type": "stream",
     "text": [
      "The panel dimensions are:\n",
      "n_samples: 658 , L: 6 , T: 25\n",
      "Step 1 - Aggregate Update: 1.2847604010423386\n",
      "Step 2 - Aggregate Update: 1.36514200118227\n",
      "Step 3 - Aggregate Update: 0.21907709322944346\n",
      "Step 4 - Aggregate Update: 1.366458824226379\n",
      "Step 5 - Aggregate Update: 0.09880291092363291\n",
      "Step 6 - Aggregate Update: 0.07511242001883511\n",
      "Step 7 - Aggregate Update: 0.07118658992799765\n",
      "Step 8 - Aggregate Update: 0.057724841047955666\n",
      "Step 9 - Aggregate Update: 0.03534980091807044\n",
      "Step 10 - Aggregate Update: 0.026754696817294185\n",
      "Step 11 - Aggregate Update: 0.02461605594176744\n",
      "Step 12 - Aggregate Update: 0.022463640286327927\n",
      "Step 13 - Aggregate Update: 1.7404326972868307\n",
      "Step 14 - Aggregate Update: 0.018858982162414772\n",
      "Step 15 - Aggregate Update: 0.01747994266951533\n",
      "Step 16 - Aggregate Update: 0.01635784671516466\n",
      "Step 17 - Aggregate Update: 0.015458241497643604\n",
      "Step 18 - Aggregate Update: 0.014746706882474259\n",
      "Step 19 - Aggregate Update: 0.014192070731775391\n",
      "Step 20 - Aggregate Update: 0.01376712708548461\n",
      "Step 21 - Aggregate Update: 1.6634135710294\n",
      "Step 22 - Aggregate Update: 0.013214682222278895\n",
      "Step 23 - Aggregate Update: 0.01304750987123221\n",
      "Step 24 - Aggregate Update: 0.012928984846506397\n",
      "Step 25 - Aggregate Update: 0.012841765094200486\n",
      "Step 26 - Aggregate Update: 0.012768439686181576\n",
      "Step 27 - Aggregate Update: 0.012691296971967803\n",
      "Step 28 - Aggregate Update: 0.012592413829819793\n",
      "Step 29 - Aggregate Update: 0.012454119959289356\n",
      "Step 30 - Aggregate Update: 0.012259856063742303\n",
      "Step 31 - Aggregate Update: 0.01199537640016185\n",
      "Step 32 - Aggregate Update: 0.011650149243097596\n",
      "Step 33 - Aggregate Update: 0.011218706831976288\n",
      "Step 34 - Aggregate Update: 0.01070163078715286\n",
      "Step 35 - Aggregate Update: 0.010105874867758047\n",
      "Step 36 - Aggregate Update: 0.009565495909977795\n",
      "Step 37 - Aggregate Update: 1.3008440351484865\n",
      "Step 38 - Aggregate Update: 0.009149040660953345\n",
      "Step 39 - Aggregate Update: 0.00879286912629107\n",
      "Step 40 - Aggregate Update: 0.008355913501555734\n",
      "Step 41 - Aggregate Update: 0.007855650449420826\n",
      "Step 42 - Aggregate Update: 0.007310863887592167\n",
      "Step 43 - Aggregate Update: 0.006740100268330496\n",
      "Step 44 - Aggregate Update: 0.006160425124869473\n",
      "Step 45 - Aggregate Update: 0.005586572769814779\n",
      "Step 46 - Aggregate Update: 0.005030495598572493\n",
      "Step 47 - Aggregate Update: 0.004501258150353182\n",
      "Step 48 - Aggregate Update: 0.004005189267668241\n",
      "Step 49 - Aggregate Update: 0.0035461994165141286\n",
      "Step 50 - Aggregate Update: 0.003126181018537122\n",
      "Step 51 - Aggregate Update: 0.002745428701413366\n",
      "-- Convergence Reached --\n"
     ]
    },
    {
     "name": "stderr",
     "output_type": "stream",
     "text": [
      "\n"
     ]
    },
    {
     "data": {
      "text/plain": [
       "portfolio   BIG HiBM  BIG LoBM   ME1 BM2   ME1 BM3   ME1 BM4   ME2 BM1  \\\n",
       "date                                                                     \n",
       "1970-03-01  0.001243  0.003379  0.017270  0.007028  0.006030  0.011882   \n",
       "1970-04-01 -0.003427  0.002322  0.010786  0.004093  0.003416  0.001268   \n",
       "1970-05-01 -0.004816  0.001186  0.010835  0.003230  0.004598 -0.008176   \n",
       "1970-06-01 -0.003257  0.001186  0.010885  0.003888  0.004497 -0.008120   \n",
       "1970-07-01  0.004339  0.005609  0.014523  0.002402  0.007168 -0.005824   \n",
       "...              ...       ...       ...       ...       ...       ...   \n",
       "2024-08-01  0.008803  0.005856  0.007925  0.013457  0.007585  0.009508   \n",
       "2024-09-01  0.008919  0.006670  0.007542  0.011400  0.007573  0.008449   \n",
       "2024-10-01  0.010032  0.006670  0.007587  0.012060  0.008260  0.009453   \n",
       "2024-11-01  0.010122  0.007806  0.008892  0.008837  0.008260  0.008449   \n",
       "2024-12-01  0.010103  0.006349  0.009657  0.013558  0.010321  0.008919   \n",
       "\n",
       "portfolio    ME2 BM2   ME2 BM3   ME2 BM4   ME2 BM5  ...   ME4 BM1   ME4 BM2  \\\n",
       "date                                                ...                       \n",
       "1970-03-01  0.014626  0.003270  0.007356  0.012834  ...  0.011460 -0.000156   \n",
       "1970-04-01 -0.000207 -0.002423  0.008490  0.010474  ...  0.010966  0.000727   \n",
       "1970-05-01  0.004657 -0.002360  0.006524  0.010790  ...  0.011154 -0.000053   \n",
       "1970-06-01  0.010015 -0.002267  0.005755  0.011220  ...  0.008019 -0.000637   \n",
       "1970-07-01  0.012092  0.007926  0.007181  0.014678  ...  0.005460  0.007496   \n",
       "...              ...       ...       ...       ...  ...       ...       ...   \n",
       "2024-08-01  0.004359  0.011609  0.006302  0.005655  ...  0.009538 -0.001861   \n",
       "2024-09-01  0.008938  0.016316  0.008888  0.006115  ...  0.009264 -0.001926   \n",
       "2024-10-01  0.011037  0.013139  0.007907  0.004524  ...  0.011218 -0.001481   \n",
       "2024-11-01  0.007668  0.014054  0.006880  0.006053  ...  0.009029 -0.001416   \n",
       "2024-12-01  0.007668  0.011434  0.005463  0.006446  ...  0.008593  0.001251   \n",
       "\n",
       "portfolio    ME4 BM3   ME4 BM4   ME4 BM5   ME5 BM2   ME5 BM3   ME5 BM4  \\\n",
       "date                                                                     \n",
       "1970-03-01  0.004460  0.006706  0.004687  0.006328  0.001021  0.002154   \n",
       "1970-04-01  0.006957  0.006454  0.007438  0.007489  0.001487  0.003915   \n",
       "1970-05-01  0.008100  0.006196  0.006801  0.007356  0.001453  0.003698   \n",
       "1970-06-01  0.008993  0.005687  0.007362  0.007213  0.001901  0.003810   \n",
       "1970-07-01  0.010106  0.011083  0.008981  0.008221  0.000282  0.006475   \n",
       "...              ...       ...       ...       ...       ...       ...   \n",
       "2024-08-01  0.009378  0.001571  0.004041  0.003645  0.009766  0.005263   \n",
       "2024-09-01  0.009428  0.000530  0.003013  0.002081  0.009117  0.004692   \n",
       "2024-10-01  0.008682  0.000578  0.004041  0.001587  0.009327  0.005097   \n",
       "2024-11-01  0.007692  0.000578  0.003345  0.001617  0.009327  0.005502   \n",
       "2024-12-01  0.005471 -0.000016  0.004754  0.001357  0.009417  0.006350   \n",
       "\n",
       "portfolio   SMALL HiBM  SMALL LoBM  \n",
       "date                                \n",
       "1970-03-01    0.010823    0.017713  \n",
       "1970-04-01    0.004818    0.000938  \n",
       "1970-05-01    0.006500   -0.003325  \n",
       "1970-06-01    0.006383   -0.003325  \n",
       "1970-07-01    0.000400   -0.007908  \n",
       "...                ...         ...  \n",
       "2024-08-01    0.014548    0.021703  \n",
       "2024-09-01    0.014171    0.016242  \n",
       "2024-10-01    0.014907    0.018552  \n",
       "2024-11-01    0.015275    0.018552  \n",
       "2024-12-01    0.016378    0.020189  \n",
       "\n",
       "[658 rows x 25 columns]"
      ],
      "text/html": [
       "<div>\n",
       "<style scoped>\n",
       "    .dataframe tbody tr th:only-of-type {\n",
       "        vertical-align: middle;\n",
       "    }\n",
       "\n",
       "    .dataframe tbody tr th {\n",
       "        vertical-align: top;\n",
       "    }\n",
       "\n",
       "    .dataframe thead th {\n",
       "        text-align: right;\n",
       "    }\n",
       "</style>\n",
       "<table border=\"1\" class=\"dataframe\">\n",
       "  <thead>\n",
       "    <tr style=\"text-align: right;\">\n",
       "      <th>portfolio</th>\n",
       "      <th>BIG HiBM</th>\n",
       "      <th>BIG LoBM</th>\n",
       "      <th>ME1 BM2</th>\n",
       "      <th>ME1 BM3</th>\n",
       "      <th>ME1 BM4</th>\n",
       "      <th>ME2 BM1</th>\n",
       "      <th>ME2 BM2</th>\n",
       "      <th>ME2 BM3</th>\n",
       "      <th>ME2 BM4</th>\n",
       "      <th>ME2 BM5</th>\n",
       "      <th>...</th>\n",
       "      <th>ME4 BM1</th>\n",
       "      <th>ME4 BM2</th>\n",
       "      <th>ME4 BM3</th>\n",
       "      <th>ME4 BM4</th>\n",
       "      <th>ME4 BM5</th>\n",
       "      <th>ME5 BM2</th>\n",
       "      <th>ME5 BM3</th>\n",
       "      <th>ME5 BM4</th>\n",
       "      <th>SMALL HiBM</th>\n",
       "      <th>SMALL LoBM</th>\n",
       "    </tr>\n",
       "    <tr>\n",
       "      <th>date</th>\n",
       "      <th></th>\n",
       "      <th></th>\n",
       "      <th></th>\n",
       "      <th></th>\n",
       "      <th></th>\n",
       "      <th></th>\n",
       "      <th></th>\n",
       "      <th></th>\n",
       "      <th></th>\n",
       "      <th></th>\n",
       "      <th></th>\n",
       "      <th></th>\n",
       "      <th></th>\n",
       "      <th></th>\n",
       "      <th></th>\n",
       "      <th></th>\n",
       "      <th></th>\n",
       "      <th></th>\n",
       "      <th></th>\n",
       "      <th></th>\n",
       "      <th></th>\n",
       "    </tr>\n",
       "  </thead>\n",
       "  <tbody>\n",
       "    <tr>\n",
       "      <th>1970-03-01</th>\n",
       "      <td>0.001243</td>\n",
       "      <td>0.003379</td>\n",
       "      <td>0.017270</td>\n",
       "      <td>0.007028</td>\n",
       "      <td>0.006030</td>\n",
       "      <td>0.011882</td>\n",
       "      <td>0.014626</td>\n",
       "      <td>0.003270</td>\n",
       "      <td>0.007356</td>\n",
       "      <td>0.012834</td>\n",
       "      <td>...</td>\n",
       "      <td>0.011460</td>\n",
       "      <td>-0.000156</td>\n",
       "      <td>0.004460</td>\n",
       "      <td>0.006706</td>\n",
       "      <td>0.004687</td>\n",
       "      <td>0.006328</td>\n",
       "      <td>0.001021</td>\n",
       "      <td>0.002154</td>\n",
       "      <td>0.010823</td>\n",
       "      <td>0.017713</td>\n",
       "    </tr>\n",
       "    <tr>\n",
       "      <th>1970-04-01</th>\n",
       "      <td>-0.003427</td>\n",
       "      <td>0.002322</td>\n",
       "      <td>0.010786</td>\n",
       "      <td>0.004093</td>\n",
       "      <td>0.003416</td>\n",
       "      <td>0.001268</td>\n",
       "      <td>-0.000207</td>\n",
       "      <td>-0.002423</td>\n",
       "      <td>0.008490</td>\n",
       "      <td>0.010474</td>\n",
       "      <td>...</td>\n",
       "      <td>0.010966</td>\n",
       "      <td>0.000727</td>\n",
       "      <td>0.006957</td>\n",
       "      <td>0.006454</td>\n",
       "      <td>0.007438</td>\n",
       "      <td>0.007489</td>\n",
       "      <td>0.001487</td>\n",
       "      <td>0.003915</td>\n",
       "      <td>0.004818</td>\n",
       "      <td>0.000938</td>\n",
       "    </tr>\n",
       "    <tr>\n",
       "      <th>1970-05-01</th>\n",
       "      <td>-0.004816</td>\n",
       "      <td>0.001186</td>\n",
       "      <td>0.010835</td>\n",
       "      <td>0.003230</td>\n",
       "      <td>0.004598</td>\n",
       "      <td>-0.008176</td>\n",
       "      <td>0.004657</td>\n",
       "      <td>-0.002360</td>\n",
       "      <td>0.006524</td>\n",
       "      <td>0.010790</td>\n",
       "      <td>...</td>\n",
       "      <td>0.011154</td>\n",
       "      <td>-0.000053</td>\n",
       "      <td>0.008100</td>\n",
       "      <td>0.006196</td>\n",
       "      <td>0.006801</td>\n",
       "      <td>0.007356</td>\n",
       "      <td>0.001453</td>\n",
       "      <td>0.003698</td>\n",
       "      <td>0.006500</td>\n",
       "      <td>-0.003325</td>\n",
       "    </tr>\n",
       "    <tr>\n",
       "      <th>1970-06-01</th>\n",
       "      <td>-0.003257</td>\n",
       "      <td>0.001186</td>\n",
       "      <td>0.010885</td>\n",
       "      <td>0.003888</td>\n",
       "      <td>0.004497</td>\n",
       "      <td>-0.008120</td>\n",
       "      <td>0.010015</td>\n",
       "      <td>-0.002267</td>\n",
       "      <td>0.005755</td>\n",
       "      <td>0.011220</td>\n",
       "      <td>...</td>\n",
       "      <td>0.008019</td>\n",
       "      <td>-0.000637</td>\n",
       "      <td>0.008993</td>\n",
       "      <td>0.005687</td>\n",
       "      <td>0.007362</td>\n",
       "      <td>0.007213</td>\n",
       "      <td>0.001901</td>\n",
       "      <td>0.003810</td>\n",
       "      <td>0.006383</td>\n",
       "      <td>-0.003325</td>\n",
       "    </tr>\n",
       "    <tr>\n",
       "      <th>1970-07-01</th>\n",
       "      <td>0.004339</td>\n",
       "      <td>0.005609</td>\n",
       "      <td>0.014523</td>\n",
       "      <td>0.002402</td>\n",
       "      <td>0.007168</td>\n",
       "      <td>-0.005824</td>\n",
       "      <td>0.012092</td>\n",
       "      <td>0.007926</td>\n",
       "      <td>0.007181</td>\n",
       "      <td>0.014678</td>\n",
       "      <td>...</td>\n",
       "      <td>0.005460</td>\n",
       "      <td>0.007496</td>\n",
       "      <td>0.010106</td>\n",
       "      <td>0.011083</td>\n",
       "      <td>0.008981</td>\n",
       "      <td>0.008221</td>\n",
       "      <td>0.000282</td>\n",
       "      <td>0.006475</td>\n",
       "      <td>0.000400</td>\n",
       "      <td>-0.007908</td>\n",
       "    </tr>\n",
       "    <tr>\n",
       "      <th>...</th>\n",
       "      <td>...</td>\n",
       "      <td>...</td>\n",
       "      <td>...</td>\n",
       "      <td>...</td>\n",
       "      <td>...</td>\n",
       "      <td>...</td>\n",
       "      <td>...</td>\n",
       "      <td>...</td>\n",
       "      <td>...</td>\n",
       "      <td>...</td>\n",
       "      <td>...</td>\n",
       "      <td>...</td>\n",
       "      <td>...</td>\n",
       "      <td>...</td>\n",
       "      <td>...</td>\n",
       "      <td>...</td>\n",
       "      <td>...</td>\n",
       "      <td>...</td>\n",
       "      <td>...</td>\n",
       "      <td>...</td>\n",
       "      <td>...</td>\n",
       "    </tr>\n",
       "    <tr>\n",
       "      <th>2024-08-01</th>\n",
       "      <td>0.008803</td>\n",
       "      <td>0.005856</td>\n",
       "      <td>0.007925</td>\n",
       "      <td>0.013457</td>\n",
       "      <td>0.007585</td>\n",
       "      <td>0.009508</td>\n",
       "      <td>0.004359</td>\n",
       "      <td>0.011609</td>\n",
       "      <td>0.006302</td>\n",
       "      <td>0.005655</td>\n",
       "      <td>...</td>\n",
       "      <td>0.009538</td>\n",
       "      <td>-0.001861</td>\n",
       "      <td>0.009378</td>\n",
       "      <td>0.001571</td>\n",
       "      <td>0.004041</td>\n",
       "      <td>0.003645</td>\n",
       "      <td>0.009766</td>\n",
       "      <td>0.005263</td>\n",
       "      <td>0.014548</td>\n",
       "      <td>0.021703</td>\n",
       "    </tr>\n",
       "    <tr>\n",
       "      <th>2024-09-01</th>\n",
       "      <td>0.008919</td>\n",
       "      <td>0.006670</td>\n",
       "      <td>0.007542</td>\n",
       "      <td>0.011400</td>\n",
       "      <td>0.007573</td>\n",
       "      <td>0.008449</td>\n",
       "      <td>0.008938</td>\n",
       "      <td>0.016316</td>\n",
       "      <td>0.008888</td>\n",
       "      <td>0.006115</td>\n",
       "      <td>...</td>\n",
       "      <td>0.009264</td>\n",
       "      <td>-0.001926</td>\n",
       "      <td>0.009428</td>\n",
       "      <td>0.000530</td>\n",
       "      <td>0.003013</td>\n",
       "      <td>0.002081</td>\n",
       "      <td>0.009117</td>\n",
       "      <td>0.004692</td>\n",
       "      <td>0.014171</td>\n",
       "      <td>0.016242</td>\n",
       "    </tr>\n",
       "    <tr>\n",
       "      <th>2024-10-01</th>\n",
       "      <td>0.010032</td>\n",
       "      <td>0.006670</td>\n",
       "      <td>0.007587</td>\n",
       "      <td>0.012060</td>\n",
       "      <td>0.008260</td>\n",
       "      <td>0.009453</td>\n",
       "      <td>0.011037</td>\n",
       "      <td>0.013139</td>\n",
       "      <td>0.007907</td>\n",
       "      <td>0.004524</td>\n",
       "      <td>...</td>\n",
       "      <td>0.011218</td>\n",
       "      <td>-0.001481</td>\n",
       "      <td>0.008682</td>\n",
       "      <td>0.000578</td>\n",
       "      <td>0.004041</td>\n",
       "      <td>0.001587</td>\n",
       "      <td>0.009327</td>\n",
       "      <td>0.005097</td>\n",
       "      <td>0.014907</td>\n",
       "      <td>0.018552</td>\n",
       "    </tr>\n",
       "    <tr>\n",
       "      <th>2024-11-01</th>\n",
       "      <td>0.010122</td>\n",
       "      <td>0.007806</td>\n",
       "      <td>0.008892</td>\n",
       "      <td>0.008837</td>\n",
       "      <td>0.008260</td>\n",
       "      <td>0.008449</td>\n",
       "      <td>0.007668</td>\n",
       "      <td>0.014054</td>\n",
       "      <td>0.006880</td>\n",
       "      <td>0.006053</td>\n",
       "      <td>...</td>\n",
       "      <td>0.009029</td>\n",
       "      <td>-0.001416</td>\n",
       "      <td>0.007692</td>\n",
       "      <td>0.000578</td>\n",
       "      <td>0.003345</td>\n",
       "      <td>0.001617</td>\n",
       "      <td>0.009327</td>\n",
       "      <td>0.005502</td>\n",
       "      <td>0.015275</td>\n",
       "      <td>0.018552</td>\n",
       "    </tr>\n",
       "    <tr>\n",
       "      <th>2024-12-01</th>\n",
       "      <td>0.010103</td>\n",
       "      <td>0.006349</td>\n",
       "      <td>0.009657</td>\n",
       "      <td>0.013558</td>\n",
       "      <td>0.010321</td>\n",
       "      <td>0.008919</td>\n",
       "      <td>0.007668</td>\n",
       "      <td>0.011434</td>\n",
       "      <td>0.005463</td>\n",
       "      <td>0.006446</td>\n",
       "      <td>...</td>\n",
       "      <td>0.008593</td>\n",
       "      <td>0.001251</td>\n",
       "      <td>0.005471</td>\n",
       "      <td>-0.000016</td>\n",
       "      <td>0.004754</td>\n",
       "      <td>0.001357</td>\n",
       "      <td>0.009417</td>\n",
       "      <td>0.006350</td>\n",
       "      <td>0.016378</td>\n",
       "      <td>0.020189</td>\n",
       "    </tr>\n",
       "  </tbody>\n",
       "</table>\n",
       "<p>658 rows × 25 columns</p>\n",
       "</div>"
      ]
     },
     "execution_count": 49,
     "metadata": {},
     "output_type": "execute_result"
    }
   ],
   "execution_count": 49
  },
  {
   "cell_type": "code",
   "id": "59597a06fde38168",
   "metadata": {
    "ExecuteTime": {
     "end_time": "2025-08-07T18:23:26.955856Z",
     "start_time": "2025-08-07T18:23:26.943345Z"
    }
   },
   "source": [
    "ret_true = pd.pivot_table(\n",
    "    multi_df[[\"ret\"]], index=\"date\", columns=\"portfolio\", values=\"ret\"\n",
    ")\n",
    "ret_true.shape"
   ],
   "outputs": [
    {
     "data": {
      "text/plain": [
       "(658, 25)"
      ]
     },
     "execution_count": 50,
     "metadata": {},
     "output_type": "execute_result"
    }
   ],
   "execution_count": 50
  },
  {
   "cell_type": "code",
   "id": "fdad564fefada5d9",
   "metadata": {
    "ExecuteTime": {
     "end_time": "2025-08-07T18:23:27.015972Z",
     "start_time": "2025-08-07T18:23:26.977384Z"
    }
   },
   "source": [
    "ipca.r2_score(ret_true, rank)"
   ],
   "outputs": [
    {
     "data": {
      "text/plain": [
       "np.float64(0.9182703336342888)"
      ]
     },
     "execution_count": 51,
     "metadata": {},
     "output_type": "execute_result"
    }
   ],
   "execution_count": 51
  },
  {
   "cell_type": "code",
   "id": "ff5313b51c54f30d",
   "metadata": {
    "ExecuteTime": {
     "end_time": "2025-08-07T18:23:27.030543Z",
     "start_time": "2025-08-07T18:23:27.022133Z"
    }
   },
   "source": [
    "split_date = portfolios_xs_r.index[len(portfolios_xs_r) // 2]"
   ],
   "outputs": [],
   "execution_count": 52
  },
  {
   "cell_type": "code",
   "id": "be2c4bcbe4ea550f",
   "metadata": {
    "ExecuteTime": {
     "end_time": "2025-08-07T18:23:27.111022Z",
     "start_time": "2025-08-07T18:23:27.033701Z"
    }
   },
   "source": [
    "ipca = IPCAFactorModel(n_factors=3, fit_alpha=False)\n",
    "ipca.fit(\n",
    "    test_assets_xs_r=multi_df[\"ret\"].loc[:split_date, :],\n",
    "    ranks=rank.loc[:split_date, :, :],\n",
    ")\n",
    "ret_true = pd.pivot_table(\n",
    "    multi_df[[\"ret\"]].loc[split_date:, :],\n",
    "    index=\"date\",\n",
    "    columns=\"portfolio\",\n",
    "    values=\"ret\",\n",
    ")\n",
    "ipca.r2_score(ret_true, rank.loc[split_date:, :])"
   ],
   "outputs": [
    {
     "name": "stderr",
     "output_type": "stream",
     "text": [
      "[========================================================================] 100%\r"
     ]
    },
    {
     "name": "stdout",
     "output_type": "stream",
     "text": [
      "The panel dimensions are:\n",
      "n_samples: 329 , L: 6 , T: 25\n",
      "Step 1 - Aggregate Update: 1.095359530447005\n",
      "Step 2 - Aggregate Update: 0.28980346190252215\n",
      "Step 3 - Aggregate Update: 1.3358570868321888\n",
      "Step 4 - Aggregate Update: 0.09903500584279235\n",
      "Step 5 - Aggregate Update: 0.05689990391999439\n",
      "Step 6 - Aggregate Update: 0.036658580602998814\n",
      "Step 7 - Aggregate Update: 0.027505289447774167\n",
      "Step 8 - Aggregate Update: 0.0242133581807078\n",
      "Step 9 - Aggregate Update: 0.022577111027432428\n",
      "Step 10 - Aggregate Update: 0.020301507627301596\n",
      "Step 11 - Aggregate Update: 0.017709627171586917\n",
      "Step 12 - Aggregate Update: 0.015133671116374314\n",
      "Step 13 - Aggregate Update: 0.012803817328389644\n",
      "Step 14 - Aggregate Update: 0.010828848834165461\n",
      "Step 15 - Aggregate Update: 0.009227228591187908\n",
      "Step 16 - Aggregate Update: 0.007966828375264412\n",
      "Step 17 - Aggregate Update: 0.006994868603832749\n",
      "Step 18 - Aggregate Update: 0.006255518782886882\n",
      "Step 19 - Aggregate Update: 0.005698337093698214\n",
      "Step 20 - Aggregate Update: 0.00528125446762151\n",
      "Step 21 - Aggregate Update: 0.0049707759096234705\n",
      "Step 22 - Aggregate Update: 0.004740988756173514\n",
      "Step 23 - Aggregate Update: 0.004572212487704952\n",
      "Step 24 - Aggregate Update: 0.004449678923936606\n",
      "Step 25 - Aggregate Update: 0.004362394180054963\n",
      "Step 26 - Aggregate Update: 0.004302218120072976\n",
      "Step 27 - Aggregate Update: 0.0042631467593115535\n",
      "Step 28 - Aggregate Update: 0.0042407654602747424\n",
      "Step 29 - Aggregate Update: 0.004231838250499942\n",
      "Step 30 - Aggregate Update: 0.004234002223170885\n",
      "Step 31 - Aggregate Update: 0.004245541473592573\n",
      "Step 32 - Aggregate Update: 0.004265220489262755\n",
      "Step 33 - Aggregate Update: 0.004292161634414704\n",
      "Step 34 - Aggregate Update: 0.004325755180623114\n",
      "Step 35 - Aggregate Update: 0.004365593294835823\n",
      "Step 36 - Aggregate Update: 0.0044114216402219575\n",
      "Step 37 - Aggregate Update: 0.004463103922604572\n",
      "Step 38 - Aggregate Update: 0.004520595955673057\n",
      "Step 39 - Aggregate Update: 0.004583926732856292\n",
      "Step 40 - Aggregate Update: 0.004653184661116638\n",
      "Step 41 - Aggregate Update: 0.004728507603784349\n",
      "Step 42 - Aggregate Update: 0.004810075733705066\n",
      "Step 43 - Aggregate Update: 0.004898106461365237\n",
      "Step 44 - Aggregate Update: 0.00499285088951662\n",
      "Step 45 - Aggregate Update: 0.005094591385040426\n",
      "Step 46 - Aggregate Update: 0.005203639956089745\n",
      "Step 47 - Aggregate Update: 0.005320337194730407\n",
      "Step 48 - Aggregate Update: 0.00544505159330308\n",
      "Step 49 - Aggregate Update: 0.005578179077205897\n",
      "Step 50 - Aggregate Update: 0.005720142617424789\n",
      "Step 51 - Aggregate Update: 0.005871391797839076\n",
      "-- Convergence Reached --\n"
     ]
    },
    {
     "name": "stderr",
     "output_type": "stream",
     "text": [
      "\n"
     ]
    },
    {
     "data": {
      "text/plain": [
       "np.float64(-17.961536510765416)"
      ]
     },
     "execution_count": 53,
     "metadata": {},
     "output_type": "execute_result"
    }
   ],
   "execution_count": 53
  },
  {
   "cell_type": "code",
   "id": "689b2e090b43807d",
   "metadata": {
    "ExecuteTime": {
     "end_time": "2025-08-07T18:23:27.129707Z",
     "start_time": "2025-08-07T18:23:27.115238Z"
    }
   },
   "source": [
    "ipca_total_r = ipca.get_mv_weights(ret_true, rank.loc[split_date:, :])"
   ],
   "outputs": [],
   "execution_count": 54
  },
  {
   "cell_type": "code",
   "id": "c4d2da591e7d07cb",
   "metadata": {
    "ExecuteTime": {
     "end_time": "2025-08-07T18:23:27.140811Z",
     "start_time": "2025-08-07T18:23:27.132454Z"
    }
   },
   "source": [
    "from wufam.metrics.metrics import calc_sharpe\n",
    "\n",
    "calc_sharpe(\n",
    "    strategy_total_r=ipca_total_r,\n",
    "    rf_rate=rf,\n",
    "    factor_annualize=FACTOR_ANNUALIZE,\n",
    ")"
   ],
   "outputs": [
    {
     "data": {
      "text/plain": [
       "-45.46230770109122"
      ]
     },
     "execution_count": 55,
     "metadata": {},
     "output_type": "execute_result"
    }
   ],
   "execution_count": 55
  },
  {
   "cell_type": "code",
   "id": "5c1e1faf4600908e",
   "metadata": {
    "ExecuteTime": {
     "end_time": "2025-08-07T18:23:27.154375Z",
     "start_time": "2025-08-07T18:23:27.145861Z"
    }
   },
   "source": [
    "# from tqdm import tqdm\n",
    "#\n",
    "# r2s = []\n",
    "# for date in portfolios_xs_r.resample(\"ME\").last().index:\n",
    "#     if date >= pd.Timestamp(\"2000-01-01\"):\n",
    "#         ipca = IPCAFactorModel(n_factors=3, fit_alpha=True)\n",
    "#         ipca.fit(test_assets_xs_r=multi_df[\"ret\"].loc[:date, :], ranks=rank.loc[:date, :, :])\n",
    "#         ret_true = pd.pivot_table(multi_df[[\"ret\"]].loc[:date, :], index=\"date\", columns=\"portfolio\", values=\"ret\")\n",
    "#         r2s.append(ipca.r2_score(ret_true.loc[date:], rank.loc[date:, :]))"
   ],
   "outputs": [],
   "execution_count": 56
  },
  {
   "cell_type": "code",
   "id": "c53daa6b8b5cb78e",
   "metadata": {
    "ExecuteTime": {
     "end_time": "2025-08-07T18:23:27.194366Z",
     "start_time": "2025-08-07T18:23:27.192818Z"
    }
   },
   "source": [],
   "outputs": [],
   "execution_count": null
  }
 ],
 "metadata": {
  "kernelspec": {
   "display_name": "Python 3",
   "language": "python",
   "name": "python3"
  },
  "language_info": {
   "codemirror_mode": {
    "name": "ipython",
    "version": 2
   },
   "file_extension": ".py",
   "mimetype": "text/x-python",
   "name": "python",
   "nbconvert_exporter": "python",
   "pygments_lexer": "ipython2",
   "version": "2.7.6"
  }
 },
 "nbformat": 4,
 "nbformat_minor": 5
}
