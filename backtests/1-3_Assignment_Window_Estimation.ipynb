{
 "cells": [
  {
   "cell_type": "code",
   "id": "47ae993bb1d90d3f",
   "metadata": {
    "ExecuteTime": {
     "end_time": "2025-08-06T21:36:05.794923Z",
     "start_time": "2025-08-06T21:36:05.771555Z"
    }
   },
   "source": [
    "from __future__ import annotations\n",
    "\n",
    "%load_ext autoreload\n",
    "%autoreload 2"
   ],
   "outputs": [],
   "execution_count": 1
  },
  {
   "cell_type": "code",
   "id": "initial_id",
   "metadata": {
    "collapsed": true,
    "ExecuteTime": {
     "end_time": "2025-08-06T21:36:05.963260Z",
     "start_time": "2025-08-06T21:36:05.799588Z"
    }
   },
   "source": [
    "from pathlib import Path\n",
    "\n",
    "import numpy as np\n",
    "\n",
    "from wufam.data.prepare_data import read_kf_data\n",
    "from wufam.config.trading_config import TradingConfig\n",
    "from wufam.dataset import Dataset\n",
    "from wufam.strategies.base_strategy import BaseStrategy\n",
    "from wufam.backtest.rolling_backtest import run_rolling_backtest\n",
    "from wufam.metrics.metrics import calc_sharpe\n",
    "\n",
    "PATH = Path(\"../data/kf_data\")\n",
    "START = \"1970-01-01\"\n",
    "END = \"2024-12-31\"\n",
    "DATASET = Dataset.BM_25_D\n",
    "FACTORS_DATASET = Dataset.FACTORS_D\n",
    "WEIGHTING = \"value_weighted\"\n",
    "FACTOR_ANNUALIZE = 252"
   ],
   "outputs": [],
   "execution_count": 2
  },
  {
   "cell_type": "markdown",
   "id": "1ac5790467715af0",
   "metadata": {},
   "source": "## 1.1"
  },
  {
   "cell_type": "code",
   "id": "5f96001686f357d3",
   "metadata": {
    "ExecuteTime": {
     "end_time": "2025-08-06T21:36:06.359736Z",
     "start_time": "2025-08-06T21:36:05.965692Z"
    }
   },
   "source": [
    "portfolios_total_r, portfolios_xs_r, factors_df, rf = read_kf_data(\n",
    "    portfolios_filename=PATH / DATASET,\n",
    "    factors_filename=PATH / FACTORS_DATASET,\n",
    "    start_date=START,\n",
    "    end_date=END,\n",
    "    weighting=WEIGHTING,\n",
    ")"
   ],
   "outputs": [],
   "execution_count": 3
  },
  {
   "cell_type": "code",
   "id": "e1493496e5034b",
   "metadata": {
    "ExecuteTime": {
     "end_time": "2025-08-06T21:36:06.367444Z",
     "start_time": "2025-08-06T21:36:06.362156Z"
    }
   },
   "source": [
    "assert (\n",
    "    portfolios_total_r.shape[0]\n",
    "    == portfolios_xs_r.shape[0]\n",
    "    == factors_df.shape[0]\n",
    "    == rf.shape[0]\n",
    ")"
   ],
   "outputs": [],
   "execution_count": 4
  },
  {
   "cell_type": "markdown",
   "id": "c9ade91a822acaba",
   "metadata": {},
   "source": "## 1.2"
  },
  {
   "cell_type": "code",
   "id": "8ae5c25a3602d864",
   "metadata": {
    "ExecuteTime": {
     "end_time": "2025-08-06T21:36:06.481299Z",
     "start_time": "2025-08-06T21:36:06.369678Z"
    }
   },
   "source": [
    "from wufam.strategies.heuristics.equally_weighted import EWStrategy\n",
    "from wufam.strategies.estimated.mean_var import MeanVariance\n",
    "from wufam.strategies.estimated.min_var import MinVariance\n",
    "\n",
    "trading_config = TradingConfig(total_exposure=1)\n",
    "\n",
    "ew_strategy = EWStrategy()"
   ],
   "outputs": [],
   "execution_count": 5
  },
  {
   "cell_type": "code",
   "id": "c7b79c00b835ef0",
   "metadata": {
    "ExecuteTime": {
     "end_time": "2025-08-06T21:36:06.491055Z",
     "start_time": "2025-08-06T21:36:06.483864Z"
    }
   },
   "source": [
    "from wufam.estimation.mean.sample_mu_estimator import SampleMuEstimator\n",
    "from wufam.estimation.covariance.sample_cov_estimator import SampleCovEstimator\n",
    "\n",
    "mv_strategy = MeanVariance(\n",
    "    mu_estimator=SampleMuEstimator(),\n",
    "    cov_estimator=SampleCovEstimator(),\n",
    "    trading_config=trading_config,\n",
    "    window_size=365,\n",
    ")"
   ],
   "outputs": [],
   "execution_count": 6
  },
  {
   "metadata": {
    "ExecuteTime": {
     "end_time": "2025-08-06T21:36:06.498417Z",
     "start_time": "2025-08-06T21:36:06.493157Z"
    }
   },
   "cell_type": "code",
   "source": [
    "min_var_strategy = MinVariance(\n",
    "    cov_estimator=SampleCovEstimator(),\n",
    "    trading_config=trading_config,\n",
    "    window_size=365,\n",
    ")"
   ],
   "id": "63f83ff0b38e671c",
   "outputs": [],
   "execution_count": 7
  },
  {
   "metadata": {
    "ExecuteTime": {
     "end_time": "2025-08-06T21:36:06.505472Z",
     "start_time": "2025-08-06T21:36:06.500335Z"
    }
   },
   "cell_type": "code",
   "source": [
    "trading_config_min_var = TradingConfig(total_exposure=1, min_exposure=0.0)\n",
    "\n",
    "min_var_c_strategy = MinVariance(\n",
    "    cov_estimator=SampleCovEstimator(),\n",
    "    trading_config=trading_config_min_var,\n",
    "    window_size=365,\n",
    ")"
   ],
   "id": "f513a5493463e8fa",
   "outputs": [],
   "execution_count": 8
  },
  {
   "cell_type": "code",
   "id": "507aeb0c4823af65",
   "metadata": {
    "ExecuteTime": {
     "end_time": "2025-08-06T21:36:06.875019Z",
     "start_time": "2025-08-06T21:36:06.507296Z"
    }
   },
   "source": [
    "from wufam.estimation.covariance.shrinkage.lw_cv_cov_estimator import (\n",
    "    LedoitWolfCVCovEstimator,\n",
    ")\n",
    "\n",
    "min_var_lw_strategy = MinVariance(\n",
    "    cov_estimator=LedoitWolfCVCovEstimator(),\n",
    "    trading_config=trading_config,\n",
    "    window_size=365,\n",
    ")"
   ],
   "outputs": [],
   "execution_count": 9
  },
  {
   "metadata": {
    "ExecuteTime": {
     "end_time": "2025-08-06T21:36:06.886197Z",
     "start_time": "2025-08-06T21:36:06.877489Z"
    }
   },
   "cell_type": "code",
   "source": [
    "from wufam.estimation.covariance.shrinkage.qis import QISCovEstimator\n",
    "\n",
    "min_var_qis_strategy = MinVariance(\n",
    "    cov_estimator=QISCovEstimator(),\n",
    "    trading_config=trading_config,\n",
    "    window_size=365,\n",
    ")"
   ],
   "id": "c90826e2e94a89b2",
   "outputs": [],
   "execution_count": 10
  },
  {
   "metadata": {
    "ExecuteTime": {
     "end_time": "2025-08-06T21:36:06.894206Z",
     "start_time": "2025-08-06T21:36:06.888282Z"
    }
   },
   "cell_type": "code",
   "source": [
    "min_var_lw_cv_strategy = MinVariance(\n",
    "    cov_estimator=LedoitWolfCVCovEstimator(alphas=np.linspace(0.0, 1.0, 100)),\n",
    "    trading_config=trading_config,\n",
    "    window_size=365,\n",
    ")"
   ],
   "id": "83ae013ea4935877",
   "outputs": [],
   "execution_count": 11
  },
  {
   "metadata": {
    "ExecuteTime": {
     "end_time": "2025-08-06T21:36:07.064424Z",
     "start_time": "2025-08-06T21:36:06.896125Z"
    }
   },
   "cell_type": "code",
   "source": [
    "from wufam.estimation.covariance.factor.factor_cov_estimator import FactorCovEstimator\n",
    "from wufam.estimation.covariance.shrinkage.pca_cov_estimator import PCACovEstimator\n",
    "\n",
    "factor_cov_estimator = FactorCovEstimator(\n",
    "    factor_cov_estimator=SampleCovEstimator(),\n",
    "    residual_cov_estimator=PCACovEstimator(),\n",
    "    factors_selection=[\"Mkt-RF\"],\n",
    ")\n",
    "\n",
    "min_var_factor_strategy = MinVariance(\n",
    "    cov_estimator=factor_cov_estimator,\n",
    "    trading_config=trading_config,\n",
    "    window_size=365,\n",
    ")"
   ],
   "id": "a0b150573fae1ff2",
   "outputs": [],
   "execution_count": 12
  },
  {
   "metadata": {
    "ExecuteTime": {
     "end_time": "2025-08-06T21:36:07.075535Z",
     "start_time": "2025-08-06T21:36:07.066907Z"
    }
   },
   "cell_type": "code",
   "source": [
    "def evaluate_strategy(strategy: BaseStrategy) -> tuple[float, float]:\n",
    "    total_r, turnover = run_rolling_backtest(\n",
    "        strategy=strategy,\n",
    "        excess_returns=portfolios_xs_r,\n",
    "        factors=factors_df,\n",
    "        rf=rf,\n",
    "        freq=\"M\",\n",
    "        trading_lag=1,\n",
    "    )\n",
    "\n",
    "    sr = calc_sharpe(\n",
    "        strategy_total_r=total_r,\n",
    "        rf_rate=rf,\n",
    "        factor_annualize=FACTOR_ANNUALIZE,\n",
    "    )\n",
    "\n",
    "    return sr, turnover.iloc[1:].mean()"
   ],
   "id": "cf5783145a8f494e",
   "outputs": [],
   "execution_count": 13
  },
  {
   "metadata": {
    "ExecuteTime": {
     "end_time": "2025-08-06T21:36:08.029732Z",
     "start_time": "2025-08-06T21:36:07.078472Z"
    }
   },
   "cell_type": "code",
   "source": "evaluate_strategy(ew_strategy)",
   "id": "79445cd9cd044573",
   "outputs": [
    {
     "name": "stderr",
     "output_type": "stream",
     "text": [
      "Optimizing Strategy: 100%|██████████| 659/659 [00:00<00:00, 1416.68it/s]\n"
     ]
    },
    {
     "data": {
      "text/plain": [
       "(0.44198649620311253, np.float64(0.017344865113044353))"
      ]
     },
     "execution_count": 14,
     "metadata": {},
     "output_type": "execute_result"
    }
   ],
   "execution_count": 14
  },
  {
   "metadata": {
    "ExecuteTime": {
     "end_time": "2025-08-06T21:36:09.660676Z",
     "start_time": "2025-08-06T21:36:08.060294Z"
    }
   },
   "cell_type": "code",
   "source": "evaluate_strategy(mv_strategy)",
   "id": "3c7373fbef767c8d",
   "outputs": [
    {
     "name": "stderr",
     "output_type": "stream",
     "text": [
      "Optimizing Strategy: 100%|██████████| 659/659 [00:01<00:00, 625.22it/s]\n"
     ]
    },
    {
     "data": {
      "text/plain": [
       "(0.023077991516703287, np.float64(186.51542103379933))"
      ]
     },
     "execution_count": 15,
     "metadata": {},
     "output_type": "execute_result"
    }
   ],
   "execution_count": 15
  },
  {
   "metadata": {
    "ExecuteTime": {
     "end_time": "2025-08-06T21:36:11.163003Z",
     "start_time": "2025-08-06T21:36:09.676374Z"
    }
   },
   "cell_type": "code",
   "source": "evaluate_strategy(min_var_strategy)",
   "id": "c6253f43407b25c",
   "outputs": [
    {
     "name": "stderr",
     "output_type": "stream",
     "text": [
      "Optimizing Strategy: 100%|██████████| 659/659 [00:00<00:00, 666.56it/s]\n"
     ]
    },
    {
     "data": {
      "text/plain": [
       "(0.9921328793030837, np.float64(1.316652275594975))"
      ]
     },
     "execution_count": 16,
     "metadata": {},
     "output_type": "execute_result"
    }
   ],
   "execution_count": 16
  },
  {
   "metadata": {
    "ExecuteTime": {
     "end_time": "2025-08-06T21:36:17.414439Z",
     "start_time": "2025-08-06T21:36:11.173693Z"
    }
   },
   "cell_type": "code",
   "source": "evaluate_strategy(min_var_c_strategy)",
   "id": "b40307b9d30ff1e5",
   "outputs": [
    {
     "name": "stderr",
     "output_type": "stream",
     "text": [
      "Optimizing Strategy: 100%|██████████| 659/659 [00:05<00:00, 114.57it/s]\n"
     ]
    },
    {
     "data": {
      "text/plain": [
       "(0.719614518335151, np.float64(0.22562515871206587))"
      ]
     },
     "execution_count": 17,
     "metadata": {},
     "output_type": "execute_result"
    }
   ],
   "execution_count": 17
  },
  {
   "metadata": {
    "ExecuteTime": {
     "end_time": "2025-08-06T21:36:19.106526Z",
     "start_time": "2025-08-06T21:36:17.429858Z"
    }
   },
   "cell_type": "code",
   "source": "evaluate_strategy(min_var_lw_strategy)",
   "id": "a6569653d35553d9",
   "outputs": [
    {
     "name": "stderr",
     "output_type": "stream",
     "text": [
      "Optimizing Strategy: 100%|██████████| 659/659 [00:01<00:00, 553.09it/s]\n"
     ]
    },
    {
     "data": {
      "text/plain": [
       "(1.227326905475528, np.float64(0.9037496358078545))"
      ]
     },
     "execution_count": 18,
     "metadata": {},
     "output_type": "execute_result"
    }
   ],
   "execution_count": 18
  },
  {
   "metadata": {
    "ExecuteTime": {
     "end_time": "2025-08-06T21:36:35.721374Z",
     "start_time": "2025-08-06T21:36:19.116454Z"
    }
   },
   "cell_type": "code",
   "source": "evaluate_strategy(min_var_factor_strategy)",
   "id": "7d9f9d5563b0443d",
   "outputs": [
    {
     "name": "stderr",
     "output_type": "stream",
     "text": [
      "Optimizing Strategy: 100%|██████████| 659/659 [00:16<00:00, 40.93it/s]\n"
     ]
    },
    {
     "data": {
      "text/plain": [
       "(1.1740884083611147, np.float64(0.9828498585878805))"
      ]
     },
     "execution_count": 19,
     "metadata": {},
     "output_type": "execute_result"
    }
   ],
   "execution_count": 19
  },
  {
   "metadata": {
    "ExecuteTime": {
     "end_time": "2025-08-06T21:36:38.160749Z",
     "start_time": "2025-08-06T21:36:35.745543Z"
    }
   },
   "cell_type": "code",
   "source": "evaluate_strategy(min_var_qis_strategy)",
   "id": "2ab8c47daab66825",
   "outputs": [
    {
     "name": "stderr",
     "output_type": "stream",
     "text": [
      "Optimizing Strategy: 100%|██████████| 659/659 [00:01<00:00, 343.51it/s]\n"
     ]
    },
    {
     "data": {
      "text/plain": [
       "(1.0747897587797615, np.float64(1.5307430135354767))"
      ]
     },
     "execution_count": 20,
     "metadata": {},
     "output_type": "execute_result"
    }
   ],
   "execution_count": 20
  },
  {
   "metadata": {
    "ExecuteTime": {
     "end_time": "2025-08-06T21:39:42.981359Z",
     "start_time": "2025-08-06T21:36:38.177035Z"
    }
   },
   "cell_type": "code",
   "source": "evaluate_strategy(min_var_lw_cv_strategy)",
   "id": "b7487ffa08de9eca",
   "outputs": [
    {
     "name": "stderr",
     "output_type": "stream",
     "text": [
      "Optimizing Strategy: 100%|██████████| 659/659 [03:04<00:00,  3.58it/s]\n"
     ]
    },
    {
     "data": {
      "text/plain": [
       "(1.2091045047694422, np.float64(0.9223255553409698))"
      ]
     },
     "execution_count": 21,
     "metadata": {},
     "output_type": "execute_result"
    }
   ],
   "execution_count": 21
  },
  {
   "metadata": {
    "ExecuteTime": {
     "end_time": "2025-08-06T21:39:43.008798Z",
     "start_time": "2025-08-06T21:39:42.998862Z"
    }
   },
   "cell_type": "code",
   "source": "min_var_lw_cv_strategy.cov_estimator.best_alpha",
   "id": "388b0e2965e37355",
   "outputs": [
    {
     "data": {
      "text/plain": [
       "np.float64(0.05050505050505051)"
      ]
     },
     "execution_count": 22,
     "metadata": {},
     "output_type": "execute_result"
    }
   ],
   "execution_count": 22
  },
  {
   "metadata": {
    "ExecuteTime": {
     "end_time": "2025-08-06T21:39:43.018469Z",
     "start_time": "2025-08-06T21:39:43.017130Z"
    }
   },
   "cell_type": "code",
   "source": "",
   "id": "9edb4a81337d97bf",
   "outputs": [],
   "execution_count": null
  }
 ],
 "metadata": {
  "kernelspec": {
   "display_name": "Python 3",
   "language": "python",
   "name": "python3"
  },
  "language_info": {
   "codemirror_mode": {
    "name": "ipython",
    "version": 2
   },
   "file_extension": ".py",
   "mimetype": "text/x-python",
   "name": "python",
   "nbconvert_exporter": "python",
   "pygments_lexer": "ipython2",
   "version": "2.7.6"
  }
 },
 "nbformat": 4,
 "nbformat_minor": 5
}
