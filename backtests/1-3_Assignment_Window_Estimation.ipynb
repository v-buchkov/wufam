{
 "cells": [
  {
   "cell_type": "code",
   "id": "47ae993bb1d90d3f",
   "metadata": {
    "ExecuteTime": {
     "end_time": "2025-08-07T20:27:24.600389Z",
     "start_time": "2025-08-07T20:27:24.586614Z"
    }
   },
   "source": [
    "from __future__ import annotations\n",
    "\n",
    "%load_ext autoreload\n",
    "%autoreload 2"
   ],
   "outputs": [],
   "execution_count": 1
  },
  {
   "cell_type": "code",
   "id": "initial_id",
   "metadata": {
    "collapsed": true,
    "ExecuteTime": {
     "end_time": "2025-08-07T20:27:24.779433Z",
     "start_time": "2025-08-07T20:27:24.603378Z"
    }
   },
   "source": [
    "from pathlib import Path\n",
    "\n",
    "import numpy as np\n",
    "\n",
    "from wufam.data.prepare_data import read_kf_data\n",
    "from wufam.config.trading_config import TradingConfig\n",
    "from wufam.dataset import Dataset\n",
    "from wufam.strategies.base_strategy import BaseStrategy\n",
    "from wufam.backtest.rolling_backtest import run_rolling_backtest\n",
    "from wufam.metrics.metrics import calc_sharpe\n",
    "\n",
    "PATH = Path(\"../data/kf_data\")\n",
    "START = \"1970-01-01\"\n",
    "END = \"2024-12-31\"\n",
    "DATASET = Dataset.BM_25_D\n",
    "FACTORS_DATASET = Dataset.FACTORS_D\n",
    "WEIGHTING = \"value_weighted\"\n",
    "FACTOR_ANNUALIZE = 252"
   ],
   "outputs": [],
   "execution_count": 2
  },
  {
   "cell_type": "markdown",
   "id": "1ac5790467715af0",
   "metadata": {},
   "source": "## 1.1"
  },
  {
   "cell_type": "code",
   "id": "5f96001686f357d3",
   "metadata": {
    "ExecuteTime": {
     "end_time": "2025-08-07T20:27:25.185076Z",
     "start_time": "2025-08-07T20:27:24.787235Z"
    }
   },
   "source": [
    "portfolios_total_r, portfolios_xs_r, factors_df, rf = read_kf_data(\n",
    "    portfolios_filename=PATH / DATASET,\n",
    "    factors_filename=PATH / FACTORS_DATASET,\n",
    "    start_date=START,\n",
    "    end_date=END,\n",
    "    weighting=WEIGHTING,\n",
    ")"
   ],
   "outputs": [],
   "execution_count": 3
  },
  {
   "cell_type": "code",
   "id": "e1493496e5034b",
   "metadata": {
    "ExecuteTime": {
     "end_time": "2025-08-07T20:27:25.344410Z",
     "start_time": "2025-08-07T20:27:25.338877Z"
    }
   },
   "source": [
    "assert (\n",
    "    portfolios_total_r.shape[0]\n",
    "    == portfolios_xs_r.shape[0]\n",
    "    == factors_df.shape[0]\n",
    "    == rf.shape[0]\n",
    ")"
   ],
   "outputs": [],
   "execution_count": 4
  },
  {
   "cell_type": "markdown",
   "id": "c9ade91a822acaba",
   "metadata": {},
   "source": "## 1.2"
  },
  {
   "cell_type": "code",
   "id": "8ae5c25a3602d864",
   "metadata": {
    "ExecuteTime": {
     "end_time": "2025-08-07T20:27:25.461343Z",
     "start_time": "2025-08-07T20:27:25.346748Z"
    }
   },
   "source": [
    "from wufam.strategies.heuristics.equally_weighted import EWStrategy\n",
    "from wufam.strategies.optimized.mean_var import MeanVariance\n",
    "from wufam.strategies.optimized.min_var import MinVariance\n",
    "\n",
    "trading_config = TradingConfig(total_exposure=1)\n",
    "\n",
    "ew_strategy = EWStrategy()"
   ],
   "outputs": [],
   "execution_count": 5
  },
  {
   "cell_type": "code",
   "id": "c7b79c00b835ef0",
   "metadata": {
    "ExecuteTime": {
     "end_time": "2025-08-07T20:27:25.471167Z",
     "start_time": "2025-08-07T20:27:25.464175Z"
    }
   },
   "source": [
    "from wufam.estimation.mean.sample_mu_estimator import SampleMuEstimator\n",
    "from wufam.estimation.covariance.sample_cov_estimator import SampleCovEstimator\n",
    "\n",
    "mv_strategy = MeanVariance(\n",
    "    mu_estimator=SampleMuEstimator(),\n",
    "    cov_estimator=SampleCovEstimator(),\n",
    "    trading_config=trading_config,\n",
    "    window_size=365,\n",
    ")"
   ],
   "outputs": [],
   "execution_count": 6
  },
  {
   "cell_type": "code",
   "id": "63f83ff0b38e671c",
   "metadata": {
    "ExecuteTime": {
     "end_time": "2025-08-07T20:27:25.478579Z",
     "start_time": "2025-08-07T20:27:25.473561Z"
    }
   },
   "source": [
    "min_var_strategy = MinVariance(\n",
    "    cov_estimator=SampleCovEstimator(),\n",
    "    trading_config=trading_config,\n",
    "    window_size=365,\n",
    ")"
   ],
   "outputs": [],
   "execution_count": 7
  },
  {
   "cell_type": "code",
   "id": "f513a5493463e8fa",
   "metadata": {
    "ExecuteTime": {
     "end_time": "2025-08-07T20:27:25.485845Z",
     "start_time": "2025-08-07T20:27:25.480895Z"
    }
   },
   "source": [
    "trading_config_min_var = TradingConfig(total_exposure=1, min_exposure=0.0)\n",
    "\n",
    "min_var_c_strategy = MinVariance(\n",
    "    cov_estimator=SampleCovEstimator(),\n",
    "    trading_config=trading_config_min_var,\n",
    "    window_size=365,\n",
    ")"
   ],
   "outputs": [],
   "execution_count": 8
  },
  {
   "cell_type": "code",
   "id": "507aeb0c4823af65",
   "metadata": {
    "ExecuteTime": {
     "end_time": "2025-08-07T20:27:25.865232Z",
     "start_time": "2025-08-07T20:27:25.489722Z"
    }
   },
   "source": [
    "from wufam.estimation.covariance.shrinkage.lw_cv_cov_estimator import (\n",
    "    LedoitWolfCVCovEstimator,\n",
    ")\n",
    "\n",
    "min_var_lw_strategy = MinVariance(\n",
    "    cov_estimator=LedoitWolfCVCovEstimator(),\n",
    "    trading_config=trading_config,\n",
    "    window_size=365,\n",
    ")"
   ],
   "outputs": [],
   "execution_count": 9
  },
  {
   "cell_type": "code",
   "id": "c90826e2e94a89b2",
   "metadata": {
    "ExecuteTime": {
     "end_time": "2025-08-07T20:27:25.877335Z",
     "start_time": "2025-08-07T20:27:25.868272Z"
    }
   },
   "source": [
    "from wufam.estimation.covariance.shrinkage.qis import QISCovEstimator\n",
    "\n",
    "min_var_qis_strategy = MinVariance(\n",
    "    cov_estimator=QISCovEstimator(),\n",
    "    trading_config=trading_config,\n",
    "    window_size=365,\n",
    ")"
   ],
   "outputs": [],
   "execution_count": 10
  },
  {
   "cell_type": "code",
   "id": "83ae013ea4935877",
   "metadata": {
    "ExecuteTime": {
     "end_time": "2025-08-07T20:27:25.886918Z",
     "start_time": "2025-08-07T20:27:25.879742Z"
    }
   },
   "source": [
    "min_var_lw_cv_strategy = MinVariance(\n",
    "    cov_estimator=LedoitWolfCVCovEstimator(alphas=np.linspace(0.0, 1.0, 100)),\n",
    "    trading_config=trading_config,\n",
    "    window_size=365,\n",
    ")"
   ],
   "outputs": [],
   "execution_count": 11
  },
  {
   "cell_type": "code",
   "id": "a0b150573fae1ff2",
   "metadata": {
    "ExecuteTime": {
     "end_time": "2025-08-07T20:27:26.207197Z",
     "start_time": "2025-08-07T20:27:25.889232Z"
    }
   },
   "source": [
    "from wufam.estimation.covariance.factor.factor_cov_estimator import FactorCovEstimator\n",
    "from wufam.estimation.covariance.shrinkage.pca_cov_estimator import PCACovEstimator\n",
    "\n",
    "factor_cov_estimator = FactorCovEstimator(\n",
    "    factor_cov_estimator=SampleCovEstimator(),\n",
    "    residual_cov_estimator=PCACovEstimator(),\n",
    "    factors_selection=[\"Mkt-RF\"],\n",
    ")\n",
    "\n",
    "min_var_factor_strategy = MinVariance(\n",
    "    cov_estimator=factor_cov_estimator,\n",
    "    trading_config=trading_config,\n",
    "    window_size=365,\n",
    ")"
   ],
   "outputs": [],
   "execution_count": 12
  },
  {
   "cell_type": "code",
   "id": "27ac8c1f9a76cf06",
   "metadata": {
    "ExecuteTime": {
     "end_time": "2025-08-07T20:27:26.220294Z",
     "start_time": "2025-08-07T20:27:26.209876Z"
    }
   },
   "source": [
    "from wufam.strategies.timed.vol_managed_strategy import VolManagedStrategy\n",
    "\n",
    "vol_managed_trading_config = TradingConfig(min_exposure=0.0, max_exposure=2.0)\n",
    "\n",
    "vol_managed_strategy = VolManagedStrategy(\n",
    "    trading_config=vol_managed_trading_config,\n",
    "    vol_window=21,\n",
    ")"
   ],
   "outputs": [],
   "execution_count": 13
  },
  {
   "cell_type": "code",
   "id": "cf5783145a8f494e",
   "metadata": {
    "ExecuteTime": {
     "end_time": "2025-08-07T20:27:26.231355Z",
     "start_time": "2025-08-07T20:27:26.222781Z"
    }
   },
   "source": [
    "def evaluate_strategy(\n",
    "    strategy: BaseStrategy, return_weights: bool = False\n",
    ") -> tuple[float, float]:\n",
    "    total_r, turnover = run_rolling_backtest(\n",
    "        strategy=strategy,\n",
    "        excess_returns=portfolios_xs_r,\n",
    "        factors=factors_df,\n",
    "        rf=rf,\n",
    "        freq=\"M\",\n",
    "        trading_lag=1,\n",
    "    )\n",
    "\n",
    "    sr = calc_sharpe(\n",
    "        strategy_total_r=total_r,\n",
    "        rf_rate=rf,\n",
    "        factor_annualize=FACTOR_ANNUALIZE,\n",
    "    )\n",
    "\n",
    "    avg_turnover = turnover.iloc[1:].mean()\n",
    "\n",
    "    return sr, avg_turnover"
   ],
   "outputs": [],
   "execution_count": 14
  },
  {
   "cell_type": "code",
   "id": "79445cd9cd044573",
   "metadata": {
    "ExecuteTime": {
     "end_time": "2025-08-07T20:27:27.261076Z",
     "start_time": "2025-08-07T20:27:26.234683Z"
    }
   },
   "source": [
    "evaluate_strategy(ew_strategy)"
   ],
   "outputs": [
    {
     "name": "stderr",
     "output_type": "stream",
     "text": [
      "Optimizing Strategy: 100%|██████████| 659/659 [00:00<00:00, 1293.04it/s]\n"
     ]
    },
    {
     "data": {
      "text/plain": [
       "(0.44198649620311253, np.float64(0.017344865113044353))"
      ]
     },
     "execution_count": 15,
     "metadata": {},
     "output_type": "execute_result"
    }
   ],
   "execution_count": 15
  },
  {
   "cell_type": "code",
   "id": "3c7373fbef767c8d",
   "metadata": {
    "ExecuteTime": {
     "end_time": "2025-08-07T20:27:28.954054Z",
     "start_time": "2025-08-07T20:27:27.290471Z"
    }
   },
   "source": [
    "evaluate_strategy(mv_strategy)"
   ],
   "outputs": [
    {
     "name": "stderr",
     "output_type": "stream",
     "text": [
      "Optimizing Strategy: 100%|██████████| 659/659 [00:01<00:00, 595.78it/s]\n"
     ]
    },
    {
     "data": {
      "text/plain": [
       "(0.023077991516703287, np.float64(186.51542103379933))"
      ]
     },
     "execution_count": 16,
     "metadata": {},
     "output_type": "execute_result"
    }
   ],
   "execution_count": 16
  },
  {
   "cell_type": "code",
   "id": "c6253f43407b25c",
   "metadata": {
    "ExecuteTime": {
     "end_time": "2025-08-07T20:27:30.517668Z",
     "start_time": "2025-08-07T20:27:28.971583Z"
    }
   },
   "source": [
    "evaluate_strategy(min_var_strategy)"
   ],
   "outputs": [
    {
     "name": "stderr",
     "output_type": "stream",
     "text": [
      "Optimizing Strategy: 100%|██████████| 659/659 [00:01<00:00, 636.55it/s]\n"
     ]
    },
    {
     "data": {
      "text/plain": [
       "(0.9921328793030837, np.float64(1.316652275594975))"
      ]
     },
     "execution_count": 17,
     "metadata": {},
     "output_type": "execute_result"
    }
   ],
   "execution_count": 17
  },
  {
   "cell_type": "code",
   "id": "b40307b9d30ff1e5",
   "metadata": {
    "ExecuteTime": {
     "end_time": "2025-08-07T20:27:36.829834Z",
     "start_time": "2025-08-07T20:27:30.533007Z"
    }
   },
   "source": [
    "evaluate_strategy(min_var_c_strategy)"
   ],
   "outputs": [
    {
     "name": "stderr",
     "output_type": "stream",
     "text": [
      "Optimizing Strategy: 100%|██████████| 659/659 [00:05<00:00, 113.76it/s]\n"
     ]
    },
    {
     "data": {
      "text/plain": [
       "(0.719614518335151, np.float64(0.22562515871206587))"
      ]
     },
     "execution_count": 18,
     "metadata": {},
     "output_type": "execute_result"
    }
   ],
   "execution_count": 18
  },
  {
   "cell_type": "code",
   "id": "a6569653d35553d9",
   "metadata": {
    "ExecuteTime": {
     "end_time": "2025-08-07T20:27:38.568134Z",
     "start_time": "2025-08-07T20:27:36.840808Z"
    }
   },
   "source": [
    "evaluate_strategy(min_var_lw_strategy)"
   ],
   "outputs": [
    {
     "name": "stderr",
     "output_type": "stream",
     "text": [
      "Optimizing Strategy: 100%|██████████| 659/659 [00:01<00:00, 541.30it/s]\n"
     ]
    },
    {
     "data": {
      "text/plain": [
       "(1.227326905475528, np.float64(0.9037496358078545))"
      ]
     },
     "execution_count": 19,
     "metadata": {},
     "output_type": "execute_result"
    }
   ],
   "execution_count": 19
  },
  {
   "cell_type": "code",
   "id": "7d9f9d5563b0443d",
   "metadata": {
    "ExecuteTime": {
     "end_time": "2025-08-07T20:27:55.436325Z",
     "start_time": "2025-08-07T20:27:38.578671Z"
    }
   },
   "source": [
    "evaluate_strategy(min_var_factor_strategy)"
   ],
   "outputs": [
    {
     "name": "stderr",
     "output_type": "stream",
     "text": [
      "Optimizing Strategy: 100%|██████████| 659/659 [00:16<00:00, 40.35it/s]\n"
     ]
    },
    {
     "data": {
      "text/plain": [
       "(1.1740884083611147, np.float64(0.9828498585878805))"
      ]
     },
     "execution_count": 20,
     "metadata": {},
     "output_type": "execute_result"
    }
   ],
   "execution_count": 20
  },
  {
   "cell_type": "code",
   "id": "2ab8c47daab66825",
   "metadata": {
    "ExecuteTime": {
     "end_time": "2025-08-07T20:27:58.033698Z",
     "start_time": "2025-08-07T20:27:55.447355Z"
    }
   },
   "source": [
    "evaluate_strategy(min_var_qis_strategy)"
   ],
   "outputs": [
    {
     "name": "stderr",
     "output_type": "stream",
     "text": [
      "Optimizing Strategy: 100%|██████████| 659/659 [00:02<00:00, 320.44it/s]\n"
     ]
    },
    {
     "data": {
      "text/plain": [
       "(1.0747897587797615, np.float64(1.5307430135354767))"
      ]
     },
     "execution_count": 21,
     "metadata": {},
     "output_type": "execute_result"
    }
   ],
   "execution_count": 21
  },
  {
   "cell_type": "code",
   "id": "b0bf640c60c62",
   "metadata": {
    "ExecuteTime": {
     "end_time": "2025-08-07T20:27:59.634636Z",
     "start_time": "2025-08-07T20:27:58.037659Z"
    }
   },
   "source": [
    "evaluate_strategy(vol_managed_strategy)"
   ],
   "outputs": [
    {
     "name": "stderr",
     "output_type": "stream",
     "text": [
      "Optimizing Strategy: 100%|██████████| 659/659 [00:01<00:00, 608.67it/s]\n"
     ]
    },
    {
     "data": {
      "text/plain": [
       "(0.5398630805684842, np.float64(0.44095377787995244))"
      ]
     },
     "execution_count": 22,
     "metadata": {},
     "output_type": "execute_result"
    }
   ],
   "execution_count": 22
  },
  {
   "cell_type": "code",
   "id": "b7487ffa08de9eca",
   "metadata": {
    "ExecuteTime": {
     "end_time": "2025-08-07T20:31:08.603516Z",
     "start_time": "2025-08-07T20:27:59.647287Z"
    }
   },
   "source": [
    "evaluate_strategy(min_var_lw_cv_strategy)"
   ],
   "outputs": [
    {
     "name": "stderr",
     "output_type": "stream",
     "text": [
      "Optimizing Strategy: 100%|██████████| 659/659 [03:08<00:00,  3.50it/s]\n"
     ]
    },
    {
     "data": {
      "text/plain": [
       "(1.2091045047694422, np.float64(0.9223255553409698))"
      ]
     },
     "execution_count": 23,
     "metadata": {},
     "output_type": "execute_result"
    }
   ],
   "execution_count": 23
  },
  {
   "cell_type": "code",
   "id": "388b0e2965e37355",
   "metadata": {
    "ExecuteTime": {
     "end_time": "2025-08-07T20:31:08.628414Z",
     "start_time": "2025-08-07T20:31:08.618938Z"
    }
   },
   "source": [
    "min_var_lw_cv_strategy.cov_estimator.best_alpha"
   ],
   "outputs": [
    {
     "data": {
      "text/plain": [
       "np.float64(0.05050505050505051)"
      ]
     },
     "execution_count": 24,
     "metadata": {},
     "output_type": "execute_result"
    }
   ],
   "execution_count": 24
  },
  {
   "metadata": {
    "ExecuteTime": {
     "end_time": "2025-08-07T20:31:08.639582Z",
     "start_time": "2025-08-07T20:31:08.631523Z"
    }
   },
   "cell_type": "code",
   "source": [
    "trading_config_naive_min_var = TradingConfig(total_exposure=1, min_exposure=0.5 / 25)\n",
    "\n",
    "min_var_naive_c_strategy = MinVariance(\n",
    "    cov_estimator=SampleCovEstimator(),\n",
    "    trading_config=trading_config_naive_min_var,\n",
    "    window_size=None,\n",
    ")"
   ],
   "id": "4ccbc024099e4145",
   "outputs": [],
   "execution_count": 25
  },
  {
   "metadata": {
    "ExecuteTime": {
     "end_time": "2025-08-07T20:31:15.093649Z",
     "start_time": "2025-08-07T20:31:08.642039Z"
    }
   },
   "cell_type": "code",
   "source": "evaluate_strategy(min_var_naive_c_strategy)",
   "id": "5fc9eeff8ccac0b9",
   "outputs": [
    {
     "name": "stderr",
     "output_type": "stream",
     "text": [
      "Optimizing Strategy: 100%|██████████| 659/659 [00:05<00:00, 110.92it/s]\n"
     ]
    },
    {
     "data": {
      "text/plain": [
       "(0.5539918349659848, np.float64(0.028896835087247448))"
      ]
     },
     "execution_count": 26,
     "metadata": {},
     "output_type": "execute_result"
    }
   ],
   "execution_count": 26
  }
 ],
 "metadata": {
  "kernelspec": {
   "display_name": "Python 3",
   "language": "python",
   "name": "python3"
  },
  "language_info": {
   "codemirror_mode": {
    "name": "ipython",
    "version": 2
   },
   "file_extension": ".py",
   "mimetype": "text/x-python",
   "name": "python",
   "nbconvert_exporter": "python",
   "pygments_lexer": "ipython2",
   "version": "2.7.6"
  }
 },
 "nbformat": 4,
 "nbformat_minor": 5
}
