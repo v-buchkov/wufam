{
 "cells": [
  {
   "cell_type": "code",
   "id": "47ae993bb1d90d3f",
   "metadata": {
    "ExecuteTime": {
     "end_time": "2025-08-07T12:25:12.353245Z",
     "start_time": "2025-08-07T12:25:12.333556Z"
    }
   },
   "source": [
    "from __future__ import annotations\n",
    "\n",
    "%load_ext autoreload\n",
    "%autoreload 2"
   ],
   "outputs": [
    {
     "name": "stdout",
     "output_type": "stream",
     "text": [
      "The autoreload extension is already loaded. To reload it, use:\n",
      "  %reload_ext autoreload\n"
     ]
    }
   ],
   "execution_count": 24
  },
  {
   "cell_type": "code",
   "id": "initial_id",
   "metadata": {
    "collapsed": true,
    "ExecuteTime": {
     "end_time": "2025-08-07T12:25:12.372046Z",
     "start_time": "2025-08-07T12:25:12.360903Z"
    }
   },
   "source": [
    "from pathlib import Path\n",
    "\n",
    "import numpy as np\n",
    "\n",
    "from wufam.data.prepare_data import read_kf_data\n",
    "from wufam.config.trading_config import TradingConfig\n",
    "from wufam.dataset import Dataset\n",
    "from wufam.strategies.base_strategy import BaseStrategy\n",
    "from wufam.backtest.rolling_backtest import run_rolling_backtest\n",
    "from wufam.metrics.metrics import calc_sharpe\n",
    "\n",
    "PATH = Path(\"../data/kf_data\")\n",
    "START = \"1970-01-01\"\n",
    "END = \"2024-12-31\"\n",
    "DATASET = Dataset.BM_25_D\n",
    "FACTORS_DATASET = Dataset.FACTORS_D\n",
    "WEIGHTING = \"value_weighted\"\n",
    "FACTOR_ANNUALIZE = 252"
   ],
   "outputs": [],
   "execution_count": 25
  },
  {
   "cell_type": "markdown",
   "id": "1ac5790467715af0",
   "metadata": {},
   "source": "## 1.1"
  },
  {
   "cell_type": "code",
   "id": "5f96001686f357d3",
   "metadata": {
    "ExecuteTime": {
     "end_time": "2025-08-07T12:25:12.786327Z",
     "start_time": "2025-08-07T12:25:12.374768Z"
    }
   },
   "source": [
    "portfolios_total_r, portfolios_xs_r, factors_df, rf = read_kf_data(\n",
    "    portfolios_filename=PATH / DATASET,\n",
    "    factors_filename=PATH / FACTORS_DATASET,\n",
    "    start_date=START,\n",
    "    end_date=END,\n",
    "    weighting=WEIGHTING,\n",
    ")"
   ],
   "outputs": [],
   "execution_count": 26
  },
  {
   "cell_type": "code",
   "id": "e1493496e5034b",
   "metadata": {
    "ExecuteTime": {
     "end_time": "2025-08-07T12:25:12.797026Z",
     "start_time": "2025-08-07T12:25:12.788689Z"
    }
   },
   "source": [
    "assert (\n",
    "    portfolios_total_r.shape[0]\n",
    "    == portfolios_xs_r.shape[0]\n",
    "    == factors_df.shape[0]\n",
    "    == rf.shape[0]\n",
    ")"
   ],
   "outputs": [],
   "execution_count": 27
  },
  {
   "cell_type": "markdown",
   "id": "c9ade91a822acaba",
   "metadata": {},
   "source": "## 1.2"
  },
  {
   "cell_type": "code",
   "id": "8ae5c25a3602d864",
   "metadata": {
    "ExecuteTime": {
     "end_time": "2025-08-07T12:25:12.805866Z",
     "start_time": "2025-08-07T12:25:12.799137Z"
    }
   },
   "source": [
    "from wufam.strategies.heuristics.equally_weighted import EWStrategy\n",
    "from wufam.strategies.optimized.mean_var import MeanVariance\n",
    "from wufam.strategies.optimized.min_var import MinVariance\n",
    "\n",
    "trading_config = TradingConfig(total_exposure=1)\n",
    "\n",
    "ew_strategy = EWStrategy()"
   ],
   "outputs": [],
   "execution_count": 28
  },
  {
   "cell_type": "code",
   "id": "c7b79c00b835ef0",
   "metadata": {
    "ExecuteTime": {
     "end_time": "2025-08-07T12:25:12.814404Z",
     "start_time": "2025-08-07T12:25:12.807825Z"
    }
   },
   "source": [
    "from wufam.estimation.mean.sample_mu_estimator import SampleMuEstimator\n",
    "from wufam.estimation.covariance.sample_cov_estimator import SampleCovEstimator\n",
    "\n",
    "mv_strategy = MeanVariance(\n",
    "    mu_estimator=SampleMuEstimator(),\n",
    "    cov_estimator=SampleCovEstimator(),\n",
    "    trading_config=trading_config,\n",
    "    window_size=365,\n",
    ")"
   ],
   "outputs": [],
   "execution_count": 29
  },
  {
   "metadata": {
    "ExecuteTime": {
     "end_time": "2025-08-07T12:25:12.823362Z",
     "start_time": "2025-08-07T12:25:12.816653Z"
    }
   },
   "cell_type": "code",
   "source": [
    "min_var_strategy = MinVariance(\n",
    "    cov_estimator=SampleCovEstimator(),\n",
    "    trading_config=trading_config,\n",
    "    window_size=365,\n",
    ")"
   ],
   "id": "63f83ff0b38e671c",
   "outputs": [],
   "execution_count": 30
  },
  {
   "metadata": {
    "ExecuteTime": {
     "end_time": "2025-08-07T12:25:12.833403Z",
     "start_time": "2025-08-07T12:25:12.825544Z"
    }
   },
   "cell_type": "code",
   "source": [
    "trading_config_min_var = TradingConfig(total_exposure=1, min_exposure=0.0)\n",
    "\n",
    "min_var_c_strategy = MinVariance(\n",
    "    cov_estimator=SampleCovEstimator(),\n",
    "    trading_config=trading_config_min_var,\n",
    "    window_size=365,\n",
    ")"
   ],
   "id": "f513a5493463e8fa",
   "outputs": [],
   "execution_count": 31
  },
  {
   "cell_type": "code",
   "id": "507aeb0c4823af65",
   "metadata": {
    "ExecuteTime": {
     "end_time": "2025-08-07T12:25:12.842181Z",
     "start_time": "2025-08-07T12:25:12.835570Z"
    }
   },
   "source": [
    "from wufam.estimation.covariance.shrinkage.lw_cv_cov_estimator import (\n",
    "    LedoitWolfCVCovEstimator,\n",
    ")\n",
    "\n",
    "min_var_lw_strategy = MinVariance(\n",
    "    cov_estimator=LedoitWolfCVCovEstimator(),\n",
    "    trading_config=trading_config,\n",
    "    window_size=365,\n",
    ")"
   ],
   "outputs": [],
   "execution_count": 32
  },
  {
   "metadata": {
    "ExecuteTime": {
     "end_time": "2025-08-07T12:25:12.850989Z",
     "start_time": "2025-08-07T12:25:12.844195Z"
    }
   },
   "cell_type": "code",
   "source": [
    "from wufam.estimation.covariance.shrinkage.qis import QISCovEstimator\n",
    "\n",
    "min_var_qis_strategy = MinVariance(\n",
    "    cov_estimator=QISCovEstimator(),\n",
    "    trading_config=trading_config,\n",
    "    window_size=365,\n",
    ")"
   ],
   "id": "c90826e2e94a89b2",
   "outputs": [],
   "execution_count": 33
  },
  {
   "metadata": {
    "ExecuteTime": {
     "end_time": "2025-08-07T12:25:12.859783Z",
     "start_time": "2025-08-07T12:25:12.852966Z"
    }
   },
   "cell_type": "code",
   "source": [
    "min_var_lw_cv_strategy = MinVariance(\n",
    "    cov_estimator=LedoitWolfCVCovEstimator(alphas=np.linspace(0.0, 1.0, 100)),\n",
    "    trading_config=trading_config,\n",
    "    window_size=365,\n",
    ")"
   ],
   "id": "83ae013ea4935877",
   "outputs": [],
   "execution_count": 34
  },
  {
   "metadata": {
    "ExecuteTime": {
     "end_time": "2025-08-07T12:25:12.868454Z",
     "start_time": "2025-08-07T12:25:12.861582Z"
    }
   },
   "cell_type": "code",
   "source": [
    "from wufam.estimation.covariance.factor.factor_cov_estimator import FactorCovEstimator\n",
    "from wufam.estimation.covariance.shrinkage.pca_cov_estimator import PCACovEstimator\n",
    "\n",
    "factor_cov_estimator = FactorCovEstimator(\n",
    "    factor_cov_estimator=SampleCovEstimator(),\n",
    "    residual_cov_estimator=PCACovEstimator(),\n",
    "    factors_selection=[\"Mkt-RF\"],\n",
    ")\n",
    "\n",
    "min_var_factor_strategy = MinVariance(\n",
    "    cov_estimator=factor_cov_estimator,\n",
    "    trading_config=trading_config,\n",
    "    window_size=365,\n",
    ")"
   ],
   "id": "a0b150573fae1ff2",
   "outputs": [],
   "execution_count": 35
  },
  {
   "metadata": {
    "ExecuteTime": {
     "end_time": "2025-08-07T12:25:12.877185Z",
     "start_time": "2025-08-07T12:25:12.870379Z"
    }
   },
   "cell_type": "code",
   "source": [
    "from wufam.strategies.timed.vol_managed_strategy import VolManagedStrategy\n",
    "\n",
    "vol_managed_trading_config = TradingConfig(min_exposure=0.0, max_exposure=2.0)\n",
    "\n",
    "vol_managed_strategy = VolManagedStrategy(\n",
    "    trading_config=vol_managed_trading_config,\n",
    "    vol_window=21,\n",
    ")"
   ],
   "id": "27ac8c1f9a76cf06",
   "outputs": [],
   "execution_count": 36
  },
  {
   "metadata": {
    "ExecuteTime": {
     "end_time": "2025-08-07T12:25:12.885922Z",
     "start_time": "2025-08-07T12:25:12.879045Z"
    }
   },
   "cell_type": "code",
   "source": [
    "def evaluate_strategy(strategy: BaseStrategy, return_weights: bool = False) -> tuple[float, float]:\n",
    "    total_r, turnover = run_rolling_backtest(\n",
    "        strategy=strategy,\n",
    "        excess_returns=portfolios_xs_r,\n",
    "        factors=factors_df,\n",
    "        rf=rf,\n",
    "        freq=\"M\",\n",
    "        trading_lag=1,\n",
    "    )\n",
    "\n",
    "    sr = calc_sharpe(\n",
    "        strategy_total_r=total_r,\n",
    "        rf_rate=rf,\n",
    "        factor_annualize=FACTOR_ANNUALIZE,\n",
    "    )\n",
    "\n",
    "    avg_turnover = turnover.iloc[1:].mean()\n",
    "\n",
    "    return sr, avg_turnover"
   ],
   "id": "cf5783145a8f494e",
   "outputs": [],
   "execution_count": 37
  },
  {
   "metadata": {
    "ExecuteTime": {
     "end_time": "2025-08-07T12:25:13.761071Z",
     "start_time": "2025-08-07T12:25:12.888958Z"
    }
   },
   "cell_type": "code",
   "source": "evaluate_strategy(ew_strategy)",
   "id": "79445cd9cd044573",
   "outputs": [
    {
     "name": "stderr",
     "output_type": "stream",
     "text": [
      "Optimizing Strategy: 100%|██████████| 659/659 [00:00<00:00, 1603.59it/s]\n"
     ]
    },
    {
     "data": {
      "text/plain": [
       "(0.44198649620311253, np.float64(0.017344865113044353))"
      ]
     },
     "execution_count": 38,
     "metadata": {},
     "output_type": "execute_result"
    }
   ],
   "execution_count": 38
  },
  {
   "metadata": {
    "ExecuteTime": {
     "end_time": "2025-08-07T12:25:15.232837Z",
     "start_time": "2025-08-07T12:25:13.771701Z"
    }
   },
   "cell_type": "code",
   "source": "evaluate_strategy(mv_strategy)",
   "id": "3c7373fbef767c8d",
   "outputs": [
    {
     "name": "stderr",
     "output_type": "stream",
     "text": [
      "Optimizing Strategy: 100%|██████████| 659/659 [00:00<00:00, 667.61it/s]\n"
     ]
    },
    {
     "data": {
      "text/plain": [
       "(0.023077991516703287, np.float64(186.51542103379933))"
      ]
     },
     "execution_count": 39,
     "metadata": {},
     "output_type": "execute_result"
    }
   ],
   "execution_count": 39
  },
  {
   "metadata": {
    "ExecuteTime": {
     "end_time": "2025-08-07T12:25:16.621202Z",
     "start_time": "2025-08-07T12:25:15.247733Z"
    }
   },
   "cell_type": "code",
   "source": "evaluate_strategy(min_var_strategy)",
   "id": "c6253f43407b25c",
   "outputs": [
    {
     "name": "stderr",
     "output_type": "stream",
     "text": [
      "Optimizing Strategy: 100%|██████████| 659/659 [00:00<00:00, 722.67it/s]\n"
     ]
    },
    {
     "data": {
      "text/plain": [
       "(0.9921328793030837, np.float64(1.316652275594975))"
      ]
     },
     "execution_count": 40,
     "metadata": {},
     "output_type": "execute_result"
    }
   ],
   "execution_count": 40
  },
  {
   "metadata": {
    "ExecuteTime": {
     "end_time": "2025-08-07T12:25:21.007530Z",
     "start_time": "2025-08-07T12:25:16.635792Z"
    }
   },
   "cell_type": "code",
   "source": "evaluate_strategy(min_var_c_strategy)",
   "id": "b40307b9d30ff1e5",
   "outputs": [
    {
     "name": "stderr",
     "output_type": "stream",
     "text": [
      "Optimizing Strategy:  75%|███████▌  | 497/659 [00:04<00:01, 120.21it/s]\n"
     ]
    },
    {
     "ename": "KeyboardInterrupt",
     "evalue": "",
     "output_type": "error",
     "traceback": [
      "\u001B[31m---------------------------------------------------------------------------\u001B[39m",
      "\u001B[31mKeyboardInterrupt\u001B[39m                         Traceback (most recent call last)",
      "\u001B[36mCell\u001B[39m\u001B[36m \u001B[39m\u001B[32mIn[41]\u001B[39m\u001B[32m, line 1\u001B[39m\n\u001B[32m----> \u001B[39m\u001B[32m1\u001B[39m \u001B[43mevaluate_strategy\u001B[49m\u001B[43m(\u001B[49m\u001B[43mmin_var_c_strategy\u001B[49m\u001B[43m)\u001B[49m\n",
      "\u001B[36mCell\u001B[39m\u001B[36m \u001B[39m\u001B[32mIn[37]\u001B[39m\u001B[32m, line 2\u001B[39m, in \u001B[36mevaluate_strategy\u001B[39m\u001B[34m(strategy, return_weights)\u001B[39m\n\u001B[32m      1\u001B[39m \u001B[38;5;28;01mdef\u001B[39;00m\u001B[38;5;250m \u001B[39m\u001B[34mevaluate_strategy\u001B[39m(strategy: BaseStrategy, return_weights: \u001B[38;5;28mbool\u001B[39m = \u001B[38;5;28;01mFalse\u001B[39;00m) -> \u001B[38;5;28mtuple\u001B[39m[\u001B[38;5;28mfloat\u001B[39m, \u001B[38;5;28mfloat\u001B[39m]:\n\u001B[32m----> \u001B[39m\u001B[32m2\u001B[39m     total_r, turnover = \u001B[43mrun_rolling_backtest\u001B[49m\u001B[43m(\u001B[49m\n\u001B[32m      3\u001B[39m \u001B[43m        \u001B[49m\u001B[43mstrategy\u001B[49m\u001B[43m=\u001B[49m\u001B[43mstrategy\u001B[49m\u001B[43m,\u001B[49m\n\u001B[32m      4\u001B[39m \u001B[43m        \u001B[49m\u001B[43mexcess_returns\u001B[49m\u001B[43m=\u001B[49m\u001B[43mportfolios_xs_r\u001B[49m\u001B[43m,\u001B[49m\n\u001B[32m      5\u001B[39m \u001B[43m        \u001B[49m\u001B[43mfactors\u001B[49m\u001B[43m=\u001B[49m\u001B[43mfactors_df\u001B[49m\u001B[43m,\u001B[49m\n\u001B[32m      6\u001B[39m \u001B[43m        \u001B[49m\u001B[43mrf\u001B[49m\u001B[43m=\u001B[49m\u001B[43mrf\u001B[49m\u001B[43m,\u001B[49m\n\u001B[32m      7\u001B[39m \u001B[43m        \u001B[49m\u001B[43mfreq\u001B[49m\u001B[43m=\u001B[49m\u001B[33;43m\"\u001B[39;49m\u001B[33;43mM\u001B[39;49m\u001B[33;43m\"\u001B[39;49m\u001B[43m,\u001B[49m\n\u001B[32m      8\u001B[39m \u001B[43m        \u001B[49m\u001B[43mtrading_lag\u001B[49m\u001B[43m=\u001B[49m\u001B[32;43m1\u001B[39;49m\u001B[43m,\u001B[49m\n\u001B[32m      9\u001B[39m \u001B[43m    \u001B[49m\u001B[43m)\u001B[49m\n\u001B[32m     11\u001B[39m     sr = calc_sharpe(\n\u001B[32m     12\u001B[39m         strategy_total_r=total_r,\n\u001B[32m     13\u001B[39m         rf_rate=rf,\n\u001B[32m     14\u001B[39m         factor_annualize=FACTOR_ANNUALIZE,\n\u001B[32m     15\u001B[39m     )\n\u001B[32m     17\u001B[39m     avg_turnover = turnover.iloc[\u001B[32m1\u001B[39m:].mean()\n",
      "\u001B[36mFile \u001B[39m\u001B[32m<string>:3\u001B[39m, in \u001B[36mrun_rolling_backtest\u001B[39m\u001B[34m(strategy, excess_returns, factors, rf, freq, trading_lag, window_size, return_weights)\u001B[39m\n",
      "\u001B[36mFile \u001B[39m\u001B[32m~/wufam/wufam/backtest/rolling_backtest.py:89\u001B[39m, in \u001B[36mget_rolling_weights\u001B[39m\u001B[34m(strategy, excess_returns, factors, schedule, trading_lag, window_size)\u001B[39m\n\u001B[32m     81\u001B[39m \u001B[38;5;28;01melse\u001B[39;00m:\n\u001B[32m     82\u001B[39m     start_date = \u001B[38;5;28;01mNone\u001B[39;00m\n\u001B[32m     84\u001B[39m training_data = TrainingData(\n\u001B[32m     85\u001B[39m     simple_excess_returns=excess_returns.loc[\n\u001B[32m     86\u001B[39m         start_date : date - pd.Timedelta(trading_lag)\n\u001B[32m     87\u001B[39m     ],\n\u001B[32m     88\u001B[39m     factors=factors.loc[start_date : date - pd.Timedelta(trading_lag)],\n\u001B[32m---> \u001B[39m\u001B[32m89\u001B[39m )\n\u001B[32m     91\u001B[39m strategy.fit(training_data)\n\u001B[32m     93\u001B[39m weights.loc[date, :] = strategy(PredictionData()).to_numpy()\n",
      "\u001B[36mFile \u001B[39m\u001B[32m~/wufam/wufam/strategies/base_strategy.py:85\u001B[39m, in \u001B[36mBaseStrategy.__call__\u001B[39m\u001B[34m(self, prediction_data)\u001B[39m\n\u001B[32m     84\u001B[39m \u001B[38;5;28;01mdef\u001B[39;00m\u001B[38;5;250m \u001B[39m\u001B[34m__call__\u001B[39m(\u001B[38;5;28mself\u001B[39m, prediction_data: PredictionData) -> pd.DataFrame:\n\u001B[32m---> \u001B[39m\u001B[32m85\u001B[39m     \u001B[38;5;28;01mreturn\u001B[39;00m \u001B[38;5;28;43mself\u001B[39;49m\u001B[43m.\u001B[49m\u001B[43mget_weights\u001B[49m\u001B[43m(\u001B[49m\u001B[43mprediction_data\u001B[49m\u001B[43m=\u001B[49m\u001B[43mprediction_data\u001B[49m\u001B[43m)\u001B[49m\n",
      "\u001B[36mFile \u001B[39m\u001B[32m~/wufam/wufam/strategies/base_strategy.py:74\u001B[39m, in \u001B[36mBaseStrategy.get_weights\u001B[39m\u001B[34m(self, prediction_data)\u001B[39m\n\u001B[32m     68\u001B[39m rebal_date = (\n\u001B[32m     69\u001B[39m     prediction_data.features.index[-\u001B[32m1\u001B[39m]\n\u001B[32m     70\u001B[39m     \u001B[38;5;28;01mif\u001B[39;00m prediction_data.features \u001B[38;5;129;01mis\u001B[39;00m \u001B[38;5;129;01mnot\u001B[39;00m \u001B[38;5;28;01mNone\u001B[39;00m\n\u001B[32m     71\u001B[39m     \u001B[38;5;28;01melse\u001B[39;00m \u001B[32m0\u001B[39m\n\u001B[32m     72\u001B[39m )\n\u001B[32m     73\u001B[39m init_weights = pd.DataFrame(\u001B[32m0.0\u001B[39m, index=[rebal_date], columns=\u001B[38;5;28mself\u001B[39m.all_assets)\n\u001B[32m---> \u001B[39m\u001B[32m74\u001B[39m \u001B[38;5;28;01mreturn\u001B[39;00m \u001B[38;5;28;43mself\u001B[39;49m\u001B[43m.\u001B[49m\u001B[43m_get_weights\u001B[49m\u001B[43m(\u001B[49m\n\u001B[32m     75\u001B[39m \u001B[43m    \u001B[49m\u001B[43mprediction_data\u001B[49m\u001B[43m=\u001B[49m\u001B[43mprediction_data\u001B[49m\u001B[43m,\u001B[49m\u001B[43m \u001B[49m\u001B[43mweights_\u001B[49m\u001B[43m=\u001B[49m\u001B[43minit_weights\u001B[49m\u001B[43m.\u001B[49m\u001B[43mcopy\u001B[49m\u001B[43m(\u001B[49m\u001B[43m)\u001B[49m\n\u001B[32m     76\u001B[39m \u001B[43m\u001B[49m\u001B[43m)\u001B[49m\n",
      "\u001B[36mFile \u001B[39m\u001B[32m~/wufam/wufam/strategies/optimized/base_estimated_strategy.py:77\u001B[39m, in \u001B[36mBaseEstimatedStrategy._get_weights\u001B[39m\u001B[34m(self, prediction_data, weights_)\u001B[39m\n\u001B[32m     74\u001B[39m \u001B[38;5;28;01mdef\u001B[39;00m\u001B[38;5;250m \u001B[39m\u001B[34m_get_weights\u001B[39m(\n\u001B[32m     75\u001B[39m     \u001B[38;5;28mself\u001B[39m, prediction_data: PredictionData, weights_: pd.DataFrame\n\u001B[32m     76\u001B[39m ) -> pd.DataFrame:\n\u001B[32m---> \u001B[39m\u001B[32m77\u001B[39m     weights = \u001B[38;5;28;43mself\u001B[39;49m\u001B[43m.\u001B[49m\u001B[43m_optimize\u001B[49m\u001B[43m(\u001B[49m\u001B[43mprediction_data\u001B[49m\u001B[43m=\u001B[49m\u001B[43mprediction_data\u001B[49m\u001B[43m)\u001B[49m\n\u001B[32m     79\u001B[39m     weights_.loc[:, weights.index] = weights.to_numpy()\n\u001B[32m     81\u001B[39m     \u001B[38;5;66;03m# (!!!) Please, use only excess returns to apply this scaling correctly\u001B[39;00m\n",
      "\u001B[36mFile \u001B[39m\u001B[32m~/wufam/wufam/strategies/optimized/min_var.py:58\u001B[39m, in \u001B[36mMinVariance._optimize\u001B[39m\u001B[34m(self, prediction_data)\u001B[39m\n\u001B[32m     55\u001B[39m \u001B[38;5;28mself\u001B[39m.var_min = VarianceMinimizer(constraints=constraints)\n\u001B[32m     57\u001B[39m \u001B[38;5;28mself\u001B[39m.var_min.set_objective(covmat=covmat)\n\u001B[32m---> \u001B[39m\u001B[32m58\u001B[39m \u001B[38;5;28;43mself\u001B[39;49m\u001B[43m.\u001B[49m\u001B[43mvar_min\u001B[49m\u001B[43m.\u001B[49m\u001B[43msolve\u001B[49m\u001B[43m(\u001B[49m\u001B[43m)\u001B[49m\n\u001B[32m     60\u001B[39m \u001B[38;5;28;01mreturn\u001B[39;00m pd.Series(\u001B[38;5;28mself\u001B[39m.var_min.results[\u001B[33m\"\u001B[39m\u001B[33mweights\u001B[39m\u001B[33m\"\u001B[39m])\n",
      "\u001B[36mFile \u001B[39m\u001B[32m~/wufam/wufam/optimization/optimization.py:251\u001B[39m, in \u001B[36mVarianceMinimizer.solve\u001B[39m\u001B[34m(self)\u001B[39m\n\u001B[32m    249\u001B[39m     \u001B[38;5;28;01mreturn\u001B[39;00m \u001B[38;5;28;01mNone\u001B[39;00m\n\u001B[32m    250\u001B[39m \u001B[38;5;28;01melse\u001B[39;00m:\n\u001B[32m--> \u001B[39m\u001B[32m251\u001B[39m     \u001B[38;5;28;01mreturn\u001B[39;00m \u001B[38;5;28;43msuper\u001B[39;49m\u001B[43m(\u001B[49m\u001B[43m)\u001B[49m\u001B[43m.\u001B[49m\u001B[43msolve\u001B[49m\u001B[43m(\u001B[49m\u001B[43m)\u001B[49m\n",
      "\u001B[36mFile \u001B[39m\u001B[32m~/wufam/wufam/optimization/optimization.py:106\u001B[39m, in \u001B[36mOptimization.solve\u001B[39m\u001B[34m(self)\u001B[39m\n\u001B[32m    103\u001B[39m obj_coeff[\u001B[33m\"\u001B[39m\u001B[33mP\u001B[39m\u001B[33m\"\u001B[39m] = to_numpy(obj_coeff[\u001B[33m\"\u001B[39m\u001B[33mP\u001B[39m\u001B[33m\"\u001B[39m])\n\u001B[32m    104\u001B[39m obj_coeff[\u001B[33m\"\u001B[39m\u001B[33mq\u001B[39m\u001B[33m\"\u001B[39m] = to_numpy(obj_coeff[\u001B[33m\"\u001B[39m\u001B[33mq\u001B[39m\u001B[33m\"\u001B[39m])\n\u001B[32m--> \u001B[39m\u001B[32m106\u001B[39m \u001B[38;5;28;43mself\u001B[39;49m\u001B[43m.\u001B[49m\u001B[43msolve_qpsolvers\u001B[49m\u001B[43m(\u001B[49m\u001B[43m)\u001B[49m\n\u001B[32m    107\u001B[39m \u001B[38;5;28;01mreturn\u001B[39;00m \u001B[38;5;28;01mNone\u001B[39;00m\n",
      "\u001B[36mFile \u001B[39m\u001B[32m~/wufam/wufam/optimization/optimization.py:111\u001B[39m, in \u001B[36mOptimization.solve_qpsolvers\u001B[39m\u001B[34m(self)\u001B[39m\n\u001B[32m    109\u001B[39m \u001B[38;5;28;01mdef\u001B[39;00m\u001B[38;5;250m \u001B[39m\u001B[34msolve_qpsolvers\u001B[39m(\u001B[38;5;28mself\u001B[39m) -> \u001B[38;5;28;01mNone\u001B[39;00m:\n\u001B[32m    110\u001B[39m     \u001B[38;5;28mself\u001B[39m.model_qpsolvers()\n\u001B[32m--> \u001B[39m\u001B[32m111\u001B[39m     \u001B[38;5;28;43mself\u001B[39;49m\u001B[43m.\u001B[49m\u001B[43mmodel\u001B[49m\u001B[43m.\u001B[49m\u001B[43msolve\u001B[49m\u001B[43m(\u001B[49m\u001B[43m)\u001B[49m\n\u001B[32m    113\u001B[39m     solution = \u001B[38;5;28mself\u001B[39m.model.results[\u001B[33m\"\u001B[39m\u001B[33msolution\u001B[39m\u001B[33m\"\u001B[39m]\n\u001B[32m    114\u001B[39m     status = solution.found\n",
      "\u001B[36mFile \u001B[39m\u001B[32m~/wufam/wufam/optimization/quadratic_program.py:196\u001B[39m, in \u001B[36mQuadraticProgram.solve\u001B[39m\u001B[34m(self)\u001B[39m\n\u001B[32m    193\u001B[39m             problem.G = spa.csc_matrix(problem.G)\n\u001B[32m    195\u001B[39m \u001B[38;5;66;03m# Solve the problem\u001B[39;00m\n\u001B[32m--> \u001B[39m\u001B[32m196\u001B[39m solution = \u001B[43mqpsolvers\u001B[49m\u001B[43m.\u001B[49m\u001B[43msolve_problem\u001B[49m\u001B[43m(\u001B[49m\n\u001B[32m    197\u001B[39m \u001B[43m    \u001B[49m\u001B[43mproblem\u001B[49m\u001B[43m=\u001B[49m\u001B[43mproblem\u001B[49m\u001B[43m,\u001B[49m\n\u001B[32m    198\u001B[39m \u001B[43m    \u001B[49m\u001B[43msolver\u001B[49m\u001B[43m=\u001B[49m\u001B[38;5;28;43mself\u001B[39;49m\u001B[43m.\u001B[49m\u001B[43msolver_settings\u001B[49m\u001B[43m[\u001B[49m\u001B[33;43m\"\u001B[39;49m\u001B[33;43msolver\u001B[39;49m\u001B[33;43m\"\u001B[39;49m\u001B[43m]\u001B[49m\u001B[43m,\u001B[49m\n\u001B[32m    199\u001B[39m \u001B[43m    \u001B[49m\u001B[43minitvals\u001B[49m\u001B[43m=\u001B[49m\u001B[38;5;28;43mself\u001B[39;49m\u001B[43m.\u001B[49m\u001B[43msolver_settings\u001B[49m\u001B[43m.\u001B[49m\u001B[43mget\u001B[49m\u001B[43m(\u001B[49m\u001B[33;43m\"\u001B[39;49m\u001B[33;43mx0\u001B[39;49m\u001B[33;43m\"\u001B[39;49m\u001B[43m)\u001B[49m\u001B[43m,\u001B[49m\n\u001B[32m    200\u001B[39m \u001B[43m    \u001B[49m\u001B[43mverbose\u001B[49m\u001B[43m=\u001B[49m\u001B[38;5;28;43;01mFalse\u001B[39;49;00m\u001B[43m,\u001B[49m\n\u001B[32m    201\u001B[39m \u001B[43m\u001B[49m\u001B[43m)\u001B[49m\n\u001B[32m    202\u001B[39m \u001B[38;5;28mself\u001B[39m.update_results({\u001B[33m\"\u001B[39m\u001B[33msolution\u001B[39m\u001B[33m\"\u001B[39m: solution})\n\u001B[32m    203\u001B[39m \u001B[38;5;28;01mreturn\u001B[39;00m \u001B[38;5;28;01mNone\u001B[39;00m\n",
      "\u001B[36mFile \u001B[39m\u001B[32m~/wufam/.venv/lib/python3.12/site-packages/qpsolvers/solve_problem.py:81\u001B[39m, in \u001B[36msolve_problem\u001B[39m\u001B[34m(problem, solver, initvals, verbose, **kwargs)\u001B[39m\n\u001B[32m     79\u001B[39m kwargs[\u001B[33m\"\u001B[39m\u001B[33mverbose\u001B[39m\u001B[33m\"\u001B[39m] = verbose\n\u001B[32m     80\u001B[39m \u001B[38;5;28;01mtry\u001B[39;00m:\n\u001B[32m---> \u001B[39m\u001B[32m81\u001B[39m     \u001B[38;5;28;01mreturn\u001B[39;00m \u001B[43msolve_function\u001B[49m\u001B[43m[\u001B[49m\u001B[43msolver\u001B[49m\u001B[43m]\u001B[49m\u001B[43m(\u001B[49m\u001B[43mproblem\u001B[49m\u001B[43m,\u001B[49m\u001B[43m \u001B[49m\u001B[43m*\u001B[49m\u001B[43m*\u001B[49m\u001B[43mkwargs\u001B[49m\u001B[43m)\u001B[49m\n\u001B[32m     82\u001B[39m \u001B[38;5;28;01mexcept\u001B[39;00m \u001B[38;5;167;01mKeyError\u001B[39;00m \u001B[38;5;28;01mas\u001B[39;00m e:\n\u001B[32m     83\u001B[39m     \u001B[38;5;28;01mraise\u001B[39;00m SolverNotFound(\n\u001B[32m     84\u001B[39m         \u001B[33mf\u001B[39m\u001B[33m\"\u001B[39m\u001B[33mfound solvers \u001B[39m\u001B[38;5;132;01m{\u001B[39;00mavailable_solvers\u001B[38;5;132;01m}\u001B[39;00m\u001B[33m \u001B[39m\u001B[33m\"\u001B[39m\n\u001B[32m     85\u001B[39m         \u001B[33mf\u001B[39m\u001B[33m\"\u001B[39m\u001B[33mbut \u001B[39m\u001B[33m'\u001B[39m\u001B[38;5;132;01m{\u001B[39;00msolver\u001B[38;5;132;01m}\u001B[39;00m\u001B[33m'\u001B[39m\u001B[33m is not one of them; if \u001B[39m\u001B[33m'\u001B[39m\u001B[38;5;132;01m{\u001B[39;00msolver\u001B[38;5;132;01m}\u001B[39;00m\u001B[33m'\u001B[39m\u001B[33m is \u001B[39m\u001B[33m\"\u001B[39m\n\u001B[32m     86\u001B[39m         \u001B[33mf\u001B[39m\u001B[33m\"\u001B[39m\u001B[33mlisted in https://github.com/qpsolvers/qpsolvers#solvers \u001B[39m\u001B[33m\"\u001B[39m\n\u001B[32m     87\u001B[39m         \u001B[33mf\u001B[39m\u001B[33m\"\u001B[39m\u001B[33myou can run ``pip install qpsolvers[\u001B[39m\u001B[38;5;132;01m{\u001B[39;00msolver\u001B[38;5;132;01m}\u001B[39;00m\u001B[33m]``\u001B[39m\u001B[33m\"\u001B[39m\n\u001B[32m     88\u001B[39m     ) \u001B[38;5;28;01mfrom\u001B[39;00m\u001B[38;5;250m \u001B[39m\u001B[34;01me\u001B[39;00m\n",
      "\u001B[36mFile \u001B[39m\u001B[32m~/wufam/.venv/lib/python3.12/site-packages/qpsolvers/solvers/cvxopt_.py:166\u001B[39m, in \u001B[36mcvxopt_solve_problem\u001B[39m\u001B[34m(problem, solver, initvals, verbose, **kwargs)\u001B[39m\n\u001B[32m    163\u001B[39m kwargs[\u001B[33m\"\u001B[39m\u001B[33mshow_progress\u001B[39m\u001B[33m\"\u001B[39m] = verbose\n\u001B[32m    165\u001B[39m \u001B[38;5;28;01mtry\u001B[39;00m:\n\u001B[32m--> \u001B[39m\u001B[32m166\u001B[39m     res = \u001B[43mqp\u001B[49m\u001B[43m(\u001B[49m\n\u001B[32m    167\u001B[39m \u001B[43m        \u001B[49m\u001B[43m*\u001B[49m\u001B[43margs\u001B[49m\u001B[43m,\u001B[49m\n\u001B[32m    168\u001B[39m \u001B[43m        \u001B[49m\u001B[43msolver\u001B[49m\u001B[43m=\u001B[49m\u001B[43msolver\u001B[49m\u001B[43m,\u001B[49m\n\u001B[32m    169\u001B[39m \u001B[43m        \u001B[49m\u001B[43minitvals\u001B[49m\u001B[43m=\u001B[49m\u001B[43minitvals_dict\u001B[49m\u001B[43m,\u001B[49m\n\u001B[32m    170\u001B[39m \u001B[43m        \u001B[49m\u001B[43moptions\u001B[49m\u001B[43m=\u001B[49m\u001B[43mkwargs\u001B[49m\u001B[43m,\u001B[49m\n\u001B[32m    171\u001B[39m \u001B[43m        \u001B[49m\u001B[43m*\u001B[49m\u001B[43m*\u001B[49m\u001B[43mconstraints\u001B[49m\u001B[43m,\u001B[49m\n\u001B[32m    172\u001B[39m \u001B[43m    \u001B[49m\u001B[43m)\u001B[49m\n\u001B[32m    173\u001B[39m \u001B[38;5;28;01mexcept\u001B[39;00m \u001B[38;5;167;01mValueError\u001B[39;00m \u001B[38;5;28;01mas\u001B[39;00m exception:\n\u001B[32m    174\u001B[39m     error = \u001B[38;5;28mstr\u001B[39m(exception)\n",
      "\u001B[36mFile \u001B[39m\u001B[32m~/wufam/.venv/lib/python3.12/site-packages/cvxopt/coneprog.py:4485\u001B[39m, in \u001B[36mqp\u001B[39m\u001B[34m(P, q, G, h, A, b, solver, kktsolver, initvals, **kwargs)\u001B[39m\n\u001B[32m   4475\u001B[39m         pinfres, dinfres = \u001B[38;5;28;01mNone\u001B[39;00m, \u001B[38;5;28;01mNone\u001B[39;00m\n\u001B[32m   4477\u001B[39m     \u001B[38;5;28;01mreturn\u001B[39;00m {\u001B[33m'\u001B[39m\u001B[33mstatus\u001B[39m\u001B[33m'\u001B[39m: status, \u001B[33m'\u001B[39m\u001B[33mx\u001B[39m\u001B[33m'\u001B[39m: x, \u001B[33m'\u001B[39m\u001B[33ms\u001B[39m\u001B[33m'\u001B[39m: s, \u001B[33m'\u001B[39m\u001B[33my\u001B[39m\u001B[33m'\u001B[39m: y, \u001B[33m'\u001B[39m\u001B[33mz\u001B[39m\u001B[33m'\u001B[39m: z,\n\u001B[32m   4478\u001B[39m         \u001B[33m'\u001B[39m\u001B[33mprimal objective\u001B[39m\u001B[33m'\u001B[39m: pcost, \u001B[33m'\u001B[39m\u001B[33mdual objective\u001B[39m\u001B[33m'\u001B[39m: dcost,\n\u001B[32m   4479\u001B[39m         \u001B[33m'\u001B[39m\u001B[33mgap\u001B[39m\u001B[33m'\u001B[39m: gap, \u001B[33m'\u001B[39m\u001B[33mrelative gap\u001B[39m\u001B[33m'\u001B[39m: relgap,\n\u001B[32m   (...)\u001B[39m\u001B[32m   4482\u001B[39m         \u001B[33m'\u001B[39m\u001B[33mresidual as primal infeasibility certificate\u001B[39m\u001B[33m'\u001B[39m: pinfres,\n\u001B[32m   4483\u001B[39m         \u001B[33m'\u001B[39m\u001B[33mresidual as dual infeasibility certificate\u001B[39m\u001B[33m'\u001B[39m: dinfres}\n\u001B[32m-> \u001B[39m\u001B[32m4485\u001B[39m \u001B[38;5;28;01mreturn\u001B[39;00m \u001B[43mconeqp\u001B[49m\u001B[43m(\u001B[49m\u001B[43mP\u001B[49m\u001B[43m,\u001B[49m\u001B[43m \u001B[49m\u001B[43mq\u001B[49m\u001B[43m,\u001B[49m\u001B[43m \u001B[49m\u001B[43mG\u001B[49m\u001B[43m,\u001B[49m\u001B[43m \u001B[49m\u001B[43mh\u001B[49m\u001B[43m,\u001B[49m\u001B[43m \u001B[49m\u001B[38;5;28;43;01mNone\u001B[39;49;00m\u001B[43m,\u001B[49m\u001B[43m \u001B[49m\u001B[43mA\u001B[49m\u001B[43m,\u001B[49m\u001B[43m  \u001B[49m\u001B[43mb\u001B[49m\u001B[43m,\u001B[49m\u001B[43m \u001B[49m\u001B[43minitvals\u001B[49m\u001B[43m,\u001B[49m\u001B[43m \u001B[49m\u001B[43mkktsolver\u001B[49m\u001B[43m \u001B[49m\u001B[43m=\u001B[49m\u001B[43m \u001B[49m\u001B[43mkktsolver\u001B[49m\u001B[43m,\u001B[49m\u001B[43m \u001B[49m\u001B[43moptions\u001B[49m\u001B[43m \u001B[49m\u001B[43m=\u001B[49m\u001B[43m \u001B[49m\u001B[43moptions\u001B[49m\u001B[43m)\u001B[49m\n",
      "\u001B[36mFile \u001B[39m\u001B[32m~/wufam/.venv/lib/python3.12/site-packages/cvxopt/coneprog.py:2534\u001B[39m, in \u001B[36mconeqp\u001B[39m\u001B[34m(P, q, G, h, dims, A, b, initvals, kktsolver, xnewcopy, xdot, xaxpy, xscal, ynewcopy, ydot, yaxpy, yscal, **kwargs)\u001B[39m\n\u001B[32m   2532\u001B[39m     ind += m\n\u001B[32m   2533\u001B[39m     ind2 += m*m\n\u001B[32m-> \u001B[39m\u001B[32m2534\u001B[39m \u001B[43mmisc\u001B[49m\u001B[43m.\u001B[49m\u001B[43mscale\u001B[49m\u001B[43m(\u001B[49m\u001B[43ms\u001B[49m\u001B[43m,\u001B[49m\u001B[43m \u001B[49m\u001B[43mW\u001B[49m\u001B[43m,\u001B[49m\u001B[43m \u001B[49m\u001B[43mtrans\u001B[49m\u001B[43m \u001B[49m\u001B[43m=\u001B[49m\u001B[43m \u001B[49m\u001B[33;43m'\u001B[39;49m\u001B[33;43mT\u001B[39;49m\u001B[33;43m'\u001B[39;49m\u001B[43m)\u001B[49m\n\u001B[32m   2536\u001B[39m blas.copy(lmbda, z, n = dims[\u001B[33m'\u001B[39m\u001B[33ml\u001B[39m\u001B[33m'\u001B[39m] + \u001B[38;5;28msum\u001B[39m(dims[\u001B[33m'\u001B[39m\u001B[33mq\u001B[39m\u001B[33m'\u001B[39m]))\n\u001B[32m   2537\u001B[39m ind = dims[\u001B[33m'\u001B[39m\u001B[33ml\u001B[39m\u001B[33m'\u001B[39m] + \u001B[38;5;28msum\u001B[39m(dims[\u001B[33m'\u001B[39m\u001B[33mq\u001B[39m\u001B[33m'\u001B[39m])\n",
      "\u001B[31mKeyboardInterrupt\u001B[39m: "
     ]
    }
   ],
   "execution_count": 41
  },
  {
   "metadata": {
    "ExecuteTime": {
     "end_time": "2025-08-07T12:25:21.009132Z",
     "start_time": "2025-08-07T12:04:30.458550Z"
    }
   },
   "cell_type": "code",
   "source": "evaluate_strategy(min_var_lw_strategy)",
   "id": "a6569653d35553d9",
   "outputs": [
    {
     "name": "stderr",
     "output_type": "stream",
     "text": [
      "Optimizing Strategy: 100%|██████████| 659/659 [00:01<00:00, 584.24it/s]\n"
     ]
    },
    {
     "data": {
      "text/plain": [
       "(1.227326905475528, np.float64(0.9037496358078545))"
      ]
     },
     "execution_count": 19,
     "metadata": {},
     "output_type": "execute_result"
    }
   ],
   "execution_count": 19
  },
  {
   "metadata": {
    "ExecuteTime": {
     "end_time": "2025-08-07T12:25:21.009264Z",
     "start_time": "2025-08-07T12:04:32.080073Z"
    }
   },
   "cell_type": "code",
   "source": "evaluate_strategy(min_var_factor_strategy)",
   "id": "7d9f9d5563b0443d",
   "outputs": [
    {
     "name": "stderr",
     "output_type": "stream",
     "text": [
      "Optimizing Strategy: 100%|██████████| 659/659 [00:15<00:00, 42.60it/s]\n"
     ]
    },
    {
     "data": {
      "text/plain": [
       "(1.1740884083611147, np.float64(0.9828498585878805))"
      ]
     },
     "execution_count": 20,
     "metadata": {},
     "output_type": "execute_result"
    }
   ],
   "execution_count": 20
  },
  {
   "metadata": {
    "ExecuteTime": {
     "end_time": "2025-08-07T12:25:21.009486Z",
     "start_time": "2025-08-07T12:04:48.050209Z"
    }
   },
   "cell_type": "code",
   "source": "evaluate_strategy(min_var_qis_strategy)",
   "id": "2ab8c47daab66825",
   "outputs": [
    {
     "name": "stderr",
     "output_type": "stream",
     "text": [
      "Optimizing Strategy: 100%|██████████| 659/659 [00:01<00:00, 356.81it/s]\n"
     ]
    },
    {
     "data": {
      "text/plain": [
       "(1.0747897587797615, np.float64(1.5307430135354767))"
      ]
     },
     "execution_count": 21,
     "metadata": {},
     "output_type": "execute_result"
    }
   ],
   "execution_count": 21
  },
  {
   "metadata": {
    "ExecuteTime": {
     "end_time": "2025-08-07T12:25:21.011358Z",
     "start_time": "2025-08-07T12:04:50.408256Z"
    }
   },
   "cell_type": "code",
   "source": "evaluate_strategy(vol_managed_strategy)",
   "id": "b0bf640c60c62",
   "outputs": [
    {
     "name": "stderr",
     "output_type": "stream",
     "text": [
      "Optimizing Strategy: 100%|██████████| 659/659 [00:01<00:00, 655.41it/s] \n"
     ]
    },
    {
     "data": {
      "text/plain": [
       "(0.5398630805684842, np.float64(0.44095377787995244))"
      ]
     },
     "execution_count": 22,
     "metadata": {},
     "output_type": "execute_result"
    }
   ],
   "execution_count": 22
  },
  {
   "metadata": {
    "ExecuteTime": {
     "end_time": "2025-08-07T12:25:21.011562Z",
     "start_time": "2025-08-07T12:04:51.927871Z"
    }
   },
   "cell_type": "code",
   "source": "evaluate_strategy(min_var_lw_cv_strategy)",
   "id": "b7487ffa08de9eca",
   "outputs": [
    {
     "name": "stderr",
     "output_type": "stream",
     "text": [
      "Optimizing Strategy:  67%|██████▋   | 443/659 [02:02<00:59,  3.62it/s]\n"
     ]
    },
    {
     "ename": "KeyboardInterrupt",
     "evalue": "",
     "output_type": "error",
     "traceback": [
      "\u001B[31m---------------------------------------------------------------------------\u001B[39m",
      "\u001B[31mKeyboardInterrupt\u001B[39m                         Traceback (most recent call last)",
      "\u001B[36mCell\u001B[39m\u001B[36m \u001B[39m\u001B[32mIn[23]\u001B[39m\u001B[32m, line 1\u001B[39m\n\u001B[32m----> \u001B[39m\u001B[32m1\u001B[39m \u001B[43mevaluate_strategy\u001B[49m\u001B[43m(\u001B[49m\u001B[43mmin_var_lw_cv_strategy\u001B[49m\u001B[43m)\u001B[49m\n",
      "\u001B[36mCell\u001B[39m\u001B[36m \u001B[39m\u001B[32mIn[14]\u001B[39m\u001B[32m, line 2\u001B[39m, in \u001B[36mevaluate_strategy\u001B[39m\u001B[34m(strategy, return_weights)\u001B[39m\n\u001B[32m      1\u001B[39m \u001B[38;5;28;01mdef\u001B[39;00m\u001B[38;5;250m \u001B[39m\u001B[34mevaluate_strategy\u001B[39m(strategy: BaseStrategy, return_weights: \u001B[38;5;28mbool\u001B[39m = \u001B[38;5;28;01mFalse\u001B[39;00m) -> \u001B[38;5;28mtuple\u001B[39m[\u001B[38;5;28mfloat\u001B[39m, \u001B[38;5;28mfloat\u001B[39m]:\n\u001B[32m----> \u001B[39m\u001B[32m2\u001B[39m     total_r, turnover = \u001B[43mrun_rolling_backtest\u001B[49m\u001B[43m(\u001B[49m\n\u001B[32m      3\u001B[39m \u001B[43m        \u001B[49m\u001B[43mstrategy\u001B[49m\u001B[43m=\u001B[49m\u001B[43mstrategy\u001B[49m\u001B[43m,\u001B[49m\n\u001B[32m      4\u001B[39m \u001B[43m        \u001B[49m\u001B[43mexcess_returns\u001B[49m\u001B[43m=\u001B[49m\u001B[43mportfolios_xs_r\u001B[49m\u001B[43m,\u001B[49m\n\u001B[32m      5\u001B[39m \u001B[43m        \u001B[49m\u001B[43mfactors\u001B[49m\u001B[43m=\u001B[49m\u001B[43mfactors_df\u001B[49m\u001B[43m,\u001B[49m\n\u001B[32m      6\u001B[39m \u001B[43m        \u001B[49m\u001B[43mrf\u001B[49m\u001B[43m=\u001B[49m\u001B[43mrf\u001B[49m\u001B[43m,\u001B[49m\n\u001B[32m      7\u001B[39m \u001B[43m        \u001B[49m\u001B[43mfreq\u001B[49m\u001B[43m=\u001B[49m\u001B[33;43m\"\u001B[39;49m\u001B[33;43mM\u001B[39;49m\u001B[33;43m\"\u001B[39;49m\u001B[43m,\u001B[49m\n\u001B[32m      8\u001B[39m \u001B[43m        \u001B[49m\u001B[43mtrading_lag\u001B[49m\u001B[43m=\u001B[49m\u001B[32;43m1\u001B[39;49m\u001B[43m,\u001B[49m\n\u001B[32m      9\u001B[39m \u001B[43m    \u001B[49m\u001B[43m)\u001B[49m\n\u001B[32m     11\u001B[39m     sr = calc_sharpe(\n\u001B[32m     12\u001B[39m         strategy_total_r=total_r,\n\u001B[32m     13\u001B[39m         rf_rate=rf,\n\u001B[32m     14\u001B[39m         factor_annualize=FACTOR_ANNUALIZE,\n\u001B[32m     15\u001B[39m     )\n\u001B[32m     17\u001B[39m     avg_turnover = turnover.iloc[\u001B[32m1\u001B[39m:].mean()\n",
      "\u001B[36mFile \u001B[39m\u001B[32m~/wufam/wufam/backtest/rolling_backtest.py:25\u001B[39m, in \u001B[36mrun_rolling_backtest\u001B[39m\u001B[34m(strategy, excess_returns, factors, rf, freq, trading_lag, window_size)\u001B[39m\n\u001B[32m     12\u001B[39m \u001B[38;5;28;01mdef\u001B[39;00m\u001B[38;5;250m \u001B[39m\u001B[34mrun_rolling_backtest\u001B[39m(\n\u001B[32m     13\u001B[39m     strategy: BaseStrategy,\n\u001B[32m     14\u001B[39m     excess_returns: pd.DataFrame,\n\u001B[32m   (...)\u001B[39m\u001B[32m     19\u001B[39m     window_size: \u001B[38;5;28mint\u001B[39m | \u001B[38;5;28;01mNone\u001B[39;00m = \u001B[38;5;28;01mNone\u001B[39;00m,\n\u001B[32m     20\u001B[39m ) -> \u001B[38;5;28mtuple\u001B[39m[pd.DataFrame, pd.Series]:\n\u001B[32m     21\u001B[39m     schedule = generate_rebal_schedule(\n\u001B[32m     22\u001B[39m         dates=excess_returns.index, ret=excess_returns, freq=freq\n\u001B[32m     23\u001B[39m     )\n\u001B[32m---> \u001B[39m\u001B[32m25\u001B[39m     weights = \u001B[43mget_rolling_weights\u001B[49m\u001B[43m(\u001B[49m\n\u001B[32m     26\u001B[39m \u001B[43m        \u001B[49m\u001B[43mstrategy\u001B[49m\u001B[43m,\u001B[49m\u001B[43m \u001B[49m\u001B[43mexcess_returns\u001B[49m\u001B[43m,\u001B[49m\u001B[43m \u001B[49m\u001B[43mfactors\u001B[49m\u001B[43m,\u001B[49m\u001B[43m \u001B[49m\u001B[43mschedule\u001B[49m\u001B[43m,\u001B[49m\u001B[43m \u001B[49m\u001B[43mtrading_lag\u001B[49m\u001B[43m,\u001B[49m\u001B[43m \u001B[49m\u001B[43mwindow_size\u001B[49m\n\u001B[32m     27\u001B[39m \u001B[43m    \u001B[49m\u001B[43m)\u001B[49m.astype(\u001B[38;5;28mfloat\u001B[39m)\n\u001B[32m     29\u001B[39m     total_returns = excess_returns.add(rf, axis=\u001B[32m0\u001B[39m)\n\u001B[32m     30\u001B[39m     me_weights, strategy_total_r = float_weights(\n\u001B[32m     31\u001B[39m         total_returns=total_returns, weights=weights, rf=rf\n\u001B[32m     32\u001B[39m     )\n",
      "\u001B[36mFile \u001B[39m\u001B[32m~/wufam/wufam/backtest/rolling_backtest.py:87\u001B[39m, in \u001B[36mget_rolling_weights\u001B[39m\u001B[34m(strategy, excess_returns, factors, schedule, trading_lag, window_size)\u001B[39m\n\u001B[32m     78\u001B[39m         start_date = \u001B[38;5;28;01mNone\u001B[39;00m\n\u001B[32m     80\u001B[39m     training_data = TrainingData(\n\u001B[32m     81\u001B[39m         simple_excess_returns=excess_returns.loc[\n\u001B[32m     82\u001B[39m             start_date : date - pd.Timedelta(trading_lag)\n\u001B[32m     83\u001B[39m         ],\n\u001B[32m     84\u001B[39m         factors=factors.loc[start_date : date - pd.Timedelta(trading_lag)],\n\u001B[32m     85\u001B[39m     )\n\u001B[32m---> \u001B[39m\u001B[32m87\u001B[39m     \u001B[43mstrategy\u001B[49m\u001B[43m.\u001B[49m\u001B[43mfit\u001B[49m\u001B[43m(\u001B[49m\u001B[43mtraining_data\u001B[49m\u001B[43m)\u001B[49m\n\u001B[32m     89\u001B[39m     weights.loc[date, :] = strategy(PredictionData()).to_numpy()\n\u001B[32m     91\u001B[39m \u001B[38;5;28;01mreturn\u001B[39;00m weights\n",
      "\u001B[36mFile \u001B[39m\u001B[32m~/wufam/wufam/strategies/base_strategy.py:61\u001B[39m, in \u001B[36mBaseStrategy.fit\u001B[39m\u001B[34m(self, training_data)\u001B[39m\n\u001B[32m     50\u001B[39m training_data.simple_excess_returns = (\n\u001B[32m     51\u001B[39m     training_data.simple_excess_returns[available_stocks]\n\u001B[32m     52\u001B[39m     \u001B[38;5;28;01mif\u001B[39;00m training_data.simple_excess_returns \u001B[38;5;129;01mis\u001B[39;00m \u001B[38;5;129;01mnot\u001B[39;00m \u001B[38;5;28;01mNone\u001B[39;00m\n\u001B[32m     53\u001B[39m     \u001B[38;5;28;01melse\u001B[39;00m \u001B[38;5;28;01mNone\u001B[39;00m\n\u001B[32m     54\u001B[39m )\n\u001B[32m     55\u001B[39m training_data.log_excess_returns = (\n\u001B[32m     56\u001B[39m     training_data.log_excess_returns[available_stocks]\n\u001B[32m     57\u001B[39m     \u001B[38;5;28;01mif\u001B[39;00m training_data.log_excess_returns \u001B[38;5;129;01mis\u001B[39;00m \u001B[38;5;129;01mnot\u001B[39;00m \u001B[38;5;28;01mNone\u001B[39;00m\n\u001B[32m     58\u001B[39m     \u001B[38;5;28;01melse\u001B[39;00m \u001B[38;5;28;01mNone\u001B[39;00m\n\u001B[32m     59\u001B[39m )\n\u001B[32m---> \u001B[39m\u001B[32m61\u001B[39m \u001B[38;5;28;43mself\u001B[39;49m\u001B[43m.\u001B[49m\u001B[43m_fit\u001B[49m\u001B[43m(\u001B[49m\u001B[43mtraining_data\u001B[49m\u001B[43m=\u001B[49m\u001B[43mtraining_data\u001B[49m\u001B[43m)\u001B[49m\n",
      "\u001B[36mFile \u001B[39m\u001B[32m~/wufam/wufam/strategies/optimized/base_estimated_strategy.py:64\u001B[39m, in \u001B[36mBaseEstimatedStrategy._fit\u001B[39m\u001B[34m(self, training_data)\u001B[39m\n\u001B[32m     53\u001B[39m training_data.log_excess_returns = (\n\u001B[32m     54\u001B[39m     training_data.log_excess_returns.loc[start_date:, \u001B[38;5;28mself\u001B[39m.available_assets]\n\u001B[32m     55\u001B[39m     \u001B[38;5;28;01mif\u001B[39;00m training_data.log_excess_returns \u001B[38;5;129;01mis\u001B[39;00m \u001B[38;5;129;01mnot\u001B[39;00m \u001B[38;5;28;01mNone\u001B[39;00m\n\u001B[32m     56\u001B[39m     \u001B[38;5;28;01melse\u001B[39;00m \u001B[38;5;28;01mNone\u001B[39;00m\n\u001B[32m     57\u001B[39m )\n\u001B[32m     58\u001B[39m training_data.factors = (\n\u001B[32m     59\u001B[39m     training_data.factors.loc[start_date:]\n\u001B[32m     60\u001B[39m     \u001B[38;5;28;01mif\u001B[39;00m training_data.factors \u001B[38;5;129;01mis\u001B[39;00m \u001B[38;5;129;01mnot\u001B[39;00m \u001B[38;5;28;01mNone\u001B[39;00m\n\u001B[32m     61\u001B[39m     \u001B[38;5;28;01melse\u001B[39;00m \u001B[38;5;28;01mNone\u001B[39;00m\n\u001B[32m     62\u001B[39m )\n\u001B[32m---> \u001B[39m\u001B[32m64\u001B[39m \u001B[38;5;28;43mself\u001B[39;49m\u001B[43m.\u001B[49m\u001B[43m_fit_estimator\u001B[49m\u001B[43m(\u001B[49m\u001B[43mtraining_data\u001B[49m\u001B[43m=\u001B[49m\u001B[43mtraining_data\u001B[49m\u001B[43m)\u001B[49m\n",
      "\u001B[36mFile \u001B[39m\u001B[32m~/wufam/wufam/strategies/optimized/min_var.py:32\u001B[39m, in \u001B[36mMinVariance._fit_estimator\u001B[39m\u001B[34m(self, training_data)\u001B[39m\n\u001B[32m     31\u001B[39m \u001B[38;5;28;01mdef\u001B[39;00m\u001B[38;5;250m \u001B[39m\u001B[34m_fit_estimator\u001B[39m(\u001B[38;5;28mself\u001B[39m, training_data: TrainingData) -> \u001B[38;5;28;01mNone\u001B[39;00m:\n\u001B[32m---> \u001B[39m\u001B[32m32\u001B[39m     \u001B[38;5;28;43mself\u001B[39;49m\u001B[43m.\u001B[49m\u001B[43mcov_estimator\u001B[49m\u001B[43m.\u001B[49m\u001B[43mfit\u001B[49m\u001B[43m(\u001B[49m\u001B[43mtraining_data\u001B[49m\u001B[43m)\u001B[49m\n",
      "\u001B[36mFile \u001B[39m\u001B[32m~/wufam/wufam/estimation/covariance/base_cov_estimator.py:29\u001B[39m, in \u001B[36mBaseCovEstimator.fit\u001B[39m\u001B[34m(self, training_data)\u001B[39m\n\u001B[32m     28\u001B[39m \u001B[38;5;28;01mdef\u001B[39;00m\u001B[38;5;250m \u001B[39m\u001B[34mfit\u001B[39m(\u001B[38;5;28mself\u001B[39m, training_data: TrainingData) -> \u001B[38;5;28;01mNone\u001B[39;00m:\n\u001B[32m---> \u001B[39m\u001B[32m29\u001B[39m     \u001B[38;5;28;43mself\u001B[39;49m\u001B[43m.\u001B[49m\u001B[43m_fit\u001B[49m\u001B[43m(\u001B[49m\u001B[43mtraining_data\u001B[49m\u001B[43m=\u001B[49m\u001B[43mtraining_data\u001B[49m\u001B[43m)\u001B[49m\n\u001B[32m     30\u001B[39m     \u001B[38;5;28mself\u001B[39m._fitted = \u001B[38;5;28;01mTrue\u001B[39;00m\n",
      "\u001B[36mFile \u001B[39m\u001B[32m~/wufam/wufam/estimation/covariance/shrinkage/lw_cv_cov_estimator.py:42\u001B[39m, in \u001B[36mLedoitWolfCVCovEstimator._fit\u001B[39m\u001B[34m(self, training_data)\u001B[39m\n\u001B[32m     39\u001B[39m ret = training_data.simple_excess_returns\n\u001B[32m     41\u001B[39m \u001B[38;5;28;01mif\u001B[39;00m \u001B[38;5;28mself\u001B[39m.alphas \u001B[38;5;129;01mis\u001B[39;00m \u001B[38;5;129;01mnot\u001B[39;00m \u001B[38;5;28;01mNone\u001B[39;00m:\n\u001B[32m---> \u001B[39m\u001B[32m42\u001B[39m     \u001B[38;5;28mself\u001B[39m.best_alpha = \u001B[38;5;28;43mself\u001B[39;49m\u001B[43m.\u001B[49m\u001B[43m_find_cv_shrinkage\u001B[49m\u001B[43m(\u001B[49m\u001B[43mret\u001B[49m\u001B[43m)\u001B[49m\n\u001B[32m     43\u001B[39m     \u001B[38;5;28mself\u001B[39m.history_alphas.append(\u001B[38;5;28mself\u001B[39m.best_alpha)\n\u001B[32m     45\u001B[39m     lw = ShrunkCovariance(shrinkage=\u001B[38;5;28mself\u001B[39m.best_alpha)\n",
      "\u001B[36mFile \u001B[39m\u001B[32m~/wufam/wufam/estimation/covariance/shrinkage/lw_cv_cov_estimator.py:64\u001B[39m, in \u001B[36mLedoitWolfCVCovEstimator._find_cv_shrinkage\u001B[39m\u001B[34m(self, ret)\u001B[39m\n\u001B[32m     62\u001B[39m     lw = ShrunkCovariance(shrinkage=alpha)\n\u001B[32m     63\u001B[39m     lw.fit(ret.iloc[train])\n\u001B[32m---> \u001B[39m\u001B[32m64\u001B[39m     scores.append(\u001B[38;5;28;43mself\u001B[39;49m\u001B[43m.\u001B[49m\u001B[43m_evaluate_covariance\u001B[49m\u001B[43m(\u001B[49m\u001B[43mlw\u001B[49m\u001B[43m.\u001B[49m\u001B[43mcovariance_\u001B[49m\u001B[43m,\u001B[49m\u001B[43m \u001B[49m\u001B[43mret\u001B[49m\u001B[43m.\u001B[49m\u001B[43miloc\u001B[49m\u001B[43m[\u001B[49m\u001B[43mtest\u001B[49m\u001B[43m]\u001B[49m\u001B[43m)\u001B[49m)\n\u001B[32m     66\u001B[39m score = np.mean(scores)\n\u001B[32m     67\u001B[39m \u001B[38;5;28;01mif\u001B[39;00m score < best_score:\n",
      "\u001B[36mFile \u001B[39m\u001B[32m~/wufam/wufam/estimation/covariance/shrinkage/lw_cv_cov_estimator.py:84\u001B[39m, in \u001B[36mLedoitWolfCVCovEstimator._evaluate_covariance\u001B[39m\u001B[34m(covmat, rets)\u001B[39m\n\u001B[32m     81\u001B[39m w_opt = covmat_inv @ ones\n\u001B[32m     82\u001B[39m w_opt = w_opt / np.sum(w_opt)\n\u001B[32m---> \u001B[39m\u001B[32m84\u001B[39m \u001B[38;5;28;01mreturn\u001B[39;00m w_opt.T @ \u001B[43mrets\u001B[49m\u001B[43m.\u001B[49m\u001B[43mcov\u001B[49m\u001B[43m(\u001B[49m\u001B[43m)\u001B[49m @ w_opt\n",
      "\u001B[36mFile \u001B[39m\u001B[32m~/wufam/.venv/lib/python3.12/site-packages/pandas/core/frame.py:11224\u001B[39m, in \u001B[36mDataFrame.cov\u001B[39m\u001B[34m(self, min_periods, ddof, numeric_only)\u001B[39m\n\u001B[32m  11221\u001B[39m     base_cov = libalgos.nancorr(mat, cov=\u001B[38;5;28;01mTrue\u001B[39;00m, minp=min_periods)\n\u001B[32m  11223\u001B[39m result = \u001B[38;5;28mself\u001B[39m._constructor(base_cov, index=idx, columns=cols, copy=\u001B[38;5;28;01mFalse\u001B[39;00m)\n\u001B[32m> \u001B[39m\u001B[32m11224\u001B[39m \u001B[38;5;28;01mreturn\u001B[39;00m \u001B[43mresult\u001B[49m\u001B[43m.\u001B[49m\u001B[43m__finalize__\u001B[49m\u001B[43m(\u001B[49m\u001B[38;5;28;43mself\u001B[39;49m\u001B[43m,\u001B[49m\u001B[43m \u001B[49m\u001B[43mmethod\u001B[49m\u001B[43m=\u001B[49m\u001B[33;43m\"\u001B[39;49m\u001B[33;43mcov\u001B[39;49m\u001B[33;43m\"\u001B[39;49m\u001B[43m)\u001B[49m\n",
      "\u001B[36mFile \u001B[39m\u001B[32m~/wufam/.venv/lib/python3.12/site-packages/pandas/core/generic.py:6281\u001B[39m, in \u001B[36mNDFrame.__finalize__\u001B[39m\u001B[34m(self, other, method, **kwargs)\u001B[39m\n\u001B[32m   6274\u001B[39m \u001B[38;5;28;01mif\u001B[39;00m other.attrs:\n\u001B[32m   6275\u001B[39m     \u001B[38;5;66;03m# We want attrs propagation to have minimal performance\u001B[39;00m\n\u001B[32m   6276\u001B[39m     \u001B[38;5;66;03m# impact if attrs are not used; i.e. attrs is an empty dict.\u001B[39;00m\n\u001B[32m   6277\u001B[39m     \u001B[38;5;66;03m# One could make the deepcopy unconditionally, but a deepcopy\u001B[39;00m\n\u001B[32m   6278\u001B[39m     \u001B[38;5;66;03m# of an empty dict is 50x more expensive than the empty check.\u001B[39;00m\n\u001B[32m   6279\u001B[39m     \u001B[38;5;28mself\u001B[39m.attrs = deepcopy(other.attrs)\n\u001B[32m-> \u001B[39m\u001B[32m6281\u001B[39m \u001B[38;5;28;43mself\u001B[39;49m\u001B[43m.\u001B[49m\u001B[43mflags\u001B[49m\u001B[43m.\u001B[49m\u001B[43mallows_duplicate_labels\u001B[49m = other.flags.allows_duplicate_labels\n\u001B[32m   6282\u001B[39m \u001B[38;5;66;03m# For subclasses using _metadata.\u001B[39;00m\n\u001B[32m   6283\u001B[39m \u001B[38;5;28;01mfor\u001B[39;00m name \u001B[38;5;129;01min\u001B[39;00m \u001B[38;5;28mset\u001B[39m(\u001B[38;5;28mself\u001B[39m._metadata) & \u001B[38;5;28mset\u001B[39m(other._metadata):\n",
      "\u001B[36mFile \u001B[39m\u001B[32m~/wufam/.venv/lib/python3.12/site-packages/pandas/core/flags.py:87\u001B[39m, in \u001B[36mFlags.allows_duplicate_labels\u001B[39m\u001B[34m(self, value)\u001B[39m\n\u001B[32m     57\u001B[39m \u001B[38;5;250m    \u001B[39m\u001B[33;03m\"\"\"\u001B[39;00m\n\u001B[32m     58\u001B[39m \u001B[33;03m    Whether this object allows duplicate labels.\u001B[39;00m\n\u001B[32m     59\u001B[39m \n\u001B[32m   (...)\u001B[39m\u001B[32m     83\u001B[39m \u001B[33;03m    a        [0, 1]\u001B[39;00m\n\u001B[32m     84\u001B[39m \u001B[33;03m    \"\"\"\u001B[39;00m\n\u001B[32m     85\u001B[39m     \u001B[38;5;28;01mreturn\u001B[39;00m \u001B[38;5;28mself\u001B[39m._allows_duplicate_labels\n\u001B[32m---> \u001B[39m\u001B[32m87\u001B[39m \u001B[38;5;129m@allows_duplicate_labels\u001B[39m.setter\n\u001B[32m     88\u001B[39m \u001B[38;5;28;01mdef\u001B[39;00m\u001B[38;5;250m \u001B[39m\u001B[34mallows_duplicate_labels\u001B[39m(\u001B[38;5;28mself\u001B[39m, value: \u001B[38;5;28mbool\u001B[39m) -> \u001B[38;5;28;01mNone\u001B[39;00m:\n\u001B[32m     89\u001B[39m     value = \u001B[38;5;28mbool\u001B[39m(value)\n\u001B[32m     90\u001B[39m     obj = \u001B[38;5;28mself\u001B[39m._obj()\n",
      "\u001B[31mKeyboardInterrupt\u001B[39m: "
     ]
    }
   ],
   "execution_count": 23
  },
  {
   "metadata": {
    "ExecuteTime": {
     "end_time": "2025-08-07T12:25:21.011851Z",
     "start_time": "2025-08-07T09:47:51.678011Z"
    }
   },
   "cell_type": "code",
   "source": "min_var_lw_cv_strategy.cov_estimator.best_alpha",
   "id": "388b0e2965e37355",
   "outputs": [
    {
     "data": {
      "text/plain": [
       "np.float64(0.05050505050505051)"
      ]
     },
     "execution_count": 22,
     "metadata": {},
     "output_type": "execute_result"
    }
   ],
   "execution_count": 22
  }
 ],
 "metadata": {
  "kernelspec": {
   "display_name": "Python 3",
   "language": "python",
   "name": "python3"
  },
  "language_info": {
   "codemirror_mode": {
    "name": "ipython",
    "version": 2
   },
   "file_extension": ".py",
   "mimetype": "text/x-python",
   "name": "python",
   "nbconvert_exporter": "python",
   "pygments_lexer": "ipython2",
   "version": "2.7.6"
  }
 },
 "nbformat": 4,
 "nbformat_minor": 5
}
