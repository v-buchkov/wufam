{
 "cells": [
  {
   "cell_type": "code",
   "id": "47ae993bb1d90d3f",
   "metadata": {
    "ExecuteTime": {
     "end_time": "2025-08-07T23:39:07.579797Z",
     "start_time": "2025-08-07T23:39:07.564193Z"
    }
   },
   "source": [
    "from __future__ import annotations\n",
    "\n",
    "%load_ext autoreload\n",
    "%autoreload 2"
   ],
   "outputs": [],
   "execution_count": 1
  },
  {
   "metadata": {
    "ExecuteTime": {
     "end_time": "2025-08-07T23:39:07.737282Z",
     "start_time": "2025-08-07T23:39:07.583162Z"
    }
   },
   "cell_type": "code",
   "source": [
    "from pathlib import Path\n",
    "\n",
    "\n",
    "from wufam.data.prepare_data import read_kf_data\n",
    "from wufam.dataset import Dataset\n",
    "\n",
    "PATH = Path(\"../data/kf_data\")\n",
    "START = \"1970-01-01\"\n",
    "END = \"2024-12-31\"\n",
    "DATASET = Dataset.BM_25_M\n",
    "FACTORS_DATASET = Dataset.FACTORS_M\n",
    "WEIGHTING = \"value_weighted\"\n",
    "FACTOR_ANNUALIZE = 12"
   ],
   "id": "29cce29f36aca8a8",
   "outputs": [],
   "execution_count": 2
  },
  {
   "cell_type": "markdown",
   "id": "1ac5790467715af0",
   "metadata": {},
   "source": "## 1.1"
  },
  {
   "cell_type": "code",
   "id": "5f96001686f357d3",
   "metadata": {
    "ExecuteTime": {
     "end_time": "2025-08-07T23:39:07.780390Z",
     "start_time": "2025-08-07T23:39:07.740875Z"
    }
   },
   "source": [
    "portfolios_total_r, portfolios_xs_r, factors_df, rf = read_kf_data(\n",
    "    portfolios_filename=PATH / DATASET,\n",
    "    factors_filename=PATH / FACTORS_DATASET,\n",
    "    start_date=START,\n",
    "    end_date=END,\n",
    "    weighting=WEIGHTING,\n",
    ")"
   ],
   "outputs": [],
   "execution_count": 3
  },
  {
   "cell_type": "code",
   "id": "e1493496e5034b",
   "metadata": {
    "ExecuteTime": {
     "end_time": "2025-08-07T23:39:07.791910Z",
     "start_time": "2025-08-07T23:39:07.786056Z"
    }
   },
   "source": [
    "assert (\n",
    "    portfolios_total_r.shape[0]\n",
    "    == portfolios_xs_r.shape[0]\n",
    "    == factors_df.shape[0]\n",
    "    == rf.shape[0]\n",
    ")"
   ],
   "outputs": [],
   "execution_count": 4
  },
  {
   "cell_type": "markdown",
   "id": "82b75196feffd992",
   "metadata": {},
   "source": "## 1.4"
  },
  {
   "cell_type": "code",
   "id": "a4eac11242e2946f",
   "metadata": {
    "ExecuteTime": {
     "end_time": "2025-08-07T23:39:08.321579Z",
     "start_time": "2025-08-07T23:39:07.797594Z"
    }
   },
   "source": [
    "from wufam.ap.uncond_factor_model import UncondFactorModel\n",
    "\n",
    "capm = UncondFactorModel()\n",
    "capm.fit(\n",
    "    test_assets_xs_r=portfolios_xs_r,\n",
    "    factors_df=factors_df[[\"Mkt-RF\"]],\n",
    ")"
   ],
   "outputs": [],
   "execution_count": 5
  },
  {
   "cell_type": "code",
   "id": "abab604528d372b9",
   "metadata": {
    "ExecuteTime": {
     "end_time": "2025-08-07T23:39:08.341236Z",
     "start_time": "2025-08-07T23:39:08.330299Z"
    }
   },
   "source": [
    "capm.grs_stat, capm.p_value"
   ],
   "outputs": [
    {
     "data": {
      "text/plain": [
       "(np.float64(3.9398895265603717), np.float64(8.56728799231513e-10))"
      ]
     },
     "execution_count": 6,
     "metadata": {},
     "output_type": "execute_result"
    }
   ],
   "execution_count": 6
  },
  {
   "cell_type": "markdown",
   "id": "6c7e273ed9c35caf",
   "metadata": {},
   "source": "Try monthly"
  },
  {
   "cell_type": "code",
   "id": "7e93d54779ab187c",
   "metadata": {
    "ExecuteTime": {
     "end_time": "2025-08-07T23:39:08.385924Z",
     "start_time": "2025-08-07T23:39:08.348219Z"
    }
   },
   "source": [
    "ff_model = UncondFactorModel()\n",
    "ff_model.fit(\n",
    "    test_assets_xs_r=portfolios_xs_r,\n",
    "    factors_df=factors_df,\n",
    ")"
   ],
   "outputs": [],
   "execution_count": 7
  },
  {
   "cell_type": "code",
   "id": "55c318517b60a9b8",
   "metadata": {
    "ExecuteTime": {
     "end_time": "2025-08-07T23:39:08.400366Z",
     "start_time": "2025-08-07T23:39:08.391859Z"
    }
   },
   "source": [
    "ff_model.grs_stat, ff_model.p_value"
   ],
   "outputs": [
    {
     "data": {
      "text/plain": [
       "(np.float64(3.6219917502952184), np.float64(1.2021402021456464e-08))"
      ]
     },
     "execution_count": 8,
     "metadata": {},
     "output_type": "execute_result"
    }
   ],
   "execution_count": 8
  },
  {
   "cell_type": "markdown",
   "id": "66e8f34a0964f3db",
   "metadata": {},
   "source": "## 1.5"
  },
  {
   "cell_type": "code",
   "id": "426ee47a1c172f01",
   "metadata": {
    "ExecuteTime": {
     "end_time": "2025-08-07T23:39:08.412410Z",
     "start_time": "2025-08-07T23:39:08.403425Z"
    }
   },
   "source": [
    "split_date = portfolios_xs_r.index[len(portfolios_xs_r) // 2]"
   ],
   "outputs": [],
   "execution_count": 9
  },
  {
   "cell_type": "code",
   "id": "6bc8cf9240912abd",
   "metadata": {
    "ExecuteTime": {
     "end_time": "2025-08-07T23:39:08.449192Z",
     "start_time": "2025-08-07T23:39:08.416415Z"
    }
   },
   "source": [
    "capm.fit(\n",
    "    test_assets_xs_r=portfolios_xs_r.loc[:split_date],\n",
    "    factors_df=factors_df[[\"Mkt-RF\"]].loc[:split_date],\n",
    ")"
   ],
   "outputs": [],
   "execution_count": 10
  },
  {
   "cell_type": "code",
   "id": "104c495e3bd40fa8",
   "metadata": {
    "ExecuteTime": {
     "end_time": "2025-08-07T23:39:08.464381Z",
     "start_time": "2025-08-07T23:39:08.453003Z"
    }
   },
   "source": [
    "capm.rmse_score(\n",
    "    test_assets_xs_r=portfolios_xs_r.loc[split_date:],\n",
    "    factors=factors_df[[\"Mkt-RF\"]].loc[split_date:],\n",
    ")"
   ],
   "outputs": [
    {
     "data": {
      "text/plain": [
       "np.float64(0.0019269915645699978)"
      ]
     },
     "execution_count": 11,
     "metadata": {},
     "output_type": "execute_result"
    }
   ],
   "execution_count": 11
  },
  {
   "cell_type": "code",
   "id": "4656f161fa105b6b",
   "metadata": {
    "ExecuteTime": {
     "end_time": "2025-08-07T23:39:08.477665Z",
     "start_time": "2025-08-07T23:39:08.467579Z"
    }
   },
   "source": [
    "capm.r2_score(\n",
    "    test_assets_xs_r=portfolios_xs_r.loc[split_date:],\n",
    "    factors=factors_df[[\"Mkt-RF\"]].loc[split_date:],\n",
    ")"
   ],
   "outputs": [
    {
     "data": {
      "text/plain": [
       "np.float64(-0.729104748466787)"
      ]
     },
     "execution_count": 12,
     "metadata": {},
     "output_type": "execute_result"
    }
   ],
   "execution_count": 12
  },
  {
   "cell_type": "code",
   "id": "fa4c54984e92ac45",
   "metadata": {
    "ExecuteTime": {
     "end_time": "2025-08-07T23:39:08.492121Z",
     "start_time": "2025-08-07T23:39:08.481964Z"
    }
   },
   "source": [
    "capm.r2_gls_score(\n",
    "    test_assets_xs_r=portfolios_xs_r.loc[split_date:],\n",
    "    factors=factors_df[[\"Mkt-RF\"]].loc[split_date:],\n",
    ")"
   ],
   "outputs": [
    {
     "data": {
      "text/plain": [
       "np.float64(-0.13291418254746712)"
      ]
     },
     "execution_count": 13,
     "metadata": {},
     "output_type": "execute_result"
    }
   ],
   "execution_count": 13
  },
  {
   "cell_type": "code",
   "id": "5f2f323c807f94f4",
   "metadata": {
    "ExecuteTime": {
     "end_time": "2025-08-07T23:39:08.530380Z",
     "start_time": "2025-08-07T23:39:08.494641Z"
    }
   },
   "source": [
    "ff_model.fit(\n",
    "    test_assets_xs_r=portfolios_xs_r.loc[:split_date],\n",
    "    factors_df=factors_df.loc[:split_date],\n",
    ")"
   ],
   "outputs": [],
   "execution_count": 14
  },
  {
   "cell_type": "code",
   "id": "b1ad6c217f6cdf31",
   "metadata": {
    "ExecuteTime": {
     "end_time": "2025-08-07T23:39:08.544733Z",
     "start_time": "2025-08-07T23:39:08.534216Z"
    }
   },
   "source": [
    "ff_model.rmse_score(\n",
    "    test_assets_xs_r=portfolios_xs_r.loc[split_date:],\n",
    "    factors=factors_df.loc[split_date:],\n",
    ")"
   ],
   "outputs": [
    {
     "data": {
      "text/plain": [
       "np.float64(0.0014985342183559322)"
      ]
     },
     "execution_count": 15,
     "metadata": {},
     "output_type": "execute_result"
    }
   ],
   "execution_count": 15
  },
  {
   "cell_type": "code",
   "id": "3e543c36fbdcd26e",
   "metadata": {
    "ExecuteTime": {
     "end_time": "2025-08-07T23:39:08.557706Z",
     "start_time": "2025-08-07T23:39:08.547705Z"
    }
   },
   "source": [
    "ff_model.r2_score(\n",
    "    test_assets_xs_r=portfolios_xs_r.loc[split_date:],\n",
    "    factors=factors_df.loc[split_date:],\n",
    ")"
   ],
   "outputs": [
    {
     "data": {
      "text/plain": [
       "np.float64(-0.045670858654170754)"
      ]
     },
     "execution_count": 16,
     "metadata": {},
     "output_type": "execute_result"
    }
   ],
   "execution_count": 16
  },
  {
   "cell_type": "code",
   "id": "3204335e0b05dbdf",
   "metadata": {
    "ExecuteTime": {
     "end_time": "2025-08-07T23:39:08.574339Z",
     "start_time": "2025-08-07T23:39:08.563948Z"
    }
   },
   "source": [
    "ff_model.r2_gls_score(\n",
    "    test_assets_xs_r=portfolios_xs_r.loc[split_date:],\n",
    "    factors=factors_df.loc[split_date:],\n",
    ")"
   ],
   "outputs": [
    {
     "data": {
      "text/plain": [
       "np.float64(-0.12759056892034804)"
      ]
     },
     "execution_count": 17,
     "metadata": {},
     "output_type": "execute_result"
    }
   ],
   "execution_count": 17
  },
  {
   "metadata": {
    "ExecuteTime": {
     "end_time": "2025-08-07T23:39:08.739221Z",
     "start_time": "2025-08-07T23:39:08.578810Z"
    }
   },
   "cell_type": "code",
   "source": [
    "from sklearn.decomposition import PCA\n",
    "\n",
    "pca = PCA(n_components=min(portfolios_total_r.shape))\n",
    "factors = pca.fit_transform(portfolios_total_r)"
   ],
   "id": "4862dd966984dc67",
   "outputs": [
    {
     "name": "stderr",
     "output_type": "stream",
     "text": [
      "/Users/buchkovv/wufam/.venv/lib/python3.12/site-packages/sklearn/decomposition/_base.py:148: RuntimeWarning: divide by zero encountered in matmul\n",
      "  X_transformed = X @ self.components_.T\n",
      "/Users/buchkovv/wufam/.venv/lib/python3.12/site-packages/sklearn/decomposition/_base.py:148: RuntimeWarning: overflow encountered in matmul\n",
      "  X_transformed = X @ self.components_.T\n",
      "/Users/buchkovv/wufam/.venv/lib/python3.12/site-packages/sklearn/decomposition/_base.py:148: RuntimeWarning: invalid value encountered in matmul\n",
      "  X_transformed = X @ self.components_.T\n"
     ]
    }
   ],
   "execution_count": 18
  },
  {
   "metadata": {
    "ExecuteTime": {
     "end_time": "2025-08-07T23:39:08.756690Z",
     "start_time": "2025-08-07T23:39:08.746644Z"
    }
   },
   "cell_type": "code",
   "source": "factors",
   "id": "881dbfdd6ea4e3e0",
   "outputs": [
    {
     "data": {
      "text/plain": [
       "array([[-0.33226989,  0.07158516, -0.12901853, ..., -0.01498556,\n",
       "         0.02075657, -0.01996714],\n",
       "       [ 0.20068421, -0.10591044,  0.00635917, ...,  0.011145  ,\n",
       "         0.01001852,  0.02416404],\n",
       "       [-0.11250434, -0.09943168, -0.03212523, ..., -0.01781561,\n",
       "        -0.01095796, -0.01695359],\n",
       "       ...,\n",
       "       [-0.06587436,  0.0131887 , -0.01671571, ...,  0.00642891,\n",
       "        -0.00529448,  0.01540042],\n",
       "       [ 0.44948118, -0.02336834, -0.01710596, ...,  0.02368674,\n",
       "        -0.01136357,  0.01304012],\n",
       "       [-0.3891975 ,  0.07035177,  0.00925721, ..., -0.00266637,\n",
       "        -0.01338434,  0.01805824]], shape=(660, 25))"
      ]
     },
     "execution_count": 19,
     "metadata": {},
     "output_type": "execute_result"
    }
   ],
   "execution_count": 19
  },
  {
   "metadata": {
    "ExecuteTime": {
     "end_time": "2025-08-07T23:39:08.770365Z",
     "start_time": "2025-08-07T23:39:08.760602Z"
    }
   },
   "cell_type": "code",
   "source": [
    "import numpy as np\n",
    "\n",
    "signs = np.sign(factors.mean(axis=0))\n",
    "factors = signs * factors\n",
    "\n",
    "factors_means = factors.mean(axis=0)\n",
    "factors_means"
   ],
   "id": "6679f7b8d3191c84",
   "outputs": [
    {
     "data": {
      "text/plain": [
       "array([9.75650537e-18, 1.05134756e-19, 2.16840434e-18, 9.46212805e-20,\n",
       "       5.83497896e-19, 2.69144976e-18, 6.25551799e-19, 3.72177037e-18,\n",
       "       3.55881149e-18, 3.04890793e-19, 2.80446962e-18, 5.41443994e-19,\n",
       "       5.78241159e-20, 2.57580152e-19, 1.57702134e-19, 3.44316326e-19,\n",
       "       6.20295061e-19, 5.30930518e-19, 7.91139040e-19, 9.63954295e-19,\n",
       "       5.11217752e-19, 6.87318468e-19, 2.47920897e-18, 9.59354650e-19,\n",
       "       1.23007665e-18])"
      ]
     },
     "execution_count": 20,
     "metadata": {},
     "output_type": "execute_result"
    }
   ],
   "execution_count": 20
  },
  {
   "metadata": {
    "ExecuteTime": {
     "end_time": "2025-08-07T23:39:08.804322Z",
     "start_time": "2025-08-07T23:39:08.793838Z"
    }
   },
   "cell_type": "code",
   "source": "np.argsort(factors_means)[::-1]",
   "id": "1ad7ac1206cec0ce",
   "outputs": [
    {
     "data": {
      "text/plain": [
       "array([ 0,  7,  8, 10,  5, 22,  2, 24, 19, 23, 18, 21,  6, 16,  4, 11, 17,\n",
       "       20, 15,  9, 13, 14,  1,  3, 12])"
      ]
     },
     "execution_count": 21,
     "metadata": {},
     "output_type": "execute_result"
    }
   ],
   "execution_count": 21
  },
  {
   "metadata": {
    "ExecuteTime": {
     "end_time": "2025-08-07T23:39:08.879100Z",
     "start_time": "2025-08-07T23:39:08.868862Z"
    }
   },
   "cell_type": "code",
   "source": [
    "ranked_factors = factors[:, np.argsort(factors_means)[::-1]]\n",
    "ranked_factors"
   ],
   "id": "c5669eab877f363b",
   "outputs": [
    {
     "data": {
      "text/plain": [
       "array([[ 0.33226989, -0.00232503,  0.00319596, ..., -0.07158516,\n",
       "        -0.02048537, -0.00266963],\n",
       "       [-0.20068421,  0.01598224,  0.01893698, ...,  0.10591044,\n",
       "        -0.01290957,  0.01777841],\n",
       "       [ 0.11250434, -0.00365294, -0.00106442, ...,  0.09943168,\n",
       "         0.01047337,  0.01308905],\n",
       "       ...,\n",
       "       [ 0.06587436, -0.01573703,  0.01501737, ..., -0.0131887 ,\n",
       "        -0.09152511,  0.01051185],\n",
       "       [-0.44948118,  0.01482121, -0.00905798, ...,  0.02336834,\n",
       "        -0.0039906 ,  0.01292477],\n",
       "       [ 0.3891975 , -0.01823682, -0.01227795, ..., -0.07035177,\n",
       "        -0.0497618 , -0.02718614]], shape=(660, 25))"
      ]
     },
     "execution_count": 22,
     "metadata": {},
     "output_type": "execute_result"
    }
   ],
   "execution_count": 22
  },
  {
   "metadata": {
    "ExecuteTime": {
     "end_time": "2025-08-07T23:39:08.919602Z",
     "start_time": "2025-08-07T23:39:08.909094Z"
    }
   },
   "cell_type": "code",
   "source": "factor_vars = factors.var(axis=0)",
   "id": "4c97f07eb274baba",
   "outputs": [],
   "execution_count": 23
  },
  {
   "metadata": {
    "ExecuteTime": {
     "end_time": "2025-08-07T23:39:08.959318Z",
     "start_time": "2025-08-07T23:39:08.949490Z"
    }
   },
   "cell_type": "code",
   "source": [
    "l1 = 2e-19\n",
    "l2 = 1e-19\n",
    "w = (factors_means - l1) / (factor_vars + l2)\n",
    "w = np.where(factors_means >= l1, w, 0)"
   ],
   "id": "22a34da41c16c87e",
   "outputs": [],
   "execution_count": 24
  },
  {
   "metadata": {
    "ExecuteTime": {
     "end_time": "2025-08-07T23:39:08.974489Z",
     "start_time": "2025-08-07T23:39:08.964821Z"
    }
   },
   "cell_type": "code",
   "source": "selected_factors = factors[:, factors_means >= l1]",
   "id": "a8ef647e5fb7777b",
   "outputs": [],
   "execution_count": 25
  },
  {
   "metadata": {
    "ExecuteTime": {
     "end_time": "2025-08-07T23:39:08.989838Z",
     "start_time": "2025-08-07T23:39:08.979327Z"
    }
   },
   "cell_type": "code",
   "source": "selected_factors",
   "id": "858c229dd59f0894",
   "outputs": [
    {
     "data": {
      "text/plain": [
       "array([[ 0.33226989,  0.12901853, -0.01908226, ..., -0.01498556,\n",
       "         0.02075657, -0.01996714],\n",
       "       [-0.20068421, -0.00635917,  0.0115841 , ...,  0.011145  ,\n",
       "         0.01001852,  0.02416404],\n",
       "       [ 0.11250434,  0.03212523,  0.00191811, ..., -0.01781561,\n",
       "        -0.01095796, -0.01695359],\n",
       "       ...,\n",
       "       [ 0.06587436,  0.01671571, -0.01499943, ...,  0.00642891,\n",
       "        -0.00529448,  0.01540042],\n",
       "       [-0.44948118,  0.01710596, -0.04879438, ...,  0.02368674,\n",
       "        -0.01136357,  0.01304012],\n",
       "       [ 0.3891975 , -0.00925721,  0.01347987, ..., -0.00266637,\n",
       "        -0.01338434,  0.01805824]], shape=(660, 21))"
      ]
     },
     "execution_count": 26,
     "metadata": {},
     "output_type": "execute_result"
    }
   ],
   "execution_count": 26
  },
  {
   "metadata": {
    "ExecuteTime": {
     "end_time": "2025-08-07T23:39:09.087083Z",
     "start_time": "2025-08-07T23:39:09.011533Z"
    }
   },
   "cell_type": "code",
   "source": [
    "from wufam.ap.kns_factor_model import KNSFactorModel\n",
    "\n",
    "kns_model = KNSFactorModel(l1_penalty=l1, l2_penalty=l2)\n",
    "kns_model.fit(test_assets_xs_r=portfolios_xs_r)"
   ],
   "id": "c220a161fb345fcb",
   "outputs": [],
   "execution_count": 27
  },
  {
   "metadata": {
    "ExecuteTime": {
     "end_time": "2025-08-07T23:39:09.124430Z",
     "start_time": "2025-08-07T23:39:09.113510Z"
    }
   },
   "cell_type": "code",
   "source": "kns_model.predict()",
   "id": "11d77cd33af229af",
   "outputs": [
    {
     "data": {
      "text/plain": [
       "SMALL LoBM    0.001620\n",
       "ME1 BM2       0.007076\n",
       "ME1 BM3       0.007152\n",
       "ME1 BM4       0.009134\n",
       "SMALL HiBM    0.010548\n",
       "ME2 BM1       0.004966\n",
       "ME2 BM2       0.007720\n",
       "ME2 BM3       0.008102\n",
       "ME2 BM4       0.008793\n",
       "ME2 BM5       0.009545\n",
       "ME3 BM1       0.005202\n",
       "ME3 BM2       0.007883\n",
       "ME3 BM3       0.007283\n",
       "ME3 BM4       0.008331\n",
       "ME3 BM5       0.009780\n",
       "ME4 BM1       0.006522\n",
       "ME4 BM2       0.006872\n",
       "ME4 BM3       0.007368\n",
       "ME4 BM4       0.008327\n",
       "ME4 BM5       0.008576\n",
       "BIG LoBM      0.006163\n",
       "ME5 BM2       0.006402\n",
       "ME5 BM3       0.006173\n",
       "ME5 BM4       0.005577\n",
       "BIG HiBM      0.007438\n",
       "dtype: float64"
      ]
     },
     "execution_count": 28,
     "metadata": {},
     "output_type": "execute_result"
    }
   ],
   "execution_count": 28
  },
  {
   "metadata": {
    "ExecuteTime": {
     "end_time": "2025-08-07T23:39:09.140753Z",
     "start_time": "2025-08-07T23:39:09.130057Z"
    }
   },
   "cell_type": "code",
   "source": [
    "kns_model.rmse_score(\n",
    "    test_assets_xs_r=portfolios_xs_r,\n",
    "    factors=factors,\n",
    ")"
   ],
   "id": "5d1cebbf5d6e2e0e",
   "outputs": [
    {
     "data": {
      "text/plain": [
       "np.float64(1.1940723679341168e-17)"
      ]
     },
     "execution_count": 29,
     "metadata": {},
     "output_type": "execute_result"
    }
   ],
   "execution_count": 29
  },
  {
   "metadata": {
    "ExecuteTime": {
     "end_time": "2025-08-07T23:39:09.179742Z",
     "start_time": "2025-08-07T23:39:09.168399Z"
    }
   },
   "cell_type": "code",
   "source": [
    "kns_model.r2_score(\n",
    "    test_assets_xs_r=portfolios_xs_r,\n",
    "    factors=factors,\n",
    ")"
   ],
   "id": "abc810a2a29a8609",
   "outputs": [
    {
     "data": {
      "text/plain": [
       "np.float64(1.0)"
      ]
     },
     "execution_count": 30,
     "metadata": {},
     "output_type": "execute_result"
    }
   ],
   "execution_count": 30
  },
  {
   "metadata": {
    "ExecuteTime": {
     "end_time": "2025-08-07T23:39:09.212978Z",
     "start_time": "2025-08-07T23:39:09.201832Z"
    }
   },
   "cell_type": "code",
   "source": [
    "kns_model.r2_gls_score(\n",
    "    test_assets_xs_r=portfolios_xs_r,\n",
    "    factors=factors,\n",
    ")"
   ],
   "id": "a6a087dc24c4eab7",
   "outputs": [
    {
     "data": {
      "text/plain": [
       "np.float64(1.0)"
      ]
     },
     "execution_count": 31,
     "metadata": {},
     "output_type": "execute_result"
    }
   ],
   "execution_count": 31
  },
  {
   "metadata": {
    "ExecuteTime": {
     "end_time": "2025-08-07T23:39:09.286882Z",
     "start_time": "2025-08-07T23:39:09.217876Z"
    }
   },
   "cell_type": "code",
   "source": [
    "kns_model.fit(\n",
    "    test_assets_xs_r=portfolios_xs_r.loc[:split_date],\n",
    ")"
   ],
   "id": "72eccbb88ed512f0",
   "outputs": [],
   "execution_count": 32
  },
  {
   "metadata": {
    "ExecuteTime": {
     "end_time": "2025-08-07T23:39:09.301780Z",
     "start_time": "2025-08-07T23:39:09.290711Z"
    }
   },
   "cell_type": "code",
   "source": [
    "kns_model.rmse_score(\n",
    "    test_assets_xs_r=portfolios_xs_r.loc[split_date:],\n",
    "    factors=factors,\n",
    ")"
   ],
   "id": "592b63df1dfaa6dc",
   "outputs": [
    {
     "data": {
      "text/plain": [
       "np.float64(0.002086667080374555)"
      ]
     },
     "execution_count": 33,
     "metadata": {},
     "output_type": "execute_result"
    }
   ],
   "execution_count": 33
  },
  {
   "metadata": {
    "ExecuteTime": {
     "end_time": "2025-08-07T23:39:09.323758Z",
     "start_time": "2025-08-07T23:39:09.312757Z"
    }
   },
   "cell_type": "code",
   "source": [
    "kns_model.r2_score(\n",
    "    test_assets_xs_r=portfolios_xs_r.loc[split_date:],\n",
    "    factors=factors,\n",
    ")"
   ],
   "id": "6bb22a9e10780efa",
   "outputs": [
    {
     "data": {
      "text/plain": [
       "np.float64(-1.0275333459162477)"
      ]
     },
     "execution_count": 34,
     "metadata": {},
     "output_type": "execute_result"
    }
   ],
   "execution_count": 34
  },
  {
   "metadata": {
    "ExecuteTime": {
     "end_time": "2025-08-07T23:39:09.339551Z",
     "start_time": "2025-08-07T23:39:09.328419Z"
    }
   },
   "cell_type": "code",
   "source": [
    "kns_model.r2_gls_score(\n",
    "    test_assets_xs_r=portfolios_xs_r.loc[split_date:],\n",
    "    factors=factors,\n",
    ")"
   ],
   "id": "b809466465d76c7a",
   "outputs": [
    {
     "data": {
      "text/plain": [
       "np.float64(0.20885347987640723)"
      ]
     },
     "execution_count": 35,
     "metadata": {},
     "output_type": "execute_result"
    }
   ],
   "execution_count": 35
  },
  {
   "metadata": {
    "ExecuteTime": {
     "end_time": "2025-08-07T23:39:09.362364Z",
     "start_time": "2025-08-07T23:39:09.343500Z"
    }
   },
   "cell_type": "code",
   "source": "kns_model._betas",
   "id": "336817ae6d794053",
   "outputs": [
    {
     "data": {
      "text/plain": [
       "            Factor_1  Factor_2  Factor_3  Factor_4  Factor_5  Factor_6  \\\n",
       "SMALL LoBM  0.014814 -0.019636 -0.013859 -0.019606 -0.015753  0.002503   \n",
       "ME1 BM2     0.013198 -0.017374 -0.003036 -0.011960 -0.010176  0.003674   \n",
       "ME1 BM3     0.012271 -0.015125  0.001677 -0.005317 -0.009588  0.007193   \n",
       "ME1 BM4     0.011296 -0.013406  0.005709 -0.002542 -0.009300  0.009999   \n",
       "SMALL HiBM  0.011892 -0.015635  0.012110 -0.003991 -0.008053  0.016962   \n",
       "ME2 BM1     0.014607 -0.010211 -0.021343 -0.008650  0.001660 -0.015075   \n",
       "ME2 BM2     0.012895 -0.009513 -0.006191  0.001199 -0.000201 -0.006999   \n",
       "ME2 BM3     0.011482 -0.006903  0.001533  0.005800  0.002042 -0.006052   \n",
       "ME2 BM4     0.010572 -0.004170  0.006552  0.011322 -0.001410  0.002826   \n",
       "ME2 BM5     0.011869 -0.007251  0.012768  0.002973  0.001303  0.004229   \n",
       "ME3 BM1     0.013496 -0.004190 -0.020521 -0.001439  0.012771 -0.008342   \n",
       "ME3 BM2     0.011796 -0.002459 -0.005098  0.008239  0.004653 -0.009944   \n",
       "ME3 BM3     0.010570 -0.000157  0.002730  0.012611  0.003798 -0.008220   \n",
       "ME3 BM4     0.009735  0.001969  0.007976  0.008603  0.003707 -0.000421   \n",
       "ME3 BM5     0.011018 -0.001821  0.013443  0.002095  0.011840  0.003278   \n",
       "ME4 BM1     0.011821  0.003828 -0.020823 -0.001389  0.011718 -0.005183   \n",
       "ME4 BM2     0.011226  0.005565 -0.006618  0.004874 -0.002366 -0.014255   \n",
       "ME4 BM3     0.010286  0.007169  0.001870  0.009856  0.001986 -0.009385   \n",
       "ME4 BM4     0.009452  0.008327  0.008282  0.011997  0.005460  0.000321   \n",
       "ME4 BM5     0.010845  0.005948  0.014242 -0.001633  0.016753  0.007455   \n",
       "BIG LoBM    0.008856  0.012649 -0.019330 -0.004237  0.015456  0.033350   \n",
       "ME5 BM2     0.009128  0.014289 -0.008562 -0.002836 -0.007057 -0.001924   \n",
       "ME5 BM3     0.008018  0.017284 -0.003225  0.003336 -0.028059 -0.000131   \n",
       "ME5 BM4     0.007846  0.015314  0.007023 -0.002291 -0.010104  0.008559   \n",
       "BIG HiBM    0.008470  0.012339  0.014851 -0.035515  0.008130 -0.014154   \n",
       "\n",
       "            Factor_7  Factor_8  Factor_9  Factor_10  ...  Factor_16  \\\n",
       "SMALL LoBM -0.014936 -0.017465 -0.001855  -0.006201  ...  -0.001289   \n",
       "ME1 BM2    -0.006708 -0.002570 -0.007439  -0.002476  ...  -0.001393   \n",
       "ME1 BM3     0.000969  0.005289 -0.007307  -0.006934  ...  -0.005931   \n",
       "ME1 BM4     0.002799  0.007677 -0.004307  -0.004392  ...   0.010122   \n",
       "SMALL HiBM  0.008854  0.007636  0.001688   0.004627  ...   0.014123   \n",
       "ME2 BM1    -0.012204 -0.010517  0.004610  -0.000699  ...  -0.013610   \n",
       "ME2 BM2    -0.002670  0.003590 -0.003634   0.005903  ...  -0.015428   \n",
       "ME2 BM3     0.004477  0.005949 -0.000046  -0.003899  ...  -0.009310   \n",
       "ME2 BM4     0.005103  0.005411  0.000775  -0.004778  ...  -0.006830   \n",
       "ME2 BM5     0.007743  0.003889  0.006061   0.022735  ...  -0.001131   \n",
       "ME3 BM1    -0.010247 -0.007851  0.006722   0.005161  ...  -0.007365   \n",
       "ME3 BM2     0.004608  0.004963  0.002299  -0.000507  ...  -0.006762   \n",
       "ME3 BM3     0.001794  0.006617  0.001419  -0.003281  ...   0.010464   \n",
       "ME3 BM4    -0.002054  0.008068 -0.001100  -0.008441  ...   0.009720   \n",
       "ME3 BM5     0.011200 -0.025382  0.030518   0.012103  ...  -0.003646   \n",
       "ME4 BM1    -0.005839  0.000092  0.002275   0.003618  ...   0.030005   \n",
       "ME4 BM2     0.005463 -0.000221  0.004080  -0.004941  ...   0.025375   \n",
       "ME4 BM3    -0.002775  0.009556  0.001771   0.003594  ...  -0.014561   \n",
       "ME4 BM4    -0.010167 -0.000845 -0.010134  -0.016897  ...  -0.009037   \n",
       "ME4 BM5    -0.005199 -0.030125 -0.028677   0.000432  ...   0.005705   \n",
       "BIG LoBM    0.008735  0.008402  0.006188  -0.009785  ...  -0.006225   \n",
       "ME5 BM2     0.016248  0.004142 -0.021547   0.026013  ...  -0.003368   \n",
       "ME5 BM3     0.011114 -0.015168  0.006368  -0.012286  ...  -0.002100   \n",
       "ME5 BM4    -0.029435  0.006519  0.008631   0.013059  ...   0.001988   \n",
       "BIG HiBM    0.006836  0.010274  0.003697  -0.009793  ...  -0.002368   \n",
       "\n",
       "            Factor_17  Factor_18  Factor_19  Factor_20  Factor_21  Factor_22  \\\n",
       "SMALL LoBM  -0.021825  -0.003785  -0.002471   0.005462   0.013215  -0.028054   \n",
       "ME1 BM2     -0.007958  -0.006688  -0.017425   0.002054   0.006510   0.037965   \n",
       "ME1 BM3      0.009406  -0.003165  -0.004379   0.001182  -0.006066  -0.033432   \n",
       "ME1 BM4      0.004868   0.006552   0.006230  -0.006423  -0.005000   0.001021   \n",
       "SMALL HiBM   0.019636   0.009665   0.004220  -0.007392  -0.006124   0.011725   \n",
       "ME2 BM1     -0.004051   0.012651   0.001755   0.009106  -0.013261   0.022522   \n",
       "ME2 BM2     -0.004679  -0.019294   0.014679  -0.034252   0.024564   0.000879   \n",
       "ME2 BM3      0.004424  -0.003003   0.033343   0.021400  -0.003692   0.007262   \n",
       "ME2 BM4     -0.019969   0.022363  -0.009550   0.014188   0.005990  -0.005051   \n",
       "ME2 BM5     -0.007524  -0.015582  -0.003049   0.012315  -0.002660   0.001219   \n",
       "ME3 BM1      0.013919   0.010532  -0.000912  -0.015774  -0.037914  -0.007982   \n",
       "ME3 BM2      0.025384  -0.014834  -0.026947   0.017165   0.005024  -0.003337   \n",
       "ME3 BM3     -0.003122   0.010833  -0.017746  -0.019359   0.002646   0.003264   \n",
       "ME3 BM4     -0.004267  -0.004521   0.009392  -0.005411  -0.006689  -0.003823   \n",
       "ME3 BM5      0.000521  -0.002443   0.001037  -0.004950   0.005885  -0.003227   \n",
       "ME4 BM1      0.014970   0.011687   0.009862   0.010558   0.029505  -0.003899   \n",
       "ME4 BM2     -0.021596  -0.020268  -0.000366   0.003613  -0.015838  -0.000636   \n",
       "ME4 BM3     -0.005864   0.017031   0.004907  -0.003186   0.003954  -0.001546   \n",
       "ME4 BM4      0.007693  -0.012642  -0.001462  -0.000237   0.002884   0.002971   \n",
       "ME4 BM5     -0.001098   0.005616   0.000743   0.002041  -0.002164   0.000620   \n",
       "BIG LoBM    -0.007354  -0.004460  -0.001711  -0.000921  -0.000879   0.002854   \n",
       "ME5 BM2     -0.000840   0.000162  -0.000776  -0.001172  -0.002266  -0.002150   \n",
       "ME5 BM3      0.007262   0.003034   0.002637  -0.002079   0.001429   0.002865   \n",
       "ME5 BM4      0.000917  -0.001539  -0.000991   0.002987  -0.001692  -0.000364   \n",
       "BIG HiBM     0.000649   0.002313  -0.001868  -0.000791   0.001406  -0.000749   \n",
       "\n",
       "            Factor_23  Factor_24  Factor_25  \n",
       "SMALL LoBM  -0.033633   0.002010  -0.010891  \n",
       "ME1 BM2      0.016207   0.031160   0.006787  \n",
       "ME1 BM3      0.039015  -0.000994   0.002662  \n",
       "ME1 BM4     -0.019617  -0.007902   0.037470  \n",
       "SMALL HiBM  -0.006611  -0.007944  -0.037401  \n",
       "ME2 BM1      0.014541  -0.049307   0.003165  \n",
       "ME2 BM2     -0.000423  -0.005576  -0.007999  \n",
       "ME2 BM3     -0.001336   0.010466  -0.001160  \n",
       "ME2 BM4     -0.001262   0.003366  -0.007586  \n",
       "ME2 BM5     -0.000051  -0.000550   0.008055  \n",
       "ME3 BM1     -0.009064   0.027822  -0.001585  \n",
       "ME3 BM2     -0.015447  -0.006204  -0.001306  \n",
       "ME3 BM3      0.002703  -0.002416   0.003426  \n",
       "ME3 BM4      0.002750  -0.002278   0.003321  \n",
       "ME3 BM5      0.005246   0.001001   0.006264  \n",
       "ME4 BM1      0.008826   0.006398   0.003900  \n",
       "ME4 BM2      0.001510  -0.001637  -0.009240  \n",
       "ME4 BM3     -0.002329   0.004518  -0.001089  \n",
       "ME4 BM4     -0.002391  -0.000120  -0.001280  \n",
       "ME4 BM5     -0.000441  -0.003162  -0.002018  \n",
       "BIG LoBM    -0.000509  -0.002503   0.000047  \n",
       "ME5 BM2     -0.000401  -0.000566   0.001565  \n",
       "ME5 BM3      0.001047   0.001911   0.001250  \n",
       "ME5 BM4      0.001109  -0.001439  -0.000641  \n",
       "BIG HiBM    -0.001643   0.000948  -0.000352  \n",
       "\n",
       "[25 rows x 25 columns]"
      ],
      "text/html": [
       "<div>\n",
       "<style scoped>\n",
       "    .dataframe tbody tr th:only-of-type {\n",
       "        vertical-align: middle;\n",
       "    }\n",
       "\n",
       "    .dataframe tbody tr th {\n",
       "        vertical-align: top;\n",
       "    }\n",
       "\n",
       "    .dataframe thead th {\n",
       "        text-align: right;\n",
       "    }\n",
       "</style>\n",
       "<table border=\"1\" class=\"dataframe\">\n",
       "  <thead>\n",
       "    <tr style=\"text-align: right;\">\n",
       "      <th></th>\n",
       "      <th>Factor_1</th>\n",
       "      <th>Factor_2</th>\n",
       "      <th>Factor_3</th>\n",
       "      <th>Factor_4</th>\n",
       "      <th>Factor_5</th>\n",
       "      <th>Factor_6</th>\n",
       "      <th>Factor_7</th>\n",
       "      <th>Factor_8</th>\n",
       "      <th>Factor_9</th>\n",
       "      <th>Factor_10</th>\n",
       "      <th>...</th>\n",
       "      <th>Factor_16</th>\n",
       "      <th>Factor_17</th>\n",
       "      <th>Factor_18</th>\n",
       "      <th>Factor_19</th>\n",
       "      <th>Factor_20</th>\n",
       "      <th>Factor_21</th>\n",
       "      <th>Factor_22</th>\n",
       "      <th>Factor_23</th>\n",
       "      <th>Factor_24</th>\n",
       "      <th>Factor_25</th>\n",
       "    </tr>\n",
       "  </thead>\n",
       "  <tbody>\n",
       "    <tr>\n",
       "      <th>SMALL LoBM</th>\n",
       "      <td>0.014814</td>\n",
       "      <td>-0.019636</td>\n",
       "      <td>-0.013859</td>\n",
       "      <td>-0.019606</td>\n",
       "      <td>-0.015753</td>\n",
       "      <td>0.002503</td>\n",
       "      <td>-0.014936</td>\n",
       "      <td>-0.017465</td>\n",
       "      <td>-0.001855</td>\n",
       "      <td>-0.006201</td>\n",
       "      <td>...</td>\n",
       "      <td>-0.001289</td>\n",
       "      <td>-0.021825</td>\n",
       "      <td>-0.003785</td>\n",
       "      <td>-0.002471</td>\n",
       "      <td>0.005462</td>\n",
       "      <td>0.013215</td>\n",
       "      <td>-0.028054</td>\n",
       "      <td>-0.033633</td>\n",
       "      <td>0.002010</td>\n",
       "      <td>-0.010891</td>\n",
       "    </tr>\n",
       "    <tr>\n",
       "      <th>ME1 BM2</th>\n",
       "      <td>0.013198</td>\n",
       "      <td>-0.017374</td>\n",
       "      <td>-0.003036</td>\n",
       "      <td>-0.011960</td>\n",
       "      <td>-0.010176</td>\n",
       "      <td>0.003674</td>\n",
       "      <td>-0.006708</td>\n",
       "      <td>-0.002570</td>\n",
       "      <td>-0.007439</td>\n",
       "      <td>-0.002476</td>\n",
       "      <td>...</td>\n",
       "      <td>-0.001393</td>\n",
       "      <td>-0.007958</td>\n",
       "      <td>-0.006688</td>\n",
       "      <td>-0.017425</td>\n",
       "      <td>0.002054</td>\n",
       "      <td>0.006510</td>\n",
       "      <td>0.037965</td>\n",
       "      <td>0.016207</td>\n",
       "      <td>0.031160</td>\n",
       "      <td>0.006787</td>\n",
       "    </tr>\n",
       "    <tr>\n",
       "      <th>ME1 BM3</th>\n",
       "      <td>0.012271</td>\n",
       "      <td>-0.015125</td>\n",
       "      <td>0.001677</td>\n",
       "      <td>-0.005317</td>\n",
       "      <td>-0.009588</td>\n",
       "      <td>0.007193</td>\n",
       "      <td>0.000969</td>\n",
       "      <td>0.005289</td>\n",
       "      <td>-0.007307</td>\n",
       "      <td>-0.006934</td>\n",
       "      <td>...</td>\n",
       "      <td>-0.005931</td>\n",
       "      <td>0.009406</td>\n",
       "      <td>-0.003165</td>\n",
       "      <td>-0.004379</td>\n",
       "      <td>0.001182</td>\n",
       "      <td>-0.006066</td>\n",
       "      <td>-0.033432</td>\n",
       "      <td>0.039015</td>\n",
       "      <td>-0.000994</td>\n",
       "      <td>0.002662</td>\n",
       "    </tr>\n",
       "    <tr>\n",
       "      <th>ME1 BM4</th>\n",
       "      <td>0.011296</td>\n",
       "      <td>-0.013406</td>\n",
       "      <td>0.005709</td>\n",
       "      <td>-0.002542</td>\n",
       "      <td>-0.009300</td>\n",
       "      <td>0.009999</td>\n",
       "      <td>0.002799</td>\n",
       "      <td>0.007677</td>\n",
       "      <td>-0.004307</td>\n",
       "      <td>-0.004392</td>\n",
       "      <td>...</td>\n",
       "      <td>0.010122</td>\n",
       "      <td>0.004868</td>\n",
       "      <td>0.006552</td>\n",
       "      <td>0.006230</td>\n",
       "      <td>-0.006423</td>\n",
       "      <td>-0.005000</td>\n",
       "      <td>0.001021</td>\n",
       "      <td>-0.019617</td>\n",
       "      <td>-0.007902</td>\n",
       "      <td>0.037470</td>\n",
       "    </tr>\n",
       "    <tr>\n",
       "      <th>SMALL HiBM</th>\n",
       "      <td>0.011892</td>\n",
       "      <td>-0.015635</td>\n",
       "      <td>0.012110</td>\n",
       "      <td>-0.003991</td>\n",
       "      <td>-0.008053</td>\n",
       "      <td>0.016962</td>\n",
       "      <td>0.008854</td>\n",
       "      <td>0.007636</td>\n",
       "      <td>0.001688</td>\n",
       "      <td>0.004627</td>\n",
       "      <td>...</td>\n",
       "      <td>0.014123</td>\n",
       "      <td>0.019636</td>\n",
       "      <td>0.009665</td>\n",
       "      <td>0.004220</td>\n",
       "      <td>-0.007392</td>\n",
       "      <td>-0.006124</td>\n",
       "      <td>0.011725</td>\n",
       "      <td>-0.006611</td>\n",
       "      <td>-0.007944</td>\n",
       "      <td>-0.037401</td>\n",
       "    </tr>\n",
       "    <tr>\n",
       "      <th>ME2 BM1</th>\n",
       "      <td>0.014607</td>\n",
       "      <td>-0.010211</td>\n",
       "      <td>-0.021343</td>\n",
       "      <td>-0.008650</td>\n",
       "      <td>0.001660</td>\n",
       "      <td>-0.015075</td>\n",
       "      <td>-0.012204</td>\n",
       "      <td>-0.010517</td>\n",
       "      <td>0.004610</td>\n",
       "      <td>-0.000699</td>\n",
       "      <td>...</td>\n",
       "      <td>-0.013610</td>\n",
       "      <td>-0.004051</td>\n",
       "      <td>0.012651</td>\n",
       "      <td>0.001755</td>\n",
       "      <td>0.009106</td>\n",
       "      <td>-0.013261</td>\n",
       "      <td>0.022522</td>\n",
       "      <td>0.014541</td>\n",
       "      <td>-0.049307</td>\n",
       "      <td>0.003165</td>\n",
       "    </tr>\n",
       "    <tr>\n",
       "      <th>ME2 BM2</th>\n",
       "      <td>0.012895</td>\n",
       "      <td>-0.009513</td>\n",
       "      <td>-0.006191</td>\n",
       "      <td>0.001199</td>\n",
       "      <td>-0.000201</td>\n",
       "      <td>-0.006999</td>\n",
       "      <td>-0.002670</td>\n",
       "      <td>0.003590</td>\n",
       "      <td>-0.003634</td>\n",
       "      <td>0.005903</td>\n",
       "      <td>...</td>\n",
       "      <td>-0.015428</td>\n",
       "      <td>-0.004679</td>\n",
       "      <td>-0.019294</td>\n",
       "      <td>0.014679</td>\n",
       "      <td>-0.034252</td>\n",
       "      <td>0.024564</td>\n",
       "      <td>0.000879</td>\n",
       "      <td>-0.000423</td>\n",
       "      <td>-0.005576</td>\n",
       "      <td>-0.007999</td>\n",
       "    </tr>\n",
       "    <tr>\n",
       "      <th>ME2 BM3</th>\n",
       "      <td>0.011482</td>\n",
       "      <td>-0.006903</td>\n",
       "      <td>0.001533</td>\n",
       "      <td>0.005800</td>\n",
       "      <td>0.002042</td>\n",
       "      <td>-0.006052</td>\n",
       "      <td>0.004477</td>\n",
       "      <td>0.005949</td>\n",
       "      <td>-0.000046</td>\n",
       "      <td>-0.003899</td>\n",
       "      <td>...</td>\n",
       "      <td>-0.009310</td>\n",
       "      <td>0.004424</td>\n",
       "      <td>-0.003003</td>\n",
       "      <td>0.033343</td>\n",
       "      <td>0.021400</td>\n",
       "      <td>-0.003692</td>\n",
       "      <td>0.007262</td>\n",
       "      <td>-0.001336</td>\n",
       "      <td>0.010466</td>\n",
       "      <td>-0.001160</td>\n",
       "    </tr>\n",
       "    <tr>\n",
       "      <th>ME2 BM4</th>\n",
       "      <td>0.010572</td>\n",
       "      <td>-0.004170</td>\n",
       "      <td>0.006552</td>\n",
       "      <td>0.011322</td>\n",
       "      <td>-0.001410</td>\n",
       "      <td>0.002826</td>\n",
       "      <td>0.005103</td>\n",
       "      <td>0.005411</td>\n",
       "      <td>0.000775</td>\n",
       "      <td>-0.004778</td>\n",
       "      <td>...</td>\n",
       "      <td>-0.006830</td>\n",
       "      <td>-0.019969</td>\n",
       "      <td>0.022363</td>\n",
       "      <td>-0.009550</td>\n",
       "      <td>0.014188</td>\n",
       "      <td>0.005990</td>\n",
       "      <td>-0.005051</td>\n",
       "      <td>-0.001262</td>\n",
       "      <td>0.003366</td>\n",
       "      <td>-0.007586</td>\n",
       "    </tr>\n",
       "    <tr>\n",
       "      <th>ME2 BM5</th>\n",
       "      <td>0.011869</td>\n",
       "      <td>-0.007251</td>\n",
       "      <td>0.012768</td>\n",
       "      <td>0.002973</td>\n",
       "      <td>0.001303</td>\n",
       "      <td>0.004229</td>\n",
       "      <td>0.007743</td>\n",
       "      <td>0.003889</td>\n",
       "      <td>0.006061</td>\n",
       "      <td>0.022735</td>\n",
       "      <td>...</td>\n",
       "      <td>-0.001131</td>\n",
       "      <td>-0.007524</td>\n",
       "      <td>-0.015582</td>\n",
       "      <td>-0.003049</td>\n",
       "      <td>0.012315</td>\n",
       "      <td>-0.002660</td>\n",
       "      <td>0.001219</td>\n",
       "      <td>-0.000051</td>\n",
       "      <td>-0.000550</td>\n",
       "      <td>0.008055</td>\n",
       "    </tr>\n",
       "    <tr>\n",
       "      <th>ME3 BM1</th>\n",
       "      <td>0.013496</td>\n",
       "      <td>-0.004190</td>\n",
       "      <td>-0.020521</td>\n",
       "      <td>-0.001439</td>\n",
       "      <td>0.012771</td>\n",
       "      <td>-0.008342</td>\n",
       "      <td>-0.010247</td>\n",
       "      <td>-0.007851</td>\n",
       "      <td>0.006722</td>\n",
       "      <td>0.005161</td>\n",
       "      <td>...</td>\n",
       "      <td>-0.007365</td>\n",
       "      <td>0.013919</td>\n",
       "      <td>0.010532</td>\n",
       "      <td>-0.000912</td>\n",
       "      <td>-0.015774</td>\n",
       "      <td>-0.037914</td>\n",
       "      <td>-0.007982</td>\n",
       "      <td>-0.009064</td>\n",
       "      <td>0.027822</td>\n",
       "      <td>-0.001585</td>\n",
       "    </tr>\n",
       "    <tr>\n",
       "      <th>ME3 BM2</th>\n",
       "      <td>0.011796</td>\n",
       "      <td>-0.002459</td>\n",
       "      <td>-0.005098</td>\n",
       "      <td>0.008239</td>\n",
       "      <td>0.004653</td>\n",
       "      <td>-0.009944</td>\n",
       "      <td>0.004608</td>\n",
       "      <td>0.004963</td>\n",
       "      <td>0.002299</td>\n",
       "      <td>-0.000507</td>\n",
       "      <td>...</td>\n",
       "      <td>-0.006762</td>\n",
       "      <td>0.025384</td>\n",
       "      <td>-0.014834</td>\n",
       "      <td>-0.026947</td>\n",
       "      <td>0.017165</td>\n",
       "      <td>0.005024</td>\n",
       "      <td>-0.003337</td>\n",
       "      <td>-0.015447</td>\n",
       "      <td>-0.006204</td>\n",
       "      <td>-0.001306</td>\n",
       "    </tr>\n",
       "    <tr>\n",
       "      <th>ME3 BM3</th>\n",
       "      <td>0.010570</td>\n",
       "      <td>-0.000157</td>\n",
       "      <td>0.002730</td>\n",
       "      <td>0.012611</td>\n",
       "      <td>0.003798</td>\n",
       "      <td>-0.008220</td>\n",
       "      <td>0.001794</td>\n",
       "      <td>0.006617</td>\n",
       "      <td>0.001419</td>\n",
       "      <td>-0.003281</td>\n",
       "      <td>...</td>\n",
       "      <td>0.010464</td>\n",
       "      <td>-0.003122</td>\n",
       "      <td>0.010833</td>\n",
       "      <td>-0.017746</td>\n",
       "      <td>-0.019359</td>\n",
       "      <td>0.002646</td>\n",
       "      <td>0.003264</td>\n",
       "      <td>0.002703</td>\n",
       "      <td>-0.002416</td>\n",
       "      <td>0.003426</td>\n",
       "    </tr>\n",
       "    <tr>\n",
       "      <th>ME3 BM4</th>\n",
       "      <td>0.009735</td>\n",
       "      <td>0.001969</td>\n",
       "      <td>0.007976</td>\n",
       "      <td>0.008603</td>\n",
       "      <td>0.003707</td>\n",
       "      <td>-0.000421</td>\n",
       "      <td>-0.002054</td>\n",
       "      <td>0.008068</td>\n",
       "      <td>-0.001100</td>\n",
       "      <td>-0.008441</td>\n",
       "      <td>...</td>\n",
       "      <td>0.009720</td>\n",
       "      <td>-0.004267</td>\n",
       "      <td>-0.004521</td>\n",
       "      <td>0.009392</td>\n",
       "      <td>-0.005411</td>\n",
       "      <td>-0.006689</td>\n",
       "      <td>-0.003823</td>\n",
       "      <td>0.002750</td>\n",
       "      <td>-0.002278</td>\n",
       "      <td>0.003321</td>\n",
       "    </tr>\n",
       "    <tr>\n",
       "      <th>ME3 BM5</th>\n",
       "      <td>0.011018</td>\n",
       "      <td>-0.001821</td>\n",
       "      <td>0.013443</td>\n",
       "      <td>0.002095</td>\n",
       "      <td>0.011840</td>\n",
       "      <td>0.003278</td>\n",
       "      <td>0.011200</td>\n",
       "      <td>-0.025382</td>\n",
       "      <td>0.030518</td>\n",
       "      <td>0.012103</td>\n",
       "      <td>...</td>\n",
       "      <td>-0.003646</td>\n",
       "      <td>0.000521</td>\n",
       "      <td>-0.002443</td>\n",
       "      <td>0.001037</td>\n",
       "      <td>-0.004950</td>\n",
       "      <td>0.005885</td>\n",
       "      <td>-0.003227</td>\n",
       "      <td>0.005246</td>\n",
       "      <td>0.001001</td>\n",
       "      <td>0.006264</td>\n",
       "    </tr>\n",
       "    <tr>\n",
       "      <th>ME4 BM1</th>\n",
       "      <td>0.011821</td>\n",
       "      <td>0.003828</td>\n",
       "      <td>-0.020823</td>\n",
       "      <td>-0.001389</td>\n",
       "      <td>0.011718</td>\n",
       "      <td>-0.005183</td>\n",
       "      <td>-0.005839</td>\n",
       "      <td>0.000092</td>\n",
       "      <td>0.002275</td>\n",
       "      <td>0.003618</td>\n",
       "      <td>...</td>\n",
       "      <td>0.030005</td>\n",
       "      <td>0.014970</td>\n",
       "      <td>0.011687</td>\n",
       "      <td>0.009862</td>\n",
       "      <td>0.010558</td>\n",
       "      <td>0.029505</td>\n",
       "      <td>-0.003899</td>\n",
       "      <td>0.008826</td>\n",
       "      <td>0.006398</td>\n",
       "      <td>0.003900</td>\n",
       "    </tr>\n",
       "    <tr>\n",
       "      <th>ME4 BM2</th>\n",
       "      <td>0.011226</td>\n",
       "      <td>0.005565</td>\n",
       "      <td>-0.006618</td>\n",
       "      <td>0.004874</td>\n",
       "      <td>-0.002366</td>\n",
       "      <td>-0.014255</td>\n",
       "      <td>0.005463</td>\n",
       "      <td>-0.000221</td>\n",
       "      <td>0.004080</td>\n",
       "      <td>-0.004941</td>\n",
       "      <td>...</td>\n",
       "      <td>0.025375</td>\n",
       "      <td>-0.021596</td>\n",
       "      <td>-0.020268</td>\n",
       "      <td>-0.000366</td>\n",
       "      <td>0.003613</td>\n",
       "      <td>-0.015838</td>\n",
       "      <td>-0.000636</td>\n",
       "      <td>0.001510</td>\n",
       "      <td>-0.001637</td>\n",
       "      <td>-0.009240</td>\n",
       "    </tr>\n",
       "    <tr>\n",
       "      <th>ME4 BM3</th>\n",
       "      <td>0.010286</td>\n",
       "      <td>0.007169</td>\n",
       "      <td>0.001870</td>\n",
       "      <td>0.009856</td>\n",
       "      <td>0.001986</td>\n",
       "      <td>-0.009385</td>\n",
       "      <td>-0.002775</td>\n",
       "      <td>0.009556</td>\n",
       "      <td>0.001771</td>\n",
       "      <td>0.003594</td>\n",
       "      <td>...</td>\n",
       "      <td>-0.014561</td>\n",
       "      <td>-0.005864</td>\n",
       "      <td>0.017031</td>\n",
       "      <td>0.004907</td>\n",
       "      <td>-0.003186</td>\n",
       "      <td>0.003954</td>\n",
       "      <td>-0.001546</td>\n",
       "      <td>-0.002329</td>\n",
       "      <td>0.004518</td>\n",
       "      <td>-0.001089</td>\n",
       "    </tr>\n",
       "    <tr>\n",
       "      <th>ME4 BM4</th>\n",
       "      <td>0.009452</td>\n",
       "      <td>0.008327</td>\n",
       "      <td>0.008282</td>\n",
       "      <td>0.011997</td>\n",
       "      <td>0.005460</td>\n",
       "      <td>0.000321</td>\n",
       "      <td>-0.010167</td>\n",
       "      <td>-0.000845</td>\n",
       "      <td>-0.010134</td>\n",
       "      <td>-0.016897</td>\n",
       "      <td>...</td>\n",
       "      <td>-0.009037</td>\n",
       "      <td>0.007693</td>\n",
       "      <td>-0.012642</td>\n",
       "      <td>-0.001462</td>\n",
       "      <td>-0.000237</td>\n",
       "      <td>0.002884</td>\n",
       "      <td>0.002971</td>\n",
       "      <td>-0.002391</td>\n",
       "      <td>-0.000120</td>\n",
       "      <td>-0.001280</td>\n",
       "    </tr>\n",
       "    <tr>\n",
       "      <th>ME4 BM5</th>\n",
       "      <td>0.010845</td>\n",
       "      <td>0.005948</td>\n",
       "      <td>0.014242</td>\n",
       "      <td>-0.001633</td>\n",
       "      <td>0.016753</td>\n",
       "      <td>0.007455</td>\n",
       "      <td>-0.005199</td>\n",
       "      <td>-0.030125</td>\n",
       "      <td>-0.028677</td>\n",
       "      <td>0.000432</td>\n",
       "      <td>...</td>\n",
       "      <td>0.005705</td>\n",
       "      <td>-0.001098</td>\n",
       "      <td>0.005616</td>\n",
       "      <td>0.000743</td>\n",
       "      <td>0.002041</td>\n",
       "      <td>-0.002164</td>\n",
       "      <td>0.000620</td>\n",
       "      <td>-0.000441</td>\n",
       "      <td>-0.003162</td>\n",
       "      <td>-0.002018</td>\n",
       "    </tr>\n",
       "    <tr>\n",
       "      <th>BIG LoBM</th>\n",
       "      <td>0.008856</td>\n",
       "      <td>0.012649</td>\n",
       "      <td>-0.019330</td>\n",
       "      <td>-0.004237</td>\n",
       "      <td>0.015456</td>\n",
       "      <td>0.033350</td>\n",
       "      <td>0.008735</td>\n",
       "      <td>0.008402</td>\n",
       "      <td>0.006188</td>\n",
       "      <td>-0.009785</td>\n",
       "      <td>...</td>\n",
       "      <td>-0.006225</td>\n",
       "      <td>-0.007354</td>\n",
       "      <td>-0.004460</td>\n",
       "      <td>-0.001711</td>\n",
       "      <td>-0.000921</td>\n",
       "      <td>-0.000879</td>\n",
       "      <td>0.002854</td>\n",
       "      <td>-0.000509</td>\n",
       "      <td>-0.002503</td>\n",
       "      <td>0.000047</td>\n",
       "    </tr>\n",
       "    <tr>\n",
       "      <th>ME5 BM2</th>\n",
       "      <td>0.009128</td>\n",
       "      <td>0.014289</td>\n",
       "      <td>-0.008562</td>\n",
       "      <td>-0.002836</td>\n",
       "      <td>-0.007057</td>\n",
       "      <td>-0.001924</td>\n",
       "      <td>0.016248</td>\n",
       "      <td>0.004142</td>\n",
       "      <td>-0.021547</td>\n",
       "      <td>0.026013</td>\n",
       "      <td>...</td>\n",
       "      <td>-0.003368</td>\n",
       "      <td>-0.000840</td>\n",
       "      <td>0.000162</td>\n",
       "      <td>-0.000776</td>\n",
       "      <td>-0.001172</td>\n",
       "      <td>-0.002266</td>\n",
       "      <td>-0.002150</td>\n",
       "      <td>-0.000401</td>\n",
       "      <td>-0.000566</td>\n",
       "      <td>0.001565</td>\n",
       "    </tr>\n",
       "    <tr>\n",
       "      <th>ME5 BM3</th>\n",
       "      <td>0.008018</td>\n",
       "      <td>0.017284</td>\n",
       "      <td>-0.003225</td>\n",
       "      <td>0.003336</td>\n",
       "      <td>-0.028059</td>\n",
       "      <td>-0.000131</td>\n",
       "      <td>0.011114</td>\n",
       "      <td>-0.015168</td>\n",
       "      <td>0.006368</td>\n",
       "      <td>-0.012286</td>\n",
       "      <td>...</td>\n",
       "      <td>-0.002100</td>\n",
       "      <td>0.007262</td>\n",
       "      <td>0.003034</td>\n",
       "      <td>0.002637</td>\n",
       "      <td>-0.002079</td>\n",
       "      <td>0.001429</td>\n",
       "      <td>0.002865</td>\n",
       "      <td>0.001047</td>\n",
       "      <td>0.001911</td>\n",
       "      <td>0.001250</td>\n",
       "    </tr>\n",
       "    <tr>\n",
       "      <th>ME5 BM4</th>\n",
       "      <td>0.007846</td>\n",
       "      <td>0.015314</td>\n",
       "      <td>0.007023</td>\n",
       "      <td>-0.002291</td>\n",
       "      <td>-0.010104</td>\n",
       "      <td>0.008559</td>\n",
       "      <td>-0.029435</td>\n",
       "      <td>0.006519</td>\n",
       "      <td>0.008631</td>\n",
       "      <td>0.013059</td>\n",
       "      <td>...</td>\n",
       "      <td>0.001988</td>\n",
       "      <td>0.000917</td>\n",
       "      <td>-0.001539</td>\n",
       "      <td>-0.000991</td>\n",
       "      <td>0.002987</td>\n",
       "      <td>-0.001692</td>\n",
       "      <td>-0.000364</td>\n",
       "      <td>0.001109</td>\n",
       "      <td>-0.001439</td>\n",
       "      <td>-0.000641</td>\n",
       "    </tr>\n",
       "    <tr>\n",
       "      <th>BIG HiBM</th>\n",
       "      <td>0.008470</td>\n",
       "      <td>0.012339</td>\n",
       "      <td>0.014851</td>\n",
       "      <td>-0.035515</td>\n",
       "      <td>0.008130</td>\n",
       "      <td>-0.014154</td>\n",
       "      <td>0.006836</td>\n",
       "      <td>0.010274</td>\n",
       "      <td>0.003697</td>\n",
       "      <td>-0.009793</td>\n",
       "      <td>...</td>\n",
       "      <td>-0.002368</td>\n",
       "      <td>0.000649</td>\n",
       "      <td>0.002313</td>\n",
       "      <td>-0.001868</td>\n",
       "      <td>-0.000791</td>\n",
       "      <td>0.001406</td>\n",
       "      <td>-0.000749</td>\n",
       "      <td>-0.001643</td>\n",
       "      <td>0.000948</td>\n",
       "      <td>-0.000352</td>\n",
       "    </tr>\n",
       "  </tbody>\n",
       "</table>\n",
       "<p>25 rows × 25 columns</p>\n",
       "</div>"
      ]
     },
     "execution_count": 36,
     "metadata": {},
     "output_type": "execute_result"
    }
   ],
   "execution_count": 36
  },
  {
   "metadata": {
    "ExecuteTime": {
     "end_time": "2025-08-07T23:39:09.401948Z",
     "start_time": "2025-08-07T23:39:09.390874Z"
    }
   },
   "cell_type": "code",
   "source": "kns_model._selection",
   "id": "e4f30ea6af06e344",
   "outputs": [
    {
     "data": {
      "text/plain": [
       "Index(['Factor_1', 'Factor_2', 'Factor_3', 'Factor_4', 'Factor_5', 'Factor_6',\n",
       "       'Factor_7', 'Factor_8', 'Factor_9', 'Factor_10', 'Factor_11',\n",
       "       'Factor_12', 'Factor_13', 'Factor_14', 'Factor_15', 'Factor_16',\n",
       "       'Factor_17', 'Factor_18', 'Factor_19', 'Factor_20', 'Factor_21',\n",
       "       'Factor_22', 'Factor_23', 'Factor_24', 'Factor_25'],\n",
       "      dtype='object')"
      ]
     },
     "execution_count": 37,
     "metadata": {},
     "output_type": "execute_result"
    }
   ],
   "execution_count": 37
  },
  {
   "metadata": {
    "ExecuteTime": {
     "end_time": "2025-08-07T23:39:10.644738Z",
     "start_time": "2025-08-07T23:39:09.427326Z"
    }
   },
   "cell_type": "code",
   "source": [
    "l1_grid = np.logspace(-4, -1, 20)\n",
    "for l1 in l1_grid:\n",
    "    print(l1)\n",
    "    kns_model = KNSFactorModel(l1_penalty=l1, l2_penalty=0)\n",
    "    kns_model.fit(test_assets_xs_r=portfolios_xs_r)\n",
    "    print(len(kns_model._selection))"
   ],
   "id": "e27961a2c3989f6e",
   "outputs": [
    {
     "name": "stdout",
     "output_type": "stream",
     "text": [
      "0.0001\n",
      "25\n",
      "0.0001438449888287663\n",
      "25\n",
      "0.00020691380811147902\n",
      "25\n",
      "0.00029763514416313193\n",
      "25\n",
      "0.00042813323987193956\n",
      "25\n",
      "0.0006158482110660267\n",
      "24\n",
      "0.0008858667904100823\n",
      "24\n",
      "0.0012742749857031334\n",
      "23\n",
      "0.0018329807108324356\n",
      "21\n",
      "0.0026366508987303583\n",
      "21\n",
      "0.00379269019073225\n",
      "21\n",
      "0.005455594781168515\n",
      "21\n",
      "0.007847599703514606\n",
      "18\n",
      "0.011288378916846883\n",
      "16\n",
      "0.01623776739188721\n",
      "13\n",
      "0.023357214690901212\n",
      "10\n",
      "0.03359818286283781\n",
      "6\n",
      "0.04832930238571752\n",
      "4\n",
      "0.06951927961775606\n",
      "2\n",
      "0.1\n",
      "1\n"
     ]
    }
   ],
   "execution_count": 38
  },
  {
   "metadata": {
    "ExecuteTime": {
     "end_time": "2025-08-07T23:40:41.372968Z",
     "start_time": "2025-08-07T23:39:10.677536Z"
    }
   },
   "cell_type": "code",
   "source": [
    "from tqdm import tqdm\n",
    "from itertools import product\n",
    "from sklearn.model_selection import TimeSeriesSplit\n",
    "\n",
    "cv = TimeSeriesSplit(n_splits=5)\n",
    "l1_grid = np.logspace(-4, -1, 20)\n",
    "l2_grid = np.logspace(-3, 3, 20)\n",
    "best_l1 = 0\n",
    "best_l2 = 0\n",
    "best_score = np.inf\n",
    "\n",
    "for (l1, l2) in (pbar := tqdm(product(l1_grid, l2_grid), total=len(l1_grid) * len(l2_grid))):\n",
    "    scores = []\n",
    "    for train, test in cv.split(portfolios_xs_r.loc[:split_date]):\n",
    "        kns_model = KNSFactorModel(l1_penalty=l1, l2_penalty=l2)\n",
    "        kns_model.fit(test_assets_xs_r=portfolios_xs_r.loc[:split_date].iloc[train])\n",
    "        scores.append(kns_model.rmse_score(test_assets_xs_r=portfolios_xs_r.loc[:split_date].iloc[test], factors=factors))\n",
    "\n",
    "    score = np.mean(scores)\n",
    "    pbar.set_description(f\"L1: {l1}, L2: {l2}, Score: {score}\")\n",
    "    if score < best_score:\n",
    "        best_l1 = l1\n",
    "        best_l2 = l2\n",
    "        best_score = score"
   ],
   "id": "ba14b44f52868d2c",
   "outputs": [
    {
     "name": "stderr",
     "output_type": "stream",
     "text": [
      "L1: 0.1, L2: 1000.0, Score: 0.009413168176733317: 100%|██████████| 400/400 [01:30<00:00,  4.41it/s]                                \n"
     ]
    }
   ],
   "execution_count": 39
  },
  {
   "metadata": {
    "ExecuteTime": {
     "end_time": "2025-08-07T23:40:41.415016Z",
     "start_time": "2025-08-07T23:40:41.405249Z"
    }
   },
   "cell_type": "code",
   "source": "best_l1, best_l2, best_score",
   "id": "5a93fc8f81ca796d",
   "outputs": [
    {
     "data": {
      "text/plain": [
       "(np.float64(0.1), np.float64(0.001), np.float64(0.009413168176733317))"
      ]
     },
     "execution_count": 40,
     "metadata": {},
     "output_type": "execute_result"
    }
   ],
   "execution_count": 40
  },
  {
   "metadata": {
    "ExecuteTime": {
     "end_time": "2025-08-07T23:40:41.484100Z",
     "start_time": "2025-08-07T23:40:41.426129Z"
    }
   },
   "cell_type": "code",
   "source": [
    "kns_model = KNSFactorModel(l1_penalty=best_l1, l2_penalty=best_l2)\n",
    "kns_model.fit(test_assets_xs_r=portfolios_xs_r.loc[:split_date])\n",
    "kns_model.r2_score(portfolios_xs_r.loc[split_date:], factors=factors)"
   ],
   "id": "b961bbf9addce2ff",
   "outputs": [
    {
     "data": {
      "text/plain": [
       "np.float64(-1.403083549662059)"
      ]
     },
     "execution_count": 41,
     "metadata": {},
     "output_type": "execute_result"
    }
   ],
   "execution_count": 41
  },
  {
   "metadata": {
    "ExecuteTime": {
     "end_time": "2025-08-07T23:40:41.505120Z",
     "start_time": "2025-08-07T23:40:41.495284Z"
    }
   },
   "cell_type": "code",
   "source": "len(kns_model._selection)",
   "id": "32ee64b675dae611",
   "outputs": [
    {
     "data": {
      "text/plain": [
       "2"
      ]
     },
     "execution_count": 42,
     "metadata": {},
     "output_type": "execute_result"
    }
   ],
   "execution_count": 42
  },
  {
   "metadata": {
    "ExecuteTime": {
     "end_time": "2025-08-07T23:40:41.512164Z",
     "start_time": "2025-08-07T23:40:41.511002Z"
    }
   },
   "cell_type": "code",
   "source": "",
   "id": "caee2ca3a547ba20",
   "outputs": [],
   "execution_count": null
  }
 ],
 "metadata": {
  "kernelspec": {
   "display_name": "Python 3",
   "language": "python",
   "name": "python3"
  },
  "language_info": {
   "codemirror_mode": {
    "name": "ipython",
    "version": 2
   },
   "file_extension": ".py",
   "mimetype": "text/x-python",
   "name": "python",
   "nbconvert_exporter": "python",
   "pygments_lexer": "ipython2",
   "version": "2.7.6"
  }
 },
 "nbformat": 4,
 "nbformat_minor": 5
}
