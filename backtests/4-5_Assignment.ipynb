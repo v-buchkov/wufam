{
 "cells": [
  {
   "cell_type": "code",
   "id": "47ae993bb1d90d3f",
   "metadata": {
    "ExecuteTime": {
     "end_time": "2025-08-06T21:46:13.086953Z",
     "start_time": "2025-08-06T21:46:13.073547Z"
    }
   },
   "source": [
    "from __future__ import annotations\n",
    "\n",
    "%load_ext autoreload\n",
    "%autoreload 2"
   ],
   "outputs": [],
   "execution_count": 1
  },
  {
   "cell_type": "code",
   "id": "initial_id",
   "metadata": {
    "collapsed": true,
    "ExecuteTime": {
     "end_time": "2025-08-06T21:46:13.247351Z",
     "start_time": "2025-08-06T21:46:13.089199Z"
    }
   },
   "source": [
    "from pathlib import Path\n",
    "\n",
    "\n",
    "from wufam.data.prepare_data import read_kf_data\n",
    "from wufam.dataset import Dataset\n",
    "\n",
    "PATH = Path(\"../data/kf_data\")\n",
    "START = \"1970-01-01\"\n",
    "END = \"2024-12-31\"\n",
    "DATASET = Dataset.BM_6_M\n",
    "FACTORS_DATASET = Dataset.FACTORS_M\n",
    "WEIGHTING = \"value_weighted\"\n",
    "FACTOR_ANNUALIZE = 12"
   ],
   "outputs": [],
   "execution_count": 2
  },
  {
   "cell_type": "markdown",
   "id": "1ac5790467715af0",
   "metadata": {},
   "source": "## 1.1"
  },
  {
   "cell_type": "code",
   "id": "5f96001686f357d3",
   "metadata": {
    "ExecuteTime": {
     "end_time": "2025-08-06T21:46:13.271618Z",
     "start_time": "2025-08-06T21:46:13.249774Z"
    }
   },
   "source": [
    "portfolios_total_r, portfolios_xs_r, factors_df, rf = read_kf_data(\n",
    "    portfolios_filename=PATH / DATASET,\n",
    "    factors_filename=PATH / FACTORS_DATASET,\n",
    "    start_date=START,\n",
    "    end_date=END,\n",
    "    weighting=WEIGHTING,\n",
    ")"
   ],
   "outputs": [],
   "execution_count": 3
  },
  {
   "cell_type": "code",
   "id": "e1493496e5034b",
   "metadata": {
    "ExecuteTime": {
     "end_time": "2025-08-06T21:46:13.279189Z",
     "start_time": "2025-08-06T21:46:13.273854Z"
    }
   },
   "source": [
    "assert (\n",
    "    portfolios_total_r.shape[0]\n",
    "    == portfolios_xs_r.shape[0]\n",
    "    == factors_df.shape[0]\n",
    "    == rf.shape[0]\n",
    ")"
   ],
   "outputs": [],
   "execution_count": 4
  },
  {
   "cell_type": "markdown",
   "id": "82b75196feffd992",
   "metadata": {},
   "source": "## 1.4"
  },
  {
   "cell_type": "code",
   "id": "a4eac11242e2946f",
   "metadata": {
    "ExecuteTime": {
     "end_time": "2025-08-06T21:46:13.786604Z",
     "start_time": "2025-08-06T21:46:13.281051Z"
    }
   },
   "source": [
    "from wufam.ap.uncond_factor_model import UncondFactorModel\n",
    "\n",
    "capm = UncondFactorModel()\n",
    "capm.fit(\n",
    "    test_assets_xs_r=portfolios_xs_r,\n",
    "    factors_df=factors_df[[\"Mkt-RF\"]],\n",
    ")"
   ],
   "outputs": [],
   "execution_count": 5
  },
  {
   "cell_type": "code",
   "id": "abab604528d372b9",
   "metadata": {
    "ExecuteTime": {
     "end_time": "2025-08-06T21:46:13.801093Z",
     "start_time": "2025-08-06T21:46:13.789557Z"
    }
   },
   "source": [
    "capm.grs_stat, capm.p_value"
   ],
   "outputs": [
    {
     "data": {
      "text/plain": [
       "(np.float64(6.629569676484499), np.float64(8.082971012380241e-07))"
      ]
     },
     "execution_count": 6,
     "metadata": {},
     "output_type": "execute_result"
    }
   ],
   "execution_count": 6
  },
  {
   "cell_type": "markdown",
   "id": "6c7e273ed9c35caf",
   "metadata": {},
   "source": "Try monthly"
  },
  {
   "cell_type": "code",
   "id": "7e93d54779ab187c",
   "metadata": {
    "ExecuteTime": {
     "end_time": "2025-08-06T21:46:13.821507Z",
     "start_time": "2025-08-06T21:46:13.803445Z"
    }
   },
   "source": [
    "ff_model = UncondFactorModel()\n",
    "ff_model.fit(\n",
    "    test_assets_xs_r=portfolios_xs_r,\n",
    "    factors_df=factors_df,\n",
    ")"
   ],
   "outputs": [],
   "execution_count": 7
  },
  {
   "cell_type": "code",
   "id": "55c318517b60a9b8",
   "metadata": {
    "ExecuteTime": {
     "end_time": "2025-08-06T21:46:13.833603Z",
     "start_time": "2025-08-06T21:46:13.824514Z"
    }
   },
   "source": [
    "ff_model.grs_stat, ff_model.p_value"
   ],
   "outputs": [
    {
     "data": {
      "text/plain": [
       "(np.float64(5.26895705119617), np.float64(2.5726415393510304e-05))"
      ]
     },
     "execution_count": 8,
     "metadata": {},
     "output_type": "execute_result"
    }
   ],
   "execution_count": 8
  },
  {
   "cell_type": "markdown",
   "id": "66e8f34a0964f3db",
   "metadata": {},
   "source": "## 1.5"
  },
  {
   "cell_type": "code",
   "id": "426ee47a1c172f01",
   "metadata": {
    "ExecuteTime": {
     "end_time": "2025-08-06T21:46:13.845669Z",
     "start_time": "2025-08-06T21:46:13.837985Z"
    }
   },
   "source": [
    "split_date = portfolios_xs_r.index[len(portfolios_xs_r) // 2]"
   ],
   "outputs": [],
   "execution_count": 9
  },
  {
   "cell_type": "code",
   "id": "6bc8cf9240912abd",
   "metadata": {
    "ExecuteTime": {
     "end_time": "2025-08-06T21:46:13.864970Z",
     "start_time": "2025-08-06T21:46:13.847868Z"
    }
   },
   "source": [
    "capm.fit(\n",
    "    test_assets_xs_r=portfolios_xs_r.loc[:split_date],\n",
    "    factors_df=factors_df[[\"Mkt-RF\"]].loc[:split_date],\n",
    ")"
   ],
   "outputs": [],
   "execution_count": 10
  },
  {
   "cell_type": "code",
   "id": "104c495e3bd40fa8",
   "metadata": {
    "ExecuteTime": {
     "end_time": "2025-08-06T21:46:13.878463Z",
     "start_time": "2025-08-06T21:46:13.868337Z"
    }
   },
   "source": [
    "capm.rmse_score(\n",
    "    test_assets_xs_r=portfolios_xs_r.loc[split_date:],\n",
    "    factors=factors_df[[\"Mkt-RF\"]].loc[split_date:],\n",
    ")"
   ],
   "outputs": [
    {
     "data": {
      "text/plain": [
       "np.float64(0.0014909569646982166)"
      ]
     },
     "execution_count": 11,
     "metadata": {},
     "output_type": "execute_result"
    }
   ],
   "execution_count": 11
  },
  {
   "cell_type": "code",
   "id": "4656f161fa105b6b",
   "metadata": {
    "ExecuteTime": {
     "end_time": "2025-08-06T21:46:13.893890Z",
     "start_time": "2025-08-06T21:46:13.883347Z"
    }
   },
   "source": [
    "capm.r2_score(\n",
    "    test_assets_xs_r=portfolios_xs_r.loc[split_date:],\n",
    "    factors=factors_df[[\"Mkt-RF\"]].loc[split_date:],\n",
    ")"
   ],
   "outputs": [
    {
     "data": {
      "text/plain": [
       "np.float64(-1.1595217020999948)"
      ]
     },
     "execution_count": 12,
     "metadata": {},
     "output_type": "execute_result"
    }
   ],
   "execution_count": 12
  },
  {
   "cell_type": "code",
   "id": "fa4c54984e92ac45",
   "metadata": {
    "ExecuteTime": {
     "end_time": "2025-08-06T21:46:13.909113Z",
     "start_time": "2025-08-06T21:46:13.899172Z"
    }
   },
   "source": [
    "capm.r2_gls_score(\n",
    "    test_assets_xs_r=portfolios_xs_r.loc[split_date:],\n",
    "    factors=factors_df[[\"Mkt-RF\"]].loc[split_date:],\n",
    ")"
   ],
   "outputs": [
    {
     "data": {
      "text/plain": [
       "np.float64(-0.3658270839465645)"
      ]
     },
     "execution_count": 13,
     "metadata": {},
     "output_type": "execute_result"
    }
   ],
   "execution_count": 13
  },
  {
   "cell_type": "code",
   "id": "5f2f323c807f94f4",
   "metadata": {
    "ExecuteTime": {
     "end_time": "2025-08-06T21:46:13.930101Z",
     "start_time": "2025-08-06T21:46:13.912366Z"
    }
   },
   "source": [
    "ff_model.fit(\n",
    "    test_assets_xs_r=portfolios_xs_r.loc[:split_date],\n",
    "    factors_df=factors_df.loc[:split_date],\n",
    ")"
   ],
   "outputs": [],
   "execution_count": 14
  },
  {
   "cell_type": "code",
   "id": "b1ad6c217f6cdf31",
   "metadata": {
    "ExecuteTime": {
     "end_time": "2025-08-06T21:46:13.944277Z",
     "start_time": "2025-08-06T21:46:13.933379Z"
    }
   },
   "source": [
    "ff_model.rmse_score(\n",
    "    test_assets_xs_r=portfolios_xs_r.loc[split_date:],\n",
    "    factors=factors_df.loc[split_date:],\n",
    ")"
   ],
   "outputs": [
    {
     "data": {
      "text/plain": [
       "np.float64(0.0010301585243249142)"
      ]
     },
     "execution_count": 15,
     "metadata": {},
     "output_type": "execute_result"
    }
   ],
   "execution_count": 15
  },
  {
   "cell_type": "code",
   "id": "3e543c36fbdcd26e",
   "metadata": {
    "ExecuteTime": {
     "end_time": "2025-08-06T21:46:13.956936Z",
     "start_time": "2025-08-06T21:46:13.946883Z"
    }
   },
   "source": [
    "ff_model.r2_score(\n",
    "    test_assets_xs_r=portfolios_xs_r.loc[split_date:],\n",
    "    factors=factors_df.loc[split_date:],\n",
    ")"
   ],
   "outputs": [
    {
     "data": {
      "text/plain": [
       "np.float64(-0.030944955328074064)"
      ]
     },
     "execution_count": 16,
     "metadata": {},
     "output_type": "execute_result"
    }
   ],
   "execution_count": 16
  },
  {
   "cell_type": "code",
   "id": "3204335e0b05dbdf",
   "metadata": {
    "ExecuteTime": {
     "end_time": "2025-08-06T21:46:13.971813Z",
     "start_time": "2025-08-06T21:46:13.961425Z"
    }
   },
   "source": [
    "ff_model.r2_gls_score(\n",
    "    test_assets_xs_r=portfolios_xs_r.loc[split_date:],\n",
    "    factors=factors_df.loc[split_date:],\n",
    ")"
   ],
   "outputs": [
    {
     "data": {
      "text/plain": [
       "np.float64(-0.24602739512673666)"
      ]
     },
     "execution_count": 17,
     "metadata": {},
     "output_type": "execute_result"
    }
   ],
   "execution_count": 17
  },
  {
   "metadata": {
    "ExecuteTime": {
     "end_time": "2025-08-06T21:48:42.496108Z",
     "start_time": "2025-08-06T21:48:42.481993Z"
    }
   },
   "cell_type": "code",
   "source": [
    "from sklearn.decomposition import PCA\n",
    "\n",
    "pca = PCA(n_components=min(portfolios_total_r.shape))\n",
    "factors = pca.fit_transform(portfolios_total_r)"
   ],
   "id": "4862dd966984dc67",
   "outputs": [
    {
     "name": "stderr",
     "output_type": "stream",
     "text": [
      "/Users/buchkovv/wufam/.venv/lib/python3.12/site-packages/sklearn/decomposition/_base.py:148: RuntimeWarning: divide by zero encountered in matmul\n",
      "  X_transformed = X @ self.components_.T\n",
      "/Users/buchkovv/wufam/.venv/lib/python3.12/site-packages/sklearn/decomposition/_base.py:148: RuntimeWarning: overflow encountered in matmul\n",
      "  X_transformed = X @ self.components_.T\n",
      "/Users/buchkovv/wufam/.venv/lib/python3.12/site-packages/sklearn/decomposition/_base.py:148: RuntimeWarning: invalid value encountered in matmul\n",
      "  X_transformed = X @ self.components_.T\n"
     ]
    }
   ],
   "execution_count": 28
  },
  {
   "metadata": {
    "ExecuteTime": {
     "end_time": "2025-08-06T21:49:34.184758Z",
     "start_time": "2025-08-06T21:49:34.169617Z"
    }
   },
   "cell_type": "code",
   "source": "factors",
   "id": "881dbfdd6ea4e3e0",
   "outputs": [
    {
     "data": {
      "text/plain": [
       "array([[ 0.16545614,  0.03856496,  0.05397383, -0.01202235,  0.01643063,\n",
       "         0.01066984],\n",
       "       [-0.10033405, -0.05800805,  0.00394648,  0.00129398, -0.01443853,\n",
       "         0.01672804],\n",
       "       [ 0.05364976, -0.04060644,  0.01849345,  0.01230053, -0.00362214,\n",
       "         0.00156738],\n",
       "       ...,\n",
       "       [ 0.03689875, -0.00539322,  0.00091627, -0.02728451, -0.00548326,\n",
       "         0.00345135],\n",
       "       [-0.22285962,  0.01781967,  0.01443788, -0.02419892, -0.00562038,\n",
       "        -0.00053987],\n",
       "       [ 0.18058023,  0.01840886, -0.03756224, -0.01129008,  0.03080177,\n",
       "         0.01339861]], shape=(660, 6))"
      ]
     },
     "execution_count": 33,
     "metadata": {},
     "output_type": "execute_result"
    }
   ],
   "execution_count": 33
  },
  {
   "metadata": {
    "ExecuteTime": {
     "end_time": "2025-08-06T21:48:42.970299Z",
     "start_time": "2025-08-06T21:48:42.960183Z"
    }
   },
   "cell_type": "code",
   "source": [
    "import numpy as np\n",
    "\n",
    "signs = np.sign(factors.mean(axis=0))\n",
    "factors = signs * factors\n",
    "\n",
    "factors_means = factors.mean(axis=0)\n",
    "factors_means"
   ],
   "id": "6679f7b8d3191c84",
   "outputs": [
    {
     "data": {
      "text/plain": [
       "array([3.15404268e-18, 3.31174482e-19, 3.25917744e-19, 1.47188659e-19,\n",
       "       6.51835488e-19, 5.70356052e-19])"
      ]
     },
     "execution_count": 29,
     "metadata": {},
     "output_type": "execute_result"
    }
   ],
   "execution_count": 29
  },
  {
   "metadata": {
    "ExecuteTime": {
     "end_time": "2025-08-06T21:49:59.525537Z",
     "start_time": "2025-08-06T21:49:59.509245Z"
    }
   },
   "cell_type": "code",
   "source": "np.argsort(factors_means)[::-1]",
   "id": "1ad7ac1206cec0ce",
   "outputs": [
    {
     "data": {
      "text/plain": [
       "array([0, 4, 5, 1, 2, 3])"
      ]
     },
     "execution_count": 34,
     "metadata": {},
     "output_type": "execute_result"
    }
   ],
   "execution_count": 34
  },
  {
   "metadata": {
    "ExecuteTime": {
     "end_time": "2025-08-06T21:50:07.711411Z",
     "start_time": "2025-08-06T21:50:07.699046Z"
    }
   },
   "cell_type": "code",
   "source": [
    "ranked_factors = factors[:, np.argsort(factors_means)[::-1]]\n",
    "ranked_factors"
   ],
   "id": "c5669eab877f363b",
   "outputs": [
    {
     "data": {
      "text/plain": [
       "array([[ 0.16545614,  0.01643063,  0.01066984,  0.03856496,  0.05397383,\n",
       "        -0.01202235],\n",
       "       [-0.10033405, -0.01443853,  0.01672804, -0.05800805,  0.00394648,\n",
       "         0.00129398],\n",
       "       [ 0.05364976, -0.00362214,  0.00156738, -0.04060644,  0.01849345,\n",
       "         0.01230053],\n",
       "       ...,\n",
       "       [ 0.03689875, -0.00548326,  0.00345135, -0.00539322,  0.00091627,\n",
       "        -0.02728451],\n",
       "       [-0.22285962, -0.00562038, -0.00053987,  0.01781967,  0.01443788,\n",
       "        -0.02419892],\n",
       "       [ 0.18058023,  0.03080177,  0.01339861,  0.01840886, -0.03756224,\n",
       "        -0.01129008]], shape=(660, 6))"
      ]
     },
     "execution_count": 35,
     "metadata": {},
     "output_type": "execute_result"
    }
   ],
   "execution_count": 35
  },
  {
   "metadata": {},
   "cell_type": "code",
   "outputs": [],
   "execution_count": null,
   "source": "",
   "id": "22a34da41c16c87e"
  }
 ],
 "metadata": {
  "kernelspec": {
   "display_name": "Python 3",
   "language": "python",
   "name": "python3"
  },
  "language_info": {
   "codemirror_mode": {
    "name": "ipython",
    "version": 2
   },
   "file_extension": ".py",
   "mimetype": "text/x-python",
   "name": "python",
   "nbconvert_exporter": "python",
   "pygments_lexer": "ipython2",
   "version": "2.7.6"
  }
 },
 "nbformat": 4,
 "nbformat_minor": 5
}
