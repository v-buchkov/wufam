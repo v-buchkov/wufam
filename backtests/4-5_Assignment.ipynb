{
 "cells": [
  {
   "cell_type": "code",
   "id": "47ae993bb1d90d3f",
   "metadata": {
    "ExecuteTime": {
     "end_time": "2025-08-06T13:38:05.118946Z",
     "start_time": "2025-08-06T13:38:05.105399Z"
    }
   },
   "source": [
    "from __future__ import annotations\n",
    "\n",
    "%load_ext autoreload\n",
    "%autoreload 2"
   ],
   "outputs": [],
   "execution_count": 1
  },
  {
   "cell_type": "code",
   "id": "initial_id",
   "metadata": {
    "collapsed": true,
    "ExecuteTime": {
     "end_time": "2025-08-06T13:38:05.270374Z",
     "start_time": "2025-08-06T13:38:05.121347Z"
    }
   },
   "source": [
    "from pathlib import Path\n",
    "\n",
    "import numpy as np\n",
    "\n",
    "from wufam.data.prepare_data import read_kf_data\n",
    "from wufam.dataset import Dataset\n",
    "from wufam.metrics.metrics import calc_sharpe\n",
    "\n",
    "PATH = Path(\"../data/kf_data\")\n",
    "START = \"1970-01-01\"\n",
    "END = \"2024-12-31\"\n",
    "DATASET = Dataset.BM_6_M\n",
    "FACTORS_DATASET = Dataset.FACTORS_M\n",
    "WEIGHTING = \"value_weighted\"\n",
    "FACTOR_ANNUALIZE = 12"
   ],
   "outputs": [],
   "execution_count": 2
  },
  {
   "cell_type": "markdown",
   "id": "1ac5790467715af0",
   "metadata": {},
   "source": "## 1.1"
  },
  {
   "cell_type": "code",
   "id": "5f96001686f357d3",
   "metadata": {
    "ExecuteTime": {
     "end_time": "2025-08-06T13:38:05.292605Z",
     "start_time": "2025-08-06T13:38:05.273081Z"
    }
   },
   "source": [
    "portfolios_total_r, portfolios_xs_r, factors_df, rf = read_kf_data(\n",
    "    portfolios_filename=PATH / DATASET,\n",
    "    factors_filename=PATH / FACTORS_DATASET,\n",
    "    start_date=START,\n",
    "    end_date=END,\n",
    "    weighting=WEIGHTING,\n",
    ")"
   ],
   "outputs": [],
   "execution_count": 3
  },
  {
   "metadata": {
    "ExecuteTime": {
     "end_time": "2025-08-06T13:38:05.299413Z",
     "start_time": "2025-08-06T13:38:05.294547Z"
    }
   },
   "cell_type": "code",
   "source": "assert portfolios_total_r.shape[0] == portfolios_xs_r.shape[0] == factors_df.shape[0] == rf.shape[0]",
   "id": "e1493496e5034b",
   "outputs": [],
   "execution_count": 4
  },
  {
   "metadata": {},
   "cell_type": "markdown",
   "source": "## 1.4",
   "id": "82b75196feffd992"
  },
  {
   "cell_type": "code",
   "id": "a4eac11242e2946f",
   "metadata": {
    "ExecuteTime": {
     "end_time": "2025-08-06T13:38:05.756198Z",
     "start_time": "2025-08-06T13:38:05.301534Z"
    }
   },
   "source": [
    "from wufam.ap.uncond_factor_model import UncondFactorModel\n",
    "\n",
    "capm = UncondFactorModel()\n",
    "capm.fit(\n",
    "    rets_df=portfolios_xs_r,\n",
    "    factors_df=factors_df[[\"Mkt-RF\"]],\n",
    ")"
   ],
   "outputs": [],
   "execution_count": 5
  },
  {
   "cell_type": "code",
   "id": "abab604528d372b9",
   "metadata": {
    "ExecuteTime": {
     "end_time": "2025-08-06T13:38:05.770042Z",
     "start_time": "2025-08-06T13:38:05.759352Z"
    }
   },
   "source": "capm.grs_stat, capm.p_value",
   "outputs": [
    {
     "data": {
      "text/plain": [
       "(np.float64(6.629569676484499), np.float64(8.082971012380241e-07))"
      ]
     },
     "execution_count": 6,
     "metadata": {},
     "output_type": "execute_result"
    }
   ],
   "execution_count": 6
  },
  {
   "cell_type": "markdown",
   "id": "6c7e273ed9c35caf",
   "metadata": {},
   "source": "Try monthly"
  },
  {
   "cell_type": "code",
   "id": "7e93d54779ab187c",
   "metadata": {
    "ExecuteTime": {
     "end_time": "2025-08-06T13:38:05.799455Z",
     "start_time": "2025-08-06T13:38:05.781048Z"
    }
   },
   "source": [
    "ff_model = UncondFactorModel()\n",
    "ff_model.fit(\n",
    "    rets_df=portfolios_xs_r,\n",
    "    factors_df=factors_df,\n",
    ")"
   ],
   "outputs": [],
   "execution_count": 7
  },
  {
   "cell_type": "code",
   "id": "55c318517b60a9b8",
   "metadata": {
    "ExecuteTime": {
     "end_time": "2025-08-06T13:38:05.825525Z",
     "start_time": "2025-08-06T13:38:05.816101Z"
    }
   },
   "source": "ff_model.grs_stat, ff_model.p_value",
   "outputs": [
    {
     "data": {
      "text/plain": [
       "(np.float64(5.26895705119617), np.float64(2.5726415393510304e-05))"
      ]
     },
     "execution_count": 8,
     "metadata": {},
     "output_type": "execute_result"
    }
   ],
   "execution_count": 8
  },
  {
   "cell_type": "code",
   "id": "13f2d23ac8a9609f",
   "metadata": {
    "ExecuteTime": {
     "end_time": "2025-08-06T13:38:05.838352Z",
     "start_time": "2025-08-06T13:38:05.828731Z"
    }
   },
   "source": [
    "long_columns = [col for col in portfolios_xs_r.columns if \"HiBM\" in col]\n",
    "short_columns = [col for col in portfolios_xs_r.columns if \"LoBM\" in col]\n",
    "\n",
    "repl = portfolios_total_r[long_columns].mean(axis=1) - portfolios_total_r[short_columns].mean(\n",
    "    axis=1\n",
    ")"
   ],
   "outputs": [],
   "execution_count": 9
  },
  {
   "cell_type": "code",
   "id": "fd6e421fa9eb4f88",
   "metadata": {
    "ExecuteTime": {
     "end_time": "2025-08-06T13:38:05.861168Z",
     "start_time": "2025-08-06T13:38:05.851511Z"
    }
   },
   "source": [
    "np.abs(factors_df[\"HML\"].to_numpy() - repl.round(4).to_numpy()).mean()"
   ],
   "outputs": [
    {
     "data": {
      "text/plain": [
       "np.float64(4.5454545454650823e-07)"
      ]
     },
     "execution_count": 10,
     "metadata": {},
     "output_type": "execute_result"
    }
   ],
   "execution_count": 10
  },
  {
   "cell_type": "code",
   "id": "e38905756214bda2",
   "metadata": {
    "ExecuteTime": {
     "end_time": "2025-08-06T13:38:06.093308Z",
     "start_time": "2025-08-06T13:38:05.864497Z"
    }
   },
   "source": [
    "import matplotlib.pyplot as plt\n",
    "\n",
    "plt.scatter(factors_df[\"HML\"].to_numpy(), repl.round(4).to_numpy());"
   ],
   "outputs": [
    {
     "data": {
      "text/plain": [
       "<Figure size 640x480 with 1 Axes>"
      ],
      "image/png": "[encoded data removed]"
     },
     "metadata": {},
     "output_type": "display_data"
    }
   ],
   "execution_count": 11
  },
  {
   "cell_type": "code",
   "id": "48c8a15e19424d07",
   "metadata": {
    "ExecuteTime": {
     "end_time": "2025-08-06T13:38:06.109081Z",
     "start_time": "2025-08-06T13:38:06.099084Z"
    }
   },
   "source": [
    "np.corrcoef(factors_df[\"HML\"].to_numpy(), repl.round(4).to_numpy())"
   ],
   "outputs": [
    {
     "data": {
      "text/plain": [
       "array([[1.        , 0.99999998],\n",
       "       [0.99999998, 1.        ]])"
      ]
     },
     "execution_count": 12,
     "metadata": {},
     "output_type": "execute_result"
    }
   ],
   "execution_count": 12
  },
  {
   "cell_type": "code",
   "id": "5eb28ab1e96b6a84",
   "metadata": {
    "ExecuteTime": {
     "end_time": "2025-08-06T13:38:06.175378Z",
     "start_time": "2025-08-06T13:38:06.131433Z"
    }
   },
   "source": [
    "plt.plot(factors_df[\"HML\"].add(1).cumprod(), label=\"Factor\")\n",
    "plt.plot(repl.round(4).add(1).cumprod(), label=\"Replication\")\n",
    "plt.legend()\n",
    "plt.show()"
   ],
   "outputs": [
    {
     "data": {
      "text/plain": [
       "<Figure size 640x480 with 1 Axes>"
      ],
      "image/png": "[encoded data removed]"
     },
     "metadata": {},
     "output_type": "display_data"
    }
   ],
   "execution_count": 13
  },
  {
   "metadata": {
    "ExecuteTime": {
     "end_time": "2025-08-06T13:38:06.198205Z",
     "start_time": "2025-08-06T13:38:06.196920Z"
    }
   },
   "cell_type": "code",
   "source": "",
   "id": "acf6e0ac618c36c5",
   "outputs": [],
   "execution_count": null
  }
 ],
 "metadata": {
  "kernelspec": {
   "display_name": "Python 3",
   "language": "python",
   "name": "python3"
  },
  "language_info": {
   "codemirror_mode": {
    "name": "ipython",
    "version": 2
   },
   "file_extension": ".py",
   "mimetype": "text/x-python",
   "name": "python",
   "nbconvert_exporter": "python",
   "pygments_lexer": "ipython2",
   "version": "2.7.6"
  }
 },
 "nbformat": 4,
 "nbformat_minor": 5
}
