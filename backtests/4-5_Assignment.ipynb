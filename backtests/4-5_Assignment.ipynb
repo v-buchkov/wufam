{
 "cells": [
  {
   "cell_type": "code",
   "id": "47ae993bb1d90d3f",
   "metadata": {
    "ExecuteTime": {
     "end_time": "2025-08-07T23:34:01.593663Z",
     "start_time": "2025-08-07T23:34:01.578095Z"
    }
   },
   "source": [
    "from __future__ import annotations\n",
    "\n",
    "%load_ext autoreload\n",
    "%autoreload 2"
   ],
   "outputs": [],
   "execution_count": 1
  },
  {
   "cell_type": "code",
   "id": "initial_id",
   "metadata": {
    "collapsed": true,
    "ExecuteTime": {
     "end_time": "2025-08-07T23:34:01.744939Z",
     "start_time": "2025-08-07T23:34:01.596659Z"
    }
   },
   "source": [
    "from pathlib import Path\n",
    "\n",
    "\n",
    "from wufam.data.prepare_data import read_kf_data\n",
    "from wufam.dataset import Dataset\n",
    "\n",
    "PATH = Path(\"../data/kf_data\")\n",
    "START = \"1970-01-01\"\n",
    "END = \"2024-12-31\"\n",
    "DATASET = Dataset.BM_6_M\n",
    "FACTORS_DATASET = Dataset.FACTORS_M\n",
    "WEIGHTING = \"value_weighted\"\n",
    "FACTOR_ANNUALIZE = 12"
   ],
   "outputs": [],
   "execution_count": 2
  },
  {
   "cell_type": "markdown",
   "id": "1ac5790467715af0",
   "metadata": {},
   "source": "## 1.1"
  },
  {
   "cell_type": "code",
   "id": "5f96001686f357d3",
   "metadata": {
    "ExecuteTime": {
     "end_time": "2025-08-07T23:34:01.769110Z",
     "start_time": "2025-08-07T23:34:01.747978Z"
    }
   },
   "source": [
    "portfolios_total_r, portfolios_xs_r, factors_df, rf = read_kf_data(\n",
    "    portfolios_filename=PATH / DATASET,\n",
    "    factors_filename=PATH / FACTORS_DATASET,\n",
    "    start_date=START,\n",
    "    end_date=END,\n",
    "    weighting=WEIGHTING,\n",
    ")"
   ],
   "outputs": [],
   "execution_count": 3
  },
  {
   "cell_type": "code",
   "id": "e1493496e5034b",
   "metadata": {
    "ExecuteTime": {
     "end_time": "2025-08-07T23:34:01.776561Z",
     "start_time": "2025-08-07T23:34:01.771764Z"
    }
   },
   "source": [
    "assert (\n",
    "    portfolios_total_r.shape[0]\n",
    "    == portfolios_xs_r.shape[0]\n",
    "    == factors_df.shape[0]\n",
    "    == rf.shape[0]\n",
    ")"
   ],
   "outputs": [],
   "execution_count": 4
  },
  {
   "cell_type": "markdown",
   "id": "82b75196feffd992",
   "metadata": {},
   "source": "## 1.4"
  },
  {
   "cell_type": "code",
   "id": "a4eac11242e2946f",
   "metadata": {
    "ExecuteTime": {
     "end_time": "2025-08-07T23:34:02.325265Z",
     "start_time": "2025-08-07T23:34:01.778985Z"
    }
   },
   "source": [
    "from wufam.ap.uncond_factor_model import UncondFactorModel\n",
    "\n",
    "capm = UncondFactorModel()\n",
    "capm.fit(\n",
    "    test_assets_xs_r=portfolios_xs_r,\n",
    "    factors_df=factors_df[[\"Mkt-RF\"]],\n",
    ")"
   ],
   "outputs": [],
   "execution_count": 5
  },
  {
   "cell_type": "code",
   "id": "abab604528d372b9",
   "metadata": {
    "ExecuteTime": {
     "end_time": "2025-08-07T23:34:02.340726Z",
     "start_time": "2025-08-07T23:34:02.329917Z"
    }
   },
   "source": [
    "capm.grs_stat, capm.p_value"
   ],
   "outputs": [
    {
     "data": {
      "text/plain": [
       "(np.float64(6.629569676484499), np.float64(8.082971012380241e-07))"
      ]
     },
     "execution_count": 6,
     "metadata": {},
     "output_type": "execute_result"
    }
   ],
   "execution_count": 6
  },
  {
   "metadata": {
    "ExecuteTime": {
     "end_time": "2025-08-07T23:34:02.354569Z",
     "start_time": "2025-08-07T23:34:02.345115Z"
    }
   },
   "cell_type": "code",
   "source": [
    "capm.rmse_score(\n",
    "    test_assets_xs_r=portfolios_xs_r,\n",
    "    factors=factors_df[[\"Mkt-RF\"]],\n",
    ")"
   ],
   "id": "52519fc961bab282",
   "outputs": [
    {
     "data": {
      "text/plain": [
       "np.float64(0.0019845935046515113)"
      ]
     },
     "execution_count": 7,
     "metadata": {},
     "output_type": "execute_result"
    }
   ],
   "execution_count": 7
  },
  {
   "metadata": {
    "ExecuteTime": {
     "end_time": "2025-08-07T23:34:02.368229Z",
     "start_time": "2025-08-07T23:34:02.359393Z"
    }
   },
   "cell_type": "code",
   "source": [
    "capm.r2_score(\n",
    "    test_assets_xs_r=portfolios_xs_r,\n",
    "    factors=factors_df[[\"Mkt-RF\"]],\n",
    ")"
   ],
   "id": "b43c4c1026ade0c3",
   "outputs": [
    {
     "data": {
      "text/plain": [
       "np.float64(-0.8179039451377383)"
      ]
     },
     "execution_count": 8,
     "metadata": {},
     "output_type": "execute_result"
    }
   ],
   "execution_count": 8
  },
  {
   "metadata": {
    "ExecuteTime": {
     "end_time": "2025-08-07T23:34:02.382557Z",
     "start_time": "2025-08-07T23:34:02.373299Z"
    }
   },
   "cell_type": "code",
   "source": [
    "capm.r2_gls_score(\n",
    "    test_assets_xs_r=portfolios_xs_r,\n",
    "    factors=factors_df[[\"Mkt-RF\"]],\n",
    ")"
   ],
   "id": "1e18ce31a45338e",
   "outputs": [
    {
     "data": {
      "text/plain": [
       "np.float64(-0.5848124620555419)"
      ]
     },
     "execution_count": 9,
     "metadata": {},
     "output_type": "execute_result"
    }
   ],
   "execution_count": 9
  },
  {
   "cell_type": "markdown",
   "id": "6c7e273ed9c35caf",
   "metadata": {},
   "source": "Try monthly"
  },
  {
   "cell_type": "code",
   "id": "7e93d54779ab187c",
   "metadata": {
    "ExecuteTime": {
     "end_time": "2025-08-07T23:34:02.401433Z",
     "start_time": "2025-08-07T23:34:02.386093Z"
    }
   },
   "source": [
    "ff_model = UncondFactorModel()\n",
    "ff_model.fit(\n",
    "    test_assets_xs_r=portfolios_xs_r,\n",
    "    factors_df=factors_df,\n",
    ")"
   ],
   "outputs": [],
   "execution_count": 10
  },
  {
   "cell_type": "code",
   "id": "55c318517b60a9b8",
   "metadata": {
    "ExecuteTime": {
     "end_time": "2025-08-07T23:34:02.414424Z",
     "start_time": "2025-08-07T23:34:02.405860Z"
    }
   },
   "source": [
    "ff_model.grs_stat, ff_model.p_value"
   ],
   "outputs": [
    {
     "data": {
      "text/plain": [
       "(np.float64(5.26895705119617), np.float64(2.5726415393510304e-05))"
      ]
     },
     "execution_count": 11,
     "metadata": {},
     "output_type": "execute_result"
    }
   ],
   "execution_count": 11
  },
  {
   "metadata": {
    "ExecuteTime": {
     "end_time": "2025-08-07T23:34:02.436131Z",
     "start_time": "2025-08-07T23:34:02.425867Z"
    }
   },
   "cell_type": "code",
   "source": [
    "ff_model.rmse_score(\n",
    "    test_assets_xs_r=portfolios_xs_r,\n",
    "    factors=factors_df,\n",
    ")"
   ],
   "id": "8447dbe546bd2290",
   "outputs": [
    {
     "data": {
      "text/plain": [
       "np.float64(0.0010964596491440297)"
      ]
     },
     "execution_count": 12,
     "metadata": {},
     "output_type": "execute_result"
    }
   ],
   "execution_count": 12
  },
  {
   "metadata": {
    "ExecuteTime": {
     "end_time": "2025-08-07T23:34:02.456685Z",
     "start_time": "2025-08-07T23:34:02.446825Z"
    }
   },
   "cell_type": "code",
   "source": [
    "ff_model.r2_score(\n",
    "    test_assets_xs_r=portfolios_xs_r,\n",
    "    factors=factors_df,\n",
    ")"
   ],
   "id": "bb0f0fe25798cfa5",
   "outputs": [
    {
     "data": {
      "text/plain": [
       "np.float64(0.44510206514402795)"
      ]
     },
     "execution_count": 13,
     "metadata": {},
     "output_type": "execute_result"
    }
   ],
   "execution_count": 13
  },
  {
   "metadata": {
    "ExecuteTime": {
     "end_time": "2025-08-07T23:34:02.478167Z",
     "start_time": "2025-08-07T23:34:02.468100Z"
    }
   },
   "cell_type": "code",
   "source": [
    "ff_model.r2_gls_score(\n",
    "    test_assets_xs_r=portfolios_xs_r,\n",
    "    factors=factors_df,\n",
    ")"
   ],
   "id": "98edab502387cf25",
   "outputs": [
    {
     "data": {
      "text/plain": [
       "np.float64(-0.16860504805673937)"
      ]
     },
     "execution_count": 14,
     "metadata": {},
     "output_type": "execute_result"
    }
   ],
   "execution_count": 14
  },
  {
   "cell_type": "markdown",
   "id": "66e8f34a0964f3db",
   "metadata": {},
   "source": "## 1.5"
  },
  {
   "cell_type": "code",
   "id": "426ee47a1c172f01",
   "metadata": {
    "ExecuteTime": {
     "end_time": "2025-08-07T23:34:02.491217Z",
     "start_time": "2025-08-07T23:34:02.482322Z"
    }
   },
   "source": [
    "split_date = portfolios_xs_r.index[len(portfolios_xs_r) // 2]"
   ],
   "outputs": [],
   "execution_count": 15
  },
  {
   "cell_type": "code",
   "id": "6bc8cf9240912abd",
   "metadata": {
    "ExecuteTime": {
     "end_time": "2025-08-07T23:34:02.513192Z",
     "start_time": "2025-08-07T23:34:02.495911Z"
    }
   },
   "source": [
    "capm.fit(\n",
    "    test_assets_xs_r=portfolios_xs_r.loc[:split_date],\n",
    "    factors_df=factors_df[[\"Mkt-RF\"]].loc[:split_date],\n",
    ")"
   ],
   "outputs": [],
   "execution_count": 16
  },
  {
   "cell_type": "code",
   "id": "104c495e3bd40fa8",
   "metadata": {
    "ExecuteTime": {
     "end_time": "2025-08-07T23:34:02.529214Z",
     "start_time": "2025-08-07T23:34:02.517904Z"
    }
   },
   "source": [
    "capm.rmse_score(\n",
    "    test_assets_xs_r=portfolios_xs_r.loc[split_date:],\n",
    "    factors=factors_df[[\"Mkt-RF\"]].loc[split_date:],\n",
    ")"
   ],
   "outputs": [
    {
     "data": {
      "text/plain": [
       "np.float64(0.0014909569646982166)"
      ]
     },
     "execution_count": 17,
     "metadata": {},
     "output_type": "execute_result"
    }
   ],
   "execution_count": 17
  },
  {
   "cell_type": "code",
   "id": "4656f161fa105b6b",
   "metadata": {
    "ExecuteTime": {
     "end_time": "2025-08-07T23:34:02.545719Z",
     "start_time": "2025-08-07T23:34:02.535647Z"
    }
   },
   "source": [
    "capm.r2_score(\n",
    "    test_assets_xs_r=portfolios_xs_r.loc[split_date:],\n",
    "    factors=factors_df[[\"Mkt-RF\"]].loc[split_date:],\n",
    ")"
   ],
   "outputs": [
    {
     "data": {
      "text/plain": [
       "np.float64(-1.1595217020999948)"
      ]
     },
     "execution_count": 18,
     "metadata": {},
     "output_type": "execute_result"
    }
   ],
   "execution_count": 18
  },
  {
   "cell_type": "code",
   "id": "fa4c54984e92ac45",
   "metadata": {
    "ExecuteTime": {
     "end_time": "2025-08-07T23:34:02.559596Z",
     "start_time": "2025-08-07T23:34:02.549365Z"
    }
   },
   "source": [
    "capm.r2_gls_score(\n",
    "    test_assets_xs_r=portfolios_xs_r.loc[split_date:],\n",
    "    factors=factors_df[[\"Mkt-RF\"]].loc[split_date:],\n",
    ")"
   ],
   "outputs": [
    {
     "data": {
      "text/plain": [
       "np.float64(-0.3658270839465645)"
      ]
     },
     "execution_count": 19,
     "metadata": {},
     "output_type": "execute_result"
    }
   ],
   "execution_count": 19
  },
  {
   "cell_type": "code",
   "id": "5f2f323c807f94f4",
   "metadata": {
    "ExecuteTime": {
     "end_time": "2025-08-07T23:34:02.581287Z",
     "start_time": "2025-08-07T23:34:02.564065Z"
    }
   },
   "source": [
    "ff_model.fit(\n",
    "    test_assets_xs_r=portfolios_xs_r.loc[:split_date],\n",
    "    factors_df=factors_df.loc[:split_date],\n",
    ")"
   ],
   "outputs": [],
   "execution_count": 20
  },
  {
   "cell_type": "code",
   "id": "b1ad6c217f6cdf31",
   "metadata": {
    "ExecuteTime": {
     "end_time": "2025-08-07T23:34:02.594775Z",
     "start_time": "2025-08-07T23:34:02.584676Z"
    }
   },
   "source": [
    "ff_model.rmse_score(\n",
    "    test_assets_xs_r=portfolios_xs_r.loc[split_date:],\n",
    "    factors=factors_df.loc[split_date:],\n",
    ")"
   ],
   "outputs": [
    {
     "data": {
      "text/plain": [
       "np.float64(0.0010301585243249142)"
      ]
     },
     "execution_count": 21,
     "metadata": {},
     "output_type": "execute_result"
    }
   ],
   "execution_count": 21
  },
  {
   "cell_type": "code",
   "id": "3e543c36fbdcd26e",
   "metadata": {
    "ExecuteTime": {
     "end_time": "2025-08-07T23:34:02.610479Z",
     "start_time": "2025-08-07T23:34:02.600107Z"
    }
   },
   "source": [
    "ff_model.r2_score(\n",
    "    test_assets_xs_r=portfolios_xs_r.loc[split_date:],\n",
    "    factors=factors_df.loc[split_date:],\n",
    ")"
   ],
   "outputs": [
    {
     "data": {
      "text/plain": [
       "np.float64(-0.030944955328074064)"
      ]
     },
     "execution_count": 22,
     "metadata": {},
     "output_type": "execute_result"
    }
   ],
   "execution_count": 22
  },
  {
   "cell_type": "code",
   "id": "3204335e0b05dbdf",
   "metadata": {
    "ExecuteTime": {
     "end_time": "2025-08-07T23:34:02.626071Z",
     "start_time": "2025-08-07T23:34:02.616096Z"
    }
   },
   "source": [
    "ff_model.r2_gls_score(\n",
    "    test_assets_xs_r=portfolios_xs_r.loc[split_date:],\n",
    "    factors=factors_df.loc[split_date:],\n",
    ")"
   ],
   "outputs": [
    {
     "data": {
      "text/plain": [
       "np.float64(-0.24602739512673666)"
      ]
     },
     "execution_count": 23,
     "metadata": {},
     "output_type": "execute_result"
    }
   ],
   "execution_count": 23
  }
 ],
 "metadata": {
  "kernelspec": {
   "display_name": "Python 3",
   "language": "python",
   "name": "python3"
  },
  "language_info": {
   "codemirror_mode": {
    "name": "ipython",
    "version": 2
   },
   "file_extension": ".py",
   "mimetype": "text/x-python",
   "name": "python",
   "nbconvert_exporter": "python",
   "pygments_lexer": "ipython2",
   "version": "2.7.6"
  }
 },
 "nbformat": 4,
 "nbformat_minor": 5
}
