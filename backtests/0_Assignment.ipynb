{
 "cells": [
  {
   "cell_type": "code",
   "execution_count": 7,
   "id": "47ae993bb1d90d3f",
   "metadata": {
    "ExecuteTime": {
     "end_time": "2025-08-06T06:53:46.998018Z",
     "start_time": "2025-08-06T06:53:46.922743Z"
    }
   },
   "outputs": [
    {
     "name": "stdout",
     "output_type": "stream",
     "text": [
      "The autoreload extension is already loaded. To reload it, use:\n",
      "  %reload_ext autoreload\n"
     ]
    }
   ],
   "source": [
    "from __future__ import annotations\n",
    "\n",
    "%load_ext autoreload\n",
    "%autoreload 2"
   ]
  },
  {
   "cell_type": "code",
   "execution_count": 8,
   "id": "initial_id",
   "metadata": {
    "ExecuteTime": {
     "end_time": "2025-08-06T06:53:47.010255Z",
     "start_time": "2025-08-06T06:53:47.002099Z"
    },
    "collapsed": true
   },
   "outputs": [],
   "source": [
    "from pathlib import Path\n",
    "\n",
    "import numpy as np\n",
    "\n",
    "from wufam.data.prepare_data import read_kf_data\n",
    "from wufam.config.trading_config import TradingConfig\n",
    "from wufam.dataset import Dataset\n",
    "from wufam.strategies.optimization_data import TrainingData, PredictionData\n",
    "from wufam.metrics.metrics import calc_sharpe\n",
    "\n",
    "PATH = Path(\"../data/kf_data\")\n",
    "START = \"1970-01-01\"\n",
    "END = \"2024-12-31\"\n",
    "DATASET = Dataset.BM_6\n",
    "WEIGHTING = \"value_weighted\""
   ]
  },
  {
   "cell_type": "markdown",
   "id": "1ac5790467715af0",
   "metadata": {},
   "source": "## 1.1"
  },
  {
   "cell_type": "code",
   "execution_count": 9,
   "id": "5f96001686f357d3",
   "metadata": {
    "ExecuteTime": {
     "end_time": "2025-08-06T06:53:47.224946Z",
     "start_time": "2025-08-06T06:53:47.013880Z"
    }
   },
   "outputs": [],
   "source": [
    "portfolios_xs_r, factors_df, rf = read_kf_data(\n",
    "    portfolios_filename=PATH / DATASET,\n",
    "    factors_filename=PATH / Dataset.FACTORS,\n",
    "    start_date=START,\n",
    "    end_date=END,\n",
    "    weighting=WEIGHTING,\n",
    ")"
   ]
  },
  {
   "cell_type": "markdown",
   "id": "c9ade91a822acaba",
   "metadata": {},
   "source": "## 1.2"
  },
  {
   "cell_type": "code",
   "execution_count": 10,
   "id": "8ae5c25a3602d864",
   "metadata": {
    "ExecuteTime": {
     "end_time": "2025-08-06T06:53:47.236612Z",
     "start_time": "2025-08-06T06:53:47.228953Z"
    }
   },
   "outputs": [],
   "source": [
    "from wufam.strategies.heuristics.equally_weighted import EWStrategy\n",
    "from wufam.strategies.estimated.mean_var import MeanVariance\n",
    "from wufam.strategies.estimated.min_var import MinVariance\n",
    "\n",
    "trading_config = TradingConfig(total_exposure=1)\n",
    "\n",
    "ew_strategy = EWStrategy()"
   ]
  },
  {
   "cell_type": "code",
   "execution_count": 11,
   "id": "c7b79c00b835ef0",
   "metadata": {
    "ExecuteTime": {
     "end_time": "2025-08-06T06:53:47.247263Z",
     "start_time": "2025-08-06T06:53:47.240293Z"
    }
   },
   "outputs": [],
   "source": [
    "from wufam.estimation.mean.sample_mu_estimator import SampleMuEstimator\n",
    "from wufam.estimation.covariance.sample_cov_estimator import SampleCovEstimator\n",
    "\n",
    "mv_strategy = MeanVariance(\n",
    "    mu_estimator=SampleMuEstimator(),\n",
    "    cov_estimator=SampleCovEstimator(),\n",
    "    trading_config=trading_config,\n",
    "    window_size=None,\n",
    ")"
   ]
  },
  {
   "cell_type": "code",
   "execution_count": 12,
   "id": "507aeb0c4823af65",
   "metadata": {
    "ExecuteTime": {
     "end_time": "2025-08-06T06:53:47.261037Z",
     "start_time": "2025-08-06T06:53:47.252019Z"
    }
   },
   "outputs": [],
   "source": [
    "from wufam.estimation.covariance.shrinkage.lw_cv_cov_estimator import (\n",
    "    LedoitWolfCVCovEstimator,\n",
    ")\n",
    "\n",
    "# trading_config_min_var = TradingConfig(total_exposure=1, min_exposure=0.0)\n",
    "\n",
    "min_var_strategy = MinVariance(\n",
    "    cov_estimator=LedoitWolfCVCovEstimator(alphas=np.linspace(0.0, 1.0, 100)),\n",
    "    # cov_estimator=LedoitWolfCVCovEstimator(),\n",
    "    # trading_config=trading_config_min_var,\n",
    "    trading_config=trading_config,\n",
    "    window_size=None,\n",
    ")"
   ]
  },
  {
   "cell_type": "code",
   "execution_count": 13,
   "id": "cda23ad544acb6e2",
   "metadata": {
    "ExecuteTime": {
     "end_time": "2025-08-06T06:53:47.581506Z",
     "start_time": "2025-08-06T06:53:47.264346Z"
    }
   },
   "outputs": [],
   "source": [
    "training_data = TrainingData(\n",
    "    simple_excess_returns=portfolios_xs_r,\n",
    ")\n",
    "\n",
    "ew_strategy.fit(training_data)\n",
    "mv_strategy.fit(training_data)\n",
    "min_var_strategy.fit(training_data)"
   ]
  },
  {
   "cell_type": "code",
   "execution_count": 14,
   "id": "4f1364f2296327bd",
   "metadata": {
    "ExecuteTime": {
     "end_time": "2025-08-06T06:53:47.595591Z",
     "start_time": "2025-08-06T06:53:47.586639Z"
    }
   },
   "outputs": [],
   "source": [
    "prediction_data = PredictionData()\n",
    "\n",
    "ew_weights = ew_strategy(prediction_data)\n",
    "mv_weights = mv_strategy(prediction_data)\n",
    "min_var_weights = min_var_strategy(prediction_data)"
   ]
  },
  {
   "cell_type": "code",
   "execution_count": 15,
   "id": "b4eeaec1d5fe53eb",
   "metadata": {
    "ExecuteTime": {
     "end_time": "2025-08-06T06:53:47.612534Z",
     "start_time": "2025-08-06T06:53:47.602130Z"
    }
   },
   "outputs": [
    {
     "data": {
      "text/html": [
       "<div>\n",
       "<style scoped>\n",
       "    .dataframe tbody tr th:only-of-type {\n",
       "        vertical-align: middle;\n",
       "    }\n",
       "\n",
       "    .dataframe tbody tr th {\n",
       "        vertical-align: top;\n",
       "    }\n",
       "\n",
       "    .dataframe thead th {\n",
       "        text-align: right;\n",
       "    }\n",
       "</style>\n",
       "<table border=\"1\" class=\"dataframe\">\n",
       "  <thead>\n",
       "    <tr style=\"text-align: right;\">\n",
       "      <th></th>\n",
       "      <th>SMALL LoBM</th>\n",
       "      <th>ME1 BM2</th>\n",
       "      <th>SMALL HiBM</th>\n",
       "      <th>BIG LoBM</th>\n",
       "      <th>ME2 BM2</th>\n",
       "      <th>BIG HiBM</th>\n",
       "    </tr>\n",
       "  </thead>\n",
       "  <tbody>\n",
       "    <tr>\n",
       "      <th>0</th>\n",
       "      <td>0.166667</td>\n",
       "      <td>0.166667</td>\n",
       "      <td>0.166667</td>\n",
       "      <td>0.166667</td>\n",
       "      <td>0.166667</td>\n",
       "      <td>0.166667</td>\n",
       "    </tr>\n",
       "  </tbody>\n",
       "</table>\n",
       "</div>"
      ],
      "text/plain": [
       "   SMALL LoBM   ME1 BM2  SMALL HiBM  BIG LoBM   ME2 BM2  BIG HiBM\n",
       "0    0.166667  0.166667    0.166667  0.166667  0.166667  0.166667"
      ]
     },
     "execution_count": 15,
     "metadata": {},
     "output_type": "execute_result"
    }
   ],
   "source": [
    "ew_weights.head()"
   ]
  },
  {
   "cell_type": "code",
   "execution_count": 16,
   "id": "4c669753d06a93a4",
   "metadata": {
    "ExecuteTime": {
     "end_time": "2025-08-06T06:53:47.629616Z",
     "start_time": "2025-08-06T06:53:47.619750Z"
    }
   },
   "outputs": [
    {
     "data": {
      "text/html": [
       "<div>\n",
       "<style scoped>\n",
       "    .dataframe tbody tr th:only-of-type {\n",
       "        vertical-align: middle;\n",
       "    }\n",
       "\n",
       "    .dataframe tbody tr th {\n",
       "        vertical-align: top;\n",
       "    }\n",
       "\n",
       "    .dataframe thead th {\n",
       "        text-align: right;\n",
       "    }\n",
       "</style>\n",
       "<table border=\"1\" class=\"dataframe\">\n",
       "  <thead>\n",
       "    <tr style=\"text-align: right;\">\n",
       "      <th></th>\n",
       "      <th>SMALL LoBM</th>\n",
       "      <th>ME1 BM2</th>\n",
       "      <th>SMALL HiBM</th>\n",
       "      <th>BIG LoBM</th>\n",
       "      <th>ME2 BM2</th>\n",
       "      <th>BIG HiBM</th>\n",
       "    </tr>\n",
       "  </thead>\n",
       "  <tbody>\n",
       "    <tr>\n",
       "      <th>0</th>\n",
       "      <td>-2.914401</td>\n",
       "      <td>2.713937</td>\n",
       "      <td>1.02806</td>\n",
       "      <td>1.605151</td>\n",
       "      <td>-1.028673</td>\n",
       "      <td>-0.404073</td>\n",
       "    </tr>\n",
       "  </tbody>\n",
       "</table>\n",
       "</div>"
      ],
      "text/plain": [
       "   SMALL LoBM   ME1 BM2  SMALL HiBM  BIG LoBM   ME2 BM2  BIG HiBM\n",
       "0   -2.914401  2.713937     1.02806  1.605151 -1.028673 -0.404073"
      ]
     },
     "execution_count": 16,
     "metadata": {},
     "output_type": "execute_result"
    }
   ],
   "source": [
    "mv_weights.head()"
   ]
  },
  {
   "cell_type": "code",
   "execution_count": 17,
   "id": "ac9490c38f933627",
   "metadata": {
    "ExecuteTime": {
     "end_time": "2025-08-06T06:53:47.713491Z",
     "start_time": "2025-08-06T06:53:47.703767Z"
    }
   },
   "outputs": [
    {
     "data": {
      "text/html": [
       "<div>\n",
       "<style scoped>\n",
       "    .dataframe tbody tr th:only-of-type {\n",
       "        vertical-align: middle;\n",
       "    }\n",
       "\n",
       "    .dataframe tbody tr th {\n",
       "        vertical-align: top;\n",
       "    }\n",
       "\n",
       "    .dataframe thead th {\n",
       "        text-align: right;\n",
       "    }\n",
       "</style>\n",
       "<table border=\"1\" class=\"dataframe\">\n",
       "  <thead>\n",
       "    <tr style=\"text-align: right;\">\n",
       "      <th></th>\n",
       "      <th>SMALL LoBM</th>\n",
       "      <th>ME1 BM2</th>\n",
       "      <th>SMALL HiBM</th>\n",
       "      <th>BIG LoBM</th>\n",
       "      <th>ME2 BM2</th>\n",
       "      <th>BIG HiBM</th>\n",
       "    </tr>\n",
       "  </thead>\n",
       "  <tbody>\n",
       "    <tr>\n",
       "      <th>0</th>\n",
       "      <td>-0.671276</td>\n",
       "      <td>0.681026</td>\n",
       "      <td>0.361899</td>\n",
       "      <td>0.476674</td>\n",
       "      <td>0.577262</td>\n",
       "      <td>-0.425585</td>\n",
       "    </tr>\n",
       "  </tbody>\n",
       "</table>\n",
       "</div>"
      ],
      "text/plain": [
       "   SMALL LoBM   ME1 BM2  SMALL HiBM  BIG LoBM   ME2 BM2  BIG HiBM\n",
       "0   -0.671276  0.681026    0.361899  0.476674  0.577262 -0.425585"
      ]
     },
     "execution_count": 17,
     "metadata": {},
     "output_type": "execute_result"
    }
   ],
   "source": [
    "min_var_weights.head()"
   ]
  },
  {
   "cell_type": "code",
   "execution_count": 18,
   "id": "3814365a1b08bf3f",
   "metadata": {
    "ExecuteTime": {
     "end_time": "2025-08-06T06:53:47.786835Z",
     "start_time": "2025-08-06T06:53:47.778247Z"
    }
   },
   "outputs": [
    {
     "data": {
      "text/plain": [
       "np.float64(0.020202020202020204)"
      ]
     },
     "execution_count": 18,
     "metadata": {},
     "output_type": "execute_result"
    }
   ],
   "source": [
    "min_var_strategy.cov_estimator.best_alpha"
   ]
  },
  {
   "cell_type": "code",
   "execution_count": 19,
   "id": "83af2b894883708e",
   "metadata": {
    "ExecuteTime": {
     "end_time": "2025-08-06T06:53:48.198273Z",
     "start_time": "2025-08-06T06:53:47.802019Z"
    }
   },
   "outputs": [
    {
     "data": {
      "image/png": "[encoded data removed]",
      "text/plain": [
       "<Figure size 640x480 with 1 Axes>"
      ]
     },
     "metadata": {},
     "output_type": "display_data"
    }
   ],
   "source": [
    "portfolios_xs_r.add(1).cumprod().plot(logy=True);"
   ]
  },
  {
   "cell_type": "code",
   "execution_count": 20,
   "id": "a18132451bc65fbf",
   "metadata": {
    "ExecuteTime": {
     "end_time": "2025-08-06T06:53:48.216082Z",
     "start_time": "2025-08-06T06:53:48.204574Z"
    }
   },
   "outputs": [
    {
     "data": {
      "text/plain": [
       "0.4629649799815216"
      ]
     },
     "execution_count": 20,
     "metadata": {},
     "output_type": "execute_result"
    }
   ],
   "source": [
    "calc_sharpe(\n",
    "    weights=ew_weights,\n",
    "    excess_ret=portfolios_xs_r,\n",
    "    rf_rate=rf,\n",
    "    factor_annualize=252,\n",
    ")"
   ]
  },
  {
   "cell_type": "code",
   "execution_count": 21,
   "id": "947cee49dc1dab19",
   "metadata": {
    "ExecuteTime": {
     "end_time": "2025-08-06T06:53:48.235033Z",
     "start_time": "2025-08-06T06:53:48.224549Z"
    }
   },
   "outputs": [
    {
     "data": {
      "text/plain": [
       "0.5620564006405585"
      ]
     },
     "execution_count": 21,
     "metadata": {},
     "output_type": "execute_result"
    }
   ],
   "source": [
    "calc_sharpe(\n",
    "    weights=mv_weights,\n",
    "    excess_ret=portfolios_xs_r,\n",
    "    rf_rate=rf,\n",
    "    factor_annualize=252,\n",
    ")"
   ]
  },
  {
   "cell_type": "code",
   "execution_count": 22,
   "id": "69889549bd66e3b6",
   "metadata": {
    "ExecuteTime": {
     "end_time": "2025-08-06T06:53:48.254009Z",
     "start_time": "2025-08-06T06:53:48.243964Z"
    }
   },
   "outputs": [
    {
     "data": {
      "text/plain": [
       "0.611169793800908"
      ]
     },
     "execution_count": 22,
     "metadata": {},
     "output_type": "execute_result"
    }
   ],
   "source": [
    "calc_sharpe(\n",
    "    weights=min_var_weights,\n",
    "    excess_ret=portfolios_xs_r,\n",
    "    rf_rate=rf,\n",
    "    factor_annualize=252,\n",
    ")"
   ]
  },
  {
   "cell_type": "markdown",
   "id": "378da694e79134f3",
   "metadata": {},
   "source": "## 1.3."
  },
  {
   "cell_type": "code",
   "execution_count": 23,
   "id": "2a8ca1a60e6045c5",
   "metadata": {
    "ExecuteTime": {
     "end_time": "2025-08-06T06:53:48.539131Z",
     "start_time": "2025-08-06T06:53:48.261077Z"
    }
   },
   "outputs": [],
   "source": [
    "split_date = portfolios_xs_r.index[len(portfolios_xs_r) // 2]\n",
    "\n",
    "training_data = TrainingData(\n",
    "    simple_excess_returns=portfolios_xs_r.loc[:split_date],\n",
    ")\n",
    "\n",
    "ew_strategy.fit(training_data)\n",
    "mv_strategy.fit(training_data)\n",
    "min_var_strategy.fit(training_data)\n",
    "\n",
    "ew_weights = ew_strategy(prediction_data)\n",
    "mv_weights = mv_strategy(prediction_data)\n",
    "min_var_weights = min_var_strategy(prediction_data)"
   ]
  },
  {
   "cell_type": "code",
   "execution_count": 24,
   "id": "eb0db5dc2bbbd988",
   "metadata": {
    "ExecuteTime": {
     "end_time": "2025-08-06T06:53:48.552949Z",
     "start_time": "2025-08-06T06:53:48.543673Z"
    }
   },
   "outputs": [
    {
     "data": {
      "text/plain": [
       "np.float64(0.0)"
      ]
     },
     "execution_count": 24,
     "metadata": {},
     "output_type": "execute_result"
    }
   ],
   "source": [
    "min_var_strategy.cov_estimator.best_alpha"
   ]
  },
  {
   "cell_type": "markdown",
   "id": "ed8d33298f0b61f",
   "metadata": {},
   "source": "In-sample."
  },
  {
   "cell_type": "code",
   "execution_count": 25,
   "id": "16cb914aaa0d7a1c",
   "metadata": {
    "ExecuteTime": {
     "end_time": "2025-08-06T06:53:48.571807Z",
     "start_time": "2025-08-06T06:53:48.561330Z"
    }
   },
   "outputs": [
    {
     "data": {
      "text/plain": [
       "0.4651515142590495"
      ]
     },
     "execution_count": 25,
     "metadata": {},
     "output_type": "execute_result"
    }
   ],
   "source": [
    "calc_sharpe(\n",
    "    weights=ew_weights,\n",
    "    excess_ret=portfolios_xs_r.loc[:split_date],\n",
    "    rf_rate=rf,\n",
    "    factor_annualize=252,\n",
    ")"
   ]
  },
  {
   "cell_type": "code",
   "execution_count": 26,
   "id": "f0539318f706d207",
   "metadata": {
    "ExecuteTime": {
     "end_time": "2025-08-06T06:53:48.591001Z",
     "start_time": "2025-08-06T06:53:48.579758Z"
    }
   },
   "outputs": [
    {
     "data": {
      "text/plain": [
       "1.1215682199695207"
      ]
     },
     "execution_count": 26,
     "metadata": {},
     "output_type": "execute_result"
    }
   ],
   "source": [
    "calc_sharpe(\n",
    "    weights=mv_weights,\n",
    "    excess_ret=portfolios_xs_r.loc[:split_date],\n",
    "    rf_rate=rf,\n",
    "    factor_annualize=252,\n",
    ")"
   ]
  },
  {
   "cell_type": "code",
   "execution_count": 27,
   "id": "6ffceb6718b3eb17",
   "metadata": {
    "ExecuteTime": {
     "end_time": "2025-08-06T06:53:48.610019Z",
     "start_time": "2025-08-06T06:53:48.599302Z"
    }
   },
   "outputs": [
    {
     "data": {
      "text/plain": [
       "1.0772818557320734"
      ]
     },
     "execution_count": 27,
     "metadata": {},
     "output_type": "execute_result"
    }
   ],
   "source": [
    "calc_sharpe(\n",
    "    weights=min_var_weights,\n",
    "    excess_ret=portfolios_xs_r.loc[:split_date],\n",
    "    rf_rate=rf,\n",
    "    factor_annualize=252,\n",
    ")"
   ]
  },
  {
   "cell_type": "markdown",
   "id": "d1ae026a193b2ff8",
   "metadata": {},
   "source": "Out-of-sample."
  },
  {
   "cell_type": "code",
   "execution_count": 28,
   "id": "d2d6c343915a2250",
   "metadata": {
    "ExecuteTime": {
     "end_time": "2025-08-06T06:53:48.628169Z",
     "start_time": "2025-08-06T06:53:48.617746Z"
    }
   },
   "outputs": [
    {
     "data": {
      "text/plain": [
       "0.04726382910935625"
      ]
     },
     "execution_count": 28,
     "metadata": {},
     "output_type": "execute_result"
    }
   ],
   "source": [
    "calc_sharpe(\n",
    "    weights=ew_weights,\n",
    "    excess_ret=portfolios_xs_r.loc[split_date:],\n",
    "    rf_rate=rf,\n",
    "    factor_annualize=252,\n",
    ")"
   ]
  },
  {
   "cell_type": "code",
   "execution_count": 29,
   "id": "682d9bf774037cc",
   "metadata": {
    "ExecuteTime": {
     "end_time": "2025-08-06T06:53:48.647243Z",
     "start_time": "2025-08-06T06:53:48.635818Z"
    }
   },
   "outputs": [
    {
     "data": {
      "text/plain": [
       "0.1821874078413307"
      ]
     },
     "execution_count": 29,
     "metadata": {},
     "output_type": "execute_result"
    }
   ],
   "source": [
    "calc_sharpe(\n",
    "    weights=mv_weights,\n",
    "    excess_ret=portfolios_xs_r.loc[split_date:],\n",
    "    rf_rate=rf,\n",
    "    factor_annualize=252,\n",
    ")"
   ]
  },
  {
   "cell_type": "code",
   "execution_count": 30,
   "id": "ff379f8fd946c29e",
   "metadata": {
    "ExecuteTime": {
     "end_time": "2025-08-06T06:53:48.665800Z",
     "start_time": "2025-08-06T06:53:48.655067Z"
    }
   },
   "outputs": [
    {
     "data": {
      "text/plain": [
       "0.1828328121833465"
      ]
     },
     "execution_count": 30,
     "metadata": {},
     "output_type": "execute_result"
    }
   ],
   "source": [
    "calc_sharpe(\n",
    "    weights=min_var_weights,\n",
    "    excess_ret=portfolios_xs_r.loc[split_date:],\n",
    "    rf_rate=rf,\n",
    "    factor_annualize=252,\n",
    ")"
   ]
  },
  {
   "cell_type": "markdown",
   "id": "8904bd7e6ae517af",
   "metadata": {},
   "source": "Factor => Doesn't improve, as should've shorted"
  },
  {
   "cell_type": "markdown",
   "id": "82b75196feffd992",
   "metadata": {},
   "source": "## 1.4"
  },
  {
   "cell_type": "code",
   "execution_count": 31,
   "id": "a4eac11242e2946f",
   "metadata": {
    "ExecuteTime": {
     "end_time": "2025-08-06T06:53:48.860476Z",
     "start_time": "2025-08-06T06:53:48.672303Z"
    }
   },
   "outputs": [],
   "source": [
    "from wufam.metrics.grs_test import GRSTest\n",
    "\n",
    "grs_test_capm = GRSTest()\n",
    "grs_test_capm.fit(\n",
    "    rets_df=portfolios_xs_r,\n",
    "    factors_df=factors_df[[\"Mkt-RF\"]],\n",
    ")"
   ]
  },
  {
   "cell_type": "code",
   "execution_count": 32,
   "id": "abab604528d372b9",
   "metadata": {
    "ExecuteTime": {
     "end_time": "2025-08-06T06:53:48.875813Z",
     "start_time": "2025-08-06T06:53:48.865331Z"
    }
   },
   "outputs": [
    {
     "data": {
      "text/plain": [
       "(np.float64(8.621724017012603), np.float64(2.201415323319591e-09))"
      ]
     },
     "execution_count": 32,
     "metadata": {},
     "output_type": "execute_result"
    }
   ],
   "source": [
    "grs_test_capm.grs_stat, grs_test_capm.p_value"
   ]
  },
  {
   "cell_type": "markdown",
   "id": "6c7e273ed9c35caf",
   "metadata": {},
   "source": "Try monthly"
  },
  {
   "cell_type": "code",
   "execution_count": 33,
   "id": "7e93d54779ab187c",
   "metadata": {
    "ExecuteTime": {
     "end_time": "2025-08-06T06:53:48.907402Z",
     "start_time": "2025-08-06T06:53:48.883019Z"
    }
   },
   "outputs": [],
   "source": [
    "from wufam.metrics.grs_test import GRSTest\n",
    "\n",
    "grs_test_ff = GRSTest()\n",
    "grs_test_ff.fit(\n",
    "    rets_df=portfolios_xs_r,\n",
    "    factors_df=factors_df,\n",
    ")"
   ]
  },
  {
   "cell_type": "code",
   "execution_count": 34,
   "id": "55c318517b60a9b8",
   "metadata": {
    "ExecuteTime": {
     "end_time": "2025-08-06T06:53:48.922300Z",
     "start_time": "2025-08-06T06:53:48.911959Z"
    }
   },
   "outputs": [
    {
     "data": {
      "text/plain": [
       "(np.float64(14.01045314262867), np.float64(5.792140688748753e-16))"
      ]
     },
     "execution_count": 34,
     "metadata": {},
     "output_type": "execute_result"
    }
   ],
   "source": [
    "grs_test_ff.grs_stat, grs_test_ff.p_value"
   ]
  },
  {
   "cell_type": "code",
   "execution_count": 35,
   "id": "13f2d23ac8a9609f",
   "metadata": {
    "ExecuteTime": {
     "end_time": "2025-08-06T06:53:48.941278Z",
     "start_time": "2025-08-06T06:53:48.929617Z"
    }
   },
   "outputs": [],
   "source": [
    "long_columns = [col for col in portfolios_xs_r.columns if \"HiBM\" in col]\n",
    "short_columns = [col for col in portfolios_xs_r.columns if \"LoBM\" in col]\n",
    "\n",
    "repl = portfolios_xs_r[long_columns].mean(axis=1) - portfolios_xs_r[short_columns].mean(\n",
    "    axis=1\n",
    ")"
   ]
  },
  {
   "cell_type": "code",
   "execution_count": 36,
   "id": "fd6e421fa9eb4f88",
   "metadata": {
    "ExecuteTime": {
     "end_time": "2025-08-06T06:53:48.956189Z",
     "start_time": "2025-08-06T06:53:48.945901Z"
    }
   },
   "outputs": [
    {
     "data": {
      "text/plain": [
       "np.float64(3.854804988825617e-05)"
      ]
     },
     "execution_count": 36,
     "metadata": {},
     "output_type": "execute_result"
    }
   ],
   "source": [
    "np.abs(factors_df[\"HML\"].to_numpy() - repl.round(4).to_numpy()).mean()"
   ]
  },
  {
   "cell_type": "code",
   "execution_count": 37,
   "id": "e38905756214bda2",
   "metadata": {
    "ExecuteTime": {
     "end_time": "2025-08-06T06:53:49.010432Z",
     "start_time": "2025-08-06T06:53:48.963347Z"
    }
   },
   "outputs": [
    {
     "data": {
      "image/png": "[encoded data removed]",
      "text/plain": [
       "<Figure size 640x480 with 1 Axes>"
      ]
     },
     "metadata": {},
     "output_type": "display_data"
    }
   ],
   "source": [
    "import matplotlib.pyplot as plt\n",
    "\n",
    "plt.scatter(factors_df[\"HML\"].to_numpy(), repl.round(4).to_numpy());"
   ]
  },
  {
   "cell_type": "code",
   "execution_count": 38,
   "id": "48c8a15e19424d07",
   "metadata": {
    "ExecuteTime": {
     "end_time": "2025-08-06T06:53:49.029741Z",
     "start_time": "2025-08-06T06:53:49.018794Z"
    }
   },
   "outputs": [
    {
     "data": {
      "text/plain": [
       "array([[1.        , 0.99994896],\n",
       "       [0.99994896, 1.        ]])"
      ]
     },
     "execution_count": 38,
     "metadata": {},
     "output_type": "execute_result"
    }
   ],
   "source": [
    "np.corrcoef(factors_df[\"HML\"].to_numpy(), repl.round(4).to_numpy())"
   ]
  },
  {
   "cell_type": "code",
   "execution_count": 40,
   "id": "5eb28ab1e96b6a84",
   "metadata": {
    "ExecuteTime": {
     "end_time": "2025-08-06T06:54:40.100454Z",
     "start_time": "2025-08-06T06:54:40.042925Z"
    }
   },
   "outputs": [
    {
     "data": {
      "image/png": "[encoded data removed]",
      "text/plain": [
       "<Figure size 640x480 with 1 Axes>"
      ]
     },
     "metadata": {},
     "output_type": "display_data"
    }
   ],
   "source": [
    "plt.plot(factors_df[\"HML\"].add(1).cumprod())\n",
    "plt.plot(repl.round(4).add(1).cumprod())\n",
    "plt.show()"
   ]
  },
  {
   "cell_type": "code",
   "execution_count": null,
   "id": "119b9e814b4931ba",
   "metadata": {},
   "outputs": [],
   "source": []
  }
 ],
 "metadata": {
  "kernelspec": {
   "display_name": "Python 3",
   "language": "python",
   "name": "python3"
  },
  "language_info": {
   "codemirror_mode": {
    "name": "ipython",
    "version": 2
   },
   "file_extension": ".py",
   "mimetype": "text/x-python",
   "name": "python",
   "nbconvert_exporter": "python",
   "pygments_lexer": "ipython2",
   "version": "2.7.6"
  }
 },
 "nbformat": 4,
 "nbformat_minor": 5
}
