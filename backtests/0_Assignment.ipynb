{
 "cells": [
  {
   "cell_type": "code",
   "id": "initial_id",
   "metadata": {
    "collapsed": true,
    "ExecuteTime": {
     "end_time": "2025-08-04T14:31:33.902822Z",
     "start_time": "2025-08-04T14:31:33.899432Z"
    }
   },
   "source": [
    "from __future__ import annotations\n",
    "\n",
    "from pathlib import Path\n",
    "\n",
    "import pandas as pd\n",
    "\n",
    "from wufam.config.trading_config import TradingConfig\n",
    "from wufam.dataset import Dataset\n",
    "from wufam.strategies.optimization_data import TrainingData, PredictionData\n",
    "\n",
    "PATH = Path(\"../data/kf_data\")\n",
    "START = \"1970-01-01\"\n",
    "END = \"2024-12-31\"\n",
    "DATASET = Dataset.BM_6\n",
    "RF_FILENAME = \"F-F_Research_Data_Factors_daily.csv\""
   ],
   "outputs": [],
   "execution_count": 11
  },
  {
   "metadata": {
    "ExecuteTime": {
     "end_time": "2025-08-04T14:33:11.011276Z",
     "start_time": "2025-08-04T14:33:10.948900Z"
    }
   },
   "cell_type": "code",
   "source": [
    "rf_df = pd.read_csv(\n",
    "    PATH / RF_FILENAME,\n",
    "    skiprows=4,\n",
    "    skipfooter=3,\n",
    "    index_col=0,\n",
    "    engine=\"python\"\n",
    ")\n",
    "rf_df.index = pd.to_datetime(rf_df.index, format=\"%Y%m%d\")\n",
    "rf_df = rf_df.loc[START:END]\n",
    "rf_df = rf_df / 100\n",
    "rf_df.head()"
   ],
   "id": "546d6037e4a6d7bb",
   "outputs": [
    {
     "data": {
      "text/plain": [
       "            Mkt-RF     SMB     HML       RF\n",
       "1970-01-02  0.0118  0.0130  0.0104  0.00029\n",
       "1970-01-05  0.0059  0.0068  0.0074  0.00029\n",
       "1970-01-06 -0.0074  0.0010  0.0021  0.00029\n",
       "1970-01-07 -0.0015  0.0041 -0.0034  0.00029\n",
       "1970-01-08  0.0003  0.0019 -0.0017  0.00029"
      ],
      "text/html": [
       "<div>\n",
       "<style scoped>\n",
       "    .dataframe tbody tr th:only-of-type {\n",
       "        vertical-align: middle;\n",
       "    }\n",
       "\n",
       "    .dataframe tbody tr th {\n",
       "        vertical-align: top;\n",
       "    }\n",
       "\n",
       "    .dataframe thead th {\n",
       "        text-align: right;\n",
       "    }\n",
       "</style>\n",
       "<table border=\"1\" class=\"dataframe\">\n",
       "  <thead>\n",
       "    <tr style=\"text-align: right;\">\n",
       "      <th></th>\n",
       "      <th>Mkt-RF</th>\n",
       "      <th>SMB</th>\n",
       "      <th>HML</th>\n",
       "      <th>RF</th>\n",
       "    </tr>\n",
       "  </thead>\n",
       "  <tbody>\n",
       "    <tr>\n",
       "      <th>1970-01-02</th>\n",
       "      <td>0.0118</td>\n",
       "      <td>0.0130</td>\n",
       "      <td>0.0104</td>\n",
       "      <td>0.00029</td>\n",
       "    </tr>\n",
       "    <tr>\n",
       "      <th>1970-01-05</th>\n",
       "      <td>0.0059</td>\n",
       "      <td>0.0068</td>\n",
       "      <td>0.0074</td>\n",
       "      <td>0.00029</td>\n",
       "    </tr>\n",
       "    <tr>\n",
       "      <th>1970-01-06</th>\n",
       "      <td>-0.0074</td>\n",
       "      <td>0.0010</td>\n",
       "      <td>0.0021</td>\n",
       "      <td>0.00029</td>\n",
       "    </tr>\n",
       "    <tr>\n",
       "      <th>1970-01-07</th>\n",
       "      <td>-0.0015</td>\n",
       "      <td>0.0041</td>\n",
       "      <td>-0.0034</td>\n",
       "      <td>0.00029</td>\n",
       "    </tr>\n",
       "    <tr>\n",
       "      <th>1970-01-08</th>\n",
       "      <td>0.0003</td>\n",
       "      <td>0.0019</td>\n",
       "      <td>-0.0017</td>\n",
       "      <td>0.00029</td>\n",
       "    </tr>\n",
       "  </tbody>\n",
       "</table>\n",
       "</div>"
      ]
     },
     "execution_count": 17,
     "metadata": {},
     "output_type": "execute_result"
    }
   ],
   "execution_count": 17
  },
  {
   "metadata": {
    "ExecuteTime": {
     "end_time": "2025-08-04T14:27:50.037103Z",
     "start_time": "2025-08-04T14:27:49.933897Z"
    }
   },
   "cell_type": "code",
   "source": [
    "factors_df = pd.read_csv(\n",
    "    PATH / DATASET,\n",
    "    skiprows=26_045,\n",
    "    skipfooter=104_126-52_070,\n",
    "    index_col=0,\n",
    "    engine=\"python\"\n",
    ")\n",
    "factors_df.index = pd.to_datetime(factors_df.index, format=\"%Y%m%d\")\n",
    "factors_df = factors_df.loc[START:END]\n",
    "factors_df = factors_df / 100\n",
    "factors_df.head()"
   ],
   "id": "d2f177801063ebd",
   "outputs": [
    {
     "data": {
      "text/plain": [
       "            SMALL LoBM  ME1 BM2  SMALL HiBM  BIG LoBM  ME2 BM2  BIG HiBM\n",
       "1970-01-02      0.0459   0.0395      0.0334    0.0107   0.0152    0.0246\n",
       "1970-01-05      0.0260   0.0222      0.0240    0.0026   0.0077    0.0123\n",
       "1970-01-06     -0.0076  -0.0038     -0.0009   -0.0090  -0.0077   -0.0065\n",
       "1970-01-07      0.0054   0.0055      0.0037   -0.0008  -0.0027   -0.0025\n",
       "1970-01-08      0.0051   0.0062      0.0027    0.0001  -0.0002   -0.0017"
      ],
      "text/html": [
       "<div>\n",
       "<style scoped>\n",
       "    .dataframe tbody tr th:only-of-type {\n",
       "        vertical-align: middle;\n",
       "    }\n",
       "\n",
       "    .dataframe tbody tr th {\n",
       "        vertical-align: top;\n",
       "    }\n",
       "\n",
       "    .dataframe thead th {\n",
       "        text-align: right;\n",
       "    }\n",
       "</style>\n",
       "<table border=\"1\" class=\"dataframe\">\n",
       "  <thead>\n",
       "    <tr style=\"text-align: right;\">\n",
       "      <th></th>\n",
       "      <th>SMALL LoBM</th>\n",
       "      <th>ME1 BM2</th>\n",
       "      <th>SMALL HiBM</th>\n",
       "      <th>BIG LoBM</th>\n",
       "      <th>ME2 BM2</th>\n",
       "      <th>BIG HiBM</th>\n",
       "    </tr>\n",
       "  </thead>\n",
       "  <tbody>\n",
       "    <tr>\n",
       "      <th>1970-01-02</th>\n",
       "      <td>0.0459</td>\n",
       "      <td>0.0395</td>\n",
       "      <td>0.0334</td>\n",
       "      <td>0.0107</td>\n",
       "      <td>0.0152</td>\n",
       "      <td>0.0246</td>\n",
       "    </tr>\n",
       "    <tr>\n",
       "      <th>1970-01-05</th>\n",
       "      <td>0.0260</td>\n",
       "      <td>0.0222</td>\n",
       "      <td>0.0240</td>\n",
       "      <td>0.0026</td>\n",
       "      <td>0.0077</td>\n",
       "      <td>0.0123</td>\n",
       "    </tr>\n",
       "    <tr>\n",
       "      <th>1970-01-06</th>\n",
       "      <td>-0.0076</td>\n",
       "      <td>-0.0038</td>\n",
       "      <td>-0.0009</td>\n",
       "      <td>-0.0090</td>\n",
       "      <td>-0.0077</td>\n",
       "      <td>-0.0065</td>\n",
       "    </tr>\n",
       "    <tr>\n",
       "      <th>1970-01-07</th>\n",
       "      <td>0.0054</td>\n",
       "      <td>0.0055</td>\n",
       "      <td>0.0037</td>\n",
       "      <td>-0.0008</td>\n",
       "      <td>-0.0027</td>\n",
       "      <td>-0.0025</td>\n",
       "    </tr>\n",
       "    <tr>\n",
       "      <th>1970-01-08</th>\n",
       "      <td>0.0051</td>\n",
       "      <td>0.0062</td>\n",
       "      <td>0.0027</td>\n",
       "      <td>0.0001</td>\n",
       "      <td>-0.0002</td>\n",
       "      <td>-0.0017</td>\n",
       "    </tr>\n",
       "  </tbody>\n",
       "</table>\n",
       "</div>"
      ]
     },
     "execution_count": 2,
     "metadata": {},
     "output_type": "execute_result"
    }
   ],
   "execution_count": 2
  },
  {
   "metadata": {
    "ExecuteTime": {
     "end_time": "2025-08-04T14:34:02.798994Z",
     "start_time": "2025-08-04T14:34:02.790922Z"
    }
   },
   "cell_type": "code",
   "source": [
    "factors_df = factors_df.merge(rf_df, left_index=True, right_index=True, how=\"left\")\n",
    "factors_df.head()"
   ],
   "id": "b4f7d57eacd683e6",
   "outputs": [
    {
     "data": {
      "text/plain": [
       "            SMALL LoBM  ME1 BM2  SMALL HiBM  BIG LoBM  ME2 BM2  BIG HiBM  \\\n",
       "1970-01-02      0.0459   0.0395      0.0334    0.0107   0.0152    0.0246   \n",
       "1970-01-05      0.0260   0.0222      0.0240    0.0026   0.0077    0.0123   \n",
       "1970-01-06     -0.0076  -0.0038     -0.0009   -0.0090  -0.0077   -0.0065   \n",
       "1970-01-07      0.0054   0.0055      0.0037   -0.0008  -0.0027   -0.0025   \n",
       "1970-01-08      0.0051   0.0062      0.0027    0.0001  -0.0002   -0.0017   \n",
       "\n",
       "            Mkt-RF     SMB     HML       RF  \n",
       "1970-01-02  0.0118  0.0130  0.0104  0.00029  \n",
       "1970-01-05  0.0059  0.0068  0.0074  0.00029  \n",
       "1970-01-06 -0.0074  0.0010  0.0021  0.00029  \n",
       "1970-01-07 -0.0015  0.0041 -0.0034  0.00029  \n",
       "1970-01-08  0.0003  0.0019 -0.0017  0.00029  "
      ],
      "text/html": [
       "<div>\n",
       "<style scoped>\n",
       "    .dataframe tbody tr th:only-of-type {\n",
       "        vertical-align: middle;\n",
       "    }\n",
       "\n",
       "    .dataframe tbody tr th {\n",
       "        vertical-align: top;\n",
       "    }\n",
       "\n",
       "    .dataframe thead th {\n",
       "        text-align: right;\n",
       "    }\n",
       "</style>\n",
       "<table border=\"1\" class=\"dataframe\">\n",
       "  <thead>\n",
       "    <tr style=\"text-align: right;\">\n",
       "      <th></th>\n",
       "      <th>SMALL LoBM</th>\n",
       "      <th>ME1 BM2</th>\n",
       "      <th>SMALL HiBM</th>\n",
       "      <th>BIG LoBM</th>\n",
       "      <th>ME2 BM2</th>\n",
       "      <th>BIG HiBM</th>\n",
       "      <th>Mkt-RF</th>\n",
       "      <th>SMB</th>\n",
       "      <th>HML</th>\n",
       "      <th>RF</th>\n",
       "    </tr>\n",
       "  </thead>\n",
       "  <tbody>\n",
       "    <tr>\n",
       "      <th>1970-01-02</th>\n",
       "      <td>0.0459</td>\n",
       "      <td>0.0395</td>\n",
       "      <td>0.0334</td>\n",
       "      <td>0.0107</td>\n",
       "      <td>0.0152</td>\n",
       "      <td>0.0246</td>\n",
       "      <td>0.0118</td>\n",
       "      <td>0.0130</td>\n",
       "      <td>0.0104</td>\n",
       "      <td>0.00029</td>\n",
       "    </tr>\n",
       "    <tr>\n",
       "      <th>1970-01-05</th>\n",
       "      <td>0.0260</td>\n",
       "      <td>0.0222</td>\n",
       "      <td>0.0240</td>\n",
       "      <td>0.0026</td>\n",
       "      <td>0.0077</td>\n",
       "      <td>0.0123</td>\n",
       "      <td>0.0059</td>\n",
       "      <td>0.0068</td>\n",
       "      <td>0.0074</td>\n",
       "      <td>0.00029</td>\n",
       "    </tr>\n",
       "    <tr>\n",
       "      <th>1970-01-06</th>\n",
       "      <td>-0.0076</td>\n",
       "      <td>-0.0038</td>\n",
       "      <td>-0.0009</td>\n",
       "      <td>-0.0090</td>\n",
       "      <td>-0.0077</td>\n",
       "      <td>-0.0065</td>\n",
       "      <td>-0.0074</td>\n",
       "      <td>0.0010</td>\n",
       "      <td>0.0021</td>\n",
       "      <td>0.00029</td>\n",
       "    </tr>\n",
       "    <tr>\n",
       "      <th>1970-01-07</th>\n",
       "      <td>0.0054</td>\n",
       "      <td>0.0055</td>\n",
       "      <td>0.0037</td>\n",
       "      <td>-0.0008</td>\n",
       "      <td>-0.0027</td>\n",
       "      <td>-0.0025</td>\n",
       "      <td>-0.0015</td>\n",
       "      <td>0.0041</td>\n",
       "      <td>-0.0034</td>\n",
       "      <td>0.00029</td>\n",
       "    </tr>\n",
       "    <tr>\n",
       "      <th>1970-01-08</th>\n",
       "      <td>0.0051</td>\n",
       "      <td>0.0062</td>\n",
       "      <td>0.0027</td>\n",
       "      <td>0.0001</td>\n",
       "      <td>-0.0002</td>\n",
       "      <td>-0.0017</td>\n",
       "      <td>0.0003</td>\n",
       "      <td>0.0019</td>\n",
       "      <td>-0.0017</td>\n",
       "      <td>0.00029</td>\n",
       "    </tr>\n",
       "  </tbody>\n",
       "</table>\n",
       "</div>"
      ]
     },
     "execution_count": 20,
     "metadata": {},
     "output_type": "execute_result"
    }
   ],
   "execution_count": 20
  },
  {
   "metadata": {
    "ExecuteTime": {
     "end_time": "2025-08-04T14:27:51.116467Z",
     "start_time": "2025-08-04T14:27:50.064914Z"
    }
   },
   "cell_type": "code",
   "source": [
    "from wufam.strategies.heuristics.equally_weighted import EWStrategy\n",
    "from wufam.strategies.estimated.mean_var import MeanVariance\n",
    "from wufam.strategies.estimated.min_var import MinVariance\n",
    "\n",
    "trading_config = TradingConfig(total_exposure=1)\n",
    "\n",
    "ew_strategy = EWStrategy()"
   ],
   "id": "8ae5c25a3602d864",
   "outputs": [],
   "execution_count": 3
  },
  {
   "metadata": {
    "ExecuteTime": {
     "end_time": "2025-08-04T14:27:51.140594Z",
     "start_time": "2025-08-04T14:27:51.138127Z"
    }
   },
   "cell_type": "code",
   "source": [
    "from wufam.estimation.mean.sample_mu_estimator import SampleMuEstimator\n",
    "from wufam.estimation.covariance.sample_cov_estimator import SampleCovEstimator\n",
    "\n",
    "\n",
    "mv_strategy = MeanVariance(\n",
    "    mu_estimator=SampleMuEstimator(),\n",
    "    cov_estimator=SampleCovEstimator(),\n",
    "    trading_config=trading_config,\n",
    "    window_size=None\n",
    ")"
   ],
   "id": "c7b79c00b835ef0",
   "outputs": [],
   "execution_count": 4
  },
  {
   "metadata": {
    "ExecuteTime": {
     "end_time": "2025-08-04T14:27:51.498475Z",
     "start_time": "2025-08-04T14:27:51.151958Z"
    }
   },
   "cell_type": "code",
   "source": [
    "from wufam.estimation.covariance.shrinkage.pca_cov_estimator import PCACovEstimator\n",
    "\n",
    "min_var_strategy = MinVariance(\n",
    "    cov_estimator=PCACovEstimator(),\n",
    "    trading_config=trading_config,\n",
    "    window_size=None,\n",
    ")"
   ],
   "id": "507aeb0c4823af65",
   "outputs": [],
   "execution_count": 5
  },
  {
   "metadata": {
    "ExecuteTime": {
     "end_time": "2025-08-04T14:27:51.510742Z",
     "start_time": "2025-08-04T14:27:51.504443Z"
    }
   },
   "cell_type": "code",
   "source": [
    "training_data = TrainingData(\n",
    "    simple_excess_returns=factors_df,\n",
    ")\n",
    "\n",
    "ew_strategy.fit(training_data)\n",
    "mv_strategy.fit(training_data)\n",
    "min_var_strategy.fit(training_data)"
   ],
   "id": "cda23ad544acb6e2",
   "outputs": [],
   "execution_count": 6
  },
  {
   "metadata": {
    "ExecuteTime": {
     "end_time": "2025-08-04T14:27:52.671246Z",
     "start_time": "2025-08-04T14:27:51.517451Z"
    }
   },
   "cell_type": "code",
   "source": [
    "prediction_data = PredictionData()\n",
    "\n",
    "ew_weights = ew_strategy(prediction_data)\n",
    "mv_weights = mv_strategy(prediction_data)\n",
    "min_var_weights = min_var_strategy(prediction_data)"
   ],
   "id": "4f1364f2296327bd",
   "outputs": [],
   "execution_count": 7
  },
  {
   "metadata": {
    "ExecuteTime": {
     "end_time": "2025-08-04T14:28:34.354061Z",
     "start_time": "2025-08-04T14:28:34.349159Z"
    }
   },
   "cell_type": "code",
   "source": "ew_weights.head()",
   "id": "b4eeaec1d5fe53eb",
   "outputs": [
    {
     "data": {
      "text/plain": [
       "   SMALL LoBM   ME1 BM2  SMALL HiBM  BIG LoBM   ME2 BM2  BIG HiBM\n",
       "0    0.166667  0.166667    0.166667  0.166667  0.166667  0.166667"
      ],
      "text/html": [
       "<div>\n",
       "<style scoped>\n",
       "    .dataframe tbody tr th:only-of-type {\n",
       "        vertical-align: middle;\n",
       "    }\n",
       "\n",
       "    .dataframe tbody tr th {\n",
       "        vertical-align: top;\n",
       "    }\n",
       "\n",
       "    .dataframe thead th {\n",
       "        text-align: right;\n",
       "    }\n",
       "</style>\n",
       "<table border=\"1\" class=\"dataframe\">\n",
       "  <thead>\n",
       "    <tr style=\"text-align: right;\">\n",
       "      <th></th>\n",
       "      <th>SMALL LoBM</th>\n",
       "      <th>ME1 BM2</th>\n",
       "      <th>SMALL HiBM</th>\n",
       "      <th>BIG LoBM</th>\n",
       "      <th>ME2 BM2</th>\n",
       "      <th>BIG HiBM</th>\n",
       "    </tr>\n",
       "  </thead>\n",
       "  <tbody>\n",
       "    <tr>\n",
       "      <th>0</th>\n",
       "      <td>0.166667</td>\n",
       "      <td>0.166667</td>\n",
       "      <td>0.166667</td>\n",
       "      <td>0.166667</td>\n",
       "      <td>0.166667</td>\n",
       "      <td>0.166667</td>\n",
       "    </tr>\n",
       "  </tbody>\n",
       "</table>\n",
       "</div>"
      ]
     },
     "execution_count": 8,
     "metadata": {},
     "output_type": "execute_result"
    }
   ],
   "execution_count": 8
  },
  {
   "metadata": {
    "ExecuteTime": {
     "end_time": "2025-08-04T14:28:39.392180Z",
     "start_time": "2025-08-04T14:28:39.387153Z"
    }
   },
   "cell_type": "code",
   "source": "mv_weights.head()",
   "id": "4c669753d06a93a4",
   "outputs": [
    {
     "data": {
      "text/plain": [
       "   SMALL LoBM   ME1 BM2  SMALL HiBM  BIG LoBM    ME2 BM2  BIG HiBM\n",
       "0   -7.671588 -2.310579   16.489084  5.833693 -10.517793 -0.822816"
      ],
      "text/html": [
       "<div>\n",
       "<style scoped>\n",
       "    .dataframe tbody tr th:only-of-type {\n",
       "        vertical-align: middle;\n",
       "    }\n",
       "\n",
       "    .dataframe tbody tr th {\n",
       "        vertical-align: top;\n",
       "    }\n",
       "\n",
       "    .dataframe thead th {\n",
       "        text-align: right;\n",
       "    }\n",
       "</style>\n",
       "<table border=\"1\" class=\"dataframe\">\n",
       "  <thead>\n",
       "    <tr style=\"text-align: right;\">\n",
       "      <th></th>\n",
       "      <th>SMALL LoBM</th>\n",
       "      <th>ME1 BM2</th>\n",
       "      <th>SMALL HiBM</th>\n",
       "      <th>BIG LoBM</th>\n",
       "      <th>ME2 BM2</th>\n",
       "      <th>BIG HiBM</th>\n",
       "    </tr>\n",
       "  </thead>\n",
       "  <tbody>\n",
       "    <tr>\n",
       "      <th>0</th>\n",
       "      <td>-7.671588</td>\n",
       "      <td>-2.310579</td>\n",
       "      <td>16.489084</td>\n",
       "      <td>5.833693</td>\n",
       "      <td>-10.517793</td>\n",
       "      <td>-0.822816</td>\n",
       "    </tr>\n",
       "  </tbody>\n",
       "</table>\n",
       "</div>"
      ]
     },
     "execution_count": 9,
     "metadata": {},
     "output_type": "execute_result"
    }
   ],
   "execution_count": 9
  },
  {
   "metadata": {
    "ExecuteTime": {
     "end_time": "2025-08-04T14:28:45.845729Z",
     "start_time": "2025-08-04T14:28:45.841375Z"
    }
   },
   "cell_type": "code",
   "source": "min_var_weights.head()",
   "id": "ac9490c38f933627",
   "outputs": [
    {
     "data": {
      "text/plain": [
       "   SMALL LoBM   ME1 BM2  SMALL HiBM  BIG LoBM   ME2 BM2  BIG HiBM\n",
       "0   -1.435176 -0.488751    2.653299  0.945826  0.995038 -1.670235"
      ],
      "text/html": [
       "<div>\n",
       "<style scoped>\n",
       "    .dataframe tbody tr th:only-of-type {\n",
       "        vertical-align: middle;\n",
       "    }\n",
       "\n",
       "    .dataframe tbody tr th {\n",
       "        vertical-align: top;\n",
       "    }\n",
       "\n",
       "    .dataframe thead th {\n",
       "        text-align: right;\n",
       "    }\n",
       "</style>\n",
       "<table border=\"1\" class=\"dataframe\">\n",
       "  <thead>\n",
       "    <tr style=\"text-align: right;\">\n",
       "      <th></th>\n",
       "      <th>SMALL LoBM</th>\n",
       "      <th>ME1 BM2</th>\n",
       "      <th>SMALL HiBM</th>\n",
       "      <th>BIG LoBM</th>\n",
       "      <th>ME2 BM2</th>\n",
       "      <th>BIG HiBM</th>\n",
       "    </tr>\n",
       "  </thead>\n",
       "  <tbody>\n",
       "    <tr>\n",
       "      <th>0</th>\n",
       "      <td>-1.435176</td>\n",
       "      <td>-0.488751</td>\n",
       "      <td>2.653299</td>\n",
       "      <td>0.945826</td>\n",
       "      <td>0.995038</td>\n",
       "      <td>-1.670235</td>\n",
       "    </tr>\n",
       "  </tbody>\n",
       "</table>\n",
       "</div>"
      ]
     },
     "execution_count": 10,
     "metadata": {},
     "output_type": "execute_result"
    }
   ],
   "execution_count": 10
  },
  {
   "metadata": {},
   "cell_type": "code",
   "outputs": [],
   "execution_count": null,
   "source": "",
   "id": "d783f139a46efa3"
  }
 ],
 "metadata": {
  "kernelspec": {
   "display_name": "Python 3",
   "language": "python",
   "name": "python3"
  },
  "language_info": {
   "codemirror_mode": {
    "name": "ipython",
    "version": 2
   },
   "file_extension": ".py",
   "mimetype": "text/x-python",
   "name": "python",
   "nbconvert_exporter": "python",
   "pygments_lexer": "ipython2",
   "version": "2.7.6"
  }
 },
 "nbformat": 4,
 "nbformat_minor": 5
}
