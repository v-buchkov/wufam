{
 "cells": [
  {
   "cell_type": "code",
   "id": "initial_id",
   "metadata": {
    "collapsed": true,
    "ExecuteTime": {
     "end_time": "2025-08-04T13:34:06.008636Z",
     "start_time": "2025-08-04T13:34:06.004103Z"
    }
   },
   "source": [
    "from __future__ import annotations\n",
    "\n",
    "from pathlib import Path\n",
    "\n",
    "import pandas as pd\n",
    "\n",
    "from wufam.dataset import Dataset\n",
    "\n",
    "PATH = Path(\"../data/kf_data\")\n",
    "START = \"1970-01-01\"\n",
    "END = \"2024-12-31\"\n",
    "DATASET = Dataset.BM_6"
   ],
   "outputs": [],
   "execution_count": 12
  },
  {
   "metadata": {
    "ExecuteTime": {
     "end_time": "2025-08-04T13:39:12.947458Z",
     "start_time": "2025-08-04T13:39:12.821929Z"
    }
   },
   "cell_type": "code",
   "source": [
    "factors_df = pd.read_csv(\n",
    "    PATH / DATASET,\n",
    "    skiprows=26_045,\n",
    "    skipfooter=104_126-52_070,\n",
    "    index_col=0,\n",
    "    engine=\"python\"\n",
    ")\n",
    "factors_df.index = pd.to_datetime(factors_df.index, format=\"%Y%m%d\")\n",
    "factors_df = factors_df.loc[START:END]\n",
    "factors_df = factors_df / 100\n",
    "factors_df.head()"
   ],
   "id": "d2f177801063ebd",
   "outputs": [
    {
     "data": {
      "text/plain": [
       "            SMALL LoBM  ME1 BM2  SMALL HiBM  BIG LoBM  ME2 BM2  BIG HiBM\n",
       "1970-01-02      0.0459   0.0395      0.0334    0.0107   0.0152    0.0246\n",
       "1970-01-05      0.0260   0.0222      0.0240    0.0026   0.0077    0.0123\n",
       "1970-01-06     -0.0076  -0.0038     -0.0009   -0.0090  -0.0077   -0.0065\n",
       "1970-01-07      0.0054   0.0055      0.0037   -0.0008  -0.0027   -0.0025\n",
       "1970-01-08      0.0051   0.0062      0.0027    0.0001  -0.0002   -0.0017"
      ],
      "text/html": [
       "<div>\n",
       "<style scoped>\n",
       "    .dataframe tbody tr th:only-of-type {\n",
       "        vertical-align: middle;\n",
       "    }\n",
       "\n",
       "    .dataframe tbody tr th {\n",
       "        vertical-align: top;\n",
       "    }\n",
       "\n",
       "    .dataframe thead th {\n",
       "        text-align: right;\n",
       "    }\n",
       "</style>\n",
       "<table border=\"1\" class=\"dataframe\">\n",
       "  <thead>\n",
       "    <tr style=\"text-align: right;\">\n",
       "      <th></th>\n",
       "      <th>SMALL LoBM</th>\n",
       "      <th>ME1 BM2</th>\n",
       "      <th>SMALL HiBM</th>\n",
       "      <th>BIG LoBM</th>\n",
       "      <th>ME2 BM2</th>\n",
       "      <th>BIG HiBM</th>\n",
       "    </tr>\n",
       "  </thead>\n",
       "  <tbody>\n",
       "    <tr>\n",
       "      <th>1970-01-02</th>\n",
       "      <td>0.0459</td>\n",
       "      <td>0.0395</td>\n",
       "      <td>0.0334</td>\n",
       "      <td>0.0107</td>\n",
       "      <td>0.0152</td>\n",
       "      <td>0.0246</td>\n",
       "    </tr>\n",
       "    <tr>\n",
       "      <th>1970-01-05</th>\n",
       "      <td>0.0260</td>\n",
       "      <td>0.0222</td>\n",
       "      <td>0.0240</td>\n",
       "      <td>0.0026</td>\n",
       "      <td>0.0077</td>\n",
       "      <td>0.0123</td>\n",
       "    </tr>\n",
       "    <tr>\n",
       "      <th>1970-01-06</th>\n",
       "      <td>-0.0076</td>\n",
       "      <td>-0.0038</td>\n",
       "      <td>-0.0009</td>\n",
       "      <td>-0.0090</td>\n",
       "      <td>-0.0077</td>\n",
       "      <td>-0.0065</td>\n",
       "    </tr>\n",
       "    <tr>\n",
       "      <th>1970-01-07</th>\n",
       "      <td>0.0054</td>\n",
       "      <td>0.0055</td>\n",
       "      <td>0.0037</td>\n",
       "      <td>-0.0008</td>\n",
       "      <td>-0.0027</td>\n",
       "      <td>-0.0025</td>\n",
       "    </tr>\n",
       "    <tr>\n",
       "      <th>1970-01-08</th>\n",
       "      <td>0.0051</td>\n",
       "      <td>0.0062</td>\n",
       "      <td>0.0027</td>\n",
       "      <td>0.0001</td>\n",
       "      <td>-0.0002</td>\n",
       "      <td>-0.0017</td>\n",
       "    </tr>\n",
       "  </tbody>\n",
       "</table>\n",
       "</div>"
      ]
     },
     "execution_count": 29,
     "metadata": {},
     "output_type": "execute_result"
    }
   ],
   "execution_count": 29
  },
  {
   "metadata": {},
   "cell_type": "code",
   "outputs": [],
   "execution_count": null,
   "source": "",
   "id": "8ae5c25a3602d864"
  }
 ],
 "metadata": {
  "kernelspec": {
   "display_name": "Python 3",
   "language": "python",
   "name": "python3"
  },
  "language_info": {
   "codemirror_mode": {
    "name": "ipython",
    "version": 2
   },
   "file_extension": ".py",
   "mimetype": "text/x-python",
   "name": "python",
   "nbconvert_exporter": "python",
   "pygments_lexer": "ipython2",
   "version": "2.7.6"
  }
 },
 "nbformat": 4,
 "nbformat_minor": 5
}
