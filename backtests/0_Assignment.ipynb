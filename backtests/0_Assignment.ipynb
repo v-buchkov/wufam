{
 "cells": [
  {
   "cell_type": "code",
   "execution_count": 1,
   "id": "47ae993bb1d90d3f",
   "metadata": {
    "ExecuteTime": {
     "end_time": "2025-08-05T12:05:15.387201Z",
     "start_time": "2025-08-05T12:05:15.373115Z"
    }
   },
   "outputs": [],
   "source": [
    "from __future__ import annotations\n",
    "\n",
    "%load_ext autoreload\n",
    "%autoreload 2"
   ]
  },
  {
   "cell_type": "code",
   "execution_count": 2,
   "id": "initial_id",
   "metadata": {
    "ExecuteTime": {
     "end_time": "2025-08-05T12:05:15.538135Z",
     "start_time": "2025-08-05T12:05:15.390215Z"
    },
    "collapsed": true
   },
   "outputs": [],
   "source": [
    "from pathlib import Path\n",
    "\n",
    "import numpy as np\n",
    "\n",
    "from wufam.data.prepare_data import read_kf_data\n",
    "from wufam.config.trading_config import TradingConfig\n",
    "from wufam.dataset import Dataset\n",
    "from wufam.strategies.optimization_data import TrainingData, PredictionData\n",
    "from wufam.metrics.metrics import calc_sharpe\n",
    "\n",
    "PATH = Path(\"../data/kf_data\")\n",
    "START = \"1970-01-01\"\n",
    "END = \"2024-12-31\"\n",
    "DATASET = Dataset.BM_6"
   ]
  },
  {
   "cell_type": "markdown",
   "id": "1ac5790467715af0",
   "metadata": {},
   "source": "## 1.1"
  },
  {
   "cell_type": "code",
   "execution_count": 3,
   "id": "5f96001686f357d3",
   "metadata": {
    "ExecuteTime": {
     "end_time": "2025-08-05T12:05:15.696143Z",
     "start_time": "2025-08-05T12:05:15.541178Z"
    }
   },
   "outputs": [],
   "source": [
    "factors_df, rf = read_kf_data(\n",
    "    factors_filename=PATH / DATASET,\n",
    "    rf_filename=PATH / Dataset.RF,\n",
    "    start_date=START,\n",
    "    end_date=END,\n",
    ")"
   ]
  },
  {
   "cell_type": "markdown",
   "id": "c9ade91a822acaba",
   "metadata": {},
   "source": "## 1.2"
  },
  {
   "cell_type": "code",
   "execution_count": 4,
   "id": "8ae5c25a3602d864",
   "metadata": {
    "ExecuteTime": {
     "end_time": "2025-08-05T12:05:15.804921Z",
     "start_time": "2025-08-05T12:05:15.699142Z"
    }
   },
   "outputs": [],
   "source": [
    "from wufam.strategies.heuristics.equally_weighted import EWStrategy\n",
    "from wufam.strategies.estimated.mean_var import MeanVariance\n",
    "from wufam.strategies.estimated.min_var import MinVariance\n",
    "\n",
    "trading_config = TradingConfig(total_exposure=1)\n",
    "\n",
    "ew_strategy = EWStrategy()"
   ]
  },
  {
   "cell_type": "code",
   "execution_count": 5,
   "id": "c7b79c00b835ef0",
   "metadata": {
    "ExecuteTime": {
     "end_time": "2025-08-05T12:05:15.815021Z",
     "start_time": "2025-08-05T12:05:15.807768Z"
    }
   },
   "outputs": [],
   "source": [
    "from wufam.estimation.mean.sample_mu_estimator import SampleMuEstimator\n",
    "from wufam.estimation.covariance.sample_cov_estimator import SampleCovEstimator\n",
    "\n",
    "mv_strategy = MeanVariance(\n",
    "    mu_estimator=SampleMuEstimator(),\n",
    "    cov_estimator=SampleCovEstimator(),\n",
    "    trading_config=trading_config,\n",
    "    window_size=None,\n",
    ")"
   ]
  },
  {
   "cell_type": "code",
   "execution_count": 6,
   "id": "507aeb0c4823af65",
   "metadata": {
    "ExecuteTime": {
     "end_time": "2025-08-05T12:05:16.172253Z",
     "start_time": "2025-08-05T12:05:15.821654Z"
    }
   },
   "outputs": [],
   "source": [
    "from wufam.estimation.covariance.shrinkage.lw_cv_cov_estimator import (\n",
    "    LedoitWolfCVCovEstimator,\n",
    ")\n",
    "\n",
    "min_var_strategy = MinVariance(\n",
    "    cov_estimator=LedoitWolfCVCovEstimator(alphas=np.linspace(0.0, 1.0, 100)),\n",
    "    # cov_estimator=LedoitWolfCVCovEstimator(),\n",
    "    trading_config=trading_config,\n",
    "    window_size=None,\n",
    ")"
   ]
  },
  {
   "cell_type": "code",
   "execution_count": 7,
   "id": "cda23ad544acb6e2",
   "metadata": {
    "ExecuteTime": {
     "end_time": "2025-08-05T12:05:16.484941Z",
     "start_time": "2025-08-05T12:05:16.191570Z"
    }
   },
   "outputs": [],
   "source": [
    "training_data = TrainingData(\n",
    "    simple_excess_returns=factors_df,\n",
    ")\n",
    "\n",
    "ew_strategy.fit(training_data)\n",
    "mv_strategy.fit(training_data)\n",
    "min_var_strategy.fit(training_data)"
   ]
  },
  {
   "cell_type": "code",
   "execution_count": 8,
   "id": "4f1364f2296327bd",
   "metadata": {
    "ExecuteTime": {
     "end_time": "2025-08-05T12:05:16.496751Z",
     "start_time": "2025-08-05T12:05:16.487932Z"
    }
   },
   "outputs": [],
   "source": [
    "prediction_data = PredictionData()\n",
    "\n",
    "ew_weights = ew_strategy(prediction_data)\n",
    "mv_weights = mv_strategy(prediction_data)\n",
    "min_var_weights = min_var_strategy(prediction_data)"
   ]
  },
  {
   "cell_type": "code",
   "execution_count": 9,
   "id": "b4eeaec1d5fe53eb",
   "metadata": {
    "ExecuteTime": {
     "end_time": "2025-08-05T12:05:16.510509Z",
     "start_time": "2025-08-05T12:05:16.500275Z"
    }
   },
   "outputs": [
    {
     "data": {
      "text/html": [
       "<div>\n",
       "<style scoped>\n",
       "    .dataframe tbody tr th:only-of-type {\n",
       "        vertical-align: middle;\n",
       "    }\n",
       "\n",
       "    .dataframe tbody tr th {\n",
       "        vertical-align: top;\n",
       "    }\n",
       "\n",
       "    .dataframe thead th {\n",
       "        text-align: right;\n",
       "    }\n",
       "</style>\n",
       "<table border=\"1\" class=\"dataframe\">\n",
       "  <thead>\n",
       "    <tr style=\"text-align: right;\">\n",
       "      <th></th>\n",
       "      <th>SMALL LoBM</th>\n",
       "      <th>ME1 BM2</th>\n",
       "      <th>SMALL HiBM</th>\n",
       "      <th>BIG LoBM</th>\n",
       "      <th>ME2 BM2</th>\n",
       "      <th>BIG HiBM</th>\n",
       "    </tr>\n",
       "  </thead>\n",
       "  <tbody>\n",
       "    <tr>\n",
       "      <th>0</th>\n",
       "      <td>0.166667</td>\n",
       "      <td>0.166667</td>\n",
       "      <td>0.166667</td>\n",
       "      <td>0.166667</td>\n",
       "      <td>0.166667</td>\n",
       "      <td>0.166667</td>\n",
       "    </tr>\n",
       "  </tbody>\n",
       "</table>\n",
       "</div>"
      ],
      "text/plain": [
       "   SMALL LoBM   ME1 BM2  SMALL HiBM  BIG LoBM   ME2 BM2  BIG HiBM\n",
       "0    0.166667  0.166667    0.166667  0.166667  0.166667  0.166667"
      ]
     },
     "execution_count": 9,
     "metadata": {},
     "output_type": "execute_result"
    }
   ],
   "source": [
    "ew_weights.head()"
   ]
  },
  {
   "cell_type": "code",
   "execution_count": 10,
   "id": "4c669753d06a93a4",
   "metadata": {
    "ExecuteTime": {
     "end_time": "2025-08-05T12:05:16.544889Z",
     "start_time": "2025-08-05T12:05:16.534566Z"
    }
   },
   "outputs": [
    {
     "data": {
      "text/html": [
       "<div>\n",
       "<style scoped>\n",
       "    .dataframe tbody tr th:only-of-type {\n",
       "        vertical-align: middle;\n",
       "    }\n",
       "\n",
       "    .dataframe tbody tr th {\n",
       "        vertical-align: top;\n",
       "    }\n",
       "\n",
       "    .dataframe thead th {\n",
       "        text-align: right;\n",
       "    }\n",
       "</style>\n",
       "<table border=\"1\" class=\"dataframe\">\n",
       "  <thead>\n",
       "    <tr style=\"text-align: right;\">\n",
       "      <th></th>\n",
       "      <th>SMALL LoBM</th>\n",
       "      <th>ME1 BM2</th>\n",
       "      <th>SMALL HiBM</th>\n",
       "      <th>BIG LoBM</th>\n",
       "      <th>ME2 BM2</th>\n",
       "      <th>BIG HiBM</th>\n",
       "    </tr>\n",
       "  </thead>\n",
       "  <tbody>\n",
       "    <tr>\n",
       "      <th>0</th>\n",
       "      <td>-1.443996</td>\n",
       "      <td>-0.264279</td>\n",
       "      <td>3.017976</td>\n",
       "      <td>0.896614</td>\n",
       "      <td>-0.333317</td>\n",
       "      <td>-0.872997</td>\n",
       "    </tr>\n",
       "  </tbody>\n",
       "</table>\n",
       "</div>"
      ],
      "text/plain": [
       "   SMALL LoBM   ME1 BM2  SMALL HiBM  BIG LoBM   ME2 BM2  BIG HiBM\n",
       "0   -1.443996 -0.264279    3.017976  0.896614 -0.333317 -0.872997"
      ]
     },
     "execution_count": 10,
     "metadata": {},
     "output_type": "execute_result"
    }
   ],
   "source": [
    "mv_weights.head()"
   ]
  },
  {
   "cell_type": "code",
   "execution_count": 11,
   "id": "ac9490c38f933627",
   "metadata": {
    "ExecuteTime": {
     "end_time": "2025-08-05T12:05:16.614188Z",
     "start_time": "2025-08-05T12:05:16.604243Z"
    }
   },
   "outputs": [
    {
     "data": {
      "text/html": [
       "<div>\n",
       "<style scoped>\n",
       "    .dataframe tbody tr th:only-of-type {\n",
       "        vertical-align: middle;\n",
       "    }\n",
       "\n",
       "    .dataframe tbody tr th {\n",
       "        vertical-align: top;\n",
       "    }\n",
       "\n",
       "    .dataframe thead th {\n",
       "        text-align: right;\n",
       "    }\n",
       "</style>\n",
       "<table border=\"1\" class=\"dataframe\">\n",
       "  <thead>\n",
       "    <tr style=\"text-align: right;\">\n",
       "      <th></th>\n",
       "      <th>SMALL LoBM</th>\n",
       "      <th>ME1 BM2</th>\n",
       "      <th>SMALL HiBM</th>\n",
       "      <th>BIG LoBM</th>\n",
       "      <th>ME2 BM2</th>\n",
       "      <th>BIG HiBM</th>\n",
       "    </tr>\n",
       "  </thead>\n",
       "  <tbody>\n",
       "    <tr>\n",
       "      <th>0</th>\n",
       "      <td>-0.864741</td>\n",
       "      <td>-0.073944</td>\n",
       "      <td>1.76497</td>\n",
       "      <td>0.437395</td>\n",
       "      <td>0.613985</td>\n",
       "      <td>-0.877665</td>\n",
       "    </tr>\n",
       "  </tbody>\n",
       "</table>\n",
       "</div>"
      ],
      "text/plain": [
       "   SMALL LoBM   ME1 BM2  SMALL HiBM  BIG LoBM   ME2 BM2  BIG HiBM\n",
       "0   -0.864741 -0.073944     1.76497  0.437395  0.613985 -0.877665"
      ]
     },
     "execution_count": 11,
     "metadata": {},
     "output_type": "execute_result"
    }
   ],
   "source": [
    "min_var_weights.head()"
   ]
  },
  {
   "cell_type": "code",
   "execution_count": 12,
   "id": "3814365a1b08bf3f",
   "metadata": {
    "ExecuteTime": {
     "end_time": "2025-08-05T12:05:16.643825Z",
     "start_time": "2025-08-05T12:05:16.635139Z"
    }
   },
   "outputs": [
    {
     "data": {
      "text/plain": [
       "np.float64(0.0)"
      ]
     },
     "execution_count": 12,
     "metadata": {},
     "output_type": "execute_result"
    }
   ],
   "source": [
    "min_var_strategy.cov_estimator.best_alpha"
   ]
  },
  {
   "cell_type": "code",
   "execution_count": 13,
   "id": "83af2b894883708e",
   "metadata": {
    "ExecuteTime": {
     "end_time": "2025-08-05T12:05:17.027542Z",
     "start_time": "2025-08-05T12:05:16.664892Z"
    }
   },
   "outputs": [
    {
     "data": {
      "image/png": "[encoded data removed]",
      "text/plain": [
       "<Figure size 640x480 with 1 Axes>"
      ]
     },
     "metadata": {},
     "output_type": "display_data"
    }
   ],
   "source": [
    "factors_df.add(1).cumprod().plot(logy=True);"
   ]
  },
  {
   "cell_type": "code",
   "execution_count": 14,
   "id": "a18132451bc65fbf",
   "metadata": {
    "ExecuteTime": {
     "end_time": "2025-08-05T12:05:17.042033Z",
     "start_time": "2025-08-05T12:05:17.031540Z"
    }
   },
   "outputs": [
    {
     "data": {
      "text/plain": [
       "1.592247434944696"
      ]
     },
     "execution_count": 14,
     "metadata": {},
     "output_type": "execute_result"
    }
   ],
   "source": [
    "calc_sharpe(\n",
    "    weights=ew_weights,\n",
    "    excess_ret=factors_df,\n",
    "    rf_rate=rf,\n",
    "    factor_annualize=252,\n",
    ")"
   ]
  },
  {
   "cell_type": "code",
   "execution_count": 15,
   "id": "947cee49dc1dab19",
   "metadata": {
    "ExecuteTime": {
     "end_time": "2025-08-05T12:05:17.055741Z",
     "start_time": "2025-08-05T12:05:17.045305Z"
    }
   },
   "outputs": [
    {
     "data": {
      "text/plain": [
       "2.3601159396244373"
      ]
     },
     "execution_count": 15,
     "metadata": {},
     "output_type": "execute_result"
    }
   ],
   "source": [
    "calc_sharpe(\n",
    "    weights=mv_weights,\n",
    "    excess_ret=factors_df,\n",
    "    rf_rate=rf,\n",
    "    factor_annualize=252,\n",
    ")"
   ]
  },
  {
   "cell_type": "code",
   "execution_count": 16,
   "id": "69889549bd66e3b6",
   "metadata": {
    "ExecuteTime": {
     "end_time": "2025-08-05T12:05:17.070254Z",
     "start_time": "2025-08-05T12:05:17.059938Z"
    }
   },
   "outputs": [
    {
     "data": {
      "text/plain": [
       "2.699828172605481"
      ]
     },
     "execution_count": 16,
     "metadata": {},
     "output_type": "execute_result"
    }
   ],
   "source": [
    "calc_sharpe(\n",
    "    weights=min_var_weights,\n",
    "    excess_ret=factors_df,\n",
    "    rf_rate=rf,\n",
    "    factor_annualize=252,\n",
    ")"
   ]
  },
  {
   "cell_type": "markdown",
   "id": "378da694e79134f3",
   "metadata": {},
   "source": "## 1.3."
  },
  {
   "cell_type": "code",
   "execution_count": 17,
   "id": "2a8ca1a60e6045c5",
   "metadata": {
    "ExecuteTime": {
     "end_time": "2025-08-05T12:05:17.351262Z",
     "start_time": "2025-08-05T12:05:17.087320Z"
    }
   },
   "outputs": [],
   "source": [
    "split_date = factors_df.index[len(factors_df) // 2]\n",
    "\n",
    "training_data = TrainingData(\n",
    "    simple_excess_returns=factors_df.loc[:split_date],\n",
    ")\n",
    "\n",
    "ew_strategy.fit(training_data)\n",
    "mv_strategy.fit(training_data)\n",
    "min_var_strategy.fit(training_data)\n",
    "\n",
    "ew_weights = ew_strategy(prediction_data)\n",
    "mv_weights = mv_strategy(prediction_data)\n",
    "min_var_weights = min_var_strategy(prediction_data)"
   ]
  },
  {
   "cell_type": "code",
   "execution_count": 18,
   "id": "eb0db5dc2bbbd988",
   "metadata": {
    "ExecuteTime": {
     "end_time": "2025-08-05T12:05:17.363559Z",
     "start_time": "2025-08-05T12:05:17.354662Z"
    }
   },
   "outputs": [
    {
     "data": {
      "text/plain": [
       "np.float64(0.030303030303030304)"
      ]
     },
     "execution_count": 18,
     "metadata": {},
     "output_type": "execute_result"
    }
   ],
   "source": [
    "min_var_strategy.cov_estimator.best_alpha"
   ]
  },
  {
   "cell_type": "markdown",
   "id": "ed8d33298f0b61f",
   "metadata": {},
   "source": "In-sample."
  },
  {
   "cell_type": "code",
   "execution_count": 19,
   "id": "16cb914aaa0d7a1c",
   "metadata": {
    "ExecuteTime": {
     "end_time": "2025-08-05T12:05:17.384343Z",
     "start_time": "2025-08-05T12:05:17.373997Z"
    }
   },
   "outputs": [
    {
     "data": {
      "text/plain": [
       "2.3123958333741967"
      ]
     },
     "execution_count": 19,
     "metadata": {},
     "output_type": "execute_result"
    }
   ],
   "source": [
    "calc_sharpe(\n",
    "    weights=ew_weights,\n",
    "    excess_ret=factors_df.loc[:split_date],\n",
    "    rf_rate=rf,\n",
    "    factor_annualize=252,\n",
    ")"
   ]
  },
  {
   "cell_type": "code",
   "execution_count": 20,
   "id": "f0539318f706d207",
   "metadata": {
    "ExecuteTime": {
     "end_time": "2025-08-05T12:05:17.407701Z",
     "start_time": "2025-08-05T12:05:17.397272Z"
    }
   },
   "outputs": [
    {
     "data": {
      "text/plain": [
       "3.9355252479774565"
      ]
     },
     "execution_count": 20,
     "metadata": {},
     "output_type": "execute_result"
    }
   ],
   "source": [
    "calc_sharpe(\n",
    "    weights=mv_weights,\n",
    "    excess_ret=factors_df.loc[:split_date],\n",
    "    rf_rate=rf,\n",
    "    factor_annualize=252,\n",
    ")"
   ]
  },
  {
   "cell_type": "code",
   "execution_count": 21,
   "id": "6ffceb6718b3eb17",
   "metadata": {
    "ExecuteTime": {
     "end_time": "2025-08-05T12:05:17.422557Z",
     "start_time": "2025-08-05T12:05:17.412271Z"
    }
   },
   "outputs": [
    {
     "data": {
      "text/plain": [
       "4.126297333293169"
      ]
     },
     "execution_count": 21,
     "metadata": {},
     "output_type": "execute_result"
    }
   ],
   "source": [
    "calc_sharpe(\n",
    "    weights=min_var_weights,\n",
    "    excess_ret=factors_df.loc[:split_date],\n",
    "    rf_rate=rf,\n",
    "    factor_annualize=252,\n",
    ")"
   ]
  },
  {
   "cell_type": "markdown",
   "id": "d1ae026a193b2ff8",
   "metadata": {},
   "source": "Out-of-sample."
  },
  {
   "cell_type": "code",
   "execution_count": 22,
   "id": "d2d6c343915a2250",
   "metadata": {
    "ExecuteTime": {
     "end_time": "2025-08-05T12:05:17.436906Z",
     "start_time": "2025-08-05T12:05:17.426933Z"
    }
   },
   "outputs": [
    {
     "data": {
      "text/plain": [
       "0.5284882214073725"
      ]
     },
     "execution_count": 22,
     "metadata": {},
     "output_type": "execute_result"
    }
   ],
   "source": [
    "calc_sharpe(\n",
    "    weights=ew_weights,\n",
    "    excess_ret=factors_df.loc[split_date:],\n",
    "    rf_rate=rf,\n",
    "    factor_annualize=252,\n",
    ")"
   ]
  },
  {
   "cell_type": "code",
   "execution_count": 23,
   "id": "682d9bf774037cc",
   "metadata": {
    "ExecuteTime": {
     "end_time": "2025-08-05T12:05:17.453632Z",
     "start_time": "2025-08-05T12:05:17.443658Z"
    }
   },
   "outputs": [
    {
     "data": {
      "text/plain": [
       "1.1566128407324294"
      ]
     },
     "execution_count": 23,
     "metadata": {},
     "output_type": "execute_result"
    }
   ],
   "source": [
    "calc_sharpe(\n",
    "    weights=mv_weights,\n",
    "    excess_ret=factors_df.loc[split_date:],\n",
    "    rf_rate=rf,\n",
    "    factor_annualize=252,\n",
    ")"
   ]
  },
  {
   "cell_type": "code",
   "execution_count": 24,
   "id": "ff379f8fd946c29e",
   "metadata": {
    "ExecuteTime": {
     "end_time": "2025-08-05T12:05:17.468725Z",
     "start_time": "2025-08-05T12:05:17.458073Z"
    }
   },
   "outputs": [
    {
     "data": {
      "text/plain": [
       "0.9625686967798516"
      ]
     },
     "execution_count": 24,
     "metadata": {},
     "output_type": "execute_result"
    }
   ],
   "source": [
    "calc_sharpe(\n",
    "    weights=min_var_weights,\n",
    "    excess_ret=factors_df.loc[split_date:],\n",
    "    rf_rate=rf,\n",
    "    factor_annualize=252,\n",
    ")"
   ]
  },
  {
   "cell_type": "code",
   "execution_count": null,
   "id": "a4eac11242e2946f",
   "metadata": {
    "ExecuteTime": {
     "end_time": "2025-08-05T12:05:17.474552Z",
     "start_time": "2025-08-05T12:05:17.473270Z"
    }
   },
   "outputs": [],
   "source": []
  }
 ],
 "metadata": {
  "kernelspec": {
   "display_name": "Python 3",
   "language": "python",
   "name": "python3"
  },
  "language_info": {
   "codemirror_mode": {
    "name": "ipython",
    "version": 2
   },
   "file_extension": ".py",
   "mimetype": "text/x-python",
   "name": "python",
   "nbconvert_exporter": "python",
   "pygments_lexer": "ipython2",
   "version": "2.7.6"
  }
 },
 "nbformat": 4,
 "nbformat_minor": 5
}
