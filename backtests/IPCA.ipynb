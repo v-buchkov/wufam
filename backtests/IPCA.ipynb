{
 "cells": [
  {
   "cell_type": "code",
   "execution_count": 200,
   "id": "47ae993bb1d90d3f",
   "metadata": {
    "ExecuteTime": {
     "end_time": "2025-08-07T18:54:04.068514Z",
     "start_time": "2025-08-07T18:54:04.057472Z"
    }
   },
   "outputs": [
    {
     "name": "stdout",
     "output_type": "stream",
     "text": [
      "The autoreload extension is already loaded. To reload it, use:\n",
      "  %reload_ext autoreload\n"
     ]
    }
   ],
   "source": [
    "from __future__ import annotations\n",
    "\n",
    "import numpy as np\n",
    "\n",
    "%load_ext autoreload\n",
    "%autoreload 2"
   ]
  },
  {
   "cell_type": "code",
   "execution_count": 201,
   "id": "initial_id",
   "metadata": {
    "ExecuteTime": {
     "end_time": "2025-08-07T18:54:04.086548Z",
     "start_time": "2025-08-07T18:54:04.076490Z"
    },
    "collapsed": true
   },
   "outputs": [],
   "source": [
    "from pathlib import Path\n",
    "\n",
    "\n",
    "from wufam.data.prepare_data import read_kf_data\n",
    "from wufam.dataset import Dataset\n",
    "\n",
    "PATH = Path(\"../data/kf_data\")\n",
    "START = \"1970-01-01\"\n",
    "END = \"2024-12-31\"\n",
    "DATASET = Dataset.BM_25_M\n",
    "FACTORS_DATASET = Dataset.FACTORS_M\n",
    "WEIGHTING = \"value_weighted\"\n",
    "FACTOR_ANNUALIZE = 12"
   ]
  },
  {
   "cell_type": "code",
   "execution_count": 202,
   "id": "5f96001686f357d3",
   "metadata": {
    "ExecuteTime": {
     "end_time": "2025-08-07T18:54:04.129285Z",
     "start_time": "2025-08-07T18:54:04.089545Z"
    }
   },
   "outputs": [],
   "source": [
    "portfolios_total_r, portfolios_xs_r, factors_df, rf = read_kf_data(\n",
    "    portfolios_filename=PATH / DATASET,\n",
    "    factors_filename=PATH / FACTORS_DATASET,\n",
    "    start_date=START,\n",
    "    end_date=END,\n",
    "    weighting=WEIGHTING,\n",
    ")"
   ]
  },
  {
   "cell_type": "code",
   "execution_count": 203,
   "id": "e1493496e5034b",
   "metadata": {
    "ExecuteTime": {
     "end_time": "2025-08-07T18:54:04.141114Z",
     "start_time": "2025-08-07T18:54:04.132301Z"
    }
   },
   "outputs": [],
   "source": [
    "assert (\n",
    "    portfolios_total_r.shape[0]\n",
    "    == portfolios_xs_r.shape[0]\n",
    "    == factors_df.shape[0]\n",
    "    == rf.shape[0]\n",
    ")"
   ]
  },
  {
   "cell_type": "code",
   "execution_count": 204,
   "id": "22a34da41c16c87e",
   "metadata": {
    "ExecuteTime": {
     "end_time": "2025-08-07T18:54:04.178554Z",
     "start_time": "2025-08-07T18:54:04.144074Z"
    }
   },
   "outputs": [
    {
     "data": {
      "text/plain": [
       "(660, 25)"
      ]
     },
     "execution_count": 204,
     "metadata": {},
     "output_type": "execute_result"
    }
   ],
   "source": [
    "import pandas as pd\n",
    "\n",
    "mkt_caps = pd.read_csv(\n",
    "    PATH / DATASET,\n",
    "    skiprows=3_795,\n",
    "    skipfooter=8881 - 4_984,\n",
    "    index_col=0,\n",
    "    engine=\"python\",\n",
    ")\n",
    "mkt_caps.index = pd.to_datetime(mkt_caps.index, format=\"%Y%m\")\n",
    "mkt_caps = mkt_caps.loc[START:END]\n",
    "mkt_caps.shape"
   ]
  },
  {
   "cell_type": "code",
   "execution_count": 205,
   "id": "8880e58dd59e379a",
   "metadata": {
    "ExecuteTime": {
     "end_time": "2025-08-07T18:54:04.215401Z",
     "start_time": "2025-08-07T18:54:04.181858Z"
    }
   },
   "outputs": [
    {
     "data": {
      "text/plain": [
       "(660, 25)"
      ]
     },
     "execution_count": 205,
     "metadata": {},
     "output_type": "execute_result"
    }
   ],
   "source": [
    "bms = pd.read_csv(\n",
    "    PATH / DATASET,\n",
    "    skiprows=4_991,\n",
    "    skipfooter=8881 - 6_181,\n",
    "    index_col=0,\n",
    "    engine=\"python\",\n",
    ")\n",
    "bms.index = pd.to_datetime(bms.index, format=\"%Y%m\")\n",
    "bms = bms.loc[START:END]\n",
    "bms.shape"
   ]
  },
  {
   "cell_type": "code",
   "execution_count": 206,
   "id": "212ab51a20fe7fb0",
   "metadata": {
    "ExecuteTime": {
     "end_time": "2025-08-07T18:54:04.253998Z",
     "start_time": "2025-08-07T18:54:04.223003Z"
    }
   },
   "outputs": [
    {
     "data": {
      "text/plain": [
       "(660, 25)"
      ]
     },
     "execution_count": 206,
     "metadata": {},
     "output_type": "execute_result"
    }
   ],
   "source": [
    "ops = pd.read_csv(\n",
    "    PATH / DATASET,\n",
    "    skiprows=7_382,\n",
    "    skipfooter=8881 - 8_128,\n",
    "    index_col=0,\n",
    "    engine=\"python\",\n",
    ")\n",
    "ops.index = pd.to_datetime(ops.index, format=\"%Y%m\")\n",
    "ops = ops.loc[START:END]\n",
    "ops.shape"
   ]
  },
  {
   "cell_type": "code",
   "execution_count": 207,
   "id": "379943eaf3e7c181",
   "metadata": {
    "ExecuteTime": {
     "end_time": "2025-08-07T18:54:04.294506Z",
     "start_time": "2025-08-07T18:54:04.260887Z"
    }
   },
   "outputs": [
    {
     "data": {
      "text/plain": [
       "(660, 25)"
      ]
     },
     "execution_count": 207,
     "metadata": {},
     "output_type": "execute_result"
    }
   ],
   "source": [
    "invs = pd.read_csv(\n",
    "    PATH / DATASET,\n",
    "    skiprows=8_133,\n",
    "    skipfooter=8881 - 8_878,\n",
    "    index_col=0,\n",
    "    engine=\"python\",\n",
    ")\n",
    "invs.index = pd.to_datetime(invs.index, format=\"%Y%m\")\n",
    "invs = invs.loc[START:END]\n",
    "invs.shape"
   ]
  },
  {
   "cell_type": "code",
   "execution_count": 208,
   "id": "b6ecfa2e9240b36",
   "metadata": {
    "ExecuteTime": {
     "end_time": "2025-08-07T18:54:04.312768Z",
     "start_time": "2025-08-07T18:54:04.302196Z"
    }
   },
   "outputs": [
    {
     "data": {
      "text/plain": [
       "(660, 25)"
      ]
     },
     "execution_count": 208,
     "metadata": {},
     "output_type": "execute_result"
    }
   ],
   "source": [
    "lagged_ret = portfolios_xs_r.shift(1).fillna(0)\n",
    "lagged_ret.shape"
   ]
  },
  {
   "cell_type": "code",
   "execution_count": 209,
   "id": "14f7536d87e890bc",
   "metadata": {
    "ExecuteTime": {
     "end_time": "2025-08-07T18:54:04.325952Z",
     "start_time": "2025-08-07T18:54:04.316107Z"
    }
   },
   "outputs": [
    {
     "data": {
      "text/plain": [
       "(660, 25)"
      ]
     },
     "execution_count": 209,
     "metadata": {},
     "output_type": "execute_result"
    }
   ],
   "source": [
    "stds = portfolios_xs_r.rolling(window=21, min_periods=1).std().fillna(0)\n",
    "stds.shape"
   ]
  },
  {
   "cell_type": "code",
   "execution_count": 210,
   "id": "4c0e9126430665b5",
   "metadata": {
    "ExecuteTime": {
     "end_time": "2025-08-07T18:54:04.343593Z",
     "start_time": "2025-08-07T18:54:04.333396Z"
    }
   },
   "outputs": [
    {
     "data": {
      "text/plain": [
       "(660, 25)"
      ]
     },
     "execution_count": 210,
     "metadata": {},
     "output_type": "execute_result"
    }
   ],
   "source": [
    "skews = portfolios_xs_r.rolling(window=21, min_periods=1).skew().fillna(0)\n",
    "skews.shape"
   ]
  },
  {
   "cell_type": "code",
   "execution_count": 211,
   "id": "be93bb534d86040e",
   "metadata": {
    "ExecuteTime": {
     "end_time": "2025-08-07T18:54:04.384524Z",
     "start_time": "2025-08-07T18:54:04.350676Z"
    }
   },
   "outputs": [
    {
     "data": {
      "text/plain": [
       "(16450, 8)"
      ]
     },
     "execution_count": 211,
     "metadata": {},
     "output_type": "execute_result"
    }
   ],
   "source": [
    "dfs_dict = {\n",
    "    \"Market_Caps\": mkt_caps.resample(\"ME\").last(),\n",
    "    \"Book_to_Market\": bms.resample(\"ME\").last(),\n",
    "    \"Operating_Profitability\": ops.resample(\"ME\").last(),\n",
    "    \"Investment\": invs.resample(\"ME\").last(),\n",
    "    \"Volatility\": stds.resample(\"ME\").last(),\n",
    "    \"Skewness\": skews.resample(\"ME\").last(),\n",
    "    \"Momentum\": lagged_ret.resample(\"ME\").last(),\n",
    "    \"ret\": portfolios_xs_r.resample(\"ME\").last().shift(-1).fillna(0),\n",
    "}\n",
    "\n",
    "# Stack each DataFrame to convert columns to index level, then concatenate\n",
    "stacked_dfs = []\n",
    "for name, df in dfs_dict.items():\n",
    "    stacked = df.iloc[2:].stack()\n",
    "    stacked.name = name\n",
    "    stacked_dfs.append(stacked)\n",
    "\n",
    "# Concatenate all stacked series along axis=1 (columns)\n",
    "multi_df = pd.concat(stacked_dfs, axis=1)\n",
    "\n",
    "# Set proper index names\n",
    "multi_df.index.names = [\"date\", \"portfolio\"]\n",
    "multi_df.shape"
   ]
  },
  {
   "cell_type": "code",
   "execution_count": 212,
   "id": "c551e151713f032b",
   "metadata": {
    "ExecuteTime": {
     "end_time": "2025-08-07T18:54:04.411653Z",
     "start_time": "2025-08-07T18:54:04.391564Z"
    }
   },
   "outputs": [],
   "source": [
    "rank = (\n",
    "    multi_df[multi_df.columns.difference([\"ret\"])]\n",
    "    .groupby(level=\"date\")\n",
    "    .rank(ascending=False, method=\"max\")\n",
    ") + 1\n",
    "rank = rank.div(rank.groupby(level=\"date\").count()) - 0.5\n",
    "rank = rank.fillna(0)"
   ]
  },
  {
   "cell_type": "code",
   "execution_count": 213,
   "id": "44d78023b54ea897",
   "metadata": {
    "ExecuteTime": {
     "end_time": "2025-08-07T18:54:04.422463Z",
     "start_time": "2025-08-07T18:54:04.414284Z"
    }
   },
   "outputs": [],
   "source": [
    "split_date = portfolios_xs_r.index[len(portfolios_xs_r) // 2]"
   ]
  },
  {
   "cell_type": "code",
   "execution_count": 214,
   "id": "b3a8b3ff436a116b",
   "metadata": {
    "ExecuteTime": {
     "end_time": "2025-08-07T18:54:04.432842Z",
     "start_time": "2025-08-07T18:54:04.425129Z"
    }
   },
   "outputs": [],
   "source": [
    "tgt = multi_df[\"ret\"]"
   ]
  },
  {
   "cell_type": "code",
   "execution_count": 215,
   "id": "28111092dc043dba",
   "metadata": {
    "ExecuteTime": {
     "end_time": "2025-08-07T18:54:04.971473Z",
     "start_time": "2025-08-07T18:54:04.435024Z"
    }
   },
   "outputs": [],
   "source": [
    "from sklearn.model_selection import TimeSeriesSplit\n",
    "from sklearn.linear_model import RidgeCV\n",
    "\n",
    "# lr = RandomForestRegressor(n_estimators=100, max_depth=10, random_state=12)\n",
    "# lr = LinearRegression()\n",
    "lr = RidgeCV(alphas=np.logspace(-3, 3, 100), cv=TimeSeriesSplit(n_splits=5))\n",
    "lr.fit(rank.loc[:split_date], tgt.loc[:split_date])\n",
    "pred = lr.predict(rank.loc[split_date:])\n",
    "y_test = tgt.loc[split_date:]"
   ]
  },
  {
   "cell_type": "code",
   "execution_count": 216,
   "id": "47e25cfd50409b63",
   "metadata": {
    "ExecuteTime": {
     "end_time": "2025-08-07T18:54:04.985249Z",
     "start_time": "2025-08-07T18:54:04.974749Z"
    }
   },
   "outputs": [
    {
     "data": {
      "text/plain": [
       "0.0037510621059184137"
      ]
     },
     "execution_count": 216,
     "metadata": {},
     "output_type": "execute_result"
    }
   ],
   "source": [
    "from sklearn.metrics import mean_squared_error\n",
    "\n",
    "mean_squared_error(y_test, pred)"
   ]
  },
  {
   "cell_type": "code",
   "execution_count": 217,
   "id": "407a87020e255b71",
   "metadata": {
    "ExecuteTime": {
     "end_time": "2025-08-07T18:54:05.010441Z",
     "start_time": "2025-08-07T18:54:04.999458Z"
    }
   },
   "outputs": [
    {
     "data": {
      "text/plain": [
       "0.0037531412856691903"
      ]
     },
     "execution_count": 217,
     "metadata": {},
     "output_type": "execute_result"
    }
   ],
   "source": [
    "mean_squared_error(y_test, tgt.loc[:split_date].mean() * np.ones(len(y_test)))"
   ]
  },
  {
   "cell_type": "code",
   "execution_count": 218,
   "id": "b7a728a8b8f996c4",
   "metadata": {
    "ExecuteTime": {
     "end_time": "2025-08-07T18:54:05.033027Z",
     "start_time": "2025-08-07T18:54:05.021089Z"
    }
   },
   "outputs": [
    {
     "data": {
      "text/plain": [
       "0.0005539838744456071"
      ]
     },
     "execution_count": 218,
     "metadata": {},
     "output_type": "execute_result"
    }
   ],
   "source": [
    "1 - mean_squared_error(y_test, pred) / mean_squared_error(\n",
    "    y_test, tgt.loc[:split_date].mean() * np.ones(len(y_test))\n",
    ")"
   ]
  },
  {
   "cell_type": "code",
   "execution_count": 219,
   "id": "c7e36ecfa2fe9453",
   "metadata": {
    "ExecuteTime": {
     "end_time": "2025-08-07T18:54:05.149389Z",
     "start_time": "2025-08-07T18:54:05.041284Z"
    }
   },
   "outputs": [
    {
     "name": "stderr",
     "output_type": "stream",
     "text": [
      "[========================================================================] 100%\r"
     ]
    },
    {
     "name": "stdout",
     "output_type": "stream",
     "text": [
      "The panel dimensions are:\n",
      "n_samples: 658 , L: 7 , T: 25\n",
      "Step 1 - Aggregate Update: 1.064870625488357\n",
      "Step 2 - Aggregate Update: 1.4961094804673802\n",
      "Step 3 - Aggregate Update: 0.228600383983648\n",
      "Step 4 - Aggregate Update: 1.8728601560331004\n",
      "Step 5 - Aggregate Update: 1.677122301084553\n",
      "Step 6 - Aggregate Update: 0.15104321400695522\n",
      "Step 7 - Aggregate Update: 1.8495209236083736\n",
      "Step 8 - Aggregate Update: 1.3936620235443313\n",
      "Step 9 - Aggregate Update: 0.050012450808986864\n",
      "Step 10 - Aggregate Update: 0.025181068611629775\n",
      "Step 11 - Aggregate Update: 0.01382871717113654\n",
      "Step 12 - Aggregate Update: 0.00908835120820961\n",
      "Step 13 - Aggregate Update: 0.005980683423749911\n",
      "Step 14 - Aggregate Update: 0.003945429406938761\n",
      "Step 15 - Aggregate Update: 0.0026107563914381515\n",
      "Step 16 - Aggregate Update: 0.001733374367347329\n",
      "Step 17 - Aggregate Update: 0.0011548597770741909\n",
      "Step 18 - Aggregate Update: 0.0007721330866923282\n",
      "Step 19 - Aggregate Update: 0.0005180476156507741\n",
      "Step 20 - Aggregate Update: 0.00034876581287635045\n",
      "Step 21 - Aggregate Update: 0.0002355850101500856\n",
      "Step 22 - Aggregate Update: 0.00015965026863318243\n",
      "Step 23 - Aggregate Update: 0.0001085321406127937\n",
      "Step 24 - Aggregate Update: 7.400732527096388e-05\n",
      "Step 25 - Aggregate Update: 5.0615547262267135e-05\n",
      "Step 26 - Aggregate Update: 3.4718180122794706e-05\n",
      "Step 27 - Aggregate Update: 2.3882020784848912e-05\n",
      "Step 28 - Aggregate Update: 1.691547041426933e-05\n",
      "Step 29 - Aggregate Update: 1.2314872952945422e-05\n",
      "Step 30 - Aggregate Update: 9.004235768661495e-06\n",
      "-- Convergence Reached --\n"
     ]
    },
    {
     "name": "stderr",
     "output_type": "stream",
     "text": [
      "\n"
     ]
    },
    {
     "data": {
      "text/html": [
       "<div>\n",
       "<style scoped>\n",
       "    .dataframe tbody tr th:only-of-type {\n",
       "        vertical-align: middle;\n",
       "    }\n",
       "\n",
       "    .dataframe tbody tr th {\n",
       "        vertical-align: top;\n",
       "    }\n",
       "\n",
       "    .dataframe thead th {\n",
       "        text-align: right;\n",
       "    }\n",
       "</style>\n",
       "<table border=\"1\" class=\"dataframe\">\n",
       "  <thead>\n",
       "    <tr style=\"text-align: right;\">\n",
       "      <th>portfolio</th>\n",
       "      <th>BIG HiBM</th>\n",
       "      <th>BIG LoBM</th>\n",
       "      <th>ME1 BM2</th>\n",
       "      <th>ME1 BM3</th>\n",
       "      <th>ME1 BM4</th>\n",
       "      <th>ME2 BM1</th>\n",
       "      <th>ME2 BM2</th>\n",
       "      <th>ME2 BM3</th>\n",
       "      <th>ME2 BM4</th>\n",
       "      <th>ME2 BM5</th>\n",
       "      <th>...</th>\n",
       "      <th>ME4 BM1</th>\n",
       "      <th>ME4 BM2</th>\n",
       "      <th>ME4 BM3</th>\n",
       "      <th>ME4 BM4</th>\n",
       "      <th>ME4 BM5</th>\n",
       "      <th>ME5 BM2</th>\n",
       "      <th>ME5 BM3</th>\n",
       "      <th>ME5 BM4</th>\n",
       "      <th>SMALL HiBM</th>\n",
       "      <th>SMALL LoBM</th>\n",
       "    </tr>\n",
       "    <tr>\n",
       "      <th>date</th>\n",
       "      <th></th>\n",
       "      <th></th>\n",
       "      <th></th>\n",
       "      <th></th>\n",
       "      <th></th>\n",
       "      <th></th>\n",
       "      <th></th>\n",
       "      <th></th>\n",
       "      <th></th>\n",
       "      <th></th>\n",
       "      <th></th>\n",
       "      <th></th>\n",
       "      <th></th>\n",
       "      <th></th>\n",
       "      <th></th>\n",
       "      <th></th>\n",
       "      <th></th>\n",
       "      <th></th>\n",
       "      <th></th>\n",
       "      <th></th>\n",
       "      <th></th>\n",
       "    </tr>\n",
       "  </thead>\n",
       "  <tbody>\n",
       "    <tr>\n",
       "      <th>1970-03-31</th>\n",
       "      <td>0.005002</td>\n",
       "      <td>0.002059</td>\n",
       "      <td>0.016639</td>\n",
       "      <td>-0.005471</td>\n",
       "      <td>0.008129</td>\n",
       "      <td>0.008592</td>\n",
       "      <td>0.001569</td>\n",
       "      <td>-0.004605</td>\n",
       "      <td>0.011373</td>\n",
       "      <td>0.000202</td>\n",
       "      <td>...</td>\n",
       "      <td>0.009041</td>\n",
       "      <td>-0.003944</td>\n",
       "      <td>0.013614</td>\n",
       "      <td>0.014177</td>\n",
       "      <td>0.006769</td>\n",
       "      <td>0.000304</td>\n",
       "      <td>-0.003457</td>\n",
       "      <td>-0.004939</td>\n",
       "      <td>0.001273</td>\n",
       "      <td>-0.017263</td>\n",
       "    </tr>\n",
       "    <tr>\n",
       "      <th>1970-04-30</th>\n",
       "      <td>0.000314</td>\n",
       "      <td>0.006306</td>\n",
       "      <td>0.013600</td>\n",
       "      <td>0.002512</td>\n",
       "      <td>0.005693</td>\n",
       "      <td>0.004720</td>\n",
       "      <td>-0.001213</td>\n",
       "      <td>-0.000176</td>\n",
       "      <td>0.011013</td>\n",
       "      <td>0.006185</td>\n",
       "      <td>...</td>\n",
       "      <td>0.005977</td>\n",
       "      <td>0.000314</td>\n",
       "      <td>0.009225</td>\n",
       "      <td>0.004662</td>\n",
       "      <td>0.007878</td>\n",
       "      <td>0.006172</td>\n",
       "      <td>-0.000506</td>\n",
       "      <td>0.005215</td>\n",
       "      <td>0.004606</td>\n",
       "      <td>0.008316</td>\n",
       "    </tr>\n",
       "    <tr>\n",
       "      <th>1970-05-31</th>\n",
       "      <td>-0.000653</td>\n",
       "      <td>0.006455</td>\n",
       "      <td>0.013422</td>\n",
       "      <td>0.001182</td>\n",
       "      <td>0.008412</td>\n",
       "      <td>0.000116</td>\n",
       "      <td>0.001319</td>\n",
       "      <td>-0.000478</td>\n",
       "      <td>0.009758</td>\n",
       "      <td>0.007203</td>\n",
       "      <td>...</td>\n",
       "      <td>0.009224</td>\n",
       "      <td>-0.000640</td>\n",
       "      <td>0.007747</td>\n",
       "      <td>0.005395</td>\n",
       "      <td>0.007219</td>\n",
       "      <td>0.006780</td>\n",
       "      <td>-0.000712</td>\n",
       "      <td>0.005662</td>\n",
       "      <td>0.005977</td>\n",
       "      <td>0.006409</td>\n",
       "    </tr>\n",
       "    <tr>\n",
       "      <th>1970-06-30</th>\n",
       "      <td>0.000467</td>\n",
       "      <td>0.006145</td>\n",
       "      <td>0.012601</td>\n",
       "      <td>0.000091</td>\n",
       "      <td>0.004653</td>\n",
       "      <td>0.000149</td>\n",
       "      <td>0.003007</td>\n",
       "      <td>-0.001991</td>\n",
       "      <td>0.009596</td>\n",
       "      <td>0.005941</td>\n",
       "      <td>...</td>\n",
       "      <td>0.005482</td>\n",
       "      <td>-0.001806</td>\n",
       "      <td>0.008903</td>\n",
       "      <td>0.005632</td>\n",
       "      <td>0.007988</td>\n",
       "      <td>0.007211</td>\n",
       "      <td>-0.000229</td>\n",
       "      <td>0.006291</td>\n",
       "      <td>0.002066</td>\n",
       "      <td>0.008471</td>\n",
       "    </tr>\n",
       "    <tr>\n",
       "      <th>1970-07-31</th>\n",
       "      <td>0.005324</td>\n",
       "      <td>0.008461</td>\n",
       "      <td>0.011963</td>\n",
       "      <td>0.000794</td>\n",
       "      <td>0.009274</td>\n",
       "      <td>0.001277</td>\n",
       "      <td>0.012017</td>\n",
       "      <td>0.007790</td>\n",
       "      <td>0.009212</td>\n",
       "      <td>0.010150</td>\n",
       "      <td>...</td>\n",
       "      <td>0.010852</td>\n",
       "      <td>0.002203</td>\n",
       "      <td>0.005714</td>\n",
       "      <td>0.014438</td>\n",
       "      <td>0.009002</td>\n",
       "      <td>0.009410</td>\n",
       "      <td>-0.000540</td>\n",
       "      <td>0.005541</td>\n",
       "      <td>0.000959</td>\n",
       "      <td>0.005721</td>\n",
       "    </tr>\n",
       "    <tr>\n",
       "      <th>...</th>\n",
       "      <td>...</td>\n",
       "      <td>...</td>\n",
       "      <td>...</td>\n",
       "      <td>...</td>\n",
       "      <td>...</td>\n",
       "      <td>...</td>\n",
       "      <td>...</td>\n",
       "      <td>...</td>\n",
       "      <td>...</td>\n",
       "      <td>...</td>\n",
       "      <td>...</td>\n",
       "      <td>...</td>\n",
       "      <td>...</td>\n",
       "      <td>...</td>\n",
       "      <td>...</td>\n",
       "      <td>...</td>\n",
       "      <td>...</td>\n",
       "      <td>...</td>\n",
       "      <td>...</td>\n",
       "      <td>...</td>\n",
       "      <td>...</td>\n",
       "    </tr>\n",
       "    <tr>\n",
       "      <th>2024-08-31</th>\n",
       "      <td>0.006786</td>\n",
       "      <td>0.004708</td>\n",
       "      <td>0.006878</td>\n",
       "      <td>0.017695</td>\n",
       "      <td>0.001498</td>\n",
       "      <td>0.008845</td>\n",
       "      <td>0.006231</td>\n",
       "      <td>0.010857</td>\n",
       "      <td>0.007824</td>\n",
       "      <td>-0.000410</td>\n",
       "      <td>...</td>\n",
       "      <td>0.008471</td>\n",
       "      <td>0.003119</td>\n",
       "      <td>0.009178</td>\n",
       "      <td>0.000745</td>\n",
       "      <td>0.003265</td>\n",
       "      <td>0.006273</td>\n",
       "      <td>0.008143</td>\n",
       "      <td>0.002650</td>\n",
       "      <td>0.016872</td>\n",
       "      <td>0.033413</td>\n",
       "    </tr>\n",
       "    <tr>\n",
       "      <th>2024-09-30</th>\n",
       "      <td>0.007082</td>\n",
       "      <td>0.008044</td>\n",
       "      <td>0.008554</td>\n",
       "      <td>0.010745</td>\n",
       "      <td>0.006937</td>\n",
       "      <td>0.007651</td>\n",
       "      <td>0.006712</td>\n",
       "      <td>0.011942</td>\n",
       "      <td>0.008769</td>\n",
       "      <td>0.003044</td>\n",
       "      <td>...</td>\n",
       "      <td>0.015827</td>\n",
       "      <td>0.004431</td>\n",
       "      <td>0.012816</td>\n",
       "      <td>0.003479</td>\n",
       "      <td>0.002361</td>\n",
       "      <td>0.008507</td>\n",
       "      <td>0.008526</td>\n",
       "      <td>0.006030</td>\n",
       "      <td>0.014417</td>\n",
       "      <td>0.026404</td>\n",
       "    </tr>\n",
       "    <tr>\n",
       "      <th>2024-10-31</th>\n",
       "      <td>0.008413</td>\n",
       "      <td>0.007837</td>\n",
       "      <td>0.007260</td>\n",
       "      <td>0.009262</td>\n",
       "      <td>0.007499</td>\n",
       "      <td>0.009138</td>\n",
       "      <td>0.006054</td>\n",
       "      <td>0.009958</td>\n",
       "      <td>0.007367</td>\n",
       "      <td>0.002398</td>\n",
       "      <td>...</td>\n",
       "      <td>0.017143</td>\n",
       "      <td>0.004592</td>\n",
       "      <td>0.009133</td>\n",
       "      <td>0.007328</td>\n",
       "      <td>0.004120</td>\n",
       "      <td>0.007876</td>\n",
       "      <td>0.009020</td>\n",
       "      <td>0.000143</td>\n",
       "      <td>0.014495</td>\n",
       "      <td>0.032953</td>\n",
       "    </tr>\n",
       "    <tr>\n",
       "      <th>2024-11-30</th>\n",
       "      <td>0.009324</td>\n",
       "      <td>0.007998</td>\n",
       "      <td>0.007295</td>\n",
       "      <td>0.012031</td>\n",
       "      <td>0.005022</td>\n",
       "      <td>0.007977</td>\n",
       "      <td>0.006197</td>\n",
       "      <td>0.007827</td>\n",
       "      <td>0.007730</td>\n",
       "      <td>0.004455</td>\n",
       "      <td>...</td>\n",
       "      <td>0.011914</td>\n",
       "      <td>0.002583</td>\n",
       "      <td>0.005247</td>\n",
       "      <td>0.007328</td>\n",
       "      <td>0.002759</td>\n",
       "      <td>0.006541</td>\n",
       "      <td>0.008418</td>\n",
       "      <td>0.004936</td>\n",
       "      <td>0.017317</td>\n",
       "      <td>0.034499</td>\n",
       "    </tr>\n",
       "    <tr>\n",
       "      <th>2024-12-31</th>\n",
       "      <td>0.008417</td>\n",
       "      <td>0.006362</td>\n",
       "      <td>0.008444</td>\n",
       "      <td>0.011811</td>\n",
       "      <td>0.008936</td>\n",
       "      <td>0.006851</td>\n",
       "      <td>0.005240</td>\n",
       "      <td>0.010913</td>\n",
       "      <td>0.008028</td>\n",
       "      <td>0.003242</td>\n",
       "      <td>...</td>\n",
       "      <td>0.009716</td>\n",
       "      <td>0.004362</td>\n",
       "      <td>0.002840</td>\n",
       "      <td>0.003765</td>\n",
       "      <td>0.002967</td>\n",
       "      <td>0.006500</td>\n",
       "      <td>0.006895</td>\n",
       "      <td>0.001981</td>\n",
       "      <td>0.015578</td>\n",
       "      <td>0.032630</td>\n",
       "    </tr>\n",
       "  </tbody>\n",
       "</table>\n",
       "<p>658 rows × 25 columns</p>\n",
       "</div>"
      ],
      "text/plain": [
       "portfolio   BIG HiBM  BIG LoBM   ME1 BM2   ME1 BM3   ME1 BM4   ME2 BM1  \\\n",
       "date                                                                     \n",
       "1970-03-31  0.005002  0.002059  0.016639 -0.005471  0.008129  0.008592   \n",
       "1970-04-30  0.000314  0.006306  0.013600  0.002512  0.005693  0.004720   \n",
       "1970-05-31 -0.000653  0.006455  0.013422  0.001182  0.008412  0.000116   \n",
       "1970-06-30  0.000467  0.006145  0.012601  0.000091  0.004653  0.000149   \n",
       "1970-07-31  0.005324  0.008461  0.011963  0.000794  0.009274  0.001277   \n",
       "...              ...       ...       ...       ...       ...       ...   \n",
       "2024-08-31  0.006786  0.004708  0.006878  0.017695  0.001498  0.008845   \n",
       "2024-09-30  0.007082  0.008044  0.008554  0.010745  0.006937  0.007651   \n",
       "2024-10-31  0.008413  0.007837  0.007260  0.009262  0.007499  0.009138   \n",
       "2024-11-30  0.009324  0.007998  0.007295  0.012031  0.005022  0.007977   \n",
       "2024-12-31  0.008417  0.006362  0.008444  0.011811  0.008936  0.006851   \n",
       "\n",
       "portfolio    ME2 BM2   ME2 BM3   ME2 BM4   ME2 BM5  ...   ME4 BM1   ME4 BM2  \\\n",
       "date                                                ...                       \n",
       "1970-03-31  0.001569 -0.004605  0.011373  0.000202  ...  0.009041 -0.003944   \n",
       "1970-04-30 -0.001213 -0.000176  0.011013  0.006185  ...  0.005977  0.000314   \n",
       "1970-05-31  0.001319 -0.000478  0.009758  0.007203  ...  0.009224 -0.000640   \n",
       "1970-06-30  0.003007 -0.001991  0.009596  0.005941  ...  0.005482 -0.001806   \n",
       "1970-07-31  0.012017  0.007790  0.009212  0.010150  ...  0.010852  0.002203   \n",
       "...              ...       ...       ...       ...  ...       ...       ...   \n",
       "2024-08-31  0.006231  0.010857  0.007824 -0.000410  ...  0.008471  0.003119   \n",
       "2024-09-30  0.006712  0.011942  0.008769  0.003044  ...  0.015827  0.004431   \n",
       "2024-10-31  0.006054  0.009958  0.007367  0.002398  ...  0.017143  0.004592   \n",
       "2024-11-30  0.006197  0.007827  0.007730  0.004455  ...  0.011914  0.002583   \n",
       "2024-12-31  0.005240  0.010913  0.008028  0.003242  ...  0.009716  0.004362   \n",
       "\n",
       "portfolio    ME4 BM3   ME4 BM4   ME4 BM5   ME5 BM2   ME5 BM3   ME5 BM4  \\\n",
       "date                                                                     \n",
       "1970-03-31  0.013614  0.014177  0.006769  0.000304 -0.003457 -0.004939   \n",
       "1970-04-30  0.009225  0.004662  0.007878  0.006172 -0.000506  0.005215   \n",
       "1970-05-31  0.007747  0.005395  0.007219  0.006780 -0.000712  0.005662   \n",
       "1970-06-30  0.008903  0.005632  0.007988  0.007211 -0.000229  0.006291   \n",
       "1970-07-31  0.005714  0.014438  0.009002  0.009410 -0.000540  0.005541   \n",
       "...              ...       ...       ...       ...       ...       ...   \n",
       "2024-08-31  0.009178  0.000745  0.003265  0.006273  0.008143  0.002650   \n",
       "2024-09-30  0.012816  0.003479  0.002361  0.008507  0.008526  0.006030   \n",
       "2024-10-31  0.009133  0.007328  0.004120  0.007876  0.009020  0.000143   \n",
       "2024-11-30  0.005247  0.007328  0.002759  0.006541  0.008418  0.004936   \n",
       "2024-12-31  0.002840  0.003765  0.002967  0.006500  0.006895  0.001981   \n",
       "\n",
       "portfolio   SMALL HiBM  SMALL LoBM  \n",
       "date                                \n",
       "1970-03-31    0.001273   -0.017263  \n",
       "1970-04-30    0.004606    0.008316  \n",
       "1970-05-31    0.005977    0.006409  \n",
       "1970-06-30    0.002066    0.008471  \n",
       "1970-07-31    0.000959    0.005721  \n",
       "...                ...         ...  \n",
       "2024-08-31    0.016872    0.033413  \n",
       "2024-09-30    0.014417    0.026404  \n",
       "2024-10-31    0.014495    0.032953  \n",
       "2024-11-30    0.017317    0.034499  \n",
       "2024-12-31    0.015578    0.032630  \n",
       "\n",
       "[658 rows x 25 columns]"
      ]
     },
     "execution_count": 219,
     "metadata": {},
     "output_type": "execute_result"
    }
   ],
   "source": [
    "from wufam.ap.ipca_factor_model import IPCAFactorModel\n",
    "\n",
    "ipca = IPCAFactorModel(n_factors=5, fit_alpha=True)\n",
    "ipca.fit(test_assets_xs_r=multi_df[\"ret\"], ranks=rank)\n",
    "ipca.predict(rank)"
   ]
  },
  {
   "cell_type": "code",
   "execution_count": 220,
   "id": "59597a06fde38168",
   "metadata": {
    "ExecuteTime": {
     "end_time": "2025-08-07T18:54:05.183506Z",
     "start_time": "2025-08-07T18:54:05.170993Z"
    }
   },
   "outputs": [
    {
     "data": {
      "text/plain": [
       "(658, 25)"
      ]
     },
     "execution_count": 220,
     "metadata": {},
     "output_type": "execute_result"
    }
   ],
   "source": [
    "ret_true = pd.pivot_table(\n",
    "    multi_df[[\"ret\"]], index=\"date\", columns=\"portfolio\", values=\"ret\"\n",
    ")\n",
    "ret_true.shape"
   ]
  },
  {
   "cell_type": "code",
   "execution_count": 221,
   "id": "fdad564fefada5d9",
   "metadata": {
    "ExecuteTime": {
     "end_time": "2025-08-07T18:54:05.245015Z",
     "start_time": "2025-08-07T18:54:05.205754Z"
    }
   },
   "outputs": [
    {
     "data": {
      "text/plain": [
       "np.float64(0.9482219333318201)"
      ]
     },
     "execution_count": 221,
     "metadata": {},
     "output_type": "execute_result"
    }
   ],
   "source": [
    "ipca.r2_score(ret_true, rank)"
   ]
  },
  {
   "cell_type": "code",
   "execution_count": 222,
   "id": "ff5313b51c54f30d",
   "metadata": {
    "ExecuteTime": {
     "end_time": "2025-08-07T18:54:05.259264Z",
     "start_time": "2025-08-07T18:54:05.249426Z"
    }
   },
   "outputs": [],
   "source": [
    "split_date = portfolios_xs_r.index[len(portfolios_xs_r) // 2]"
   ]
  },
  {
   "cell_type": "code",
   "execution_count": 223,
   "id": "be2c4bcbe4ea550f",
   "metadata": {
    "ExecuteTime": {
     "end_time": "2025-08-07T18:54:05.366495Z",
     "start_time": "2025-08-07T18:54:05.294393Z"
    }
   },
   "outputs": [
    {
     "name": "stderr",
     "output_type": "stream",
     "text": [
      "[========================================================================] 100%\r"
     ]
    },
    {
     "name": "stdout",
     "output_type": "stream",
     "text": [
      "The panel dimensions are:\n",
      "n_samples: 328 , L: 7 , T: 25\n",
      "Step 1 - Aggregate Update: 1.2036359257318074\n",
      "Step 2 - Aggregate Update: 0.12326237444377997\n",
      "Step 3 - Aggregate Update: 0.07951670001143418\n",
      "Step 4 - Aggregate Update: 0.07477977741103753\n",
      "Step 5 - Aggregate Update: 0.07425769717675501\n",
      "Step 6 - Aggregate Update: 0.07506388007850183\n",
      "Step 7 - Aggregate Update: 0.0780715536868948\n",
      "Step 8 - Aggregate Update: 0.08244538092316461\n",
      "Step 9 - Aggregate Update: 0.08642565891399578\n",
      "Step 10 - Aggregate Update: 1.7075066539766397\n",
      "Step 11 - Aggregate Update: 0.0832937897892716\n",
      "Step 12 - Aggregate Update: 0.11463965114124841\n",
      "Step 13 - Aggregate Update: 0.27926290614265314\n",
      "Step 14 - Aggregate Update: 1.2219840643723514\n",
      "Step 15 - Aggregate Update: 0.22186501485774063\n",
      "Step 16 - Aggregate Update: 1.1702713003748375\n",
      "Step 17 - Aggregate Update: 0.13685047631947875\n",
      "Step 18 - Aggregate Update: 0.2446304467595632\n",
      "Step 19 - Aggregate Update: 1.5862878203303477\n",
      "Step 20 - Aggregate Update: 0.09253249549381204\n",
      "Step 21 - Aggregate Update: 1.401771876341348\n",
      "Step 22 - Aggregate Update: 0.09230444410490779\n",
      "Step 23 - Aggregate Update: 1.9253235741586563\n",
      "Step 24 - Aggregate Update: 1.690161995155544\n",
      "Step 25 - Aggregate Update: 0.08122562399913347\n",
      "Step 26 - Aggregate Update: 0.05946153095953763\n",
      "Step 27 - Aggregate Update: 1.8207464396720252\n",
      "Step 28 - Aggregate Update: 0.03593132927432896\n",
      "Step 29 - Aggregate Update: 0.028902882035090283\n",
      "Step 30 - Aggregate Update: 0.02305843986635786\n",
      "Step 31 - Aggregate Update: 0.018324529420962368\n",
      "Step 32 - Aggregate Update: 1.8425516446124766\n",
      "Step 33 - Aggregate Update: 0.011530744275908736\n",
      "Step 34 - Aggregate Update: 0.009145334545630615\n",
      "Step 35 - Aggregate Update: 0.0072562631074912926\n",
      "Step 36 - Aggregate Update: 0.005760964164407925\n",
      "Step 37 - Aggregate Update: 0.004577437726997008\n",
      "Step 38 - Aggregate Update: 0.00364045254476765\n",
      "Step 39 - Aggregate Update: 0.0028982798168327717\n",
      "Step 40 - Aggregate Update: 0.0023099934122775556\n",
      "Step 41 - Aggregate Update: 0.0018432695118090203\n",
      "Step 42 - Aggregate Update: 0.0014726080286447119\n",
      "Step 43 - Aggregate Update: 0.0011779049669216196\n",
      "Step 44 - Aggregate Update: 0.0009433135258404904\n",
      "Step 45 - Aggregate Update: 0.0007563402120126447\n",
      "Step 46 - Aggregate Update: 0.0006071303391856353\n",
      "Step 47 - Aggregate Update: 0.00048790489342870336\n",
      "Step 48 - Aggregate Update: 0.00039251759285247045\n",
      "Step 49 - Aggregate Update: 0.0003161069281338441\n",
      "Step 50 - Aggregate Update: 0.00025482299780141965\n",
      "Step 51 - Aggregate Update: 0.00020561310067690464\n",
      "Step 52 - Aggregate Update: 0.00016605341446770255\n",
      "Step 53 - Aggregate Update: 0.0001342167894160251\n",
      "Step 54 - Aggregate Update: 0.00010856883150953123\n",
      "Step 55 - Aggregate Update: 8.788614572262377e-05\n",
      "Step 56 - Aggregate Update: 7.119194336344115e-05\n",
      "Step 57 - Aggregate Update: 5.7705263608757995e-05\n",
      "Step 58 - Aggregate Update: 4.68008777486581e-05\n",
      "Step 59 - Aggregate Update: 3.797758439770538e-05\n",
      "Step 60 - Aggregate Update: 3.08331028520889e-05\n",
      "Step 61 - Aggregate Update: 2.5044161775789053e-05\n",
      "Step 62 - Aggregate Update: 2.0350684025560728e-05\n",
      "Step 63 - Aggregate Update: 1.654320581679497e-05\n",
      "Step 64 - Aggregate Update: 1.3452853695930522e-05\n",
      "Step 65 - Aggregate Update: 1.0943347198581754e-05\n",
      "Step 66 - Aggregate Update: 8.904608659612845e-06\n",
      "-- Convergence Reached --\n"
     ]
    },
    {
     "name": "stderr",
     "output_type": "stream",
     "text": [
      "\n"
     ]
    }
   ],
   "source": [
    "ipca = IPCAFactorModel(n_factors=5, fit_alpha=False)\n",
    "ipca.fit(\n",
    "    test_assets_xs_r=multi_df[\"ret\"].loc[:split_date, :],\n",
    "    ranks=rank.loc[:split_date, :, :],\n",
    ")\n",
    "ret_true = pd.pivot_table(\n",
    "    multi_df[[\"ret\"]].loc[split_date:, :],\n",
    "    index=\"date\",\n",
    "    columns=\"portfolio\",\n",
    "    values=\"ret\",\n",
    ")"
   ]
  },
  {
   "cell_type": "code",
   "execution_count": 224,
   "id": "a0919b6727e43ff",
   "metadata": {
    "ExecuteTime": {
     "end_time": "2025-08-07T18:54:05.416929Z",
     "start_time": "2025-08-07T18:54:05.391928Z"
    }
   },
   "outputs": [
    {
     "data": {
      "text/plain": [
       "np.float64(-18.169304455836592)"
      ]
     },
     "execution_count": 224,
     "metadata": {},
     "output_type": "execute_result"
    }
   ],
   "source": [
    "ipca.r2_score(ret_true, rank.loc[split_date:, :])"
   ]
  },
  {
   "cell_type": "code",
   "execution_count": 225,
   "id": "95cb1be858af48ba",
   "metadata": {
    "ExecuteTime": {
     "end_time": "2025-08-07T18:54:05.450133Z",
     "start_time": "2025-08-07T18:54:05.424391Z"
    }
   },
   "outputs": [
    {
     "data": {
      "text/plain": [
       "np.float64(-21.76164334739709)"
      ]
     },
     "execution_count": 225,
     "metadata": {},
     "output_type": "execute_result"
    }
   ],
   "source": [
    "ipca.r2_gls_score(ret_true, rank.loc[split_date:, :])"
   ]
  },
  {
   "cell_type": "code",
   "execution_count": 226,
   "id": "689b2e090b43807d",
   "metadata": {
    "ExecuteTime": {
     "end_time": "2025-08-07T18:54:05.476772Z",
     "start_time": "2025-08-07T18:54:05.456429Z"
    }
   },
   "outputs": [],
   "source": [
    "ipca_total_r = ipca.get_mv_weights(ret_true, rank.loc[split_date:, :])"
   ]
  },
  {
   "cell_type": "code",
   "execution_count": 227,
   "id": "c4d2da591e7d07cb",
   "metadata": {
    "ExecuteTime": {
     "end_time": "2025-08-07T18:54:05.490043Z",
     "start_time": "2025-08-07T18:54:05.479770Z"
    }
   },
   "outputs": [
    {
     "data": {
      "text/plain": [
       "-13.7045109887146"
      ]
     },
     "execution_count": 227,
     "metadata": {},
     "output_type": "execute_result"
    }
   ],
   "source": [
    "from wufam.metrics.metrics import calc_sharpe\n",
    "\n",
    "calc_sharpe(\n",
    "    strategy_total_r=ipca_total_r,\n",
    "    rf_rate=rf,\n",
    "    factor_annualize=FACTOR_ANNUALIZE,\n",
    ")"
   ]
  },
  {
   "cell_type": "code",
   "execution_count": null,
   "id": "c53daa6b8b5cb78e",
   "metadata": {
    "ExecuteTime": {
     "end_time": "2025-08-07T18:54:05.497797Z",
     "start_time": "2025-08-07T18:54:05.496458Z"
    }
   },
   "outputs": [],
   "source": []
  }
 ],
 "metadata": {
  "kernelspec": {
   "display_name": "Python 3",
   "language": "python",
   "name": "python3"
  },
  "language_info": {
   "codemirror_mode": {
    "name": "ipython",
    "version": 2
   },
   "file_extension": ".py",
   "mimetype": "text/x-python",
   "name": "python",
   "nbconvert_exporter": "python",
   "pygments_lexer": "ipython2",
   "version": "2.7.6"
  }
 },
 "nbformat": 4,
 "nbformat_minor": 5
}
